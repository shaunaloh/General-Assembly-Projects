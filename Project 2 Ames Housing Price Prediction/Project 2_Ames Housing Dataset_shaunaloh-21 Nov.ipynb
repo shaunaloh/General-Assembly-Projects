{
 "cells": [
  {
   "cell_type": "code",
   "execution_count": 212,
   "metadata": {},
   "outputs": [],
   "source": [
    "import numpy as np\n",
    "import pandas as pd\n",
    "import matplotlib.pyplot as plt\n",
    "import seaborn as sns\n",
    "\n",
    "from sklearn.linear_model import LinearRegression\n",
    "from sklearn.model_selection import train_test_split, cross_val_score\n",
    "import statsmodels.api as sm\n",
    "from sklearn.metrics import r2_score\n",
    "from sklearn.preprocessing import StandardScaler\n",
    "\n",
    "%config InlineBackend.figure_format = 'retina'\n",
    "%matplotlib inline\n"
   ]
  },
  {
   "cell_type": "markdown",
   "metadata": {},
   "source": [
    "### Data Import and Cleansing"
   ]
  },
  {
   "cell_type": "code",
   "execution_count": 213,
   "metadata": {},
   "outputs": [],
   "source": [
    "train = pd.read_csv('./datasets/train.csv')\n",
    "test = pd.read_csv('./datasets/test.csv')"
   ]
  },
  {
   "cell_type": "code",
   "execution_count": 214,
   "metadata": {},
   "outputs": [
    {
     "name": "stdout",
     "output_type": "stream",
     "text": [
      "<class 'pandas.core.frame.DataFrame'>\n",
      "RangeIndex: 2051 entries, 0 to 2050\n",
      "Data columns (total 81 columns):\n",
      "Id                 2051 non-null int64\n",
      "PID                2051 non-null int64\n",
      "MS SubClass        2051 non-null int64\n",
      "MS Zoning          2051 non-null object\n",
      "Lot Frontage       1721 non-null float64\n",
      "Lot Area           2051 non-null int64\n",
      "Street             2051 non-null object\n",
      "Alley              140 non-null object\n",
      "Lot Shape          2051 non-null object\n",
      "Land Contour       2051 non-null object\n",
      "Utilities          2051 non-null object\n",
      "Lot Config         2051 non-null object\n",
      "Land Slope         2051 non-null object\n",
      "Neighborhood       2051 non-null object\n",
      "Condition 1        2051 non-null object\n",
      "Condition 2        2051 non-null object\n",
      "Bldg Type          2051 non-null object\n",
      "House Style        2051 non-null object\n",
      "Overall Qual       2051 non-null int64\n",
      "Overall Cond       2051 non-null int64\n",
      "Year Built         2051 non-null int64\n",
      "Year Remod/Add     2051 non-null int64\n",
      "Roof Style         2051 non-null object\n",
      "Roof Matl          2051 non-null object\n",
      "Exterior 1st       2051 non-null object\n",
      "Exterior 2nd       2051 non-null object\n",
      "Mas Vnr Type       2029 non-null object\n",
      "Mas Vnr Area       2029 non-null float64\n",
      "Exter Qual         2051 non-null object\n",
      "Exter Cond         2051 non-null object\n",
      "Foundation         2051 non-null object\n",
      "Bsmt Qual          1996 non-null object\n",
      "Bsmt Cond          1996 non-null object\n",
      "Bsmt Exposure      1993 non-null object\n",
      "BsmtFin Type 1     1996 non-null object\n",
      "BsmtFin SF 1       2050 non-null float64\n",
      "BsmtFin Type 2     1995 non-null object\n",
      "BsmtFin SF 2       2050 non-null float64\n",
      "Bsmt Unf SF        2050 non-null float64\n",
      "Total Bsmt SF      2050 non-null float64\n",
      "Heating            2051 non-null object\n",
      "Heating QC         2051 non-null object\n",
      "Central Air        2051 non-null object\n",
      "Electrical         2051 non-null object\n",
      "1st Flr SF         2051 non-null int64\n",
      "2nd Flr SF         2051 non-null int64\n",
      "Low Qual Fin SF    2051 non-null int64\n",
      "Gr Liv Area        2051 non-null int64\n",
      "Bsmt Full Bath     2049 non-null float64\n",
      "Bsmt Half Bath     2049 non-null float64\n",
      "Full Bath          2051 non-null int64\n",
      "Half Bath          2051 non-null int64\n",
      "Bedroom AbvGr      2051 non-null int64\n",
      "Kitchen AbvGr      2051 non-null int64\n",
      "Kitchen Qual       2051 non-null object\n",
      "TotRms AbvGrd      2051 non-null int64\n",
      "Functional         2051 non-null object\n",
      "Fireplaces         2051 non-null int64\n",
      "Fireplace Qu       1051 non-null object\n",
      "Garage Type        1938 non-null object\n",
      "Garage Yr Blt      1937 non-null float64\n",
      "Garage Finish      1937 non-null object\n",
      "Garage Cars        2050 non-null float64\n",
      "Garage Area        2050 non-null float64\n",
      "Garage Qual        1937 non-null object\n",
      "Garage Cond        1937 non-null object\n",
      "Paved Drive        2051 non-null object\n",
      "Wood Deck SF       2051 non-null int64\n",
      "Open Porch SF      2051 non-null int64\n",
      "Enclosed Porch     2051 non-null int64\n",
      "3Ssn Porch         2051 non-null int64\n",
      "Screen Porch       2051 non-null int64\n",
      "Pool Area          2051 non-null int64\n",
      "Pool QC            9 non-null object\n",
      "Fence              400 non-null object\n",
      "Misc Feature       65 non-null object\n",
      "Misc Val           2051 non-null int64\n",
      "Mo Sold            2051 non-null int64\n",
      "Yr Sold            2051 non-null int64\n",
      "Sale Type          2051 non-null object\n",
      "SalePrice          2051 non-null int64\n",
      "dtypes: float64(11), int64(28), object(42)\n",
      "memory usage: 1.3+ MB\n"
     ]
    }
   ],
   "source": [
    "train.info()"
   ]
  },
  {
   "cell_type": "code",
   "execution_count": 215,
   "metadata": {},
   "outputs": [
    {
     "data": {
      "text/plain": [
       "Id                    0\n",
       "PID                   0\n",
       "MS SubClass           0\n",
       "MS Zoning             0\n",
       "Lot Frontage        330\n",
       "Lot Area              0\n",
       "Street                0\n",
       "Alley              1911\n",
       "Lot Shape             0\n",
       "Land Contour          0\n",
       "Utilities             0\n",
       "Lot Config            0\n",
       "Land Slope            0\n",
       "Neighborhood          0\n",
       "Condition 1           0\n",
       "Condition 2           0\n",
       "Bldg Type             0\n",
       "House Style           0\n",
       "Overall Qual          0\n",
       "Overall Cond          0\n",
       "Year Built            0\n",
       "Year Remod/Add        0\n",
       "Roof Style            0\n",
       "Roof Matl             0\n",
       "Exterior 1st          0\n",
       "Exterior 2nd          0\n",
       "Mas Vnr Type         22\n",
       "Mas Vnr Area         22\n",
       "Exter Qual            0\n",
       "Exter Cond            0\n",
       "Foundation            0\n",
       "Bsmt Qual            55\n",
       "Bsmt Cond            55\n",
       "Bsmt Exposure        58\n",
       "BsmtFin Type 1       55\n",
       "BsmtFin SF 1          1\n",
       "BsmtFin Type 2       56\n",
       "BsmtFin SF 2          1\n",
       "Bsmt Unf SF           1\n",
       "Total Bsmt SF         1\n",
       "Heating               0\n",
       "Heating QC            0\n",
       "Central Air           0\n",
       "Electrical            0\n",
       "1st Flr SF            0\n",
       "2nd Flr SF            0\n",
       "Low Qual Fin SF       0\n",
       "Gr Liv Area           0\n",
       "Bsmt Full Bath        2\n",
       "Bsmt Half Bath        2\n",
       "Full Bath             0\n",
       "Half Bath             0\n",
       "Bedroom AbvGr         0\n",
       "Kitchen AbvGr         0\n",
       "Kitchen Qual          0\n",
       "TotRms AbvGrd         0\n",
       "Functional            0\n",
       "Fireplaces            0\n",
       "Fireplace Qu       1000\n",
       "Garage Type         113\n",
       "Garage Yr Blt       114\n",
       "Garage Finish       114\n",
       "Garage Cars           1\n",
       "Garage Area           1\n",
       "Garage Qual         114\n",
       "Garage Cond         114\n",
       "Paved Drive           0\n",
       "Wood Deck SF          0\n",
       "Open Porch SF         0\n",
       "Enclosed Porch        0\n",
       "3Ssn Porch            0\n",
       "Screen Porch          0\n",
       "Pool Area             0\n",
       "Pool QC            2042\n",
       "Fence              1651\n",
       "Misc Feature       1986\n",
       "Misc Val              0\n",
       "Mo Sold               0\n",
       "Yr Sold               0\n",
       "Sale Type             0\n",
       "SalePrice             0\n",
       "dtype: int64"
      ]
     },
     "execution_count": 215,
     "metadata": {},
     "output_type": "execute_result"
    }
   ],
   "source": [
    "train.isnull().sum()"
   ]
  },
  {
   "cell_type": "code",
   "execution_count": 216,
   "metadata": {
    "scrolled": true
   },
   "outputs": [
    {
     "data": {
      "text/html": [
       "<div>\n",
       "<style scoped>\n",
       "    .dataframe tbody tr th:only-of-type {\n",
       "        vertical-align: middle;\n",
       "    }\n",
       "\n",
       "    .dataframe tbody tr th {\n",
       "        vertical-align: top;\n",
       "    }\n",
       "\n",
       "    .dataframe thead th {\n",
       "        text-align: right;\n",
       "    }\n",
       "</style>\n",
       "<table border=\"1\" class=\"dataframe\">\n",
       "  <thead>\n",
       "    <tr style=\"text-align: right;\">\n",
       "      <th></th>\n",
       "      <th>Id</th>\n",
       "      <th>PID</th>\n",
       "      <th>MS SubClass</th>\n",
       "      <th>MS Zoning</th>\n",
       "      <th>Lot Frontage</th>\n",
       "      <th>Lot Area</th>\n",
       "      <th>Street</th>\n",
       "      <th>Alley</th>\n",
       "      <th>Lot Shape</th>\n",
       "      <th>Land Contour</th>\n",
       "      <th>...</th>\n",
       "      <th>Screen Porch</th>\n",
       "      <th>Pool Area</th>\n",
       "      <th>Pool QC</th>\n",
       "      <th>Fence</th>\n",
       "      <th>Misc Feature</th>\n",
       "      <th>Misc Val</th>\n",
       "      <th>Mo Sold</th>\n",
       "      <th>Yr Sold</th>\n",
       "      <th>Sale Type</th>\n",
       "      <th>SalePrice</th>\n",
       "    </tr>\n",
       "  </thead>\n",
       "  <tbody>\n",
       "    <tr>\n",
       "      <th>0</th>\n",
       "      <td>109</td>\n",
       "      <td>533352170</td>\n",
       "      <td>60</td>\n",
       "      <td>RL</td>\n",
       "      <td>NaN</td>\n",
       "      <td>13517</td>\n",
       "      <td>Pave</td>\n",
       "      <td>NaN</td>\n",
       "      <td>IR1</td>\n",
       "      <td>Lvl</td>\n",
       "      <td>...</td>\n",
       "      <td>0</td>\n",
       "      <td>0</td>\n",
       "      <td>NaN</td>\n",
       "      <td>NaN</td>\n",
       "      <td>NaN</td>\n",
       "      <td>0</td>\n",
       "      <td>3</td>\n",
       "      <td>2010</td>\n",
       "      <td>WD</td>\n",
       "      <td>130500</td>\n",
       "    </tr>\n",
       "    <tr>\n",
       "      <th>1</th>\n",
       "      <td>544</td>\n",
       "      <td>531379050</td>\n",
       "      <td>60</td>\n",
       "      <td>RL</td>\n",
       "      <td>43.0</td>\n",
       "      <td>11492</td>\n",
       "      <td>Pave</td>\n",
       "      <td>NaN</td>\n",
       "      <td>IR1</td>\n",
       "      <td>Lvl</td>\n",
       "      <td>...</td>\n",
       "      <td>0</td>\n",
       "      <td>0</td>\n",
       "      <td>NaN</td>\n",
       "      <td>NaN</td>\n",
       "      <td>NaN</td>\n",
       "      <td>0</td>\n",
       "      <td>4</td>\n",
       "      <td>2009</td>\n",
       "      <td>WD</td>\n",
       "      <td>220000</td>\n",
       "    </tr>\n",
       "    <tr>\n",
       "      <th>2</th>\n",
       "      <td>153</td>\n",
       "      <td>535304180</td>\n",
       "      <td>20</td>\n",
       "      <td>RL</td>\n",
       "      <td>68.0</td>\n",
       "      <td>7922</td>\n",
       "      <td>Pave</td>\n",
       "      <td>NaN</td>\n",
       "      <td>Reg</td>\n",
       "      <td>Lvl</td>\n",
       "      <td>...</td>\n",
       "      <td>0</td>\n",
       "      <td>0</td>\n",
       "      <td>NaN</td>\n",
       "      <td>NaN</td>\n",
       "      <td>NaN</td>\n",
       "      <td>0</td>\n",
       "      <td>1</td>\n",
       "      <td>2010</td>\n",
       "      <td>WD</td>\n",
       "      <td>109000</td>\n",
       "    </tr>\n",
       "    <tr>\n",
       "      <th>3</th>\n",
       "      <td>318</td>\n",
       "      <td>916386060</td>\n",
       "      <td>60</td>\n",
       "      <td>RL</td>\n",
       "      <td>73.0</td>\n",
       "      <td>9802</td>\n",
       "      <td>Pave</td>\n",
       "      <td>NaN</td>\n",
       "      <td>Reg</td>\n",
       "      <td>Lvl</td>\n",
       "      <td>...</td>\n",
       "      <td>0</td>\n",
       "      <td>0</td>\n",
       "      <td>NaN</td>\n",
       "      <td>NaN</td>\n",
       "      <td>NaN</td>\n",
       "      <td>0</td>\n",
       "      <td>4</td>\n",
       "      <td>2010</td>\n",
       "      <td>WD</td>\n",
       "      <td>174000</td>\n",
       "    </tr>\n",
       "    <tr>\n",
       "      <th>4</th>\n",
       "      <td>255</td>\n",
       "      <td>906425045</td>\n",
       "      <td>50</td>\n",
       "      <td>RL</td>\n",
       "      <td>82.0</td>\n",
       "      <td>14235</td>\n",
       "      <td>Pave</td>\n",
       "      <td>NaN</td>\n",
       "      <td>IR1</td>\n",
       "      <td>Lvl</td>\n",
       "      <td>...</td>\n",
       "      <td>0</td>\n",
       "      <td>0</td>\n",
       "      <td>NaN</td>\n",
       "      <td>NaN</td>\n",
       "      <td>NaN</td>\n",
       "      <td>0</td>\n",
       "      <td>3</td>\n",
       "      <td>2010</td>\n",
       "      <td>WD</td>\n",
       "      <td>138500</td>\n",
       "    </tr>\n",
       "  </tbody>\n",
       "</table>\n",
       "<p>5 rows × 81 columns</p>\n",
       "</div>"
      ],
      "text/plain": [
       "    Id        PID  MS SubClass MS Zoning  Lot Frontage  Lot Area Street Alley  \\\n",
       "0  109  533352170           60        RL           NaN     13517   Pave   NaN   \n",
       "1  544  531379050           60        RL          43.0     11492   Pave   NaN   \n",
       "2  153  535304180           20        RL          68.0      7922   Pave   NaN   \n",
       "3  318  916386060           60        RL          73.0      9802   Pave   NaN   \n",
       "4  255  906425045           50        RL          82.0     14235   Pave   NaN   \n",
       "\n",
       "  Lot Shape Land Contour    ...     Screen Porch Pool Area Pool QC Fence  \\\n",
       "0       IR1          Lvl    ...                0         0     NaN   NaN   \n",
       "1       IR1          Lvl    ...                0         0     NaN   NaN   \n",
       "2       Reg          Lvl    ...                0         0     NaN   NaN   \n",
       "3       Reg          Lvl    ...                0         0     NaN   NaN   \n",
       "4       IR1          Lvl    ...                0         0     NaN   NaN   \n",
       "\n",
       "  Misc Feature Misc Val Mo Sold Yr Sold  Sale Type  SalePrice  \n",
       "0          NaN        0       3    2010        WD      130500  \n",
       "1          NaN        0       4    2009        WD      220000  \n",
       "2          NaN        0       1    2010        WD      109000  \n",
       "3          NaN        0       4    2010        WD      174000  \n",
       "4          NaN        0       3    2010        WD      138500  \n",
       "\n",
       "[5 rows x 81 columns]"
      ]
     },
     "execution_count": 216,
     "metadata": {},
     "output_type": "execute_result"
    }
   ],
   "source": [
    "train.head(5)"
   ]
  },
  {
   "cell_type": "code",
   "execution_count": 217,
   "metadata": {},
   "outputs": [
    {
     "name": "stdout",
     "output_type": "stream",
     "text": [
      "<class 'pandas.core.frame.DataFrame'>\n",
      "RangeIndex: 879 entries, 0 to 878\n",
      "Data columns (total 80 columns):\n",
      "Id                 879 non-null int64\n",
      "PID                879 non-null int64\n",
      "MS SubClass        879 non-null int64\n",
      "MS Zoning          879 non-null object\n",
      "Lot Frontage       719 non-null float64\n",
      "Lot Area           879 non-null int64\n",
      "Street             879 non-null object\n",
      "Alley              58 non-null object\n",
      "Lot Shape          879 non-null object\n",
      "Land Contour       879 non-null object\n",
      "Utilities          879 non-null object\n",
      "Lot Config         879 non-null object\n",
      "Land Slope         879 non-null object\n",
      "Neighborhood       879 non-null object\n",
      "Condition 1        879 non-null object\n",
      "Condition 2        879 non-null object\n",
      "Bldg Type          879 non-null object\n",
      "House Style        879 non-null object\n",
      "Overall Qual       879 non-null int64\n",
      "Overall Cond       879 non-null int64\n",
      "Year Built         879 non-null int64\n",
      "Year Remod/Add     879 non-null int64\n",
      "Roof Style         879 non-null object\n",
      "Roof Matl          879 non-null object\n",
      "Exterior 1st       879 non-null object\n",
      "Exterior 2nd       879 non-null object\n",
      "Mas Vnr Type       878 non-null object\n",
      "Mas Vnr Area       878 non-null float64\n",
      "Exter Qual         879 non-null object\n",
      "Exter Cond         879 non-null object\n",
      "Foundation         879 non-null object\n",
      "Bsmt Qual          854 non-null object\n",
      "Bsmt Cond          854 non-null object\n",
      "Bsmt Exposure      854 non-null object\n",
      "BsmtFin Type 1     854 non-null object\n",
      "BsmtFin SF 1       879 non-null int64\n",
      "BsmtFin Type 2     854 non-null object\n",
      "BsmtFin SF 2       879 non-null int64\n",
      "Bsmt Unf SF        879 non-null int64\n",
      "Total Bsmt SF      879 non-null int64\n",
      "Heating            879 non-null object\n",
      "Heating QC         879 non-null object\n",
      "Central Air        879 non-null object\n",
      "Electrical         878 non-null object\n",
      "1st Flr SF         879 non-null int64\n",
      "2nd Flr SF         879 non-null int64\n",
      "Low Qual Fin SF    879 non-null int64\n",
      "Gr Liv Area        879 non-null int64\n",
      "Bsmt Full Bath     879 non-null int64\n",
      "Bsmt Half Bath     879 non-null int64\n",
      "Full Bath          879 non-null int64\n",
      "Half Bath          879 non-null int64\n",
      "Bedroom AbvGr      879 non-null int64\n",
      "Kitchen AbvGr      879 non-null int64\n",
      "Kitchen Qual       879 non-null object\n",
      "TotRms AbvGrd      879 non-null int64\n",
      "Functional         879 non-null object\n",
      "Fireplaces         879 non-null int64\n",
      "Fireplace Qu       457 non-null object\n",
      "Garage Type        835 non-null object\n",
      "Garage Yr Blt      834 non-null float64\n",
      "Garage Finish      834 non-null object\n",
      "Garage Cars        879 non-null int64\n",
      "Garage Area        879 non-null int64\n",
      "Garage Qual        834 non-null object\n",
      "Garage Cond        834 non-null object\n",
      "Paved Drive        879 non-null object\n",
      "Wood Deck SF       879 non-null int64\n",
      "Open Porch SF      879 non-null int64\n",
      "Enclosed Porch     879 non-null int64\n",
      "3Ssn Porch         879 non-null int64\n",
      "Screen Porch       879 non-null int64\n",
      "Pool Area          879 non-null int64\n",
      "Pool QC            4 non-null object\n",
      "Fence              172 non-null object\n",
      "Misc Feature       41 non-null object\n",
      "Misc Val           879 non-null int64\n",
      "Mo Sold            879 non-null int64\n",
      "Yr Sold            879 non-null int64\n",
      "Sale Type          879 non-null object\n",
      "dtypes: float64(3), int64(35), object(42)\n",
      "memory usage: 549.5+ KB\n"
     ]
    }
   ],
   "source": [
    "test.info()"
   ]
  },
  {
   "cell_type": "code",
   "execution_count": 218,
   "metadata": {},
   "outputs": [
    {
     "data": {
      "text/plain": [
       "Id                   0\n",
       "PID                  0\n",
       "MS SubClass          0\n",
       "MS Zoning            0\n",
       "Lot Frontage       160\n",
       "Lot Area             0\n",
       "Street               0\n",
       "Alley              821\n",
       "Lot Shape            0\n",
       "Land Contour         0\n",
       "Utilities            0\n",
       "Lot Config           0\n",
       "Land Slope           0\n",
       "Neighborhood         0\n",
       "Condition 1          0\n",
       "Condition 2          0\n",
       "Bldg Type            0\n",
       "House Style          0\n",
       "Overall Qual         0\n",
       "Overall Cond         0\n",
       "Year Built           0\n",
       "Year Remod/Add       0\n",
       "Roof Style           0\n",
       "Roof Matl            0\n",
       "Exterior 1st         0\n",
       "Exterior 2nd         0\n",
       "Mas Vnr Type         1\n",
       "Mas Vnr Area         1\n",
       "Exter Qual           0\n",
       "Exter Cond           0\n",
       "Foundation           0\n",
       "Bsmt Qual           25\n",
       "Bsmt Cond           25\n",
       "Bsmt Exposure       25\n",
       "BsmtFin Type 1      25\n",
       "BsmtFin SF 1         0\n",
       "BsmtFin Type 2      25\n",
       "BsmtFin SF 2         0\n",
       "Bsmt Unf SF          0\n",
       "Total Bsmt SF        0\n",
       "Heating              0\n",
       "Heating QC           0\n",
       "Central Air          0\n",
       "Electrical           1\n",
       "1st Flr SF           0\n",
       "2nd Flr SF           0\n",
       "Low Qual Fin SF      0\n",
       "Gr Liv Area          0\n",
       "Bsmt Full Bath       0\n",
       "Bsmt Half Bath       0\n",
       "Full Bath            0\n",
       "Half Bath            0\n",
       "Bedroom AbvGr        0\n",
       "Kitchen AbvGr        0\n",
       "Kitchen Qual         0\n",
       "TotRms AbvGrd        0\n",
       "Functional           0\n",
       "Fireplaces           0\n",
       "Fireplace Qu       422\n",
       "Garage Type         44\n",
       "Garage Yr Blt       45\n",
       "Garage Finish       45\n",
       "Garage Cars          0\n",
       "Garage Area          0\n",
       "Garage Qual         45\n",
       "Garage Cond         45\n",
       "Paved Drive          0\n",
       "Wood Deck SF         0\n",
       "Open Porch SF        0\n",
       "Enclosed Porch       0\n",
       "3Ssn Porch           0\n",
       "Screen Porch         0\n",
       "Pool Area            0\n",
       "Pool QC            875\n",
       "Fence              707\n",
       "Misc Feature       838\n",
       "Misc Val             0\n",
       "Mo Sold              0\n",
       "Yr Sold              0\n",
       "Sale Type            0\n",
       "dtype: int64"
      ]
     },
     "execution_count": 218,
     "metadata": {},
     "output_type": "execute_result"
    }
   ],
   "source": [
    "test.isnull().sum()"
   ]
  },
  {
   "cell_type": "code",
   "execution_count": 219,
   "metadata": {},
   "outputs": [
    {
     "data": {
      "text/html": [
       "<div>\n",
       "<style scoped>\n",
       "    .dataframe tbody tr th:only-of-type {\n",
       "        vertical-align: middle;\n",
       "    }\n",
       "\n",
       "    .dataframe tbody tr th {\n",
       "        vertical-align: top;\n",
       "    }\n",
       "\n",
       "    .dataframe thead th {\n",
       "        text-align: right;\n",
       "    }\n",
       "</style>\n",
       "<table border=\"1\" class=\"dataframe\">\n",
       "  <thead>\n",
       "    <tr style=\"text-align: right;\">\n",
       "      <th></th>\n",
       "      <th>Id</th>\n",
       "      <th>PID</th>\n",
       "      <th>MS SubClass</th>\n",
       "      <th>MS Zoning</th>\n",
       "      <th>Lot Frontage</th>\n",
       "      <th>Lot Area</th>\n",
       "      <th>Street</th>\n",
       "      <th>Alley</th>\n",
       "      <th>Lot Shape</th>\n",
       "      <th>Land Contour</th>\n",
       "      <th>...</th>\n",
       "      <th>3Ssn Porch</th>\n",
       "      <th>Screen Porch</th>\n",
       "      <th>Pool Area</th>\n",
       "      <th>Pool QC</th>\n",
       "      <th>Fence</th>\n",
       "      <th>Misc Feature</th>\n",
       "      <th>Misc Val</th>\n",
       "      <th>Mo Sold</th>\n",
       "      <th>Yr Sold</th>\n",
       "      <th>Sale Type</th>\n",
       "    </tr>\n",
       "  </thead>\n",
       "  <tbody>\n",
       "    <tr>\n",
       "      <th>0</th>\n",
       "      <td>2658</td>\n",
       "      <td>902301120</td>\n",
       "      <td>190</td>\n",
       "      <td>RM</td>\n",
       "      <td>69.0</td>\n",
       "      <td>9142</td>\n",
       "      <td>Pave</td>\n",
       "      <td>Grvl</td>\n",
       "      <td>Reg</td>\n",
       "      <td>Lvl</td>\n",
       "      <td>...</td>\n",
       "      <td>0</td>\n",
       "      <td>0</td>\n",
       "      <td>0</td>\n",
       "      <td>NaN</td>\n",
       "      <td>NaN</td>\n",
       "      <td>NaN</td>\n",
       "      <td>0</td>\n",
       "      <td>4</td>\n",
       "      <td>2006</td>\n",
       "      <td>WD</td>\n",
       "    </tr>\n",
       "    <tr>\n",
       "      <th>1</th>\n",
       "      <td>2718</td>\n",
       "      <td>905108090</td>\n",
       "      <td>90</td>\n",
       "      <td>RL</td>\n",
       "      <td>NaN</td>\n",
       "      <td>9662</td>\n",
       "      <td>Pave</td>\n",
       "      <td>NaN</td>\n",
       "      <td>IR1</td>\n",
       "      <td>Lvl</td>\n",
       "      <td>...</td>\n",
       "      <td>0</td>\n",
       "      <td>0</td>\n",
       "      <td>0</td>\n",
       "      <td>NaN</td>\n",
       "      <td>NaN</td>\n",
       "      <td>NaN</td>\n",
       "      <td>0</td>\n",
       "      <td>8</td>\n",
       "      <td>2006</td>\n",
       "      <td>WD</td>\n",
       "    </tr>\n",
       "    <tr>\n",
       "      <th>2</th>\n",
       "      <td>2414</td>\n",
       "      <td>528218130</td>\n",
       "      <td>60</td>\n",
       "      <td>RL</td>\n",
       "      <td>58.0</td>\n",
       "      <td>17104</td>\n",
       "      <td>Pave</td>\n",
       "      <td>NaN</td>\n",
       "      <td>IR1</td>\n",
       "      <td>Lvl</td>\n",
       "      <td>...</td>\n",
       "      <td>0</td>\n",
       "      <td>0</td>\n",
       "      <td>0</td>\n",
       "      <td>NaN</td>\n",
       "      <td>NaN</td>\n",
       "      <td>NaN</td>\n",
       "      <td>0</td>\n",
       "      <td>9</td>\n",
       "      <td>2006</td>\n",
       "      <td>New</td>\n",
       "    </tr>\n",
       "    <tr>\n",
       "      <th>3</th>\n",
       "      <td>1989</td>\n",
       "      <td>902207150</td>\n",
       "      <td>30</td>\n",
       "      <td>RM</td>\n",
       "      <td>60.0</td>\n",
       "      <td>8520</td>\n",
       "      <td>Pave</td>\n",
       "      <td>NaN</td>\n",
       "      <td>Reg</td>\n",
       "      <td>Lvl</td>\n",
       "      <td>...</td>\n",
       "      <td>0</td>\n",
       "      <td>0</td>\n",
       "      <td>0</td>\n",
       "      <td>NaN</td>\n",
       "      <td>NaN</td>\n",
       "      <td>NaN</td>\n",
       "      <td>0</td>\n",
       "      <td>7</td>\n",
       "      <td>2007</td>\n",
       "      <td>WD</td>\n",
       "    </tr>\n",
       "    <tr>\n",
       "      <th>4</th>\n",
       "      <td>625</td>\n",
       "      <td>535105100</td>\n",
       "      <td>20</td>\n",
       "      <td>RL</td>\n",
       "      <td>NaN</td>\n",
       "      <td>9500</td>\n",
       "      <td>Pave</td>\n",
       "      <td>NaN</td>\n",
       "      <td>IR1</td>\n",
       "      <td>Lvl</td>\n",
       "      <td>...</td>\n",
       "      <td>0</td>\n",
       "      <td>185</td>\n",
       "      <td>0</td>\n",
       "      <td>NaN</td>\n",
       "      <td>NaN</td>\n",
       "      <td>NaN</td>\n",
       "      <td>0</td>\n",
       "      <td>7</td>\n",
       "      <td>2009</td>\n",
       "      <td>WD</td>\n",
       "    </tr>\n",
       "  </tbody>\n",
       "</table>\n",
       "<p>5 rows × 80 columns</p>\n",
       "</div>"
      ],
      "text/plain": [
       "     Id        PID  MS SubClass MS Zoning  Lot Frontage  Lot Area Street  \\\n",
       "0  2658  902301120          190        RM          69.0      9142   Pave   \n",
       "1  2718  905108090           90        RL           NaN      9662   Pave   \n",
       "2  2414  528218130           60        RL          58.0     17104   Pave   \n",
       "3  1989  902207150           30        RM          60.0      8520   Pave   \n",
       "4   625  535105100           20        RL           NaN      9500   Pave   \n",
       "\n",
       "  Alley Lot Shape Land Contour    ...     3Ssn Porch Screen Porch Pool Area  \\\n",
       "0  Grvl       Reg          Lvl    ...              0            0         0   \n",
       "1   NaN       IR1          Lvl    ...              0            0         0   \n",
       "2   NaN       IR1          Lvl    ...              0            0         0   \n",
       "3   NaN       Reg          Lvl    ...              0            0         0   \n",
       "4   NaN       IR1          Lvl    ...              0          185         0   \n",
       "\n",
       "  Pool QC Fence Misc Feature Misc Val Mo Sold  Yr Sold  Sale Type  \n",
       "0     NaN   NaN          NaN        0       4     2006        WD   \n",
       "1     NaN   NaN          NaN        0       8     2006        WD   \n",
       "2     NaN   NaN          NaN        0       9     2006        New  \n",
       "3     NaN   NaN          NaN        0       7     2007        WD   \n",
       "4     NaN   NaN          NaN        0       7     2009        WD   \n",
       "\n",
       "[5 rows x 80 columns]"
      ]
     },
     "execution_count": 219,
     "metadata": {},
     "output_type": "execute_result"
    }
   ],
   "source": [
    "test.head(5)"
   ]
  },
  {
   "cell_type": "code",
   "execution_count": 220,
   "metadata": {},
   "outputs": [],
   "source": [
    "#Since ID, PID are not features, to be removed.\n",
    "#SalePrice is present in train dataset. Since it is a target variable, to be removed.\n",
    "\n",
    "pd_train = train.drop(['Id', 'PID'], axis = 1)\n",
    "pd_test = test.drop (['Id', 'PID'], axis = 1)"
   ]
  },
  {
   "cell_type": "code",
   "execution_count": 221,
   "metadata": {},
   "outputs": [
    {
     "data": {
      "text/plain": [
       "True"
      ]
     },
     "execution_count": 221,
     "metadata": {},
     "output_type": "execute_result"
    }
   ],
   "source": [
    "#Check is columns in pd_train are the same as pd_test\n",
    "list(pd_test.columns) == list(pd_train.drop('SalePrice', axis=1).columns)\n"
   ]
  },
  {
   "cell_type": "code",
   "execution_count": 222,
   "metadata": {},
   "outputs": [
    {
     "data": {
      "text/plain": [
       "Pool QC            0.995612\n",
       "Misc Feature       0.968308\n",
       "Alley              0.931741\n",
       "Fence              0.804973\n",
       "Fireplace Qu       0.487567\n",
       "Lot Frontage       0.160897\n",
       "Garage Qual        0.055583\n",
       "Garage Cond        0.055583\n",
       "Garage Yr Blt      0.055583\n",
       "Garage Finish      0.055583\n",
       "Garage Type        0.055095\n",
       "Bsmt Exposure      0.028279\n",
       "BsmtFin Type 2     0.027304\n",
       "Bsmt Qual          0.026816\n",
       "BsmtFin Type 1     0.026816\n",
       "Bsmt Cond          0.026816\n",
       "Mas Vnr Type       0.010726\n",
       "Mas Vnr Area       0.010726\n",
       "Bsmt Half Bath     0.000975\n",
       "Bsmt Full Bath     0.000975\n",
       "Bsmt Unf SF        0.000488\n",
       "Total Bsmt SF      0.000488\n",
       "BsmtFin SF 1       0.000488\n",
       "BsmtFin SF 2       0.000488\n",
       "Garage Cars        0.000488\n",
       "Garage Area        0.000488\n",
       "Exterior 2nd       0.000000\n",
       "Exterior 1st       0.000000\n",
       "Roof Matl          0.000000\n",
       "Roof Style         0.000000\n",
       "Year Remod/Add     0.000000\n",
       "Exter Qual         0.000000\n",
       "SalePrice          0.000000\n",
       "Year Built         0.000000\n",
       "Lot Config         0.000000\n",
       "MS Zoning          0.000000\n",
       "Lot Area           0.000000\n",
       "Street             0.000000\n",
       "Lot Shape          0.000000\n",
       "Land Contour       0.000000\n",
       "Utilities          0.000000\n",
       "Land Slope         0.000000\n",
       "Overall Cond       0.000000\n",
       "Neighborhood       0.000000\n",
       "Condition 1        0.000000\n",
       "Exter Cond         0.000000\n",
       "Bldg Type          0.000000\n",
       "House Style        0.000000\n",
       "Overall Qual       0.000000\n",
       "Condition 2        0.000000\n",
       "Heating QC         0.000000\n",
       "Foundation         0.000000\n",
       "Heating            0.000000\n",
       "Yr Sold            0.000000\n",
       "Mo Sold            0.000000\n",
       "Misc Val           0.000000\n",
       "Pool Area          0.000000\n",
       "Screen Porch       0.000000\n",
       "3Ssn Porch         0.000000\n",
       "Enclosed Porch     0.000000\n",
       "Open Porch SF      0.000000\n",
       "Wood Deck SF       0.000000\n",
       "Paved Drive        0.000000\n",
       "Fireplaces         0.000000\n",
       "Functional         0.000000\n",
       "TotRms AbvGrd      0.000000\n",
       "Kitchen Qual       0.000000\n",
       "Kitchen AbvGr      0.000000\n",
       "Bedroom AbvGr      0.000000\n",
       "Half Bath          0.000000\n",
       "Full Bath          0.000000\n",
       "Gr Liv Area        0.000000\n",
       "Low Qual Fin SF    0.000000\n",
       "2nd Flr SF         0.000000\n",
       "1st Flr SF         0.000000\n",
       "Electrical         0.000000\n",
       "Central Air        0.000000\n",
       "Sale Type          0.000000\n",
       "MS SubClass        0.000000\n",
       "dtype: float64"
      ]
     },
     "execution_count": 222,
     "metadata": {},
     "output_type": "execute_result"
    }
   ],
   "source": [
    "# check percentage of null values in train dataset by column\n",
    "\n",
    "pd_train.isnull().mean().sort_values(ascending=False)"
   ]
  },
  {
   "cell_type": "code",
   "execution_count": 223,
   "metadata": {},
   "outputs": [],
   "source": [
    "#Remove features with excessively high number of NaN.\n",
    "pd_train.drop(['Pool QC', 'Misc Feature', 'Alley', 'Fence', 'Fireplace Qu'], axis = 1, inplace = True)"
   ]
  },
  {
   "cell_type": "code",
   "execution_count": 224,
   "metadata": {
    "scrolled": true
   },
   "outputs": [
    {
     "data": {
      "text/html": [
       "<div>\n",
       "<style scoped>\n",
       "    .dataframe tbody tr th:only-of-type {\n",
       "        vertical-align: middle;\n",
       "    }\n",
       "\n",
       "    .dataframe tbody tr th {\n",
       "        vertical-align: top;\n",
       "    }\n",
       "\n",
       "    .dataframe thead th {\n",
       "        text-align: right;\n",
       "    }\n",
       "</style>\n",
       "<table border=\"1\" class=\"dataframe\">\n",
       "  <thead>\n",
       "    <tr style=\"text-align: right;\">\n",
       "      <th></th>\n",
       "      <th>MS SubClass</th>\n",
       "      <th>MS Zoning</th>\n",
       "      <th>Lot Frontage</th>\n",
       "      <th>Lot Area</th>\n",
       "      <th>Street</th>\n",
       "      <th>Lot Shape</th>\n",
       "      <th>Land Contour</th>\n",
       "      <th>Utilities</th>\n",
       "      <th>Lot Config</th>\n",
       "      <th>Land Slope</th>\n",
       "      <th>...</th>\n",
       "      <th>Open Porch SF</th>\n",
       "      <th>Enclosed Porch</th>\n",
       "      <th>3Ssn Porch</th>\n",
       "      <th>Screen Porch</th>\n",
       "      <th>Pool Area</th>\n",
       "      <th>Misc Val</th>\n",
       "      <th>Mo Sold</th>\n",
       "      <th>Yr Sold</th>\n",
       "      <th>Sale Type</th>\n",
       "      <th>SalePrice</th>\n",
       "    </tr>\n",
       "  </thead>\n",
       "  <tbody>\n",
       "    <tr>\n",
       "      <th>0</th>\n",
       "      <td>60</td>\n",
       "      <td>RL</td>\n",
       "      <td>NaN</td>\n",
       "      <td>13517</td>\n",
       "      <td>Pave</td>\n",
       "      <td>IR1</td>\n",
       "      <td>Lvl</td>\n",
       "      <td>AllPub</td>\n",
       "      <td>CulDSac</td>\n",
       "      <td>Gtl</td>\n",
       "      <td>...</td>\n",
       "      <td>44</td>\n",
       "      <td>0</td>\n",
       "      <td>0</td>\n",
       "      <td>0</td>\n",
       "      <td>0</td>\n",
       "      <td>0</td>\n",
       "      <td>3</td>\n",
       "      <td>2010</td>\n",
       "      <td>WD</td>\n",
       "      <td>130500</td>\n",
       "    </tr>\n",
       "    <tr>\n",
       "      <th>1</th>\n",
       "      <td>60</td>\n",
       "      <td>RL</td>\n",
       "      <td>43.0</td>\n",
       "      <td>11492</td>\n",
       "      <td>Pave</td>\n",
       "      <td>IR1</td>\n",
       "      <td>Lvl</td>\n",
       "      <td>AllPub</td>\n",
       "      <td>CulDSac</td>\n",
       "      <td>Gtl</td>\n",
       "      <td>...</td>\n",
       "      <td>74</td>\n",
       "      <td>0</td>\n",
       "      <td>0</td>\n",
       "      <td>0</td>\n",
       "      <td>0</td>\n",
       "      <td>0</td>\n",
       "      <td>4</td>\n",
       "      <td>2009</td>\n",
       "      <td>WD</td>\n",
       "      <td>220000</td>\n",
       "    </tr>\n",
       "    <tr>\n",
       "      <th>2</th>\n",
       "      <td>20</td>\n",
       "      <td>RL</td>\n",
       "      <td>68.0</td>\n",
       "      <td>7922</td>\n",
       "      <td>Pave</td>\n",
       "      <td>Reg</td>\n",
       "      <td>Lvl</td>\n",
       "      <td>AllPub</td>\n",
       "      <td>Inside</td>\n",
       "      <td>Gtl</td>\n",
       "      <td>...</td>\n",
       "      <td>52</td>\n",
       "      <td>0</td>\n",
       "      <td>0</td>\n",
       "      <td>0</td>\n",
       "      <td>0</td>\n",
       "      <td>0</td>\n",
       "      <td>1</td>\n",
       "      <td>2010</td>\n",
       "      <td>WD</td>\n",
       "      <td>109000</td>\n",
       "    </tr>\n",
       "    <tr>\n",
       "      <th>3</th>\n",
       "      <td>60</td>\n",
       "      <td>RL</td>\n",
       "      <td>73.0</td>\n",
       "      <td>9802</td>\n",
       "      <td>Pave</td>\n",
       "      <td>Reg</td>\n",
       "      <td>Lvl</td>\n",
       "      <td>AllPub</td>\n",
       "      <td>Inside</td>\n",
       "      <td>Gtl</td>\n",
       "      <td>...</td>\n",
       "      <td>0</td>\n",
       "      <td>0</td>\n",
       "      <td>0</td>\n",
       "      <td>0</td>\n",
       "      <td>0</td>\n",
       "      <td>0</td>\n",
       "      <td>4</td>\n",
       "      <td>2010</td>\n",
       "      <td>WD</td>\n",
       "      <td>174000</td>\n",
       "    </tr>\n",
       "    <tr>\n",
       "      <th>4</th>\n",
       "      <td>50</td>\n",
       "      <td>RL</td>\n",
       "      <td>82.0</td>\n",
       "      <td>14235</td>\n",
       "      <td>Pave</td>\n",
       "      <td>IR1</td>\n",
       "      <td>Lvl</td>\n",
       "      <td>AllPub</td>\n",
       "      <td>Inside</td>\n",
       "      <td>Gtl</td>\n",
       "      <td>...</td>\n",
       "      <td>59</td>\n",
       "      <td>0</td>\n",
       "      <td>0</td>\n",
       "      <td>0</td>\n",
       "      <td>0</td>\n",
       "      <td>0</td>\n",
       "      <td>3</td>\n",
       "      <td>2010</td>\n",
       "      <td>WD</td>\n",
       "      <td>138500</td>\n",
       "    </tr>\n",
       "  </tbody>\n",
       "</table>\n",
       "<p>5 rows × 74 columns</p>\n",
       "</div>"
      ],
      "text/plain": [
       "   MS SubClass MS Zoning  Lot Frontage  Lot Area Street Lot Shape  \\\n",
       "0           60        RL           NaN     13517   Pave       IR1   \n",
       "1           60        RL          43.0     11492   Pave       IR1   \n",
       "2           20        RL          68.0      7922   Pave       Reg   \n",
       "3           60        RL          73.0      9802   Pave       Reg   \n",
       "4           50        RL          82.0     14235   Pave       IR1   \n",
       "\n",
       "  Land Contour Utilities Lot Config Land Slope    ...    Open Porch SF  \\\n",
       "0          Lvl    AllPub    CulDSac        Gtl    ...               44   \n",
       "1          Lvl    AllPub    CulDSac        Gtl    ...               74   \n",
       "2          Lvl    AllPub     Inside        Gtl    ...               52   \n",
       "3          Lvl    AllPub     Inside        Gtl    ...                0   \n",
       "4          Lvl    AllPub     Inside        Gtl    ...               59   \n",
       "\n",
       "  Enclosed Porch 3Ssn Porch Screen Porch Pool Area  Misc Val  Mo Sold  \\\n",
       "0              0          0            0         0         0        3   \n",
       "1              0          0            0         0         0        4   \n",
       "2              0          0            0         0         0        1   \n",
       "3              0          0            0         0         0        4   \n",
       "4              0          0            0         0         0        3   \n",
       "\n",
       "   Yr Sold  Sale Type SalePrice  \n",
       "0     2010        WD     130500  \n",
       "1     2009        WD     220000  \n",
       "2     2010        WD     109000  \n",
       "3     2010        WD     174000  \n",
       "4     2010        WD     138500  \n",
       "\n",
       "[5 rows x 74 columns]"
      ]
     },
     "execution_count": 224,
     "metadata": {},
     "output_type": "execute_result"
    }
   ],
   "source": [
    "pd_train.head(5)"
   ]
  },
  {
   "cell_type": "code",
   "execution_count": 225,
   "metadata": {},
   "outputs": [
    {
     "data": {
      "text/plain": [
       "Pool QC            0.995449\n",
       "Misc Feature       0.953356\n",
       "Alley              0.934016\n",
       "Fence              0.804323\n",
       "Fireplace Qu       0.480091\n",
       "Lot Frontage       0.182025\n",
       "Garage Cond        0.051195\n",
       "Garage Qual        0.051195\n",
       "Garage Yr Blt      0.051195\n",
       "Garage Finish      0.051195\n",
       "Garage Type        0.050057\n",
       "BsmtFin Type 1     0.028441\n",
       "BsmtFin Type 2     0.028441\n",
       "Bsmt Qual          0.028441\n",
       "Bsmt Cond          0.028441\n",
       "Bsmt Exposure      0.028441\n",
       "Electrical         0.001138\n",
       "Mas Vnr Area       0.001138\n",
       "Mas Vnr Type       0.001138\n",
       "Year Built         0.000000\n",
       "Exter Qual         0.000000\n",
       "Exter Cond         0.000000\n",
       "Foundation         0.000000\n",
       "Exterior 2nd       0.000000\n",
       "Exterior 1st       0.000000\n",
       "Roof Matl          0.000000\n",
       "Roof Style         0.000000\n",
       "Year Remod/Add     0.000000\n",
       "Sale Type          0.000000\n",
       "Overall Cond       0.000000\n",
       "Overall Qual       0.000000\n",
       "House Style        0.000000\n",
       "Bldg Type          0.000000\n",
       "Condition 2        0.000000\n",
       "Neighborhood       0.000000\n",
       "Land Slope         0.000000\n",
       "Lot Config         0.000000\n",
       "Utilities          0.000000\n",
       "Land Contour       0.000000\n",
       "Lot Shape          0.000000\n",
       "Street             0.000000\n",
       "Lot Area           0.000000\n",
       "MS Zoning          0.000000\n",
       "Condition 1        0.000000\n",
       "Heating            0.000000\n",
       "BsmtFin SF 1       0.000000\n",
       "Kitchen Qual       0.000000\n",
       "Mo Sold            0.000000\n",
       "Misc Val           0.000000\n",
       "Pool Area          0.000000\n",
       "Screen Porch       0.000000\n",
       "3Ssn Porch         0.000000\n",
       "Enclosed Porch     0.000000\n",
       "Open Porch SF      0.000000\n",
       "Wood Deck SF       0.000000\n",
       "Paved Drive        0.000000\n",
       "Garage Area        0.000000\n",
       "Garage Cars        0.000000\n",
       "Fireplaces         0.000000\n",
       "Functional         0.000000\n",
       "TotRms AbvGrd      0.000000\n",
       "Kitchen AbvGr      0.000000\n",
       "BsmtFin SF 2       0.000000\n",
       "Bedroom AbvGr      0.000000\n",
       "Half Bath          0.000000\n",
       "Full Bath          0.000000\n",
       "Bsmt Half Bath     0.000000\n",
       "Bsmt Full Bath     0.000000\n",
       "Gr Liv Area        0.000000\n",
       "Low Qual Fin SF    0.000000\n",
       "2nd Flr SF         0.000000\n",
       "1st Flr SF         0.000000\n",
       "Central Air        0.000000\n",
       "Heating QC         0.000000\n",
       "Yr Sold            0.000000\n",
       "Total Bsmt SF      0.000000\n",
       "Bsmt Unf SF        0.000000\n",
       "MS SubClass        0.000000\n",
       "dtype: float64"
      ]
     },
     "execution_count": 225,
     "metadata": {},
     "output_type": "execute_result"
    }
   ],
   "source": [
    "# check percentage of null values in test dataset by column\n",
    "\n",
    "pd_test.isnull().mean().sort_values(ascending=False)"
   ]
  },
  {
   "cell_type": "code",
   "execution_count": 226,
   "metadata": {},
   "outputs": [],
   "source": [
    "#Remove features with excessively high number of NaN.\n",
    "pd_test.drop(['Pool QC', 'Misc Feature', 'Alley', 'Fence', 'Fireplace Qu'], axis = 1, inplace = True)"
   ]
  },
  {
   "cell_type": "code",
   "execution_count": 227,
   "metadata": {},
   "outputs": [
    {
     "data": {
      "text/html": [
       "<div>\n",
       "<style scoped>\n",
       "    .dataframe tbody tr th:only-of-type {\n",
       "        vertical-align: middle;\n",
       "    }\n",
       "\n",
       "    .dataframe tbody tr th {\n",
       "        vertical-align: top;\n",
       "    }\n",
       "\n",
       "    .dataframe thead th {\n",
       "        text-align: right;\n",
       "    }\n",
       "</style>\n",
       "<table border=\"1\" class=\"dataframe\">\n",
       "  <thead>\n",
       "    <tr style=\"text-align: right;\">\n",
       "      <th></th>\n",
       "      <th>MS SubClass</th>\n",
       "      <th>MS Zoning</th>\n",
       "      <th>Lot Frontage</th>\n",
       "      <th>Lot Area</th>\n",
       "      <th>Street</th>\n",
       "      <th>Lot Shape</th>\n",
       "      <th>Land Contour</th>\n",
       "      <th>Utilities</th>\n",
       "      <th>Lot Config</th>\n",
       "      <th>Land Slope</th>\n",
       "      <th>...</th>\n",
       "      <th>Wood Deck SF</th>\n",
       "      <th>Open Porch SF</th>\n",
       "      <th>Enclosed Porch</th>\n",
       "      <th>3Ssn Porch</th>\n",
       "      <th>Screen Porch</th>\n",
       "      <th>Pool Area</th>\n",
       "      <th>Misc Val</th>\n",
       "      <th>Mo Sold</th>\n",
       "      <th>Yr Sold</th>\n",
       "      <th>Sale Type</th>\n",
       "    </tr>\n",
       "  </thead>\n",
       "  <tbody>\n",
       "    <tr>\n",
       "      <th>0</th>\n",
       "      <td>190</td>\n",
       "      <td>RM</td>\n",
       "      <td>69.0</td>\n",
       "      <td>9142</td>\n",
       "      <td>Pave</td>\n",
       "      <td>Reg</td>\n",
       "      <td>Lvl</td>\n",
       "      <td>AllPub</td>\n",
       "      <td>Inside</td>\n",
       "      <td>Gtl</td>\n",
       "      <td>...</td>\n",
       "      <td>0</td>\n",
       "      <td>60</td>\n",
       "      <td>112</td>\n",
       "      <td>0</td>\n",
       "      <td>0</td>\n",
       "      <td>0</td>\n",
       "      <td>0</td>\n",
       "      <td>4</td>\n",
       "      <td>2006</td>\n",
       "      <td>WD</td>\n",
       "    </tr>\n",
       "    <tr>\n",
       "      <th>1</th>\n",
       "      <td>90</td>\n",
       "      <td>RL</td>\n",
       "      <td>NaN</td>\n",
       "      <td>9662</td>\n",
       "      <td>Pave</td>\n",
       "      <td>IR1</td>\n",
       "      <td>Lvl</td>\n",
       "      <td>AllPub</td>\n",
       "      <td>Inside</td>\n",
       "      <td>Gtl</td>\n",
       "      <td>...</td>\n",
       "      <td>170</td>\n",
       "      <td>0</td>\n",
       "      <td>0</td>\n",
       "      <td>0</td>\n",
       "      <td>0</td>\n",
       "      <td>0</td>\n",
       "      <td>0</td>\n",
       "      <td>8</td>\n",
       "      <td>2006</td>\n",
       "      <td>WD</td>\n",
       "    </tr>\n",
       "    <tr>\n",
       "      <th>2</th>\n",
       "      <td>60</td>\n",
       "      <td>RL</td>\n",
       "      <td>58.0</td>\n",
       "      <td>17104</td>\n",
       "      <td>Pave</td>\n",
       "      <td>IR1</td>\n",
       "      <td>Lvl</td>\n",
       "      <td>AllPub</td>\n",
       "      <td>Inside</td>\n",
       "      <td>Gtl</td>\n",
       "      <td>...</td>\n",
       "      <td>100</td>\n",
       "      <td>24</td>\n",
       "      <td>0</td>\n",
       "      <td>0</td>\n",
       "      <td>0</td>\n",
       "      <td>0</td>\n",
       "      <td>0</td>\n",
       "      <td>9</td>\n",
       "      <td>2006</td>\n",
       "      <td>New</td>\n",
       "    </tr>\n",
       "    <tr>\n",
       "      <th>3</th>\n",
       "      <td>30</td>\n",
       "      <td>RM</td>\n",
       "      <td>60.0</td>\n",
       "      <td>8520</td>\n",
       "      <td>Pave</td>\n",
       "      <td>Reg</td>\n",
       "      <td>Lvl</td>\n",
       "      <td>AllPub</td>\n",
       "      <td>Inside</td>\n",
       "      <td>Gtl</td>\n",
       "      <td>...</td>\n",
       "      <td>0</td>\n",
       "      <td>0</td>\n",
       "      <td>184</td>\n",
       "      <td>0</td>\n",
       "      <td>0</td>\n",
       "      <td>0</td>\n",
       "      <td>0</td>\n",
       "      <td>7</td>\n",
       "      <td>2007</td>\n",
       "      <td>WD</td>\n",
       "    </tr>\n",
       "    <tr>\n",
       "      <th>4</th>\n",
       "      <td>20</td>\n",
       "      <td>RL</td>\n",
       "      <td>NaN</td>\n",
       "      <td>9500</td>\n",
       "      <td>Pave</td>\n",
       "      <td>IR1</td>\n",
       "      <td>Lvl</td>\n",
       "      <td>AllPub</td>\n",
       "      <td>Inside</td>\n",
       "      <td>Gtl</td>\n",
       "      <td>...</td>\n",
       "      <td>0</td>\n",
       "      <td>76</td>\n",
       "      <td>0</td>\n",
       "      <td>0</td>\n",
       "      <td>185</td>\n",
       "      <td>0</td>\n",
       "      <td>0</td>\n",
       "      <td>7</td>\n",
       "      <td>2009</td>\n",
       "      <td>WD</td>\n",
       "    </tr>\n",
       "  </tbody>\n",
       "</table>\n",
       "<p>5 rows × 73 columns</p>\n",
       "</div>"
      ],
      "text/plain": [
       "   MS SubClass MS Zoning  Lot Frontage  Lot Area Street Lot Shape  \\\n",
       "0          190        RM          69.0      9142   Pave       Reg   \n",
       "1           90        RL           NaN      9662   Pave       IR1   \n",
       "2           60        RL          58.0     17104   Pave       IR1   \n",
       "3           30        RM          60.0      8520   Pave       Reg   \n",
       "4           20        RL           NaN      9500   Pave       IR1   \n",
       "\n",
       "  Land Contour Utilities Lot Config Land Slope    ...    Wood Deck SF  \\\n",
       "0          Lvl    AllPub     Inside        Gtl    ...               0   \n",
       "1          Lvl    AllPub     Inside        Gtl    ...             170   \n",
       "2          Lvl    AllPub     Inside        Gtl    ...             100   \n",
       "3          Lvl    AllPub     Inside        Gtl    ...               0   \n",
       "4          Lvl    AllPub     Inside        Gtl    ...               0   \n",
       "\n",
       "  Open Porch SF Enclosed Porch 3Ssn Porch Screen Porch  Pool Area  Misc Val  \\\n",
       "0            60            112          0            0          0         0   \n",
       "1             0              0          0            0          0         0   \n",
       "2            24              0          0            0          0         0   \n",
       "3             0            184          0            0          0         0   \n",
       "4            76              0          0          185          0         0   \n",
       "\n",
       "   Mo Sold  Yr Sold Sale Type  \n",
       "0        4     2006       WD   \n",
       "1        8     2006       WD   \n",
       "2        9     2006       New  \n",
       "3        7     2007       WD   \n",
       "4        7     2009       WD   \n",
       "\n",
       "[5 rows x 73 columns]"
      ]
     },
     "execution_count": 227,
     "metadata": {},
     "output_type": "execute_result"
    }
   ],
   "source": [
    "pd_test.head()"
   ]
  },
  {
   "cell_type": "code",
   "execution_count": 228,
   "metadata": {},
   "outputs": [
    {
     "name": "stdout",
     "output_type": "stream",
     "text": [
      "MS SubClass \n",
      " False    2051\n",
      "Name: MS SubClass, dtype: int64 \n",
      "\n",
      "MS Zoning \n",
      " False    2051\n",
      "Name: MS Zoning, dtype: int64 \n",
      "\n",
      "Lot Frontage \n",
      " False    2051\n",
      "Name: Lot Frontage, dtype: int64 \n",
      "\n",
      "Lot Area \n",
      " False    2051\n",
      "Name: Lot Area, dtype: int64 \n",
      "\n",
      "Street \n",
      " False    2051\n",
      "Name: Street, dtype: int64 \n",
      "\n",
      "Lot Shape \n",
      " False    2051\n",
      "Name: Lot Shape, dtype: int64 \n",
      "\n",
      "Land Contour \n",
      " False    2051\n",
      "Name: Land Contour, dtype: int64 \n",
      "\n",
      "Utilities \n",
      " False    2051\n",
      "Name: Utilities, dtype: int64 \n",
      "\n",
      "Lot Config \n",
      " False    2051\n",
      "Name: Lot Config, dtype: int64 \n",
      "\n",
      "Land Slope \n",
      " False    2051\n",
      "Name: Land Slope, dtype: int64 \n",
      "\n",
      "Neighborhood \n",
      " False    2051\n",
      "Name: Neighborhood, dtype: int64 \n",
      "\n",
      "Condition 1 \n",
      " False    2051\n",
      "Name: Condition 1, dtype: int64 \n",
      "\n",
      "Condition 2 \n",
      " False    2051\n",
      "Name: Condition 2, dtype: int64 \n",
      "\n",
      "Bldg Type \n",
      " False    2051\n",
      "Name: Bldg Type, dtype: int64 \n",
      "\n",
      "House Style \n",
      " False    2051\n",
      "Name: House Style, dtype: int64 \n",
      "\n",
      "Overall Qual \n",
      " False    2051\n",
      "Name: Overall Qual, dtype: int64 \n",
      "\n",
      "Overall Cond \n",
      " False    2051\n",
      "Name: Overall Cond, dtype: int64 \n",
      "\n",
      "Year Built \n",
      " False    2051\n",
      "Name: Year Built, dtype: int64 \n",
      "\n",
      "Year Remod/Add \n",
      " False    2051\n",
      "Name: Year Remod/Add, dtype: int64 \n",
      "\n",
      "Roof Style \n",
      " False    2051\n",
      "Name: Roof Style, dtype: int64 \n",
      "\n",
      "Roof Matl \n",
      " False    2051\n",
      "Name: Roof Matl, dtype: int64 \n",
      "\n",
      "Exterior 1st \n",
      " False    2051\n",
      "Name: Exterior 1st, dtype: int64 \n",
      "\n",
      "Exterior 2nd \n",
      " False    2051\n",
      "Name: Exterior 2nd, dtype: int64 \n",
      "\n",
      "Mas Vnr Type \n",
      " False    2051\n",
      "Name: Mas Vnr Type, dtype: int64 \n",
      "\n",
      "Mas Vnr Area \n",
      " True     1216\n",
      "False     835\n",
      "Name: Mas Vnr Area, dtype: int64 \n",
      "\n",
      "Exter Qual \n",
      " False    2051\n",
      "Name: Exter Qual, dtype: int64 \n",
      "\n",
      "Exter Cond \n",
      " False    2051\n",
      "Name: Exter Cond, dtype: int64 \n",
      "\n",
      "Foundation \n",
      " False    2051\n",
      "Name: Foundation, dtype: int64 \n",
      "\n",
      "Bsmt Qual \n",
      " False    2051\n",
      "Name: Bsmt Qual, dtype: int64 \n",
      "\n",
      "Bsmt Cond \n",
      " False    2051\n",
      "Name: Bsmt Cond, dtype: int64 \n",
      "\n",
      "Bsmt Exposure \n",
      " False    2051\n",
      "Name: Bsmt Exposure, dtype: int64 \n",
      "\n",
      "BsmtFin Type 1 \n",
      " False    2051\n",
      "Name: BsmtFin Type 1, dtype: int64 \n",
      "\n",
      "BsmtFin SF 1 \n",
      " False    1394\n",
      "True      657\n",
      "Name: BsmtFin SF 1, dtype: int64 \n",
      "\n",
      "BsmtFin Type 2 \n",
      " False    2051\n",
      "Name: BsmtFin Type 2, dtype: int64 \n",
      "\n",
      "BsmtFin SF 2 \n",
      " True     1803\n",
      "False     248\n",
      "Name: BsmtFin SF 2, dtype: int64 \n",
      "\n",
      "Bsmt Unf SF \n",
      " False    1886\n",
      "True      165\n",
      "Name: Bsmt Unf SF, dtype: int64 \n",
      "\n",
      "Total Bsmt SF \n",
      " False    1997\n",
      "True       54\n",
      "Name: Total Bsmt SF, dtype: int64 \n",
      "\n",
      "Heating \n",
      " False    2051\n",
      "Name: Heating, dtype: int64 \n",
      "\n",
      "Heating QC \n",
      " False    2051\n",
      "Name: Heating QC, dtype: int64 \n",
      "\n",
      "Central Air \n",
      " False    2051\n",
      "Name: Central Air, dtype: int64 \n",
      "\n",
      "Electrical \n",
      " False    2051\n",
      "Name: Electrical, dtype: int64 \n",
      "\n",
      "1st Flr SF \n",
      " False    2051\n",
      "Name: 1st Flr SF, dtype: int64 \n",
      "\n",
      "2nd Flr SF \n",
      " True     1191\n",
      "False     860\n",
      "Name: 2nd Flr SF, dtype: int64 \n",
      "\n",
      "Low Qual Fin SF \n",
      " True     2018\n",
      "False      33\n",
      "Name: Low Qual Fin SF, dtype: int64 \n",
      "\n",
      "Gr Liv Area \n",
      " False    2051\n",
      "Name: Gr Liv Area, dtype: int64 \n",
      "\n",
      "Bsmt Full Bath \n",
      " True     1200\n",
      "False     851\n",
      "Name: Bsmt Full Bath, dtype: int64 \n",
      "\n",
      "Bsmt Half Bath \n",
      " True     1923\n",
      "False     128\n",
      "Name: Bsmt Half Bath, dtype: int64 \n",
      "\n",
      "Full Bath \n",
      " False    2043\n",
      "True        8\n",
      "Name: Full Bath, dtype: int64 \n",
      "\n",
      "Half Bath \n",
      " True     1308\n",
      "False     743\n",
      "Name: Half Bath, dtype: int64 \n",
      "\n",
      "Bedroom AbvGr \n",
      " False    2046\n",
      "True        5\n",
      "Name: Bedroom AbvGr, dtype: int64 \n",
      "\n",
      "Kitchen AbvGr \n",
      " False    2049\n",
      "True        2\n",
      "Name: Kitchen AbvGr, dtype: int64 \n",
      "\n",
      "Kitchen Qual \n",
      " False    2051\n",
      "Name: Kitchen Qual, dtype: int64 \n",
      "\n",
      "TotRms AbvGrd \n",
      " False    2051\n",
      "Name: TotRms AbvGrd, dtype: int64 \n",
      "\n",
      "Functional \n",
      " False    2051\n",
      "Name: Functional, dtype: int64 \n",
      "\n",
      "Fireplaces \n",
      " False    1051\n",
      "True     1000\n",
      "Name: Fireplaces, dtype: int64 \n",
      "\n",
      "Garage Type \n",
      " False    2051\n",
      "Name: Garage Type, dtype: int64 \n",
      "\n",
      "Garage Yr Blt \n",
      " False    2051\n",
      "Name: Garage Yr Blt, dtype: int64 \n",
      "\n",
      "Garage Finish \n",
      " False    2051\n",
      "Name: Garage Finish, dtype: int64 \n",
      "\n",
      "Garage Cars \n",
      " False    1938\n",
      "True      113\n",
      "Name: Garage Cars, dtype: int64 \n",
      "\n",
      "Garage Area \n",
      " False    1938\n",
      "True      113\n",
      "Name: Garage Area, dtype: int64 \n",
      "\n",
      "Garage Qual \n",
      " False    2051\n",
      "Name: Garage Qual, dtype: int64 \n",
      "\n",
      "Garage Cond \n",
      " False    2051\n",
      "Name: Garage Cond, dtype: int64 \n",
      "\n",
      "Paved Drive \n",
      " False    2051\n",
      "Name: Paved Drive, dtype: int64 \n",
      "\n",
      "Wood Deck SF \n",
      " True     1075\n",
      "False     976\n",
      "Name: Wood Deck SF, dtype: int64 \n",
      "\n",
      "Open Porch SF \n",
      " False    1139\n",
      "True      912\n",
      "Name: Open Porch SF, dtype: int64 \n",
      "\n",
      "Enclosed Porch \n",
      " True     1724\n",
      "False     327\n",
      "Name: Enclosed Porch, dtype: int64 \n",
      "\n",
      "3Ssn Porch \n",
      " True     2025\n",
      "False      26\n",
      "Name: 3Ssn Porch, dtype: int64 \n",
      "\n",
      "Screen Porch \n",
      " True     1870\n",
      "False     181\n",
      "Name: Screen Porch, dtype: int64 \n",
      "\n",
      "Pool Area \n",
      " True     2042\n",
      "False       9\n",
      "Name: Pool Area, dtype: int64 \n",
      "\n",
      "Misc Val \n",
      " True     1986\n",
      "False      65\n",
      "Name: Misc Val, dtype: int64 \n",
      "\n",
      "Mo Sold \n",
      " False    2051\n",
      "Name: Mo Sold, dtype: int64 \n",
      "\n",
      "Yr Sold \n",
      " False    2051\n",
      "Name: Yr Sold, dtype: int64 \n",
      "\n",
      "Sale Type \n",
      " False    2051\n",
      "Name: Sale Type, dtype: int64 \n",
      "\n",
      "SalePrice \n",
      " False    2051\n",
      "Name: SalePrice, dtype: int64 \n",
      "\n"
     ]
    }
   ],
   "source": [
    "#Remove features with excessively high number of zero values i.e. >1900 zero values\n",
    "for col in pd_train.columns:\n",
    "    count_zero = (pd_train[col]==0).value_counts()\n",
    "    print(col, \"\\n\", count_zero, \"\\n\")"
   ]
  },
  {
   "cell_type": "code",
   "execution_count": 229,
   "metadata": {},
   "outputs": [],
   "source": [
    "pd_train.drop(['Pool Area', 'Misc Val'], axis = 1, inplace = True)"
   ]
  },
  {
   "cell_type": "code",
   "execution_count": 230,
   "metadata": {},
   "outputs": [],
   "source": [
    "pd_test.drop(['Pool Area', 'Misc Val'], axis = 1, inplace = True)"
   ]
  },
  {
   "cell_type": "code",
   "execution_count": 231,
   "metadata": {},
   "outputs": [
    {
     "data": {
      "text/plain": [
       "(2051, 72)"
      ]
     },
     "execution_count": 231,
     "metadata": {},
     "output_type": "execute_result"
    }
   ],
   "source": [
    "pd_train.shape"
   ]
  },
  {
   "cell_type": "code",
   "execution_count": 232,
   "metadata": {},
   "outputs": [
    {
     "data": {
      "text/plain": [
       "(879, 71)"
      ]
     },
     "execution_count": 232,
     "metadata": {},
     "output_type": "execute_result"
    }
   ],
   "source": [
    "pd_test.shape"
   ]
  },
  {
   "cell_type": "code",
   "execution_count": 233,
   "metadata": {
    "scrolled": true
   },
   "outputs": [],
   "source": [
    "#unable to drop all null/Nan value rows/columns because that would mean having no more data. \n",
    "#Hence, only dropped columns with excessive amount of Nan values, \n",
    "#Convert numeric columns into strings because some features are meant to be categorial."
   ]
  },
  {
   "cell_type": "code",
   "execution_count": 234,
   "metadata": {
    "scrolled": true
   },
   "outputs": [
    {
     "data": {
      "text/plain": [
       "Index(['MS SubClass', 'MS Zoning', 'Lot Frontage', 'Lot Area', 'Street',\n",
       "       'Lot Shape', 'Land Contour', 'Utilities', 'Lot Config', 'Land Slope',\n",
       "       'Neighborhood', 'Condition 1', 'Condition 2', 'Bldg Type',\n",
       "       'House Style', 'Overall Qual', 'Overall Cond', 'Year Built',\n",
       "       'Year Remod/Add', 'Roof Style', 'Roof Matl', 'Exterior 1st',\n",
       "       'Exterior 2nd', 'Mas Vnr Type', 'Mas Vnr Area', 'Exter Qual',\n",
       "       'Exter Cond', 'Foundation', 'Bsmt Qual', 'Bsmt Cond', 'Bsmt Exposure',\n",
       "       'BsmtFin Type 1', 'BsmtFin SF 1', 'BsmtFin Type 2', 'BsmtFin SF 2',\n",
       "       'Bsmt Unf SF', 'Total Bsmt SF', 'Heating', 'Heating QC', 'Central Air',\n",
       "       'Electrical', '1st Flr SF', '2nd Flr SF', 'Low Qual Fin SF',\n",
       "       'Gr Liv Area', 'Bsmt Full Bath', 'Bsmt Half Bath', 'Full Bath',\n",
       "       'Half Bath', 'Bedroom AbvGr', 'Kitchen AbvGr', 'Kitchen Qual',\n",
       "       'TotRms AbvGrd', 'Functional', 'Fireplaces', 'Garage Type',\n",
       "       'Garage Yr Blt', 'Garage Finish', 'Garage Cars', 'Garage Area',\n",
       "       'Garage Qual', 'Garage Cond', 'Paved Drive', 'Wood Deck SF',\n",
       "       'Open Porch SF', 'Enclosed Porch', '3Ssn Porch', 'Screen Porch',\n",
       "       'Mo Sold', 'Yr Sold', 'Sale Type', 'SalePrice'],\n",
       "      dtype='object')"
      ]
     },
     "execution_count": 234,
     "metadata": {},
     "output_type": "execute_result"
    }
   ],
   "source": [
    "pd_train.columns"
   ]
  },
  {
   "cell_type": "code",
   "execution_count": 235,
   "metadata": {
    "scrolled": true
   },
   "outputs": [
    {
     "data": {
      "text/plain": [
       "MS SubClass          int64\n",
       "MS Zoning           object\n",
       "Lot Frontage       float64\n",
       "Lot Area             int64\n",
       "Street              object\n",
       "Lot Shape           object\n",
       "Land Contour        object\n",
       "Utilities           object\n",
       "Lot Config          object\n",
       "Land Slope          object\n",
       "Neighborhood        object\n",
       "Condition 1         object\n",
       "Condition 2         object\n",
       "Bldg Type           object\n",
       "House Style         object\n",
       "Overall Qual         int64\n",
       "Overall Cond         int64\n",
       "Year Built           int64\n",
       "Year Remod/Add       int64\n",
       "Roof Style          object\n",
       "Roof Matl           object\n",
       "Exterior 1st        object\n",
       "Exterior 2nd        object\n",
       "Mas Vnr Type        object\n",
       "Mas Vnr Area       float64\n",
       "Exter Qual          object\n",
       "Exter Cond          object\n",
       "Foundation          object\n",
       "Bsmt Qual           object\n",
       "Bsmt Cond           object\n",
       "Bsmt Exposure       object\n",
       "BsmtFin Type 1      object\n",
       "BsmtFin SF 1       float64\n",
       "BsmtFin Type 2      object\n",
       "BsmtFin SF 2       float64\n",
       "Bsmt Unf SF        float64\n",
       "Total Bsmt SF      float64\n",
       "Heating             object\n",
       "Heating QC          object\n",
       "Central Air         object\n",
       "Electrical          object\n",
       "1st Flr SF           int64\n",
       "2nd Flr SF           int64\n",
       "Low Qual Fin SF      int64\n",
       "Gr Liv Area          int64\n",
       "Bsmt Full Bath     float64\n",
       "Bsmt Half Bath     float64\n",
       "Full Bath            int64\n",
       "Half Bath            int64\n",
       "Bedroom AbvGr        int64\n",
       "Kitchen AbvGr        int64\n",
       "Kitchen Qual        object\n",
       "TotRms AbvGrd        int64\n",
       "Functional          object\n",
       "Fireplaces           int64\n",
       "Garage Type         object\n",
       "Garage Yr Blt      float64\n",
       "Garage Finish       object\n",
       "Garage Cars        float64\n",
       "Garage Area        float64\n",
       "Garage Qual         object\n",
       "Garage Cond         object\n",
       "Paved Drive         object\n",
       "Wood Deck SF         int64\n",
       "Open Porch SF        int64\n",
       "Enclosed Porch       int64\n",
       "3Ssn Porch           int64\n",
       "Screen Porch         int64\n",
       "Mo Sold              int64\n",
       "Yr Sold              int64\n",
       "Sale Type           object\n",
       "SalePrice            int64\n",
       "dtype: object"
      ]
     },
     "execution_count": 235,
     "metadata": {},
     "output_type": "execute_result"
    }
   ],
   "source": [
    "pd_train.dtypes"
   ]
  },
  {
   "cell_type": "code",
   "execution_count": 236,
   "metadata": {},
   "outputs": [
    {
     "data": {
      "text/plain": [
       "MS SubClass          int64\n",
       "MS Zoning           object\n",
       "Lot Frontage       float64\n",
       "Lot Area             int64\n",
       "Street              object\n",
       "Lot Shape           object\n",
       "Land Contour        object\n",
       "Utilities           object\n",
       "Lot Config          object\n",
       "Land Slope          object\n",
       "Neighborhood        object\n",
       "Condition 1         object\n",
       "Condition 2         object\n",
       "Bldg Type           object\n",
       "House Style         object\n",
       "Overall Qual         int64\n",
       "Overall Cond         int64\n",
       "Year Built           int64\n",
       "Year Remod/Add       int64\n",
       "Roof Style          object\n",
       "Roof Matl           object\n",
       "Exterior 1st        object\n",
       "Exterior 2nd        object\n",
       "Mas Vnr Type        object\n",
       "Mas Vnr Area       float64\n",
       "Exter Qual          object\n",
       "Exter Cond          object\n",
       "Foundation          object\n",
       "Bsmt Qual           object\n",
       "Bsmt Cond           object\n",
       "Bsmt Exposure       object\n",
       "BsmtFin Type 1      object\n",
       "BsmtFin SF 1         int64\n",
       "BsmtFin Type 2      object\n",
       "BsmtFin SF 2         int64\n",
       "Bsmt Unf SF          int64\n",
       "Total Bsmt SF        int64\n",
       "Heating             object\n",
       "Heating QC          object\n",
       "Central Air         object\n",
       "Electrical          object\n",
       "1st Flr SF           int64\n",
       "2nd Flr SF           int64\n",
       "Low Qual Fin SF      int64\n",
       "Gr Liv Area          int64\n",
       "Bsmt Full Bath       int64\n",
       "Bsmt Half Bath       int64\n",
       "Full Bath            int64\n",
       "Half Bath            int64\n",
       "Bedroom AbvGr        int64\n",
       "Kitchen AbvGr        int64\n",
       "Kitchen Qual        object\n",
       "TotRms AbvGrd        int64\n",
       "Functional          object\n",
       "Fireplaces           int64\n",
       "Garage Type         object\n",
       "Garage Yr Blt      float64\n",
       "Garage Finish       object\n",
       "Garage Cars          int64\n",
       "Garage Area          int64\n",
       "Garage Qual         object\n",
       "Garage Cond         object\n",
       "Paved Drive         object\n",
       "Wood Deck SF         int64\n",
       "Open Porch SF        int64\n",
       "Enclosed Porch       int64\n",
       "3Ssn Porch           int64\n",
       "Screen Porch         int64\n",
       "Mo Sold              int64\n",
       "Yr Sold              int64\n",
       "Sale Type           object\n",
       "dtype: object"
      ]
     },
     "execution_count": 236,
     "metadata": {},
     "output_type": "execute_result"
    }
   ],
   "source": [
    "pd_test.dtypes"
   ]
  },
  {
   "cell_type": "code",
   "execution_count": 237,
   "metadata": {},
   "outputs": [],
   "source": [
    "#Making categorical variables: converting numeric to string type.\n",
    "pd_train['MS SubClass'] = pd_train['MS SubClass'].astype(str) #type of dwelling\n",
    "pd_train['Mo Sold'] = pd_train['Mo Sold'].astype(str) #month sold\n",
    "pd_train['Yr Sold'] = pd_train['Yr Sold'].astype(str) #year sold\n",
    "\n",
    "pd_test['MS SubClass'] = pd_test['MS SubClass'].astype(str)\n",
    "pd_test['Mo Sold'] = pd_test['Mo Sold'].astype(str)\n",
    "pd_test['Yr Sold'] = pd_test['Yr Sold'].astype(str)"
   ]
  },
  {
   "cell_type": "code",
   "execution_count": 238,
   "metadata": {},
   "outputs": [],
   "source": [
    "#standardize column headers by concatenating names with underscore and making them all lowercase\n",
    "pd_train.columns = [x.lower().replace(' ','_') for x in pd_train.columns]"
   ]
  },
  {
   "cell_type": "code",
   "execution_count": 239,
   "metadata": {},
   "outputs": [],
   "source": [
    "pd_test.columns = [x.lower().replace(' ','_') for x in pd_test.columns]"
   ]
  },
  {
   "cell_type": "code",
   "execution_count": 240,
   "metadata": {},
   "outputs": [
    {
     "data": {
      "text/html": [
       "<div>\n",
       "<style scoped>\n",
       "    .dataframe tbody tr th:only-of-type {\n",
       "        vertical-align: middle;\n",
       "    }\n",
       "\n",
       "    .dataframe tbody tr th {\n",
       "        vertical-align: top;\n",
       "    }\n",
       "\n",
       "    .dataframe thead th {\n",
       "        text-align: right;\n",
       "    }\n",
       "</style>\n",
       "<table border=\"1\" class=\"dataframe\">\n",
       "  <thead>\n",
       "    <tr style=\"text-align: right;\">\n",
       "      <th></th>\n",
       "      <th>ms_subclass</th>\n",
       "      <th>ms_zoning</th>\n",
       "      <th>lot_frontage</th>\n",
       "      <th>lot_area</th>\n",
       "      <th>street</th>\n",
       "      <th>lot_shape</th>\n",
       "      <th>land_contour</th>\n",
       "      <th>utilities</th>\n",
       "      <th>lot_config</th>\n",
       "      <th>land_slope</th>\n",
       "      <th>...</th>\n",
       "      <th>paved_drive</th>\n",
       "      <th>wood_deck_sf</th>\n",
       "      <th>open_porch_sf</th>\n",
       "      <th>enclosed_porch</th>\n",
       "      <th>3ssn_porch</th>\n",
       "      <th>screen_porch</th>\n",
       "      <th>mo_sold</th>\n",
       "      <th>yr_sold</th>\n",
       "      <th>sale_type</th>\n",
       "      <th>saleprice</th>\n",
       "    </tr>\n",
       "  </thead>\n",
       "  <tbody>\n",
       "    <tr>\n",
       "      <th>0</th>\n",
       "      <td>60</td>\n",
       "      <td>RL</td>\n",
       "      <td>NaN</td>\n",
       "      <td>13517</td>\n",
       "      <td>Pave</td>\n",
       "      <td>IR1</td>\n",
       "      <td>Lvl</td>\n",
       "      <td>AllPub</td>\n",
       "      <td>CulDSac</td>\n",
       "      <td>Gtl</td>\n",
       "      <td>...</td>\n",
       "      <td>Y</td>\n",
       "      <td>0</td>\n",
       "      <td>44</td>\n",
       "      <td>0</td>\n",
       "      <td>0</td>\n",
       "      <td>0</td>\n",
       "      <td>3</td>\n",
       "      <td>2010</td>\n",
       "      <td>WD</td>\n",
       "      <td>130500</td>\n",
       "    </tr>\n",
       "    <tr>\n",
       "      <th>1</th>\n",
       "      <td>60</td>\n",
       "      <td>RL</td>\n",
       "      <td>43.0</td>\n",
       "      <td>11492</td>\n",
       "      <td>Pave</td>\n",
       "      <td>IR1</td>\n",
       "      <td>Lvl</td>\n",
       "      <td>AllPub</td>\n",
       "      <td>CulDSac</td>\n",
       "      <td>Gtl</td>\n",
       "      <td>...</td>\n",
       "      <td>Y</td>\n",
       "      <td>0</td>\n",
       "      <td>74</td>\n",
       "      <td>0</td>\n",
       "      <td>0</td>\n",
       "      <td>0</td>\n",
       "      <td>4</td>\n",
       "      <td>2009</td>\n",
       "      <td>WD</td>\n",
       "      <td>220000</td>\n",
       "    </tr>\n",
       "    <tr>\n",
       "      <th>2</th>\n",
       "      <td>20</td>\n",
       "      <td>RL</td>\n",
       "      <td>68.0</td>\n",
       "      <td>7922</td>\n",
       "      <td>Pave</td>\n",
       "      <td>Reg</td>\n",
       "      <td>Lvl</td>\n",
       "      <td>AllPub</td>\n",
       "      <td>Inside</td>\n",
       "      <td>Gtl</td>\n",
       "      <td>...</td>\n",
       "      <td>Y</td>\n",
       "      <td>0</td>\n",
       "      <td>52</td>\n",
       "      <td>0</td>\n",
       "      <td>0</td>\n",
       "      <td>0</td>\n",
       "      <td>1</td>\n",
       "      <td>2010</td>\n",
       "      <td>WD</td>\n",
       "      <td>109000</td>\n",
       "    </tr>\n",
       "    <tr>\n",
       "      <th>3</th>\n",
       "      <td>60</td>\n",
       "      <td>RL</td>\n",
       "      <td>73.0</td>\n",
       "      <td>9802</td>\n",
       "      <td>Pave</td>\n",
       "      <td>Reg</td>\n",
       "      <td>Lvl</td>\n",
       "      <td>AllPub</td>\n",
       "      <td>Inside</td>\n",
       "      <td>Gtl</td>\n",
       "      <td>...</td>\n",
       "      <td>Y</td>\n",
       "      <td>100</td>\n",
       "      <td>0</td>\n",
       "      <td>0</td>\n",
       "      <td>0</td>\n",
       "      <td>0</td>\n",
       "      <td>4</td>\n",
       "      <td>2010</td>\n",
       "      <td>WD</td>\n",
       "      <td>174000</td>\n",
       "    </tr>\n",
       "    <tr>\n",
       "      <th>4</th>\n",
       "      <td>50</td>\n",
       "      <td>RL</td>\n",
       "      <td>82.0</td>\n",
       "      <td>14235</td>\n",
       "      <td>Pave</td>\n",
       "      <td>IR1</td>\n",
       "      <td>Lvl</td>\n",
       "      <td>AllPub</td>\n",
       "      <td>Inside</td>\n",
       "      <td>Gtl</td>\n",
       "      <td>...</td>\n",
       "      <td>N</td>\n",
       "      <td>0</td>\n",
       "      <td>59</td>\n",
       "      <td>0</td>\n",
       "      <td>0</td>\n",
       "      <td>0</td>\n",
       "      <td>3</td>\n",
       "      <td>2010</td>\n",
       "      <td>WD</td>\n",
       "      <td>138500</td>\n",
       "    </tr>\n",
       "  </tbody>\n",
       "</table>\n",
       "<p>5 rows × 72 columns</p>\n",
       "</div>"
      ],
      "text/plain": [
       "  ms_subclass ms_zoning  lot_frontage  lot_area street lot_shape land_contour  \\\n",
       "0          60        RL           NaN     13517   Pave       IR1          Lvl   \n",
       "1          60        RL          43.0     11492   Pave       IR1          Lvl   \n",
       "2          20        RL          68.0      7922   Pave       Reg          Lvl   \n",
       "3          60        RL          73.0      9802   Pave       Reg          Lvl   \n",
       "4          50        RL          82.0     14235   Pave       IR1          Lvl   \n",
       "\n",
       "  utilities lot_config land_slope    ...    paved_drive wood_deck_sf  \\\n",
       "0    AllPub    CulDSac        Gtl    ...              Y            0   \n",
       "1    AllPub    CulDSac        Gtl    ...              Y            0   \n",
       "2    AllPub     Inside        Gtl    ...              Y            0   \n",
       "3    AllPub     Inside        Gtl    ...              Y          100   \n",
       "4    AllPub     Inside        Gtl    ...              N            0   \n",
       "\n",
       "  open_porch_sf enclosed_porch 3ssn_porch  screen_porch  mo_sold  yr_sold  \\\n",
       "0            44              0          0             0        3     2010   \n",
       "1            74              0          0             0        4     2009   \n",
       "2            52              0          0             0        1     2010   \n",
       "3             0              0          0             0        4     2010   \n",
       "4            59              0          0             0        3     2010   \n",
       "\n",
       "   sale_type saleprice  \n",
       "0        WD     130500  \n",
       "1        WD     220000  \n",
       "2        WD     109000  \n",
       "3        WD     174000  \n",
       "4        WD     138500  \n",
       "\n",
       "[5 rows x 72 columns]"
      ]
     },
     "execution_count": 240,
     "metadata": {},
     "output_type": "execute_result"
    }
   ],
   "source": [
    "pd_train.head(5)"
   ]
  },
  {
   "cell_type": "code",
   "execution_count": 241,
   "metadata": {
    "scrolled": true
   },
   "outputs": [
    {
     "data": {
      "text/html": [
       "<div>\n",
       "<style scoped>\n",
       "    .dataframe tbody tr th:only-of-type {\n",
       "        vertical-align: middle;\n",
       "    }\n",
       "\n",
       "    .dataframe tbody tr th {\n",
       "        vertical-align: top;\n",
       "    }\n",
       "\n",
       "    .dataframe thead th {\n",
       "        text-align: right;\n",
       "    }\n",
       "</style>\n",
       "<table border=\"1\" class=\"dataframe\">\n",
       "  <thead>\n",
       "    <tr style=\"text-align: right;\">\n",
       "      <th></th>\n",
       "      <th>ms_subclass</th>\n",
       "      <th>ms_zoning</th>\n",
       "      <th>lot_frontage</th>\n",
       "      <th>lot_area</th>\n",
       "      <th>street</th>\n",
       "      <th>lot_shape</th>\n",
       "      <th>land_contour</th>\n",
       "      <th>utilities</th>\n",
       "      <th>lot_config</th>\n",
       "      <th>land_slope</th>\n",
       "      <th>...</th>\n",
       "      <th>garage_cond</th>\n",
       "      <th>paved_drive</th>\n",
       "      <th>wood_deck_sf</th>\n",
       "      <th>open_porch_sf</th>\n",
       "      <th>enclosed_porch</th>\n",
       "      <th>3ssn_porch</th>\n",
       "      <th>screen_porch</th>\n",
       "      <th>mo_sold</th>\n",
       "      <th>yr_sold</th>\n",
       "      <th>sale_type</th>\n",
       "    </tr>\n",
       "  </thead>\n",
       "  <tbody>\n",
       "    <tr>\n",
       "      <th>0</th>\n",
       "      <td>190</td>\n",
       "      <td>RM</td>\n",
       "      <td>69.0</td>\n",
       "      <td>9142</td>\n",
       "      <td>Pave</td>\n",
       "      <td>Reg</td>\n",
       "      <td>Lvl</td>\n",
       "      <td>AllPub</td>\n",
       "      <td>Inside</td>\n",
       "      <td>Gtl</td>\n",
       "      <td>...</td>\n",
       "      <td>Po</td>\n",
       "      <td>Y</td>\n",
       "      <td>0</td>\n",
       "      <td>60</td>\n",
       "      <td>112</td>\n",
       "      <td>0</td>\n",
       "      <td>0</td>\n",
       "      <td>4</td>\n",
       "      <td>2006</td>\n",
       "      <td>WD</td>\n",
       "    </tr>\n",
       "    <tr>\n",
       "      <th>1</th>\n",
       "      <td>90</td>\n",
       "      <td>RL</td>\n",
       "      <td>NaN</td>\n",
       "      <td>9662</td>\n",
       "      <td>Pave</td>\n",
       "      <td>IR1</td>\n",
       "      <td>Lvl</td>\n",
       "      <td>AllPub</td>\n",
       "      <td>Inside</td>\n",
       "      <td>Gtl</td>\n",
       "      <td>...</td>\n",
       "      <td>TA</td>\n",
       "      <td>Y</td>\n",
       "      <td>170</td>\n",
       "      <td>0</td>\n",
       "      <td>0</td>\n",
       "      <td>0</td>\n",
       "      <td>0</td>\n",
       "      <td>8</td>\n",
       "      <td>2006</td>\n",
       "      <td>WD</td>\n",
       "    </tr>\n",
       "    <tr>\n",
       "      <th>2</th>\n",
       "      <td>60</td>\n",
       "      <td>RL</td>\n",
       "      <td>58.0</td>\n",
       "      <td>17104</td>\n",
       "      <td>Pave</td>\n",
       "      <td>IR1</td>\n",
       "      <td>Lvl</td>\n",
       "      <td>AllPub</td>\n",
       "      <td>Inside</td>\n",
       "      <td>Gtl</td>\n",
       "      <td>...</td>\n",
       "      <td>TA</td>\n",
       "      <td>Y</td>\n",
       "      <td>100</td>\n",
       "      <td>24</td>\n",
       "      <td>0</td>\n",
       "      <td>0</td>\n",
       "      <td>0</td>\n",
       "      <td>9</td>\n",
       "      <td>2006</td>\n",
       "      <td>New</td>\n",
       "    </tr>\n",
       "    <tr>\n",
       "      <th>3</th>\n",
       "      <td>30</td>\n",
       "      <td>RM</td>\n",
       "      <td>60.0</td>\n",
       "      <td>8520</td>\n",
       "      <td>Pave</td>\n",
       "      <td>Reg</td>\n",
       "      <td>Lvl</td>\n",
       "      <td>AllPub</td>\n",
       "      <td>Inside</td>\n",
       "      <td>Gtl</td>\n",
       "      <td>...</td>\n",
       "      <td>TA</td>\n",
       "      <td>N</td>\n",
       "      <td>0</td>\n",
       "      <td>0</td>\n",
       "      <td>184</td>\n",
       "      <td>0</td>\n",
       "      <td>0</td>\n",
       "      <td>7</td>\n",
       "      <td>2007</td>\n",
       "      <td>WD</td>\n",
       "    </tr>\n",
       "    <tr>\n",
       "      <th>4</th>\n",
       "      <td>20</td>\n",
       "      <td>RL</td>\n",
       "      <td>NaN</td>\n",
       "      <td>9500</td>\n",
       "      <td>Pave</td>\n",
       "      <td>IR1</td>\n",
       "      <td>Lvl</td>\n",
       "      <td>AllPub</td>\n",
       "      <td>Inside</td>\n",
       "      <td>Gtl</td>\n",
       "      <td>...</td>\n",
       "      <td>TA</td>\n",
       "      <td>Y</td>\n",
       "      <td>0</td>\n",
       "      <td>76</td>\n",
       "      <td>0</td>\n",
       "      <td>0</td>\n",
       "      <td>185</td>\n",
       "      <td>7</td>\n",
       "      <td>2009</td>\n",
       "      <td>WD</td>\n",
       "    </tr>\n",
       "  </tbody>\n",
       "</table>\n",
       "<p>5 rows × 71 columns</p>\n",
       "</div>"
      ],
      "text/plain": [
       "  ms_subclass ms_zoning  lot_frontage  lot_area street lot_shape land_contour  \\\n",
       "0         190        RM          69.0      9142   Pave       Reg          Lvl   \n",
       "1          90        RL           NaN      9662   Pave       IR1          Lvl   \n",
       "2          60        RL          58.0     17104   Pave       IR1          Lvl   \n",
       "3          30        RM          60.0      8520   Pave       Reg          Lvl   \n",
       "4          20        RL           NaN      9500   Pave       IR1          Lvl   \n",
       "\n",
       "  utilities lot_config land_slope    ...    garage_cond paved_drive  \\\n",
       "0    AllPub     Inside        Gtl    ...             Po           Y   \n",
       "1    AllPub     Inside        Gtl    ...             TA           Y   \n",
       "2    AllPub     Inside        Gtl    ...             TA           Y   \n",
       "3    AllPub     Inside        Gtl    ...             TA           N   \n",
       "4    AllPub     Inside        Gtl    ...             TA           Y   \n",
       "\n",
       "  wood_deck_sf open_porch_sf enclosed_porch  3ssn_porch  screen_porch  \\\n",
       "0            0            60            112           0             0   \n",
       "1          170             0              0           0             0   \n",
       "2          100            24              0           0             0   \n",
       "3            0             0            184           0             0   \n",
       "4            0            76              0           0           185   \n",
       "\n",
       "   mo_sold  yr_sold sale_type  \n",
       "0        4     2006       WD   \n",
       "1        8     2006       WD   \n",
       "2        9     2006       New  \n",
       "3        7     2007       WD   \n",
       "4        7     2009       WD   \n",
       "\n",
       "[5 rows x 71 columns]"
      ]
     },
     "execution_count": 241,
     "metadata": {},
     "output_type": "execute_result"
    }
   ],
   "source": [
    "pd_test.head(5)"
   ]
  },
  {
   "cell_type": "code",
   "execution_count": 242,
   "metadata": {},
   "outputs": [
    {
     "data": {
      "text/plain": [
       "(879, 71)"
      ]
     },
     "execution_count": 242,
     "metadata": {},
     "output_type": "execute_result"
    }
   ],
   "source": [
    "pd_test.shape"
   ]
  },
  {
   "cell_type": "code",
   "execution_count": 243,
   "metadata": {},
   "outputs": [],
   "source": [
    "#Identify numeric columns for train dataset and fill null values\n",
    "features_numeric_train = list(pd_train._get_numeric_data())"
   ]
  },
  {
   "cell_type": "code",
   "execution_count": 244,
   "metadata": {},
   "outputs": [],
   "source": [
    "pd_train[features_numeric_train] = pd_train[features_numeric_train].fillna(0)"
   ]
  },
  {
   "cell_type": "code",
   "execution_count": 245,
   "metadata": {},
   "outputs": [],
   "source": [
    "#Identify categorical columns for train dataset and fill null values\n",
    "\n",
    "features_categorical_train = [x for x in pd_train.columns if (x not in features_numeric_train) and (x != 'SalePrice')]"
   ]
  },
  {
   "cell_type": "code",
   "execution_count": 246,
   "metadata": {},
   "outputs": [],
   "source": [
    "pd_train[features_categorical_train] = pd_train[features_categorical_train].fillna('null')"
   ]
  },
  {
   "cell_type": "code",
   "execution_count": 247,
   "metadata": {
    "scrolled": true
   },
   "outputs": [
    {
     "data": {
      "text/plain": [
       "ms_subclass        0\n",
       "ms_zoning          0\n",
       "lot_frontage       0\n",
       "lot_area           0\n",
       "street             0\n",
       "lot_shape          0\n",
       "land_contour       0\n",
       "utilities          0\n",
       "lot_config         0\n",
       "land_slope         0\n",
       "neighborhood       0\n",
       "condition_1        0\n",
       "condition_2        0\n",
       "bldg_type          0\n",
       "house_style        0\n",
       "overall_qual       0\n",
       "overall_cond       0\n",
       "year_built         0\n",
       "year_remod/add     0\n",
       "roof_style         0\n",
       "roof_matl          0\n",
       "exterior_1st       0\n",
       "exterior_2nd       0\n",
       "mas_vnr_type       0\n",
       "mas_vnr_area       0\n",
       "exter_qual         0\n",
       "exter_cond         0\n",
       "foundation         0\n",
       "bsmt_qual          0\n",
       "bsmt_cond          0\n",
       "bsmt_exposure      0\n",
       "bsmtfin_type_1     0\n",
       "bsmtfin_sf_1       0\n",
       "bsmtfin_type_2     0\n",
       "bsmtfin_sf_2       0\n",
       "bsmt_unf_sf        0\n",
       "total_bsmt_sf      0\n",
       "heating            0\n",
       "heating_qc         0\n",
       "central_air        0\n",
       "electrical         0\n",
       "1st_flr_sf         0\n",
       "2nd_flr_sf         0\n",
       "low_qual_fin_sf    0\n",
       "gr_liv_area        0\n",
       "bsmt_full_bath     0\n",
       "bsmt_half_bath     0\n",
       "full_bath          0\n",
       "half_bath          0\n",
       "bedroom_abvgr      0\n",
       "kitchen_abvgr      0\n",
       "kitchen_qual       0\n",
       "totrms_abvgrd      0\n",
       "functional         0\n",
       "fireplaces         0\n",
       "garage_type        0\n",
       "garage_yr_blt      0\n",
       "garage_finish      0\n",
       "garage_cars        0\n",
       "garage_area        0\n",
       "garage_qual        0\n",
       "garage_cond        0\n",
       "paved_drive        0\n",
       "wood_deck_sf       0\n",
       "open_porch_sf      0\n",
       "enclosed_porch     0\n",
       "3ssn_porch         0\n",
       "screen_porch       0\n",
       "mo_sold            0\n",
       "yr_sold            0\n",
       "sale_type          0\n",
       "saleprice          0\n",
       "dtype: int64"
      ]
     },
     "execution_count": 247,
     "metadata": {},
     "output_type": "execute_result"
    }
   ],
   "source": [
    "pd_train.isnull().sum()"
   ]
  },
  {
   "cell_type": "code",
   "execution_count": 248,
   "metadata": {},
   "outputs": [],
   "source": [
    "#Identify numeric columns for test dataset and fill null values\n",
    "features_numeric_test = list(pd_test._get_numeric_data())"
   ]
  },
  {
   "cell_type": "code",
   "execution_count": 249,
   "metadata": {},
   "outputs": [],
   "source": [
    "pd_test[features_numeric_test] = pd_test[features_numeric_test].fillna(0)"
   ]
  },
  {
   "cell_type": "code",
   "execution_count": 250,
   "metadata": {},
   "outputs": [],
   "source": [
    "#Identify categorical columns for test dataset and fill null values\n",
    "\n",
    "features_categorical_test = [x for x in pd_test.columns if (x not in features_numeric_test)]"
   ]
  },
  {
   "cell_type": "code",
   "execution_count": 251,
   "metadata": {},
   "outputs": [],
   "source": [
    "pd_test[features_categorical_test] = pd_test[features_categorical_test].fillna('null')"
   ]
  },
  {
   "cell_type": "code",
   "execution_count": 252,
   "metadata": {
    "scrolled": true
   },
   "outputs": [
    {
     "data": {
      "text/plain": [
       "ms_subclass        0\n",
       "ms_zoning          0\n",
       "lot_frontage       0\n",
       "lot_area           0\n",
       "street             0\n",
       "lot_shape          0\n",
       "land_contour       0\n",
       "utilities          0\n",
       "lot_config         0\n",
       "land_slope         0\n",
       "neighborhood       0\n",
       "condition_1        0\n",
       "condition_2        0\n",
       "bldg_type          0\n",
       "house_style        0\n",
       "overall_qual       0\n",
       "overall_cond       0\n",
       "year_built         0\n",
       "year_remod/add     0\n",
       "roof_style         0\n",
       "roof_matl          0\n",
       "exterior_1st       0\n",
       "exterior_2nd       0\n",
       "mas_vnr_type       0\n",
       "mas_vnr_area       0\n",
       "exter_qual         0\n",
       "exter_cond         0\n",
       "foundation         0\n",
       "bsmt_qual          0\n",
       "bsmt_cond          0\n",
       "bsmt_exposure      0\n",
       "bsmtfin_type_1     0\n",
       "bsmtfin_sf_1       0\n",
       "bsmtfin_type_2     0\n",
       "bsmtfin_sf_2       0\n",
       "bsmt_unf_sf        0\n",
       "total_bsmt_sf      0\n",
       "heating            0\n",
       "heating_qc         0\n",
       "central_air        0\n",
       "electrical         0\n",
       "1st_flr_sf         0\n",
       "2nd_flr_sf         0\n",
       "low_qual_fin_sf    0\n",
       "gr_liv_area        0\n",
       "bsmt_full_bath     0\n",
       "bsmt_half_bath     0\n",
       "full_bath          0\n",
       "half_bath          0\n",
       "bedroom_abvgr      0\n",
       "kitchen_abvgr      0\n",
       "kitchen_qual       0\n",
       "totrms_abvgrd      0\n",
       "functional         0\n",
       "fireplaces         0\n",
       "garage_type        0\n",
       "garage_yr_blt      0\n",
       "garage_finish      0\n",
       "garage_cars        0\n",
       "garage_area        0\n",
       "garage_qual        0\n",
       "garage_cond        0\n",
       "paved_drive        0\n",
       "wood_deck_sf       0\n",
       "open_porch_sf      0\n",
       "enclosed_porch     0\n",
       "3ssn_porch         0\n",
       "screen_porch       0\n",
       "mo_sold            0\n",
       "yr_sold            0\n",
       "sale_type          0\n",
       "dtype: int64"
      ]
     },
     "execution_count": 252,
     "metadata": {},
     "output_type": "execute_result"
    }
   ],
   "source": [
    "pd_test.isnull().sum()"
   ]
  },
  {
   "cell_type": "markdown",
   "metadata": {},
   "source": [
    "### Exploratory Data Analysis (EDA) and Data Visualisation"
   ]
  },
  {
   "cell_type": "code",
   "execution_count": 253,
   "metadata": {
    "scrolled": true
   },
   "outputs": [
    {
     "data": {
      "text/plain": [
       "Text(0.5,1,'Ames Housing Heatmap')"
      ]
     },
     "execution_count": 253,
     "metadata": {},
     "output_type": "execute_result"
    },
    {
     "data": {
      "image/png": "[encoded data removed]",
      "text/plain": [
       "<Figure size 432x288 with 2 Axes>"
      ]
     },
     "metadata": {
      "image/png": {
       "height": 263,
       "width": 428
      }
     },
     "output_type": "display_data"
    }
   ],
   "source": [
    "#plot heatmap to visualize the correlation between variables\n",
    "\n",
    "top_corr = np.abs(pd_train.corr()[['saleprice']]).sort_values('saleprice', ascending=False)\n",
    "ax = sns.heatmap(top_corr.head(10), cmap='Blues')\n",
    "ax.set_title('Ames Housing Heatmap')"
   ]
  },
  {
   "cell_type": "code",
   "execution_count": 254,
   "metadata": {},
   "outputs": [
    {
     "data": {
      "image/png": "[encoded data removed]",
      "text/plain": [
       "<Figure size 1440x1440 with 2 Axes>"
      ]
     },
     "metadata": {
      "image/png": {
       "height": 1226,
       "width": 1176
      }
     },
     "output_type": "display_data"
    }
   ],
   "source": [
    "fix, ax = plt.subplots(figsize=(20,20))\n",
    "train_corr = pd_train.corr()\n",
    "\n",
    "# Generate a mask for the upper triangle \n",
    "mask = np.zeros_like(train_corr, dtype=np.bool)\n",
    "mask[np.triu_indices_from(mask)] = True\n",
    "\n",
    "# Plot the heatmap with seaborn.\n",
    "# Assign the matplotlib axis the function returns. This will let us resize the labels.\n",
    "ax = sns.heatmap(train_corr, mask=mask, ax=ax)\n",
    "\n",
    "# Resize the labels.\n",
    "ax.set_xticklabels(ax.xaxis.get_ticklabels(), fontsize=14)\n",
    "ax.set_yticklabels(ax.yaxis.get_ticklabels(), fontsize=14)\n",
    "\n",
    "plt.show()"
   ]
  },
  {
   "cell_type": "code",
   "execution_count": 255,
   "metadata": {
    "scrolled": true
   },
   "outputs": [
    {
     "data": {
      "text/plain": [
       "<seaborn.axisgrid.PairGrid at 0x22b831216d8>"
      ]
     },
     "execution_count": 255,
     "metadata": {},
     "output_type": "execute_result"
    },
    {
     "data": {
      "image/png": "[encoded data removed]",
      "text/plain": [
       "<Figure size 720x180 with 4 Axes>"
      ]
     },
     "metadata": {
      "image/png": {
       "height": 169,
       "width": 725
      }
     },
     "output_type": "display_data"
    }
   ],
   "source": [
    "#pairplot\n",
    "sns.pairplot(pd_train, y_vars = 'saleprice', x_vars = ['1st_flr_sf', 'overall_qual', 'total_bsmt_sf', 'garage_area'])"
   ]
  },
  {
   "cell_type": "code",
   "execution_count": 256,
   "metadata": {},
   "outputs": [
    {
     "data": {
      "text/plain": [
       "['ms_subclass',\n",
       " 'ms_zoning',\n",
       " 'street',\n",
       " 'lot_shape',\n",
       " 'land_contour',\n",
       " 'utilities',\n",
       " 'lot_config',\n",
       " 'land_slope',\n",
       " 'neighborhood',\n",
       " 'condition_1',\n",
       " 'condition_2',\n",
       " 'bldg_type',\n",
       " 'house_style',\n",
       " 'roof_style',\n",
       " 'roof_matl',\n",
       " 'exterior_1st',\n",
       " 'exterior_2nd',\n",
       " 'mas_vnr_type',\n",
       " 'exter_qual',\n",
       " 'exter_cond',\n",
       " 'foundation',\n",
       " 'bsmt_qual',\n",
       " 'bsmt_cond',\n",
       " 'bsmt_exposure',\n",
       " 'bsmtfin_type_1',\n",
       " 'bsmtfin_type_2',\n",
       " 'heating',\n",
       " 'heating_qc',\n",
       " 'central_air',\n",
       " 'electrical',\n",
       " 'kitchen_qual',\n",
       " 'functional',\n",
       " 'garage_type',\n",
       " 'garage_finish',\n",
       " 'garage_qual',\n",
       " 'garage_cond',\n",
       " 'paved_drive',\n",
       " 'mo_sold',\n",
       " 'yr_sold',\n",
       " 'sale_type']"
      ]
     },
     "execution_count": 256,
     "metadata": {},
     "output_type": "execute_result"
    }
   ],
   "source": [
    "features_categorical_train"
   ]
  },
  {
   "cell_type": "code",
   "execution_count": 257,
   "metadata": {
    "scrolled": false
   },
   "outputs": [
    {
     "data": {
      "text/plain": [
       "<matplotlib.axes._subplots.AxesSubplot at 0x22b86c6c908>"
      ]
     },
     "execution_count": 257,
     "metadata": {},
     "output_type": "execute_result"
    },
    {
     "data": {
      "image/png": "[encoded data removed]",
      "text/plain": [
       "<Figure size 432x288 with 1 Axes>"
      ]
     },
     "metadata": {
      "image/png": {
       "height": 264,
       "width": 410
      }
     },
     "output_type": "display_data"
    }
   ],
   "source": [
    "#Finding out interesting categorical variables with boxplot.\n",
    "#Identifies the building type involved in the sale and the corresponding sale price\n",
    "#Townhouse End Unit has the highest mean sales price.\n",
    "sns.boxplot(x='bldg_type', y=\"saleprice\", data=pd_train)"
   ]
  },
  {
   "cell_type": "code",
   "execution_count": 258,
   "metadata": {
    "scrolled": false
   },
   "outputs": [
    {
     "data": {
      "text/plain": [
       "<matplotlib.axes._subplots.AxesSubplot at 0x22b86c79940>"
      ]
     },
     "execution_count": 258,
     "metadata": {},
     "output_type": "execute_result"
    },
    {
     "data": {
      "image/png": "[encoded data removed]",
      "text/plain": [
       "<Figure size 432x288 with 1 Axes>"
      ]
     },
     "metadata": {
      "image/png": {
       "height": 264,
       "width": 410
      }
     },
     "output_type": "display_data"
    }
   ],
   "source": [
    "#Identifies the type of dwelling involved in the sale and the corresponding sale price\n",
    "#1-STORY PUD has the highest mean sales price.\n",
    "sns.boxplot(x='ms_subclass', y=\"saleprice\", data=pd_train)"
   ]
  },
  {
   "cell_type": "code",
   "execution_count": 259,
   "metadata": {},
   "outputs": [
    {
     "data": {
      "text/plain": [
       "<matplotlib.axes._subplots.AxesSubplot at 0x22bfd3fec18>"
      ]
     },
     "execution_count": 259,
     "metadata": {},
     "output_type": "execute_result"
    },
    {
     "data": {
      "image/png": "[encoded data removed]",
      "text/plain": [
       "<Figure size 432x288 with 1 Axes>"
      ]
     },
     "metadata": {
      "image/png": {
       "height": 264,
       "width": 410
      }
     },
     "output_type": "display_data"
    }
   ],
   "source": [
    "#Identifies the general zoning classification of the sale and the corresponding sale price\n",
    "sns.boxplot(x='ms_zoning', y=\"saleprice\", data=pd_train)"
   ]
  },
  {
   "cell_type": "code",
   "execution_count": 260,
   "metadata": {
    "scrolled": true
   },
   "outputs": [
    {
     "data": {
      "text/plain": [
       "<matplotlib.axes._subplots.AxesSubplot at 0x22b810d25c0>"
      ]
     },
     "execution_count": 260,
     "metadata": {},
     "output_type": "execute_result"
    },
    {
     "data": {
      "image/png": "[encoded data removed]",
      "text/plain": [
       "<Figure size 432x288 with 1 Axes>"
      ]
     },
     "metadata": {
      "image/png": {
       "height": 264,
       "width": 410
      }
     },
     "output_type": "display_data"
    }
   ],
   "source": [
    "#Identifies the sale type and the corresponding sale price\n",
    "#Residential Low Density has the highest mean sales price.\n",
    "sns.boxplot(x='sale_type', y=\"saleprice\", data=pd_train)"
   ]
  },
  {
   "cell_type": "markdown",
   "metadata": {},
   "source": [
    "### Feature Engineering: Interaction terms "
   ]
  },
  {
   "cell_type": "code",
   "execution_count": 261,
   "metadata": {},
   "outputs": [],
   "source": [
    "#I observed that the house is broken down into total basement sq ft, 1st flr ft and 2nd flr ft, \n",
    "#which are correlated and can be combined into a single column\n",
    "\n",
    "pd_train['total_sf'] = pd_train['total_bsmt_sf'] * pd_train['1st_flr_sf'] * pd_train['2nd_flr_sf']\n",
    "pd_test['total_sf'] = pd_test['total_bsmt_sf'] * pd_test['1st_flr_sf'] * pd_test['2nd_flr_sf']"
   ]
  },
  {
   "cell_type": "code",
   "execution_count": 262,
   "metadata": {},
   "outputs": [],
   "source": [
    "#I observed that half bath and full bath could essentially be combined into a single column\n",
    "pd_train['total_bath'] = pd_train['bsmt_full_bath'] * pd_train['bsmt_half_bath'] * pd_train['full_bath'] * pd_train['half_bath']   \n",
    "pd_test['total_bath'] = pd_test['bsmt_full_bath'] * pd_test['bsmt_half_bath'] * pd_test['full_bath'] * pd_test['half_bath']  "
   ]
  },
  {
   "cell_type": "code",
   "execution_count": 263,
   "metadata": {},
   "outputs": [],
   "source": [
    "#I observed that there are many features speaking of garage, which could be combined into an interaction term.\n",
    "pd_train['garage_info'] = pd_train['garage_yr_blt'] * pd_train['garage_cars'] * pd_train['garage_area']\n",
    "pd_test['garage_info'] = pd_test['garage_yr_blt'] * pd_test['garage_cars'] * pd_test['garage_area']"
   ]
  },
  {
   "cell_type": "code",
   "execution_count": 264,
   "metadata": {
    "scrolled": true
   },
   "outputs": [
    {
     "data": {
      "text/plain": [
       "<matplotlib.axes._subplots.AxesSubplot at 0x22b83d0d588>"
      ]
     },
     "execution_count": 264,
     "metadata": {},
     "output_type": "execute_result"
    },
    {
     "data": {
      "image/png": "[encoded data removed]",
      "text/plain": [
       "<Figure size 432x288 with 2 Axes>"
      ]
     },
     "metadata": {
      "image/png": {
       "height": 250,
       "width": 428
      }
     },
     "output_type": "display_data"
    }
   ],
   "source": [
    "#from heatmap, we can tell that overall_qual has highest correlation with sale price.\n",
    "top_corr = np.abs(pd_train.corr()[['saleprice']]).sort_values('saleprice', ascending=False)\n",
    "sns.heatmap(top_corr.head(10), cmap='Blues')"
   ]
  },
  {
   "cell_type": "markdown",
   "metadata": {},
   "source": [
    "### Feature Selection: Chi-Square Test (Categorical Variables)"
   ]
  },
  {
   "cell_type": "code",
   "execution_count": 265,
   "metadata": {},
   "outputs": [],
   "source": [
    "import scipy.stats as stats\n",
    "from scipy.stats import chi2_contingency"
   ]
  },
  {
   "cell_type": "code",
   "execution_count": 266,
   "metadata": {},
   "outputs": [],
   "source": [
    "#I want to discard categorical variables which exhibit dependency. Only keep those which are independent \n",
    "#Null hypothesis is the categorical variables are independent of each other. Hence if p>alpha, we accept the null hypothesis."
   ]
  },
  {
   "cell_type": "code",
   "execution_count": 267,
   "metadata": {},
   "outputs": [
    {
     "name": "stdout",
     "output_type": "stream",
     "text": [
      "ms_subclass is NOT IMPORTANT for Prediction. (Discard ms_subclass from model)\n",
      "ms_zoning is NOT IMPORTANT for Prediction. (Discard ms_zoning from model)\n",
      "street is NOT IMPORTANT for Prediction. (Discard street from model)\n",
      "lot_shape is IMPORTANT for Prediction\n",
      "land_contour is NOT IMPORTANT for Prediction. (Discard land_contour from model)\n",
      "utilities is NOT IMPORTANT for Prediction. (Discard utilities from model)\n",
      "lot_config is IMPORTANT for Prediction\n",
      "land_slope is IMPORTANT for Prediction\n",
      "neighborhood is NOT IMPORTANT for Prediction. (Discard neighborhood from model)\n",
      "condition_1 is NOT IMPORTANT for Prediction. (Discard condition_1 from model)\n",
      "condition_2 is IMPORTANT for Prediction\n",
      "bldg_type is NOT IMPORTANT for Prediction. (Discard bldg_type from model)\n",
      "house_style is NOT IMPORTANT for Prediction. (Discard house_style from model)\n",
      "roof_style is IMPORTANT for Prediction\n",
      "roof_matl is IMPORTANT for Prediction\n",
      "exterior_1st is NOT IMPORTANT for Prediction. (Discard exterior_1st from model)\n",
      "exterior_2nd is NOT IMPORTANT for Prediction. (Discard exterior_2nd from model)\n",
      "mas_vnr_type is NOT IMPORTANT for Prediction. (Discard mas_vnr_type from model)\n",
      "exter_qual is NOT IMPORTANT for Prediction. (Discard exter_qual from model)\n",
      "exter_cond is NOT IMPORTANT for Prediction. (Discard exter_cond from model)\n",
      "foundation is NOT IMPORTANT for Prediction. (Discard foundation from model)\n",
      "bsmt_qual is NOT IMPORTANT for Prediction. (Discard bsmt_qual from model)\n",
      "bsmt_cond is NOT IMPORTANT for Prediction. (Discard bsmt_cond from model)\n",
      "bsmt_exposure is NOT IMPORTANT for Prediction. (Discard bsmt_exposure from model)\n",
      "bsmtfin_type_1 is NOT IMPORTANT for Prediction. (Discard bsmtfin_type_1 from model)\n",
      "bsmtfin_type_2 is NOT IMPORTANT for Prediction. (Discard bsmtfin_type_2 from model)\n",
      "heating is IMPORTANT for Prediction\n",
      "heating_qc is NOT IMPORTANT for Prediction. (Discard heating_qc from model)\n",
      "central_air is NOT IMPORTANT for Prediction. (Discard central_air from model)\n",
      "electrical is IMPORTANT for Prediction\n",
      "kitchen_qual is NOT IMPORTANT for Prediction. (Discard kitchen_qual from model)\n",
      "functional is IMPORTANT for Prediction\n",
      "garage_type is NOT IMPORTANT for Prediction. (Discard garage_type from model)\n",
      "garage_finish is NOT IMPORTANT for Prediction. (Discard garage_finish from model)\n",
      "garage_qual is IMPORTANT for Prediction\n",
      "garage_cond is NOT IMPORTANT for Prediction. (Discard garage_cond from model)\n",
      "paved_drive is NOT IMPORTANT for Prediction. (Discard paved_drive from model)\n",
      "mo_sold is NOT IMPORTANT for Prediction. (Discard mo_sold from model)\n",
      "yr_sold is NOT IMPORTANT for Prediction. (Discard yr_sold from model)\n",
      "sale_type is NOT IMPORTANT for Prediction. (Discard sale_type from model)\n"
     ]
    }
   ],
   "source": [
    "class ChiSquare:\n",
    "    def __init__(self, dataframe):\n",
    "        self.df = dataframe\n",
    "        self.p = None #P-Value\n",
    "        self.chi2 = None #Chi Test Statistic\n",
    "        self.dof = None\n",
    "        \n",
    "        self.dfObserved = None\n",
    "        self.dfExpected = None\n",
    "        \n",
    "    def _print_chisquare_result(self, colX, alpha):\n",
    "        result = \"\"\n",
    "        if self.p>alpha:\n",
    "            result=\"{0} is IMPORTANT for Prediction\".format(colX)\n",
    "        else:\n",
    "            result=\"{0} is NOT IMPORTANT for Prediction. (Discard {0} from model)\".format(colX)\n",
    "        print(result)\n",
    "        \n",
    "    def TestIndependence(self,colX,colY, alpha=0.05):\n",
    "        X = self.df[colX].astype(str)\n",
    "        Y = self.df[colY].astype(str)\n",
    "        \n",
    "        self.dfObserved = pd.crosstab(Y,X) \n",
    "        chi2, p, dof, expected = stats.chi2_contingency(self.dfObserved.values)\n",
    "        self.p = p\n",
    "        self.chi2 = chi2\n",
    "        self.dof = dof \n",
    "        \n",
    "        self.dfExpected = pd.DataFrame(expected, columns=self.dfObserved.columns, index = self.dfObserved.index)\n",
    "        \n",
    "\n",
    "\n",
    "#Initialize ChiSquare Class\n",
    "cT = ChiSquare(pd_train)\n",
    "\n",
    "#Feature Selection\n",
    "testColumns = features_categorical_train\n",
    "for i in range(len(testColumns)):\n",
    "        for j in range(i+1, len(testColumns)):\n",
    "            cT.TestIndependence(testColumns[i],testColumns[j])\n",
    "        cT._print_chisquare_result(testColumns[i],alpha=0.05)"
   ]
  },
  {
   "cell_type": "code",
   "execution_count": 268,
   "metadata": {},
   "outputs": [
    {
     "data": {
      "text/plain": [
       "(2051, 75)"
      ]
     },
     "execution_count": 268,
     "metadata": {},
     "output_type": "execute_result"
    }
   ],
   "source": [
    "pd_train.shape"
   ]
  },
  {
   "cell_type": "code",
   "execution_count": 269,
   "metadata": {},
   "outputs": [
    {
     "data": {
      "text/plain": [
       "(879, 74)"
      ]
     },
     "execution_count": 269,
     "metadata": {},
     "output_type": "execute_result"
    }
   ],
   "source": [
    "pd_test.shape"
   ]
  },
  {
   "cell_type": "code",
   "execution_count": 270,
   "metadata": {},
   "outputs": [],
   "source": [
    "selected_categorical_train = ['lot_shape', 'lot_config', 'land_slope', 'condition_2', 'roof_style',\n",
    "                                         'roof_matl', 'heating', 'electrical',\n",
    "                                        'functional', 'garage_qual']"
   ]
  },
  {
   "cell_type": "code",
   "execution_count": 271,
   "metadata": {},
   "outputs": [],
   "source": [
    "selected_categorical_test = ['lot_shape', 'lot_config', 'land_slope', 'condition_2', 'roof_style',\n",
    "                                         'roof_matl', 'heating', 'electrical',\n",
    "                                        'functional', 'garage_qual']"
   ]
  },
  {
   "cell_type": "code",
   "execution_count": 272,
   "metadata": {},
   "outputs": [],
   "source": [
    "pd_train = pd_train.drop(columns = ['ms_subclass', 'ms_zoning', 'street', 'land_contour', 'utilities', 'neighborhood', 'condition_1', \n",
    "                         'bldg_type', 'house_style', 'exterior_1st', 'exterior_2nd', 'mas_vnr_type', 'exter_qual','exter_cond',\n",
    "                         'foundation', 'bsmt_qual', 'bsmt_cond','bsmt_exposure','bsmtfin_type_1','bsmtfin_type_2',\n",
    "                         'heating_qc', 'central_air','kitchen_qual','garage_type','garage_finish','garage_cond','paved_drive',\n",
    "                         'mo_sold', 'yr_sold', 'sale_type'], axis = 1)"
   ]
  },
  {
   "cell_type": "code",
   "execution_count": 273,
   "metadata": {
    "scrolled": true
   },
   "outputs": [],
   "source": [
    "pd_test = pd_test.drop(columns = ['ms_subclass', 'ms_zoning', 'street', 'land_contour', 'utilities', 'neighborhood', 'condition_1', \n",
    "                         'bldg_type', 'house_style', 'exterior_1st', 'exterior_2nd', 'mas_vnr_type', 'exter_qual','exter_cond',\n",
    "                         'foundation', 'bsmt_qual', 'bsmt_cond','bsmt_exposure','bsmtfin_type_1','bsmtfin_type_2',\n",
    "                         'heating_qc', 'central_air','kitchen_qual','garage_type','garage_finish','garage_cond','paved_drive',\n",
    "                         'mo_sold', 'yr_sold', 'sale_type'], axis = 1)"
   ]
  },
  {
   "cell_type": "markdown",
   "metadata": {},
   "source": [
    "### Feature Selection: Heatmap (Numerical Variables)"
   ]
  },
  {
   "cell_type": "code",
   "execution_count": 274,
   "metadata": {},
   "outputs": [
    {
     "data": {
      "text/plain": [
       "<matplotlib.axes._subplots.AxesSubplot at 0x22b82ded470>"
      ]
     },
     "execution_count": 274,
     "metadata": {},
     "output_type": "execute_result"
    },
    {
     "data": {
      "image/png": "[encoded data removed]",
      "text/plain": [
       "<Figure size 432x288 with 2 Axes>"
      ]
     },
     "metadata": {
      "image/png": {
       "height": 250,
       "width": 428
      }
     },
     "output_type": "display_data"
    }
   ],
   "source": [
    "high_corr = np.abs(pd_train.corr()[['saleprice']]).sort_values('saleprice', ascending=False)\n",
    "sns.heatmap(high_corr.head(10), cmap='Blues')"
   ]
  },
  {
   "cell_type": "code",
   "execution_count": 275,
   "metadata": {
    "scrolled": true
   },
   "outputs": [
    {
     "data": {
      "text/html": [
       "<div>\n",
       "<style scoped>\n",
       "    .dataframe tbody tr th:only-of-type {\n",
       "        vertical-align: middle;\n",
       "    }\n",
       "\n",
       "    .dataframe tbody tr th {\n",
       "        vertical-align: top;\n",
       "    }\n",
       "\n",
       "    .dataframe thead th {\n",
       "        text-align: right;\n",
       "    }\n",
       "</style>\n",
       "<table border=\"1\" class=\"dataframe\">\n",
       "  <thead>\n",
       "    <tr style=\"text-align: right;\">\n",
       "      <th></th>\n",
       "      <th>saleprice</th>\n",
       "    </tr>\n",
       "  </thead>\n",
       "  <tbody>\n",
       "    <tr>\n",
       "      <th>saleprice</th>\n",
       "      <td>1.000000</td>\n",
       "    </tr>\n",
       "    <tr>\n",
       "      <th>overall_qual</th>\n",
       "      <td>0.800207</td>\n",
       "    </tr>\n",
       "    <tr>\n",
       "      <th>gr_liv_area</th>\n",
       "      <td>0.697038</td>\n",
       "    </tr>\n",
       "    <tr>\n",
       "      <th>garage_info</th>\n",
       "      <td>0.694782</td>\n",
       "    </tr>\n",
       "    <tr>\n",
       "      <th>garage_area</th>\n",
       "      <td>0.649897</td>\n",
       "    </tr>\n",
       "    <tr>\n",
       "      <th>garage_cars</th>\n",
       "      <td>0.647781</td>\n",
       "    </tr>\n",
       "    <tr>\n",
       "      <th>total_bsmt_sf</th>\n",
       "      <td>0.629303</td>\n",
       "    </tr>\n",
       "    <tr>\n",
       "      <th>1st_flr_sf</th>\n",
       "      <td>0.618486</td>\n",
       "    </tr>\n",
       "    <tr>\n",
       "      <th>year_built</th>\n",
       "      <td>0.571849</td>\n",
       "    </tr>\n",
       "    <tr>\n",
       "      <th>year_remod/add</th>\n",
       "      <td>0.550370</td>\n",
       "    </tr>\n",
       "  </tbody>\n",
       "</table>\n",
       "</div>"
      ],
      "text/plain": [
       "                saleprice\n",
       "saleprice        1.000000\n",
       "overall_qual     0.800207\n",
       "gr_liv_area      0.697038\n",
       "garage_info      0.694782\n",
       "garage_area      0.649897\n",
       "garage_cars      0.647781\n",
       "total_bsmt_sf    0.629303\n",
       "1st_flr_sf       0.618486\n",
       "year_built       0.571849\n",
       "year_remod/add   0.550370"
      ]
     },
     "execution_count": 275,
     "metadata": {},
     "output_type": "execute_result"
    }
   ],
   "source": [
    "high_corr.head(10)"
   ]
  },
  {
   "cell_type": "code",
   "execution_count": 276,
   "metadata": {
    "scrolled": true
   },
   "outputs": [],
   "source": [
    "selected_numeric_train = pd_train[['overall_qual', 'gr_liv_area', 'garage_info','garage_area', \n",
    "                                   'garage_cars', 'total_bsmt_sf', '1st_flr_sf', \n",
    "                                   'year_built', 'year_remod/add']]"
   ]
  },
  {
   "cell_type": "code",
   "execution_count": 277,
   "metadata": {},
   "outputs": [
    {
     "data": {
      "text/plain": [
       "pandas.core.frame.DataFrame"
      ]
     },
     "execution_count": 277,
     "metadata": {},
     "output_type": "execute_result"
    }
   ],
   "source": [
    "type(selected_numeric_train)"
   ]
  },
  {
   "cell_type": "code",
   "execution_count": 278,
   "metadata": {},
   "outputs": [],
   "source": [
    "selected_numeric_test = pd_test[['overall_qual', 'gr_liv_area', 'garage_info','garage_area', \n",
    "                                   'garage_cars', 'total_bsmt_sf', '1st_flr_sf', \n",
    "                                   'year_built', 'year_remod/add']]"
   ]
  },
  {
   "cell_type": "code",
   "execution_count": 279,
   "metadata": {},
   "outputs": [
    {
     "data": {
      "text/plain": [
       "pandas.core.frame.DataFrame"
      ]
     },
     "execution_count": 279,
     "metadata": {},
     "output_type": "execute_result"
    }
   ],
   "source": [
    "type(selected_numeric_test)"
   ]
  },
  {
   "cell_type": "code",
   "execution_count": 280,
   "metadata": {},
   "outputs": [],
   "source": [
    "num_feature = list(pd_train._get_numeric_data())"
   ]
  },
  {
   "cell_type": "code",
   "execution_count": 281,
   "metadata": {
    "scrolled": true
   },
   "outputs": [
    {
     "data": {
      "text/plain": [
       "['lot_frontage',\n",
       " 'lot_area',\n",
       " 'overall_qual',\n",
       " 'overall_cond',\n",
       " 'year_built',\n",
       " 'year_remod/add',\n",
       " 'mas_vnr_area',\n",
       " 'bsmtfin_sf_1',\n",
       " 'bsmtfin_sf_2',\n",
       " 'bsmt_unf_sf',\n",
       " 'total_bsmt_sf',\n",
       " '1st_flr_sf',\n",
       " '2nd_flr_sf',\n",
       " 'low_qual_fin_sf',\n",
       " 'gr_liv_area',\n",
       " 'bsmt_full_bath',\n",
       " 'bsmt_half_bath',\n",
       " 'full_bath',\n",
       " 'half_bath',\n",
       " 'bedroom_abvgr',\n",
       " 'kitchen_abvgr',\n",
       " 'totrms_abvgrd',\n",
       " 'fireplaces',\n",
       " 'garage_yr_blt',\n",
       " 'garage_cars',\n",
       " 'garage_area',\n",
       " 'wood_deck_sf',\n",
       " 'open_porch_sf',\n",
       " 'enclosed_porch',\n",
       " '3ssn_porch',\n",
       " 'screen_porch',\n",
       " 'saleprice',\n",
       " 'total_sf',\n",
       " 'total_bath',\n",
       " 'garage_info']"
      ]
     },
     "execution_count": 281,
     "metadata": {},
     "output_type": "execute_result"
    }
   ],
   "source": [
    "num_feature"
   ]
  },
  {
   "cell_type": "code",
   "execution_count": 282,
   "metadata": {},
   "outputs": [],
   "source": [
    "pd_train = pd_train.drop(columns = ['lot_frontage',\n",
    " 'lot_area',\n",
    " 'overall_cond',\n",
    " 'mas_vnr_area',\n",
    " 'bsmtfin_sf_1',\n",
    " 'bsmtfin_sf_2',\n",
    " 'bsmt_unf_sf',\n",
    " '2nd_flr_sf',\n",
    " 'low_qual_fin_sf',\n",
    " 'bsmt_full_bath',\n",
    " 'bsmt_half_bath',\n",
    " 'half_bath',\n",
    " 'bedroom_abvgr',\n",
    " 'kitchen_abvgr',\n",
    " 'totrms_abvgrd',\n",
    " 'fireplaces',\n",
    " 'garage_yr_blt',\n",
    " 'wood_deck_sf',\n",
    " 'open_porch_sf',\n",
    " 'enclosed_porch',\n",
    " '3ssn_porch',\n",
    " 'screen_porch',\n",
    " 'total_sf',\n",
    " 'total_bath','full_bath'], axis =1)\n"
   ]
  },
  {
   "cell_type": "code",
   "execution_count": 283,
   "metadata": {},
   "outputs": [],
   "source": [
    "pd_test = pd_test.drop(columns = ['lot_frontage',\n",
    " 'lot_area',\n",
    " 'overall_cond',\n",
    " 'mas_vnr_area',\n",
    " 'bsmtfin_sf_1',\n",
    " 'bsmtfin_sf_2',\n",
    " 'bsmt_unf_sf',\n",
    " '2nd_flr_sf',\n",
    " 'low_qual_fin_sf',\n",
    " 'bsmt_full_bath',\n",
    " 'bsmt_half_bath',\n",
    " 'half_bath',\n",
    " 'bedroom_abvgr',\n",
    " 'kitchen_abvgr',\n",
    " 'totrms_abvgrd',\n",
    " 'fireplaces',\n",
    " 'garage_yr_blt',\n",
    " 'wood_deck_sf',\n",
    " 'open_porch_sf',\n",
    " 'enclosed_porch',\n",
    " '3ssn_porch',\n",
    " 'screen_porch',\n",
    " 'total_sf',\n",
    " 'total_bath','full_bath'], axis =1)\n"
   ]
  },
  {
   "cell_type": "markdown",
   "metadata": {},
   "source": [
    "### Dummy Variables"
   ]
  },
  {
   "cell_type": "code",
   "execution_count": 284,
   "metadata": {},
   "outputs": [],
   "source": [
    "pd_train = pd.get_dummies(pd_train, columns=[x for x in selected_categorical_train], drop_first=True)"
   ]
  },
  {
   "cell_type": "code",
   "execution_count": 285,
   "metadata": {},
   "outputs": [],
   "source": [
    "pd_test = pd.get_dummies(pd_test, columns=[x for x in selected_categorical_test], drop_first=True)"
   ]
  },
  {
   "cell_type": "code",
   "execution_count": 286,
   "metadata": {},
   "outputs": [],
   "source": [
    "features_train = [x for x in pd_train.columns if x != 'saleprice']\n",
    "\n",
    "# Find missing columns in test\n",
    "missing_cols = set(pd_train.columns) - set(pd_test.columns)\n",
    "# Add a missing column in test with default value equal to 0\n",
    "for i in missing_cols:\n",
    "    pd_test[i] = 0\n",
    "# Ensure the order of columns in test is the same as in train\n",
    "pd_test = pd_test[features_train]"
   ]
  },
  {
   "cell_type": "code",
   "execution_count": 287,
   "metadata": {
    "scrolled": true
   },
   "outputs": [
    {
     "data": {
      "text/plain": [
       "(2051, 56)"
      ]
     },
     "execution_count": 287,
     "metadata": {},
     "output_type": "execute_result"
    }
   ],
   "source": [
    "pd_train.shape #additional one column for saleprice"
   ]
  },
  {
   "cell_type": "code",
   "execution_count": 288,
   "metadata": {},
   "outputs": [
    {
     "data": {
      "text/plain": [
       "(879, 55)"
      ]
     },
     "execution_count": 288,
     "metadata": {},
     "output_type": "execute_result"
    }
   ],
   "source": [
    "pd_test.shape"
   ]
  },
  {
   "cell_type": "markdown",
   "metadata": {},
   "source": [
    "### Create our features matrix (X) and target vector (y)"
   ]
  },
  {
   "cell_type": "code",
   "execution_count": 289,
   "metadata": {},
   "outputs": [],
   "source": [
    "#X includes the top numeric features obtained from heatmap, suitable categorical features from chi-sq and the dummy variables.\n",
    "\n",
    "X = pd_train[[x for x in pd_train.columns if x != 'saleprice']]"
   ]
  },
  {
   "cell_type": "code",
   "execution_count": 290,
   "metadata": {},
   "outputs": [
    {
     "data": {
      "text/plain": [
       "pandas.core.frame.DataFrame"
      ]
     },
     "execution_count": 290,
     "metadata": {},
     "output_type": "execute_result"
    }
   ],
   "source": [
    "type(X)"
   ]
  },
  {
   "cell_type": "code",
   "execution_count": 291,
   "metadata": {},
   "outputs": [],
   "source": [
    "y = pd_train.saleprice.values"
   ]
  },
  {
   "cell_type": "code",
   "execution_count": 292,
   "metadata": {},
   "outputs": [],
   "source": [
    "X_t = pd_test"
   ]
  },
  {
   "cell_type": "markdown",
   "metadata": {},
   "source": [
    "### Build a linear regression model and conduct Cross Validation"
   ]
  },
  {
   "cell_type": "code",
   "execution_count": 293,
   "metadata": {},
   "outputs": [],
   "source": [
    "X_train, X_test, y_train, y_test = train_test_split(X, y, random_state= 42, test_size = 0.2)"
   ]
  },
  {
   "cell_type": "code",
   "execution_count": 294,
   "metadata": {},
   "outputs": [],
   "source": [
    "#Baseline linear Regression Model with the selected features\n",
    "lm = LinearRegression()\n",
    "model = lm.fit(X_train,y_train)\n"
   ]
  },
  {
   "cell_type": "code",
   "execution_count": 295,
   "metadata": {},
   "outputs": [],
   "source": [
    "predictions  =  model.predict(X_test)\n",
    "score        =  model.score(X_test, y_test)"
   ]
  },
  {
   "cell_type": "code",
   "execution_count": 296,
   "metadata": {},
   "outputs": [
    {
     "data": {
      "text/plain": [
       "0.847"
      ]
     },
     "execution_count": 296,
     "metadata": {},
     "output_type": "execute_result"
    }
   ],
   "source": [
    "score.round(3)"
   ]
  },
  {
   "cell_type": "code",
   "execution_count": 297,
   "metadata": {},
   "outputs": [],
   "source": [
    "#Cross Validation\n",
    "lm = LinearRegression()\n",
    "scores = cross_val_score(lm, X, y, cv=10) "
   ]
  },
  {
   "cell_type": "code",
   "execution_count": 298,
   "metadata": {
    "scrolled": true
   },
   "outputs": [
    {
     "name": "stdout",
     "output_type": "stream",
     "text": [
      "Cross validation scores:  [0.82116158 0.8508863  0.8486146  0.8646872  0.63228149 0.85166525\n",
      " 0.86576373 0.84611709 0.8386329  0.63120433]\n",
      "\n",
      "\n",
      "Mean score:  0.805\n"
     ]
    }
   ],
   "source": [
    "print(\"Cross validation scores: \",scores)\n",
    "print(\"\\n\")\n",
    "print(\"Mean score: \",scores.mean().round(3))"
   ]
  },
  {
   "cell_type": "markdown",
   "metadata": {},
   "source": [
    "### Scaling"
   ]
  },
  {
   "cell_type": "code",
   "execution_count": 299,
   "metadata": {},
   "outputs": [
    {
     "data": {
      "text/html": [
       "<div>\n",
       "<style scoped>\n",
       "    .dataframe tbody tr th:only-of-type {\n",
       "        vertical-align: middle;\n",
       "    }\n",
       "\n",
       "    .dataframe tbody tr th {\n",
       "        vertical-align: top;\n",
       "    }\n",
       "\n",
       "    .dataframe thead th {\n",
       "        text-align: right;\n",
       "    }\n",
       "</style>\n",
       "<table border=\"1\" class=\"dataframe\">\n",
       "  <thead>\n",
       "    <tr style=\"text-align: right;\">\n",
       "      <th></th>\n",
       "      <th>0</th>\n",
       "      <th>1</th>\n",
       "      <th>2</th>\n",
       "      <th>3</th>\n",
       "      <th>4</th>\n",
       "      <th>5</th>\n",
       "      <th>6</th>\n",
       "      <th>7</th>\n",
       "      <th>8</th>\n",
       "      <th>9</th>\n",
       "      <th>...</th>\n",
       "      <th>45</th>\n",
       "      <th>46</th>\n",
       "      <th>47</th>\n",
       "      <th>48</th>\n",
       "      <th>49</th>\n",
       "      <th>50</th>\n",
       "      <th>51</th>\n",
       "      <th>52</th>\n",
       "      <th>53</th>\n",
       "      <th>54</th>\n",
       "    </tr>\n",
       "  </thead>\n",
       "  <tbody>\n",
       "    <tr>\n",
       "      <th>0</th>\n",
       "      <td>-0.081747</td>\n",
       "      <td>1.097701</td>\n",
       "      <td>0.990598</td>\n",
       "      <td>0.656487</td>\n",
       "      <td>0.478981</td>\n",
       "      <td>-0.279707</td>\n",
       "      <td>0.298359</td>\n",
       "      <td>0.048810</td>\n",
       "      <td>-0.016783</td>\n",
       "      <td>-0.158114</td>\n",
       "      <td>...</td>\n",
       "      <td>-0.145501</td>\n",
       "      <td>-0.124418</td>\n",
       "      <td>-0.034943</td>\n",
       "      <td>-0.024701</td>\n",
       "      <td>0.264193</td>\n",
       "      <td>-0.207983</td>\n",
       "      <td>-0.099258</td>\n",
       "      <td>-0.034943</td>\n",
       "      <td>0.353311</td>\n",
       "      <td>-0.245186</td>\n",
       "    </tr>\n",
       "    <tr>\n",
       "      <th>1</th>\n",
       "      <td>1.322072</td>\n",
       "      <td>1.130806</td>\n",
       "      <td>1.038255</td>\n",
       "      <td>1.929778</td>\n",
       "      <td>2.000532</td>\n",
       "      <td>0.936761</td>\n",
       "      <td>1.603182</td>\n",
       "      <td>1.925248</td>\n",
       "      <td>2.296601</td>\n",
       "      <td>-0.158114</td>\n",
       "      <td>...</td>\n",
       "      <td>-0.145501</td>\n",
       "      <td>-0.124418</td>\n",
       "      <td>-0.034943</td>\n",
       "      <td>-0.024701</td>\n",
       "      <td>0.264193</td>\n",
       "      <td>-0.207983</td>\n",
       "      <td>-0.099258</td>\n",
       "      <td>-0.034943</td>\n",
       "      <td>0.353311</td>\n",
       "      <td>-0.245186</td>\n",
       "    </tr>\n",
       "    <tr>\n",
       "      <th>2</th>\n",
       "      <td>-0.081747</td>\n",
       "      <td>0.170771</td>\n",
       "      <td>-0.343799</td>\n",
       "      <td>0.404919</td>\n",
       "      <td>0.474033</td>\n",
       "      <td>-0.283663</td>\n",
       "      <td>0.298359</td>\n",
       "      <td>0.249693</td>\n",
       "      <td>0.081836</td>\n",
       "      <td>-0.158114</td>\n",
       "      <td>...</td>\n",
       "      <td>-0.145501</td>\n",
       "      <td>-0.124418</td>\n",
       "      <td>-0.034943</td>\n",
       "      <td>-0.024701</td>\n",
       "      <td>0.264193</td>\n",
       "      <td>-0.207983</td>\n",
       "      <td>-0.099258</td>\n",
       "      <td>-0.034943</td>\n",
       "      <td>0.353311</td>\n",
       "      <td>-0.245186</td>\n",
       "    </tr>\n",
       "    <tr>\n",
       "      <th>3</th>\n",
       "      <td>1.322072</td>\n",
       "      <td>0.865969</td>\n",
       "      <td>0.656999</td>\n",
       "      <td>0.177624</td>\n",
       "      <td>0.001486</td>\n",
       "      <td>1.510380</td>\n",
       "      <td>0.298359</td>\n",
       "      <td>-0.243385</td>\n",
       "      <td>-0.193057</td>\n",
       "      <td>-0.158114</td>\n",
       "      <td>...</td>\n",
       "      <td>-0.145501</td>\n",
       "      <td>-0.124418</td>\n",
       "      <td>-0.034943</td>\n",
       "      <td>-0.024701</td>\n",
       "      <td>0.264193</td>\n",
       "      <td>-0.207983</td>\n",
       "      <td>-0.099258</td>\n",
       "      <td>-0.034943</td>\n",
       "      <td>0.353311</td>\n",
       "      <td>-0.245186</td>\n",
       "    </tr>\n",
       "  </tbody>\n",
       "</table>\n",
       "<p>4 rows × 55 columns</p>\n",
       "</div>"
      ],
      "text/plain": [
       "         0         1         2         3         4         5         6   \\\n",
       "0 -0.081747  1.097701  0.990598  0.656487  0.478981 -0.279707  0.298359   \n",
       "1  1.322072  1.130806  1.038255  1.929778  2.000532  0.936761  1.603182   \n",
       "2 -0.081747  0.170771 -0.343799  0.404919  0.474033 -0.283663  0.298359   \n",
       "3  1.322072  0.865969  0.656999  0.177624  0.001486  1.510380  0.298359   \n",
       "\n",
       "         7         8         9     ...           45        46        47  \\\n",
       "0  0.048810 -0.016783 -0.158114    ...    -0.145501 -0.124418 -0.034943   \n",
       "1  1.925248  2.296601 -0.158114    ...    -0.145501 -0.124418 -0.034943   \n",
       "2  0.249693  0.081836 -0.158114    ...    -0.145501 -0.124418 -0.034943   \n",
       "3 -0.243385 -0.193057 -0.158114    ...    -0.145501 -0.124418 -0.034943   \n",
       "\n",
       "         48        49        50        51        52        53        54  \n",
       "0 -0.024701  0.264193 -0.207983 -0.099258 -0.034943  0.353311 -0.245186  \n",
       "1 -0.024701  0.264193 -0.207983 -0.099258 -0.034943  0.353311 -0.245186  \n",
       "2 -0.024701  0.264193 -0.207983 -0.099258 -0.034943  0.353311 -0.245186  \n",
       "3 -0.024701  0.264193 -0.207983 -0.099258 -0.034943  0.353311 -0.245186  \n",
       "\n",
       "[4 rows x 55 columns]"
      ]
     },
     "execution_count": 299,
     "metadata": {},
     "output_type": "execute_result"
    }
   ],
   "source": [
    "scaler = StandardScaler()\n",
    "scaler.fit(X_train) \n",
    "X_train_scaled = scaler.transform(X_train) \n",
    "\n",
    "X_train_scaled = pd.DataFrame(X_train_scaled)\n",
    "X_train_scaled[:4] #this outputs the first 4 scaled rows across all columns\n"
   ]
  },
  {
   "cell_type": "code",
   "execution_count": 300,
   "metadata": {},
   "outputs": [
    {
     "data": {
      "text/html": [
       "<div>\n",
       "<style scoped>\n",
       "    .dataframe tbody tr th:only-of-type {\n",
       "        vertical-align: middle;\n",
       "    }\n",
       "\n",
       "    .dataframe tbody tr th {\n",
       "        vertical-align: top;\n",
       "    }\n",
       "\n",
       "    .dataframe thead th {\n",
       "        text-align: right;\n",
       "    }\n",
       "</style>\n",
       "<table border=\"1\" class=\"dataframe\">\n",
       "  <thead>\n",
       "    <tr style=\"text-align: right;\">\n",
       "      <th></th>\n",
       "      <th>0</th>\n",
       "      <th>1</th>\n",
       "      <th>2</th>\n",
       "      <th>3</th>\n",
       "      <th>4</th>\n",
       "      <th>5</th>\n",
       "      <th>6</th>\n",
       "      <th>7</th>\n",
       "      <th>8</th>\n",
       "      <th>9</th>\n",
       "      <th>...</th>\n",
       "      <th>45</th>\n",
       "      <th>46</th>\n",
       "      <th>47</th>\n",
       "      <th>48</th>\n",
       "      <th>49</th>\n",
       "      <th>50</th>\n",
       "      <th>51</th>\n",
       "      <th>52</th>\n",
       "      <th>53</th>\n",
       "      <th>54</th>\n",
       "    </tr>\n",
       "  </thead>\n",
       "  <tbody>\n",
       "    <tr>\n",
       "      <th>0</th>\n",
       "      <td>-0.783656</td>\n",
       "      <td>0.137667</td>\n",
       "      <td>-0.391456</td>\n",
       "      <td>-0.329927</td>\n",
       "      <td>-0.520542</td>\n",
       "      <td>-1.078817</td>\n",
       "      <td>0.298359</td>\n",
       "      <td>0.468839</td>\n",
       "      <td>0.208502</td>\n",
       "      <td>-0.158114</td>\n",
       "      <td>...</td>\n",
       "      <td>-0.145501</td>\n",
       "      <td>-0.124418</td>\n",
       "      <td>-0.034943</td>\n",
       "      <td>-0.024701</td>\n",
       "      <td>0.264193</td>\n",
       "      <td>-0.207983</td>\n",
       "      <td>-0.099258</td>\n",
       "      <td>-0.034943</td>\n",
       "      <td>0.353311</td>\n",
       "      <td>-0.245186</td>\n",
       "    </tr>\n",
       "    <tr>\n",
       "      <th>1</th>\n",
       "      <td>0.620163</td>\n",
       "      <td>-0.193379</td>\n",
       "      <td>-0.868026</td>\n",
       "      <td>-0.301239</td>\n",
       "      <td>0.127663</td>\n",
       "      <td>1.300712</td>\n",
       "      <td>0.298359</td>\n",
       "      <td>0.062506</td>\n",
       "      <td>-0.034212</td>\n",
       "      <td>-0.158114</td>\n",
       "      <td>...</td>\n",
       "      <td>-0.145501</td>\n",
       "      <td>-0.124418</td>\n",
       "      <td>-0.034943</td>\n",
       "      <td>-0.024701</td>\n",
       "      <td>0.264193</td>\n",
       "      <td>-0.207983</td>\n",
       "      <td>-0.099258</td>\n",
       "      <td>-0.034943</td>\n",
       "      <td>0.353311</td>\n",
       "      <td>-0.245186</td>\n",
       "    </tr>\n",
       "    <tr>\n",
       "      <th>2</th>\n",
       "      <td>1.322072</td>\n",
       "      <td>1.163910</td>\n",
       "      <td>1.085912</td>\n",
       "      <td>-0.248277</td>\n",
       "      <td>-0.535387</td>\n",
       "      <td>1.164231</td>\n",
       "      <td>1.603182</td>\n",
       "      <td>0.834083</td>\n",
       "      <td>1.332151</td>\n",
       "      <td>-0.158114</td>\n",
       "      <td>...</td>\n",
       "      <td>-0.145501</td>\n",
       "      <td>-0.124418</td>\n",
       "      <td>-0.034943</td>\n",
       "      <td>-0.024701</td>\n",
       "      <td>0.264193</td>\n",
       "      <td>-0.207983</td>\n",
       "      <td>-0.099258</td>\n",
       "      <td>-0.034943</td>\n",
       "      <td>0.353311</td>\n",
       "      <td>-0.245186</td>\n",
       "    </tr>\n",
       "    <tr>\n",
       "      <th>3</th>\n",
       "      <td>-0.081747</td>\n",
       "      <td>-1.881715</td>\n",
       "      <td>-1.630538</td>\n",
       "      <td>-0.561635</td>\n",
       "      <td>-0.800112</td>\n",
       "      <td>0.291934</td>\n",
       "      <td>-1.006464</td>\n",
       "      <td>-1.174756</td>\n",
       "      <td>-1.041522</td>\n",
       "      <td>-0.158114</td>\n",
       "      <td>...</td>\n",
       "      <td>-0.145501</td>\n",
       "      <td>-0.124418</td>\n",
       "      <td>-0.034943</td>\n",
       "      <td>-0.024701</td>\n",
       "      <td>0.264193</td>\n",
       "      <td>-0.207983</td>\n",
       "      <td>-0.099258</td>\n",
       "      <td>-0.034943</td>\n",
       "      <td>0.353311</td>\n",
       "      <td>-0.245186</td>\n",
       "    </tr>\n",
       "  </tbody>\n",
       "</table>\n",
       "<p>4 rows × 55 columns</p>\n",
       "</div>"
      ],
      "text/plain": [
       "         0         1         2         3         4         5         6   \\\n",
       "0 -0.783656  0.137667 -0.391456 -0.329927 -0.520542 -1.078817  0.298359   \n",
       "1  0.620163 -0.193379 -0.868026 -0.301239  0.127663  1.300712  0.298359   \n",
       "2  1.322072  1.163910  1.085912 -0.248277 -0.535387  1.164231  1.603182   \n",
       "3 -0.081747 -1.881715 -1.630538 -0.561635 -0.800112  0.291934 -1.006464   \n",
       "\n",
       "         7         8         9     ...           45        46        47  \\\n",
       "0  0.468839  0.208502 -0.158114    ...    -0.145501 -0.124418 -0.034943   \n",
       "1  0.062506 -0.034212 -0.158114    ...    -0.145501 -0.124418 -0.034943   \n",
       "2  0.834083  1.332151 -0.158114    ...    -0.145501 -0.124418 -0.034943   \n",
       "3 -1.174756 -1.041522 -0.158114    ...    -0.145501 -0.124418 -0.034943   \n",
       "\n",
       "         48        49        50        51        52        53        54  \n",
       "0 -0.024701  0.264193 -0.207983 -0.099258 -0.034943  0.353311 -0.245186  \n",
       "1 -0.024701  0.264193 -0.207983 -0.099258 -0.034943  0.353311 -0.245186  \n",
       "2 -0.024701  0.264193 -0.207983 -0.099258 -0.034943  0.353311 -0.245186  \n",
       "3 -0.024701  0.264193 -0.207983 -0.099258 -0.034943  0.353311 -0.245186  \n",
       "\n",
       "[4 rows x 55 columns]"
      ]
     },
     "execution_count": 300,
     "metadata": {},
     "output_type": "execute_result"
    }
   ],
   "source": [
    "X_test_scaled = scaler.transform(X_test) \n",
    "X_test_scaled = pd.DataFrame(X_test_scaled)\n",
    "X_test_scaled[:4] #this outputs the first 4 scaled rows across all columns"
   ]
  },
  {
   "cell_type": "code",
   "execution_count": 301,
   "metadata": {},
   "outputs": [],
   "source": [
    "#naming the columns for train data\n",
    "\n",
    "X_train_scaled.columns = X.columns"
   ]
  },
  {
   "cell_type": "code",
   "execution_count": 302,
   "metadata": {},
   "outputs": [
    {
     "data": {
      "text/html": [
       "<div>\n",
       "<style scoped>\n",
       "    .dataframe tbody tr th:only-of-type {\n",
       "        vertical-align: middle;\n",
       "    }\n",
       "\n",
       "    .dataframe tbody tr th {\n",
       "        vertical-align: top;\n",
       "    }\n",
       "\n",
       "    .dataframe thead th {\n",
       "        text-align: right;\n",
       "    }\n",
       "</style>\n",
       "<table border=\"1\" class=\"dataframe\">\n",
       "  <thead>\n",
       "    <tr style=\"text-align: right;\">\n",
       "      <th></th>\n",
       "      <th>overall_qual</th>\n",
       "      <th>year_built</th>\n",
       "      <th>year_remod/add</th>\n",
       "      <th>total_bsmt_sf</th>\n",
       "      <th>1st_flr_sf</th>\n",
       "      <th>gr_liv_area</th>\n",
       "      <th>garage_cars</th>\n",
       "      <th>garage_area</th>\n",
       "      <th>garage_info</th>\n",
       "      <th>lot_shape_IR2</th>\n",
       "      <th>...</th>\n",
       "      <th>functional_Min2</th>\n",
       "      <th>functional_Mod</th>\n",
       "      <th>functional_Sal</th>\n",
       "      <th>functional_Sev</th>\n",
       "      <th>functional_Typ</th>\n",
       "      <th>garage_qual_Fa</th>\n",
       "      <th>garage_qual_Gd</th>\n",
       "      <th>garage_qual_Po</th>\n",
       "      <th>garage_qual_TA</th>\n",
       "      <th>garage_qual_null</th>\n",
       "    </tr>\n",
       "  </thead>\n",
       "  <tbody>\n",
       "    <tr>\n",
       "      <th>0</th>\n",
       "      <td>-0.081747</td>\n",
       "      <td>1.097701</td>\n",
       "      <td>0.990598</td>\n",
       "      <td>0.656487</td>\n",
       "      <td>0.478981</td>\n",
       "      <td>-0.279707</td>\n",
       "      <td>0.298359</td>\n",
       "      <td>0.048810</td>\n",
       "      <td>-0.016783</td>\n",
       "      <td>-0.158114</td>\n",
       "      <td>...</td>\n",
       "      <td>-0.145501</td>\n",
       "      <td>-0.124418</td>\n",
       "      <td>-0.034943</td>\n",
       "      <td>-0.024701</td>\n",
       "      <td>0.264193</td>\n",
       "      <td>-0.207983</td>\n",
       "      <td>-0.099258</td>\n",
       "      <td>-0.034943</td>\n",
       "      <td>0.353311</td>\n",
       "      <td>-0.245186</td>\n",
       "    </tr>\n",
       "    <tr>\n",
       "      <th>1</th>\n",
       "      <td>1.322072</td>\n",
       "      <td>1.130806</td>\n",
       "      <td>1.038255</td>\n",
       "      <td>1.929778</td>\n",
       "      <td>2.000532</td>\n",
       "      <td>0.936761</td>\n",
       "      <td>1.603182</td>\n",
       "      <td>1.925248</td>\n",
       "      <td>2.296601</td>\n",
       "      <td>-0.158114</td>\n",
       "      <td>...</td>\n",
       "      <td>-0.145501</td>\n",
       "      <td>-0.124418</td>\n",
       "      <td>-0.034943</td>\n",
       "      <td>-0.024701</td>\n",
       "      <td>0.264193</td>\n",
       "      <td>-0.207983</td>\n",
       "      <td>-0.099258</td>\n",
       "      <td>-0.034943</td>\n",
       "      <td>0.353311</td>\n",
       "      <td>-0.245186</td>\n",
       "    </tr>\n",
       "    <tr>\n",
       "      <th>2</th>\n",
       "      <td>-0.081747</td>\n",
       "      <td>0.170771</td>\n",
       "      <td>-0.343799</td>\n",
       "      <td>0.404919</td>\n",
       "      <td>0.474033</td>\n",
       "      <td>-0.283663</td>\n",
       "      <td>0.298359</td>\n",
       "      <td>0.249693</td>\n",
       "      <td>0.081836</td>\n",
       "      <td>-0.158114</td>\n",
       "      <td>...</td>\n",
       "      <td>-0.145501</td>\n",
       "      <td>-0.124418</td>\n",
       "      <td>-0.034943</td>\n",
       "      <td>-0.024701</td>\n",
       "      <td>0.264193</td>\n",
       "      <td>-0.207983</td>\n",
       "      <td>-0.099258</td>\n",
       "      <td>-0.034943</td>\n",
       "      <td>0.353311</td>\n",
       "      <td>-0.245186</td>\n",
       "    </tr>\n",
       "    <tr>\n",
       "      <th>3</th>\n",
       "      <td>1.322072</td>\n",
       "      <td>0.865969</td>\n",
       "      <td>0.656999</td>\n",
       "      <td>0.177624</td>\n",
       "      <td>0.001486</td>\n",
       "      <td>1.510380</td>\n",
       "      <td>0.298359</td>\n",
       "      <td>-0.243385</td>\n",
       "      <td>-0.193057</td>\n",
       "      <td>-0.158114</td>\n",
       "      <td>...</td>\n",
       "      <td>-0.145501</td>\n",
       "      <td>-0.124418</td>\n",
       "      <td>-0.034943</td>\n",
       "      <td>-0.024701</td>\n",
       "      <td>0.264193</td>\n",
       "      <td>-0.207983</td>\n",
       "      <td>-0.099258</td>\n",
       "      <td>-0.034943</td>\n",
       "      <td>0.353311</td>\n",
       "      <td>-0.245186</td>\n",
       "    </tr>\n",
       "    <tr>\n",
       "      <th>4</th>\n",
       "      <td>-0.081747</td>\n",
       "      <td>0.137667</td>\n",
       "      <td>0.466370</td>\n",
       "      <td>-1.175110</td>\n",
       "      <td>-0.174173</td>\n",
       "      <td>0.703357</td>\n",
       "      <td>0.298359</td>\n",
       "      <td>0.176645</td>\n",
       "      <td>0.038669</td>\n",
       "      <td>-0.158114</td>\n",
       "      <td>...</td>\n",
       "      <td>-0.145501</td>\n",
       "      <td>-0.124418</td>\n",
       "      <td>-0.034943</td>\n",
       "      <td>-0.024701</td>\n",
       "      <td>0.264193</td>\n",
       "      <td>-0.207983</td>\n",
       "      <td>-0.099258</td>\n",
       "      <td>-0.034943</td>\n",
       "      <td>0.353311</td>\n",
       "      <td>-0.245186</td>\n",
       "    </tr>\n",
       "  </tbody>\n",
       "</table>\n",
       "<p>5 rows × 55 columns</p>\n",
       "</div>"
      ],
      "text/plain": [
       "   overall_qual  year_built  year_remod/add  total_bsmt_sf  1st_flr_sf  \\\n",
       "0     -0.081747    1.097701        0.990598       0.656487    0.478981   \n",
       "1      1.322072    1.130806        1.038255       1.929778    2.000532   \n",
       "2     -0.081747    0.170771       -0.343799       0.404919    0.474033   \n",
       "3      1.322072    0.865969        0.656999       0.177624    0.001486   \n",
       "4     -0.081747    0.137667        0.466370      -1.175110   -0.174173   \n",
       "\n",
       "   gr_liv_area  garage_cars  garage_area  garage_info  lot_shape_IR2  \\\n",
       "0    -0.279707     0.298359     0.048810    -0.016783      -0.158114   \n",
       "1     0.936761     1.603182     1.925248     2.296601      -0.158114   \n",
       "2    -0.283663     0.298359     0.249693     0.081836      -0.158114   \n",
       "3     1.510380     0.298359    -0.243385    -0.193057      -0.158114   \n",
       "4     0.703357     0.298359     0.176645     0.038669      -0.158114   \n",
       "\n",
       "         ...         functional_Min2  functional_Mod  functional_Sal  \\\n",
       "0        ...               -0.145501       -0.124418       -0.034943   \n",
       "1        ...               -0.145501       -0.124418       -0.034943   \n",
       "2        ...               -0.145501       -0.124418       -0.034943   \n",
       "3        ...               -0.145501       -0.124418       -0.034943   \n",
       "4        ...               -0.145501       -0.124418       -0.034943   \n",
       "\n",
       "   functional_Sev  functional_Typ  garage_qual_Fa  garage_qual_Gd  \\\n",
       "0       -0.024701        0.264193       -0.207983       -0.099258   \n",
       "1       -0.024701        0.264193       -0.207983       -0.099258   \n",
       "2       -0.024701        0.264193       -0.207983       -0.099258   \n",
       "3       -0.024701        0.264193       -0.207983       -0.099258   \n",
       "4       -0.024701        0.264193       -0.207983       -0.099258   \n",
       "\n",
       "   garage_qual_Po  garage_qual_TA  garage_qual_null  \n",
       "0       -0.034943        0.353311         -0.245186  \n",
       "1       -0.034943        0.353311         -0.245186  \n",
       "2       -0.034943        0.353311         -0.245186  \n",
       "3       -0.034943        0.353311         -0.245186  \n",
       "4       -0.034943        0.353311         -0.245186  \n",
       "\n",
       "[5 rows x 55 columns]"
      ]
     },
     "execution_count": 302,
     "metadata": {},
     "output_type": "execute_result"
    }
   ],
   "source": [
    "X_train_scaled.head(5)"
   ]
  },
  {
   "cell_type": "code",
   "execution_count": 303,
   "metadata": {},
   "outputs": [],
   "source": [
    "#naming the columns for test data\n",
    "\n",
    "X_test_scaled.columns = X.columns"
   ]
  },
  {
   "cell_type": "code",
   "execution_count": 304,
   "metadata": {
    "scrolled": true
   },
   "outputs": [
    {
     "data": {
      "text/html": [
       "<div>\n",
       "<style scoped>\n",
       "    .dataframe tbody tr th:only-of-type {\n",
       "        vertical-align: middle;\n",
       "    }\n",
       "\n",
       "    .dataframe tbody tr th {\n",
       "        vertical-align: top;\n",
       "    }\n",
       "\n",
       "    .dataframe thead th {\n",
       "        text-align: right;\n",
       "    }\n",
       "</style>\n",
       "<table border=\"1\" class=\"dataframe\">\n",
       "  <thead>\n",
       "    <tr style=\"text-align: right;\">\n",
       "      <th></th>\n",
       "      <th>overall_qual</th>\n",
       "      <th>year_built</th>\n",
       "      <th>year_remod/add</th>\n",
       "      <th>total_bsmt_sf</th>\n",
       "      <th>1st_flr_sf</th>\n",
       "      <th>gr_liv_area</th>\n",
       "      <th>garage_cars</th>\n",
       "      <th>garage_area</th>\n",
       "      <th>garage_info</th>\n",
       "      <th>lot_shape_IR2</th>\n",
       "      <th>...</th>\n",
       "      <th>functional_Min2</th>\n",
       "      <th>functional_Mod</th>\n",
       "      <th>functional_Sal</th>\n",
       "      <th>functional_Sev</th>\n",
       "      <th>functional_Typ</th>\n",
       "      <th>garage_qual_Fa</th>\n",
       "      <th>garage_qual_Gd</th>\n",
       "      <th>garage_qual_Po</th>\n",
       "      <th>garage_qual_TA</th>\n",
       "      <th>garage_qual_null</th>\n",
       "    </tr>\n",
       "  </thead>\n",
       "  <tbody>\n",
       "    <tr>\n",
       "      <th>0</th>\n",
       "      <td>-0.783656</td>\n",
       "      <td>0.137667</td>\n",
       "      <td>-0.391456</td>\n",
       "      <td>-0.329927</td>\n",
       "      <td>-0.520542</td>\n",
       "      <td>-1.078817</td>\n",
       "      <td>0.298359</td>\n",
       "      <td>0.468839</td>\n",
       "      <td>0.208502</td>\n",
       "      <td>-0.158114</td>\n",
       "      <td>...</td>\n",
       "      <td>-0.145501</td>\n",
       "      <td>-0.124418</td>\n",
       "      <td>-0.034943</td>\n",
       "      <td>-0.024701</td>\n",
       "      <td>0.264193</td>\n",
       "      <td>-0.207983</td>\n",
       "      <td>-0.099258</td>\n",
       "      <td>-0.034943</td>\n",
       "      <td>0.353311</td>\n",
       "      <td>-0.245186</td>\n",
       "    </tr>\n",
       "    <tr>\n",
       "      <th>1</th>\n",
       "      <td>0.620163</td>\n",
       "      <td>-0.193379</td>\n",
       "      <td>-0.868026</td>\n",
       "      <td>-0.301239</td>\n",
       "      <td>0.127663</td>\n",
       "      <td>1.300712</td>\n",
       "      <td>0.298359</td>\n",
       "      <td>0.062506</td>\n",
       "      <td>-0.034212</td>\n",
       "      <td>-0.158114</td>\n",
       "      <td>...</td>\n",
       "      <td>-0.145501</td>\n",
       "      <td>-0.124418</td>\n",
       "      <td>-0.034943</td>\n",
       "      <td>-0.024701</td>\n",
       "      <td>0.264193</td>\n",
       "      <td>-0.207983</td>\n",
       "      <td>-0.099258</td>\n",
       "      <td>-0.034943</td>\n",
       "      <td>0.353311</td>\n",
       "      <td>-0.245186</td>\n",
       "    </tr>\n",
       "    <tr>\n",
       "      <th>2</th>\n",
       "      <td>1.322072</td>\n",
       "      <td>1.163910</td>\n",
       "      <td>1.085912</td>\n",
       "      <td>-0.248277</td>\n",
       "      <td>-0.535387</td>\n",
       "      <td>1.164231</td>\n",
       "      <td>1.603182</td>\n",
       "      <td>0.834083</td>\n",
       "      <td>1.332151</td>\n",
       "      <td>-0.158114</td>\n",
       "      <td>...</td>\n",
       "      <td>-0.145501</td>\n",
       "      <td>-0.124418</td>\n",
       "      <td>-0.034943</td>\n",
       "      <td>-0.024701</td>\n",
       "      <td>0.264193</td>\n",
       "      <td>-0.207983</td>\n",
       "      <td>-0.099258</td>\n",
       "      <td>-0.034943</td>\n",
       "      <td>0.353311</td>\n",
       "      <td>-0.245186</td>\n",
       "    </tr>\n",
       "    <tr>\n",
       "      <th>3</th>\n",
       "      <td>-0.081747</td>\n",
       "      <td>-1.881715</td>\n",
       "      <td>-1.630538</td>\n",
       "      <td>-0.561635</td>\n",
       "      <td>-0.800112</td>\n",
       "      <td>0.291934</td>\n",
       "      <td>-1.006464</td>\n",
       "      <td>-1.174756</td>\n",
       "      <td>-1.041522</td>\n",
       "      <td>-0.158114</td>\n",
       "      <td>...</td>\n",
       "      <td>-0.145501</td>\n",
       "      <td>-0.124418</td>\n",
       "      <td>-0.034943</td>\n",
       "      <td>-0.024701</td>\n",
       "      <td>0.264193</td>\n",
       "      <td>-0.207983</td>\n",
       "      <td>-0.099258</td>\n",
       "      <td>-0.034943</td>\n",
       "      <td>0.353311</td>\n",
       "      <td>-0.245186</td>\n",
       "    </tr>\n",
       "    <tr>\n",
       "      <th>4</th>\n",
       "      <td>0.620163</td>\n",
       "      <td>1.130806</td>\n",
       "      <td>1.038255</td>\n",
       "      <td>-0.462332</td>\n",
       "      <td>-0.775371</td>\n",
       "      <td>0.469954</td>\n",
       "      <td>0.298359</td>\n",
       "      <td>0.477971</td>\n",
       "      <td>0.237096</td>\n",
       "      <td>-0.158114</td>\n",
       "      <td>...</td>\n",
       "      <td>-0.145501</td>\n",
       "      <td>-0.124418</td>\n",
       "      <td>-0.034943</td>\n",
       "      <td>-0.024701</td>\n",
       "      <td>0.264193</td>\n",
       "      <td>-0.207983</td>\n",
       "      <td>-0.099258</td>\n",
       "      <td>-0.034943</td>\n",
       "      <td>0.353311</td>\n",
       "      <td>-0.245186</td>\n",
       "    </tr>\n",
       "  </tbody>\n",
       "</table>\n",
       "<p>5 rows × 55 columns</p>\n",
       "</div>"
      ],
      "text/plain": [
       "   overall_qual  year_built  year_remod/add  total_bsmt_sf  1st_flr_sf  \\\n",
       "0     -0.783656    0.137667       -0.391456      -0.329927   -0.520542   \n",
       "1      0.620163   -0.193379       -0.868026      -0.301239    0.127663   \n",
       "2      1.322072    1.163910        1.085912      -0.248277   -0.535387   \n",
       "3     -0.081747   -1.881715       -1.630538      -0.561635   -0.800112   \n",
       "4      0.620163    1.130806        1.038255      -0.462332   -0.775371   \n",
       "\n",
       "   gr_liv_area  garage_cars  garage_area  garage_info  lot_shape_IR2  \\\n",
       "0    -1.078817     0.298359     0.468839     0.208502      -0.158114   \n",
       "1     1.300712     0.298359     0.062506    -0.034212      -0.158114   \n",
       "2     1.164231     1.603182     0.834083     1.332151      -0.158114   \n",
       "3     0.291934    -1.006464    -1.174756    -1.041522      -0.158114   \n",
       "4     0.469954     0.298359     0.477971     0.237096      -0.158114   \n",
       "\n",
       "         ...         functional_Min2  functional_Mod  functional_Sal  \\\n",
       "0        ...               -0.145501       -0.124418       -0.034943   \n",
       "1        ...               -0.145501       -0.124418       -0.034943   \n",
       "2        ...               -0.145501       -0.124418       -0.034943   \n",
       "3        ...               -0.145501       -0.124418       -0.034943   \n",
       "4        ...               -0.145501       -0.124418       -0.034943   \n",
       "\n",
       "   functional_Sev  functional_Typ  garage_qual_Fa  garage_qual_Gd  \\\n",
       "0       -0.024701        0.264193       -0.207983       -0.099258   \n",
       "1       -0.024701        0.264193       -0.207983       -0.099258   \n",
       "2       -0.024701        0.264193       -0.207983       -0.099258   \n",
       "3       -0.024701        0.264193       -0.207983       -0.099258   \n",
       "4       -0.024701        0.264193       -0.207983       -0.099258   \n",
       "\n",
       "   garage_qual_Po  garage_qual_TA  garage_qual_null  \n",
       "0       -0.034943        0.353311         -0.245186  \n",
       "1       -0.034943        0.353311         -0.245186  \n",
       "2       -0.034943        0.353311         -0.245186  \n",
       "3       -0.034943        0.353311         -0.245186  \n",
       "4       -0.034943        0.353311         -0.245186  \n",
       "\n",
       "[5 rows x 55 columns]"
      ]
     },
     "execution_count": 304,
     "metadata": {},
     "output_type": "execute_result"
    }
   ],
   "source": [
    "X_test_scaled.head(5)"
   ]
  },
  {
   "cell_type": "code",
   "execution_count": 305,
   "metadata": {},
   "outputs": [],
   "source": [
    "#Scaling original test dataset\n",
    "test_sc = scaler.transform(X_t) "
   ]
  },
  {
   "cell_type": "markdown",
   "metadata": {},
   "source": [
    "### Regularization: Lasso Model"
   ]
  },
  {
   "cell_type": "code",
   "execution_count": 306,
   "metadata": {},
   "outputs": [],
   "source": [
    "from sklearn.linear_model import Lasso, LassoCV"
   ]
  },
  {
   "cell_type": "code",
   "execution_count": 307,
   "metadata": {},
   "outputs": [
    {
     "name": "stdout",
     "output_type": "stream",
     "text": [
      "Optimal alpha =  1366.8729864873567\n"
     ]
    }
   ],
   "source": [
    "#find optimal alpha value\n",
    "lasso_model = LassoCV(n_alphas=100, cv=10).fit(X_train_scaled,y_train)\n",
    "\n",
    "lasso_alpha_optimal = lasso_model.alpha_\n",
    "print('Optimal alpha = ',lasso_alpha_optimal)"
   ]
  },
  {
   "cell_type": "code",
   "execution_count": 308,
   "metadata": {},
   "outputs": [
    {
     "name": "stdout",
     "output_type": "stream",
     "text": [
      "0.783\n",
      "0.815\n"
     ]
    }
   ],
   "source": [
    "#cross validate with optimal alpha\n",
    "lasso_model = Lasso(alpha=lasso_alpha_optimal)\n",
    "\n",
    "cv_score_lasso = cross_val_score(lasso_model, X_train_scaled, y_train, cv=10, scoring='r2').mean()\n",
    "print(cv_score_lasso.round(3))\n",
    "\n",
    "cv_score_lasso_test = cross_val_score(lasso_model, X_test_scaled, y_test, cv=10, scoring='r2').mean()\n",
    "print(cv_score_lasso_test.round(3))"
   ]
  },
  {
   "cell_type": "markdown",
   "metadata": {},
   "source": [
    "### Regularization: Ridge Model"
   ]
  },
  {
   "cell_type": "code",
   "execution_count": 309,
   "metadata": {},
   "outputs": [],
   "source": [
    "from sklearn.linear_model import Ridge, RidgeCV"
   ]
  },
  {
   "cell_type": "code",
   "execution_count": 310,
   "metadata": {},
   "outputs": [],
   "source": [
    "#find optimal alpha value\n",
    "r_alphas = np.logspace(0, 5, 200)\n",
    "ridge_model = RidgeCV(alphas=r_alphas, store_cv_values=True)\n",
    "ridge_model = ridge_model.fit(X_train_scaled, y_train)"
   ]
  },
  {
   "cell_type": "code",
   "execution_count": 311,
   "metadata": {},
   "outputs": [
    {
     "data": {
      "text/plain": [
       "86.035"
      ]
     },
     "execution_count": 311,
     "metadata": {},
     "output_type": "execute_result"
    }
   ],
   "source": [
    "ridge_optimal_alpha = ridge_model.alpha_\n",
    "ridge_optimal_alpha.round(3)"
   ]
  },
  {
   "cell_type": "code",
   "execution_count": 312,
   "metadata": {},
   "outputs": [
    {
     "name": "stdout",
     "output_type": "stream",
     "text": [
      "0.782\n",
      "0.811\n"
     ]
    }
   ],
   "source": [
    "ridge_opt = Ridge(alpha=ridge_optimal_alpha)\n",
    "cv_score = cross_val_score(ridge_opt, X_train_scaled, y_train, cv=10, scoring='r2').mean()\n",
    "print(cv_score.round(3))\n",
    "\n",
    "cv_score_test = cross_val_score(ridge_opt, X_test_scaled, y_test, cv=10, scoring='r2').mean()\n",
    "print(cv_score_test.round(3))\n"
   ]
  },
  {
   "cell_type": "markdown",
   "metadata": {},
   "source": [
    "Conclusion: Use Lasso Regression Model as it improves the cross-validated score."
   ]
  },
  {
   "cell_type": "markdown",
   "metadata": {},
   "source": [
    "### Prediction of target variable"
   ]
  },
  {
   "cell_type": "code",
   "execution_count": 313,
   "metadata": {},
   "outputs": [],
   "source": [
    "from sklearn import metrics\n"
   ]
  },
  {
   "cell_type": "code",
   "execution_count": 314,
   "metadata": {},
   "outputs": [],
   "source": [
    "#New dataframe with columns ID and saleprice"
   ]
  },
  {
   "cell_type": "code",
   "execution_count": 315,
   "metadata": {},
   "outputs": [
    {
     "data": {
      "text/plain": [
       "(2051, 56)"
      ]
     },
     "execution_count": 315,
     "metadata": {},
     "output_type": "execute_result"
    }
   ],
   "source": [
    "pd_train.shape"
   ]
  },
  {
   "cell_type": "code",
   "execution_count": 316,
   "metadata": {
    "scrolled": true
   },
   "outputs": [
    {
     "data": {
      "text/plain": [
       "(2051, 81)"
      ]
     },
     "execution_count": 316,
     "metadata": {},
     "output_type": "execute_result"
    }
   ],
   "source": [
    "train.shape"
   ]
  },
  {
   "cell_type": "code",
   "execution_count": 317,
   "metadata": {},
   "outputs": [
    {
     "data": {
      "text/plain": [
       "(879, 80)"
      ]
     },
     "execution_count": 317,
     "metadata": {},
     "output_type": "execute_result"
    }
   ],
   "source": [
    "test.shape"
   ]
  },
  {
   "cell_type": "code",
   "execution_count": 318,
   "metadata": {},
   "outputs": [
    {
     "data": {
      "text/plain": [
       "(879, 55)"
      ]
     },
     "execution_count": 318,
     "metadata": {},
     "output_type": "execute_result"
    }
   ],
   "source": [
    "test_sc.shape"
   ]
  },
  {
   "cell_type": "code",
   "execution_count": 319,
   "metadata": {},
   "outputs": [
    {
     "data": {
      "text/plain": [
       "(1640, 55)"
      ]
     },
     "execution_count": 319,
     "metadata": {},
     "output_type": "execute_result"
    }
   ],
   "source": [
    "X_train_scaled.shape"
   ]
  },
  {
   "cell_type": "code",
   "execution_count": 320,
   "metadata": {},
   "outputs": [],
   "source": [
    "lasso_model = lasso_model.fit(X_train_scaled, y_train)\n",
    "y_predict  =  lasso_model.predict(test_sc)"
   ]
  },
  {
   "cell_type": "code",
   "execution_count": 321,
   "metadata": {},
   "outputs": [
    {
     "data": {
      "text/plain": [
       "(879,)"
      ]
     },
     "execution_count": 321,
     "metadata": {},
     "output_type": "execute_result"
    }
   ],
   "source": [
    "y_predict.shape"
   ]
  },
  {
   "cell_type": "code",
   "execution_count": 322,
   "metadata": {
    "scrolled": true
   },
   "outputs": [],
   "source": [
    "submission = pd.DataFrame(y_predict, columns=['SalePrice'])\n",
    "submission['Id'] = test['Id']\n",
    "submission = submission[['Id', 'SalePrice']]"
   ]
  },
  {
   "cell_type": "code",
   "execution_count": 323,
   "metadata": {},
   "outputs": [
    {
     "data": {
      "text/plain": [
       "879"
      ]
     },
     "execution_count": 323,
     "metadata": {},
     "output_type": "execute_result"
    }
   ],
   "source": [
    "len(test['Id'])"
   ]
  },
  {
   "cell_type": "code",
   "execution_count": 324,
   "metadata": {
    "scrolled": true
   },
   "outputs": [
    {
     "data": {
      "text/plain": [
       "879"
      ]
     },
     "execution_count": 324,
     "metadata": {},
     "output_type": "execute_result"
    }
   ],
   "source": [
    "len(submission['Id'])"
   ]
  },
  {
   "cell_type": "code",
   "execution_count": 325,
   "metadata": {},
   "outputs": [
    {
     "data": {
      "text/plain": [
       "array([127628.22520797, 207051.22445021, 278808.09326992, 144729.96051941,\n",
       "       218405.41608311, 330857.76203577, 170850.70395276, 265887.75417249,\n",
       "       162061.8743155 , 123409.61140918, 146027.31586715, 219935.02685117,\n",
       "       181918.88373059, 112689.10170838, 125757.54223363,  99968.62812522,\n",
       "       120839.76880242, 212389.18801931, 333172.66420342, 220819.41162683,\n",
       "       213773.46432185, 210391.96581107, 184029.79571321, 110299.51980064,\n",
       "       149288.42729766, 283255.66955198, 166303.44688542, 124962.00631623,\n",
       "       259730.06857561, 104524.73267648, 298594.84766764, 112587.09838614,\n",
       "       125096.48576943, 188847.0070251 , 216750.72082176,  88708.67278737,\n",
       "       162591.88885786, 221180.13400129, 320917.9387296 , 120999.2839047 ,\n",
       "       218584.22891972, 220743.58468753, 323847.92311054, 177867.32632761,\n",
       "        96409.01593159, 164969.73141755, 116103.96656604, 109860.16200506,\n",
       "       305839.7407394 , 162974.35143028, 341514.66730384,  54860.2428281 ,\n",
       "       150441.71635964, 173384.17381347, 138858.74450801, 102387.31909745,\n",
       "       227103.67793425, 208180.42304829, 134537.03376481, 175938.53259231,\n",
       "       285640.09611835,  88882.05465316, 171678.60647656, 247929.66819911,\n",
       "       204502.58468429,  74207.32835166, 308607.28831312, 224871.97209043,\n",
       "       309136.91210943, 147217.60582162, 200740.47336208, 320806.41362232,\n",
       "       322678.74734577, 173872.15452507, 113428.35340717, 189449.25937579,\n",
       "       184781.5622764 , 152756.19062414, 157211.56062313, 299917.90233971,\n",
       "       118214.11989756, 116577.30693335, 304385.76043831, 164599.22213738,\n",
       "       114780.73864468, 121514.23611743, 115918.97919857, 231168.96612013,\n",
       "        67977.39409553, 144088.73532945, 192375.98109439, 163061.41248373,\n",
       "       128070.84650522, 200687.99265767, 133778.96470575, 218634.2251351 ,\n",
       "       121043.53825362, 110874.53906856, 199270.66341304, 136148.23365976,\n",
       "       142129.17149041, 300607.08602153,  74856.81624836, 208289.89339923,\n",
       "       178118.4279389 , 127002.29085903, 129907.49239687, 148129.78114096,\n",
       "       160567.06660664, 190559.58506131,  48802.17698188, 174782.35618875,\n",
       "       128468.97346026, 329283.90731055,  81838.73291825, 294634.85369755,\n",
       "       196978.98566602, 139091.39053465, 125735.85875261, 158555.45095598,\n",
       "       211269.49488815, 125887.99013051, 266930.68074876, 162277.55167856,\n",
       "       216904.26305754, 231669.95956701, 173334.05952583, 249900.37367999,\n",
       "       225214.57150847, 121995.43654274, 175826.76437728, 129999.74227171,\n",
       "       149015.81598133, 340525.10189487, 153756.16722244, 204089.59089112,\n",
       "        94923.67638793, 191774.20697264, 181988.67991699, 155925.15947033,\n",
       "        86263.05781068,  11624.86479809, 128112.88758763,  91479.00825841,\n",
       "       244031.91679406, 213836.01610534, 360256.64386528, 182555.01248399,\n",
       "       124010.69901196, 177871.9964331 ,  78046.4131387 , 124740.39920067,\n",
       "       112559.75772749, 248249.22512917, 110214.88077483, 181602.82383569,\n",
       "       229758.24581434, 170604.51962666, 139049.67106395, 197045.08930953,\n",
       "       125171.55862093, 273353.17432376, 128423.66170656, 179106.24548414,\n",
       "        94665.64951353, 204623.07245984, 130887.01566409, 188609.42430992,\n",
       "       141445.44622159, 290403.75196535, 215809.23792812, 141635.65751869,\n",
       "       120344.81334975, 195221.93235747, 171262.05145845, 152482.84532106,\n",
       "       284437.39181408, 140500.20921865, 120072.76086967, 122824.5835325 ,\n",
       "       215351.35443027, 141213.64773848, 176827.57326611, 178518.84304308,\n",
       "       104520.08313316, 185422.32098024, 190067.23547804, 143802.45589335,\n",
       "       152964.65527426, 149480.50262979, 243011.83806647, 122135.89969675,\n",
       "       127463.97702135,  10099.99427536, 197237.72005454, 168660.92675019,\n",
       "        94399.12750664, 321881.83888229, 173977.05497885, 261920.04933763,\n",
       "       196128.13884013, 106819.28491784, 180310.36007903, 146063.30456716,\n",
       "       118822.11601768, 116340.12428877, 168119.50226178, 140462.47379311,\n",
       "       127326.56301755, 246111.46423816, 127958.87269541, 357698.0190524 ,\n",
       "       151812.29945187, 164286.37410802, 383000.4711515 , 200227.01353907,\n",
       "       289483.57899038, 148391.82550645, 271949.86801867, 129349.25677394,\n",
       "       105440.96816477, 176916.02194265, 172095.68809835, 204160.38343163,\n",
       "       105406.88827583, 253201.36097534, 195202.07969173, 109788.85793911,\n",
       "        94645.45899248, 187942.16185514, 120970.62601265,  94182.68254717,\n",
       "       173393.12204502, 151375.00524257, 156456.0067754 ,  81757.41242692,\n",
       "       194479.1150753 ,  61886.30072792, 138585.49881562, 196478.16115709,\n",
       "       232167.65861084, 148827.79749146, 131418.85657432, 148631.57104027,\n",
       "       139283.41974434, 210222.24556489, 316299.51506017, 186324.98819139,\n",
       "       144827.14222015, 224034.88117526, 230553.90765319, 309702.15479058,\n",
       "       236294.3540523 , 237916.78783409, 246656.787844  , 169129.00164483,\n",
       "       107965.61157834,  99937.08456245, 360905.08971739, 255441.36390797,\n",
       "       232307.91329212,  80226.63100593, 185686.19180324, 175147.78016706,\n",
       "       291933.80156479, 115175.39105963, 180003.249149  , 274165.52354001,\n",
       "       133623.30100245, 271304.85091453, 138201.98017569, 153455.40555556,\n",
       "        83844.17599329, 241336.58925181, 174232.55916144, 322583.26943659,\n",
       "       338651.32568498, 208791.47733049, 188074.41439482, 182256.71513976,\n",
       "        92611.19225074, 190354.17595048, 172576.21782221, 181084.82676785,\n",
       "        16693.92068092, 257249.37377354,  85803.70426976, 104561.59484067,\n",
       "        96286.76031468, 164653.04636849, 196478.16115709, 167655.94577173,\n",
       "       130825.68630059, 187681.57044471, 167282.91764834, 183404.65061264,\n",
       "        90392.58399156,  98017.85606948, 189589.02770918, 228547.00913354,\n",
       "       122110.91779329, 284444.21398351, 287249.97002182, 178361.13040595,\n",
       "       195869.50207533, 238332.88467697, 159127.4968757 , 180564.64236246,\n",
       "       180891.38392637, 183643.55566848, 107885.04498787, 102842.02148881,\n",
       "       167189.9817053 ,  74205.47269925, 146932.80482314, 198842.51706071,\n",
       "       157266.3016607 ,  97464.26094291, 211037.80534267, 190847.33121788,\n",
       "       229303.4857451 , 106790.57401413, 165148.67479657, 158117.42392515,\n",
       "       174775.49897373,  81521.55466643, 154142.06290684, 221268.36103382,\n",
       "       271316.64405828, 103900.09169925, 141928.8932953 , 169900.94877038,\n",
       "       222007.87542958, 390246.28129061, 144132.55087603, 122135.89969675,\n",
       "       369824.47591695, 174932.95095838, 322130.93178156, 193618.59450478,\n",
       "       208044.70490631, 153748.45441408, 177178.58304688, 257716.31226632,\n",
       "       238186.20056725, 167189.9817053 , 132408.41743013, 315973.53280335,\n",
       "        37670.61914766, 116453.39620677,  90288.87317538, 107316.41909858,\n",
       "       108583.1264936 , 333153.69653041, 274400.76603552, 164761.89738269,\n",
       "       268583.67198727, 249294.14592465,   2638.96688997, 171626.93187954,\n",
       "       191250.5473008 , 315459.91700741, 146277.90184118, 141705.99249883,\n",
       "       224527.32993156, 215604.00230257, 229622.37833041, 192718.88085262,\n",
       "       250483.83300459, 283958.60279669, 112485.48381618, 131675.66720563,\n",
       "       232950.00748595, 228790.39014218, 123946.22825902, 324663.23461568,\n",
       "       142212.08871769, 191188.14235301, 210172.33469231, 164720.85166221,\n",
       "        80596.55891892, 211362.23495483, 274426.97633686, 211934.70284969,\n",
       "       241497.20909301,  95002.20963399, 151217.24586589, 222332.26157233,\n",
       "       127174.1342589 , 136916.154472  , 107776.39773322, 311871.68686728,\n",
       "       199555.27637472, 143592.14992654, 283966.50852213, 192119.39989031,\n",
       "       184029.79571321, 309976.16643085, 227748.79002058, 116065.13426208,\n",
       "       123114.58932249, 166377.33735195, 189308.87439055, 189338.73698261,\n",
       "       167313.84010478, 196242.64868811, 214871.30183683,  34598.50272184,\n",
       "       296050.41119972, 267686.14122488, 283268.81500056])"
      ]
     },
     "execution_count": 325,
     "metadata": {},
     "output_type": "execute_result"
    }
   ],
   "source": [
    "predictions"
   ]
  },
  {
   "cell_type": "code",
   "execution_count": 326,
   "metadata": {
    "scrolled": false
   },
   "outputs": [
    {
     "data": {
      "text/html": [
       "<div>\n",
       "<style scoped>\n",
       "    .dataframe tbody tr th:only-of-type {\n",
       "        vertical-align: middle;\n",
       "    }\n",
       "\n",
       "    .dataframe tbody tr th {\n",
       "        vertical-align: top;\n",
       "    }\n",
       "\n",
       "    .dataframe thead th {\n",
       "        text-align: right;\n",
       "    }\n",
       "</style>\n",
       "<table border=\"1\" class=\"dataframe\">\n",
       "  <thead>\n",
       "    <tr style=\"text-align: right;\">\n",
       "      <th></th>\n",
       "      <th>Id</th>\n",
       "      <th>SalePrice</th>\n",
       "    </tr>\n",
       "  </thead>\n",
       "  <tbody>\n",
       "    <tr>\n",
       "      <th>0</th>\n",
       "      <td>2658</td>\n",
       "      <td>148006.978722</td>\n",
       "    </tr>\n",
       "    <tr>\n",
       "      <th>1</th>\n",
       "      <td>2718</td>\n",
       "      <td>194634.183135</td>\n",
       "    </tr>\n",
       "    <tr>\n",
       "      <th>2</th>\n",
       "      <td>2414</td>\n",
       "      <td>190938.058257</td>\n",
       "    </tr>\n",
       "    <tr>\n",
       "      <th>3</th>\n",
       "      <td>1989</td>\n",
       "      <td>117556.390906</td>\n",
       "    </tr>\n",
       "    <tr>\n",
       "      <th>4</th>\n",
       "      <td>625</td>\n",
       "      <td>166341.667217</td>\n",
       "    </tr>\n",
       "  </tbody>\n",
       "</table>\n",
       "</div>"
      ],
      "text/plain": [
       "     Id      SalePrice\n",
       "0  2658  148006.978722\n",
       "1  2718  194634.183135\n",
       "2  2414  190938.058257\n",
       "3  1989  117556.390906\n",
       "4   625  166341.667217"
      ]
     },
     "execution_count": 326,
     "metadata": {},
     "output_type": "execute_result"
    }
   ],
   "source": [
    "submission.head()"
   ]
  },
  {
   "cell_type": "code",
   "execution_count": 327,
   "metadata": {},
   "outputs": [],
   "source": [
    "RMSE = np.sqrt(metrics.mean_squared_error(y_test, predictions)) #root mean squared error"
   ]
  },
  {
   "cell_type": "code",
   "execution_count": 328,
   "metadata": {},
   "outputs": [
    {
     "data": {
      "text/plain": [
       "30131.62653979677"
      ]
     },
     "execution_count": 328,
     "metadata": {},
     "output_type": "execute_result"
    }
   ],
   "source": [
    "RMSE"
   ]
  },
  {
   "cell_type": "code",
   "execution_count": 329,
   "metadata": {},
   "outputs": [],
   "source": [
    "submission.to_csv('submission_21Nov_final', index=False)"
   ]
  },
  {
   "cell_type": "code",
   "execution_count": 330,
   "metadata": {},
   "outputs": [
    {
     "data": {
      "text/plain": [
       "Id                   int64\n",
       "PID                  int64\n",
       "MS SubClass          int64\n",
       "MS Zoning           object\n",
       "Lot Frontage       float64\n",
       "Lot Area             int64\n",
       "Street              object\n",
       "Alley               object\n",
       "Lot Shape           object\n",
       "Land Contour        object\n",
       "Utilities           object\n",
       "Lot Config          object\n",
       "Land Slope          object\n",
       "Neighborhood        object\n",
       "Condition 1         object\n",
       "Condition 2         object\n",
       "Bldg Type           object\n",
       "House Style         object\n",
       "Overall Qual         int64\n",
       "Overall Cond         int64\n",
       "Year Built           int64\n",
       "Year Remod/Add       int64\n",
       "Roof Style          object\n",
       "Roof Matl           object\n",
       "Exterior 1st        object\n",
       "Exterior 2nd        object\n",
       "Mas Vnr Type        object\n",
       "Mas Vnr Area       float64\n",
       "Exter Qual          object\n",
       "Exter Cond          object\n",
       "Foundation          object\n",
       "Bsmt Qual           object\n",
       "Bsmt Cond           object\n",
       "Bsmt Exposure       object\n",
       "BsmtFin Type 1      object\n",
       "BsmtFin SF 1       float64\n",
       "BsmtFin Type 2      object\n",
       "BsmtFin SF 2       float64\n",
       "Bsmt Unf SF        float64\n",
       "Total Bsmt SF      float64\n",
       "Heating             object\n",
       "Heating QC          object\n",
       "Central Air         object\n",
       "Electrical          object\n",
       "1st Flr SF           int64\n",
       "2nd Flr SF           int64\n",
       "Low Qual Fin SF      int64\n",
       "Gr Liv Area          int64\n",
       "Bsmt Full Bath     float64\n",
       "Bsmt Half Bath     float64\n",
       "Full Bath            int64\n",
       "Half Bath            int64\n",
       "Bedroom AbvGr        int64\n",
       "Kitchen AbvGr        int64\n",
       "Kitchen Qual        object\n",
       "TotRms AbvGrd        int64\n",
       "Functional          object\n",
       "Fireplaces           int64\n",
       "Fireplace Qu        object\n",
       "Garage Type         object\n",
       "Garage Yr Blt      float64\n",
       "Garage Finish       object\n",
       "Garage Cars        float64\n",
       "Garage Area        float64\n",
       "Garage Qual         object\n",
       "Garage Cond         object\n",
       "Paved Drive         object\n",
       "Wood Deck SF         int64\n",
       "Open Porch SF        int64\n",
       "Enclosed Porch       int64\n",
       "3Ssn Porch           int64\n",
       "Screen Porch         int64\n",
       "Pool Area            int64\n",
       "Pool QC             object\n",
       "Fence               object\n",
       "Misc Feature        object\n",
       "Misc Val             int64\n",
       "Mo Sold              int64\n",
       "Yr Sold              int64\n",
       "Sale Type           object\n",
       "SalePrice            int64\n",
       "dtype: object"
      ]
     },
     "execution_count": 330,
     "metadata": {},
     "output_type": "execute_result"
    }
   ],
   "source": [
    "#Data Dictionary for README\n",
    "pd.options.display.max_rows = 200\n",
    "train.dtypes"
   ]
  }
 ],
 "metadata": {
  "kernelspec": {
   "display_name": "Python 3",
   "language": "python",
   "name": "python3"
  },
  "language_info": {
   "codemirror_mode": {
    "name": "ipython",
    "version": 3
   },
   "file_extension": ".py",
   "mimetype": "text/x-python",
   "name": "python",
   "nbconvert_exporter": "python",
   "pygments_lexer": "ipython3",
   "version": "3.6.5"
  }
 },
 "nbformat": 4,
 "nbformat_minor": 2
}
