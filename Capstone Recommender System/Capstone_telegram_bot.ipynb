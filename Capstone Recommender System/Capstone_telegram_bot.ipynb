{
 "cells": [
  {
   "cell_type": "code",
   "execution_count": 1,
   "metadata": {},
   "outputs": [],
   "source": [
    "import telegram\n",
    "from telegram.ext import Updater, CommandHandler, CallbackQueryHandler, ConversationHandler, MessageHandler, Filters"
   ]
  },
  {
   "cell_type": "code",
   "execution_count": 2,
   "metadata": {},
   "outputs": [],
   "source": [
    "import random\n",
    "from random import randint"
   ]
  },
  {
   "cell_type": "code",
   "execution_count": 3,
   "metadata": {},
   "outputs": [],
   "source": [
    "import pandas as pd\n",
    "df_bot_pv = pd.read_csv('./dfpv.csv')\n",
    "df_bot_cart = pd.read_csv('./dfcart.csv')\n",
    "df_bot_fav = pd.read_csv('./dffav.csv')\n",
    "df_bot_buy = pd.read_csv('./dfbuy.csv')"
   ]
  },
  {
   "cell_type": "code",
   "execution_count": 4,
   "metadata": {
    "scrolled": true
   },
   "outputs": [
    {
     "data": {
      "text/html": [
       "<div>\n",
       "<style scoped>\n",
       "    .dataframe tbody tr th:only-of-type {\n",
       "        vertical-align: middle;\n",
       "    }\n",
       "\n",
       "    .dataframe tbody tr th {\n",
       "        vertical-align: top;\n",
       "    }\n",
       "\n",
       "    .dataframe thead th {\n",
       "        text-align: right;\n",
       "    }\n",
       "</style>\n",
       "<table border=\"1\" class=\"dataframe\">\n",
       "  <thead>\n",
       "    <tr style=\"text-align: right;\">\n",
       "      <th></th>\n",
       "      <th>User ID</th>\n",
       "      <th>Item ID</th>\n",
       "    </tr>\n",
       "  </thead>\n",
       "  <tbody>\n",
       "    <tr>\n",
       "      <th>0</th>\n",
       "      <td>0</td>\n",
       "      <td>63280</td>\n",
       "    </tr>\n",
       "    <tr>\n",
       "      <th>1</th>\n",
       "      <td>0</td>\n",
       "      <td>106350</td>\n",
       "    </tr>\n",
       "    <tr>\n",
       "      <th>2</th>\n",
       "      <td>0</td>\n",
       "      <td>104880</td>\n",
       "    </tr>\n",
       "    <tr>\n",
       "      <th>3</th>\n",
       "      <td>0</td>\n",
       "      <td>105712</td>\n",
       "    </tr>\n",
       "    <tr>\n",
       "      <th>4</th>\n",
       "      <td>0</td>\n",
       "      <td>97740</td>\n",
       "    </tr>\n",
       "  </tbody>\n",
       "</table>\n",
       "</div>"
      ],
      "text/plain": [
       "   User ID  Item ID\n",
       "0        0    63280\n",
       "1        0   106350\n",
       "2        0   104880\n",
       "3        0   105712\n",
       "4        0    97740"
      ]
     },
     "execution_count": 4,
     "metadata": {},
     "output_type": "execute_result"
    }
   ],
   "source": [
    "#This csv shows us the top 10 recommended items for page views for each existing user.\n",
    "df_bot_pv.head()"
   ]
  },
  {
   "cell_type": "code",
   "execution_count": 5,
   "metadata": {},
   "outputs": [
    {
     "data": {
      "text/html": [
       "<div>\n",
       "<style scoped>\n",
       "    .dataframe tbody tr th:only-of-type {\n",
       "        vertical-align: middle;\n",
       "    }\n",
       "\n",
       "    .dataframe tbody tr th {\n",
       "        vertical-align: top;\n",
       "    }\n",
       "\n",
       "    .dataframe thead th {\n",
       "        text-align: right;\n",
       "    }\n",
       "</style>\n",
       "<table border=\"1\" class=\"dataframe\">\n",
       "  <thead>\n",
       "    <tr style=\"text-align: right;\">\n",
       "      <th></th>\n",
       "      <th>User ID</th>\n",
       "      <th>Item ID</th>\n",
       "    </tr>\n",
       "  </thead>\n",
       "  <tbody>\n",
       "    <tr>\n",
       "      <th>0</th>\n",
       "      <td>0</td>\n",
       "      <td>234086</td>\n",
       "    </tr>\n",
       "    <tr>\n",
       "      <th>1</th>\n",
       "      <td>0</td>\n",
       "      <td>78037</td>\n",
       "    </tr>\n",
       "    <tr>\n",
       "      <th>2</th>\n",
       "      <td>0</td>\n",
       "      <td>78035</td>\n",
       "    </tr>\n",
       "    <tr>\n",
       "      <th>3</th>\n",
       "      <td>0</td>\n",
       "      <td>78034</td>\n",
       "    </tr>\n",
       "    <tr>\n",
       "      <th>4</th>\n",
       "      <td>0</td>\n",
       "      <td>78033</td>\n",
       "    </tr>\n",
       "  </tbody>\n",
       "</table>\n",
       "</div>"
      ],
      "text/plain": [
       "   User ID  Item ID\n",
       "0        0   234086\n",
       "1        0    78037\n",
       "2        0    78035\n",
       "3        0    78034\n",
       "4        0    78033"
      ]
     },
     "execution_count": 5,
     "metadata": {},
     "output_type": "execute_result"
    }
   ],
   "source": [
    "#This csv shows us the top 10 recommended items for add to cart for each existing user.\n",
    "df_bot_cart.head()"
   ]
  },
  {
   "cell_type": "code",
   "execution_count": 6,
   "metadata": {},
   "outputs": [
    {
     "data": {
      "text/html": [
       "<div>\n",
       "<style scoped>\n",
       "    .dataframe tbody tr th:only-of-type {\n",
       "        vertical-align: middle;\n",
       "    }\n",
       "\n",
       "    .dataframe tbody tr th {\n",
       "        vertical-align: top;\n",
       "    }\n",
       "\n",
       "    .dataframe thead th {\n",
       "        text-align: right;\n",
       "    }\n",
       "</style>\n",
       "<table border=\"1\" class=\"dataframe\">\n",
       "  <thead>\n",
       "    <tr style=\"text-align: right;\">\n",
       "      <th></th>\n",
       "      <th>User ID</th>\n",
       "      <th>Item ID</th>\n",
       "    </tr>\n",
       "  </thead>\n",
       "  <tbody>\n",
       "    <tr>\n",
       "      <th>0</th>\n",
       "      <td>0</td>\n",
       "      <td>234053</td>\n",
       "    </tr>\n",
       "    <tr>\n",
       "      <th>1</th>\n",
       "      <td>0</td>\n",
       "      <td>78026</td>\n",
       "    </tr>\n",
       "    <tr>\n",
       "      <th>2</th>\n",
       "      <td>0</td>\n",
       "      <td>78024</td>\n",
       "    </tr>\n",
       "    <tr>\n",
       "      <th>3</th>\n",
       "      <td>0</td>\n",
       "      <td>78023</td>\n",
       "    </tr>\n",
       "    <tr>\n",
       "      <th>4</th>\n",
       "      <td>0</td>\n",
       "      <td>78022</td>\n",
       "    </tr>\n",
       "  </tbody>\n",
       "</table>\n",
       "</div>"
      ],
      "text/plain": [
       "   User ID  Item ID\n",
       "0        0   234053\n",
       "1        0    78026\n",
       "2        0    78024\n",
       "3        0    78023\n",
       "4        0    78022"
      ]
     },
     "execution_count": 6,
     "metadata": {},
     "output_type": "execute_result"
    }
   ],
   "source": [
    "#This csv shows us the top 10 recommended items for favorites for each existing user.\n",
    "df_bot_fav.head()"
   ]
  },
  {
   "cell_type": "code",
   "execution_count": 7,
   "metadata": {
    "scrolled": true
   },
   "outputs": [
    {
     "data": {
      "text/html": [
       "<div>\n",
       "<style scoped>\n",
       "    .dataframe tbody tr th:only-of-type {\n",
       "        vertical-align: middle;\n",
       "    }\n",
       "\n",
       "    .dataframe tbody tr th {\n",
       "        vertical-align: top;\n",
       "    }\n",
       "\n",
       "    .dataframe thead th {\n",
       "        text-align: right;\n",
       "    }\n",
       "</style>\n",
       "<table border=\"1\" class=\"dataframe\">\n",
       "  <thead>\n",
       "    <tr style=\"text-align: right;\">\n",
       "      <th></th>\n",
       "      <th>User ID</th>\n",
       "      <th>Item ID</th>\n",
       "    </tr>\n",
       "  </thead>\n",
       "  <tbody>\n",
       "    <tr>\n",
       "      <th>0</th>\n",
       "      <td>0</td>\n",
       "      <td>234094</td>\n",
       "    </tr>\n",
       "    <tr>\n",
       "      <th>1</th>\n",
       "      <td>0</td>\n",
       "      <td>78040</td>\n",
       "    </tr>\n",
       "    <tr>\n",
       "      <th>2</th>\n",
       "      <td>0</td>\n",
       "      <td>78038</td>\n",
       "    </tr>\n",
       "    <tr>\n",
       "      <th>3</th>\n",
       "      <td>0</td>\n",
       "      <td>78037</td>\n",
       "    </tr>\n",
       "    <tr>\n",
       "      <th>4</th>\n",
       "      <td>0</td>\n",
       "      <td>78036</td>\n",
       "    </tr>\n",
       "  </tbody>\n",
       "</table>\n",
       "</div>"
      ],
      "text/plain": [
       "   User ID  Item ID\n",
       "0        0   234094\n",
       "1        0    78040\n",
       "2        0    78038\n",
       "3        0    78037\n",
       "4        0    78036"
      ]
     },
     "execution_count": 7,
     "metadata": {},
     "output_type": "execute_result"
    }
   ],
   "source": [
    "#This csv shows us the top 10 recommended items for purchase for each existing user.\n",
    "df_bot_buy.head()"
   ]
  },
  {
   "cell_type": "code",
   "execution_count": 8,
   "metadata": {},
   "outputs": [],
   "source": [
    "token = '862251474:AAFQTrtrpAaqp5fG5vdPdKuEsUu3xMrACps'\n",
    "updater = Updater(token, use_context=True)"
   ]
  },
  {
   "cell_type": "code",
   "execution_count": 9,
   "metadata": {},
   "outputs": [],
   "source": [
    "FIRST, SECOND = range(2)"
   ]
  },
  {
   "cell_type": "code",
   "execution_count": 10,
   "metadata": {},
   "outputs": [],
   "source": [
    "dispatcher = updater.dispatcher\n",
    "updater.stop()"
   ]
  },
  {
   "cell_type": "code",
   "execution_count": 11,
   "metadata": {},
   "outputs": [
    {
     "name": "stdout",
     "output_type": "stream",
     "text": [
      "{'id': 862251474, 'first_name': 'mytaobao!', 'is_bot': True, 'username': 'mytaobao2020_bot'}\n"
     ]
    }
   ],
   "source": [
    "bot = telegram.Bot(token)\n",
    "print(bot.get_me())"
   ]
  },
  {
   "cell_type": "code",
   "execution_count": 12,
   "metadata": {},
   "outputs": [],
   "source": [
    "#display taobao welcome photo at /start\n",
    "def start(update, context):\n",
    "    context.bot.send_photo(chat_id=update.message.chat_id, photo=open('C:/Users/User/Pictures/welcome_taobao.JPG', 'rb'))\n",
    "    context.bot.send_message(chat_id = update.message.chat_id, text = \"Welcome to mytaobao! We provide you recommendations on taobao products for your consideration!\"+\"\\n\\n\"+\"To facilitate your user experience, feel free to explore our list of commands below anytime you wish to do so!\"+ \"\\n\\n\" + \"/start : to start mytaobao bot!\"+\"\\n\"+ \"/help : our friendly bot will assist you in answering a list of common FAQs!\"+\"\\n\"+\"/links : photos and URLs to our top 10 best selling products!\"+\"\\n\"+\"/exit : there is always a time to say goodbye. Hope we have served you well!\"+\"\\n\\n\"+\" Firstly, how may I address you?\")\n",
    "    return FIRST"
   ]
  },
  {
   "cell_type": "code",
   "execution_count": 13,
   "metadata": {},
   "outputs": [],
   "source": [
    "def name(txt):\n",
    "    return \"Hi \"+ str(txt)+ \"! \" + \"If you have not registered an account with us, kindly do so first via the command '/register'. Otherwise, please provide us your User ID.\""
   ]
  },
  {
   "cell_type": "code",
   "execution_count": 14,
   "metadata": {
    "scrolled": true
   },
   "outputs": [
    {
     "data": {
      "text/plain": [
       "\"Hi Shauna! If you have not registered an account with us, kindly do so first via the command '/register'. Otherwise, please provide us your User ID.\""
      ]
     },
     "execution_count": 14,
     "metadata": {},
     "output_type": "execute_result"
    }
   ],
   "source": [
    "name('Shauna')"
   ]
  },
  {
   "cell_type": "code",
   "execution_count": 15,
   "metadata": {},
   "outputs": [],
   "source": [
    "random.seed(42)\n",
    "value = randint(4831,5000)\n",
    "def register(update, context):\n",
    "    context.bot.send_message(chat_id=update.message.chat_id, text = \"You are now a registered user! Your User ID is: \"+ str(value) + \". Now, please login by entering your given user ID:\")"
   ]
  },
  {
   "cell_type": "code",
   "execution_count": 16,
   "metadata": {},
   "outputs": [],
   "source": [
    "register_command_handler = CommandHandler('register', register)\n",
    "dispatcher.add_handler(register_command_handler)"
   ]
  },
  {
   "cell_type": "code",
   "execution_count": 17,
   "metadata": {},
   "outputs": [],
   "source": [
    "def response(num):\n",
    "    try:\n",
    "        if num.isdigit() == False:\n",
    "            return 'Invalid input. Please key in valid User ID.'\n",
    "        #existing user ids fall within 0 to 4830.\n",
    "        if int(num) in range(0,4831):\n",
    "            \n",
    "            #case 1: pv + cart + fav + buy\n",
    "            if int(num) in df_bot_pv['User ID'].unique():\n",
    "                if int(num) in df_bot_cart['User ID'].unique():\n",
    "                    if int(num) in df_bot_fav['User ID'].unique():\n",
    "                        if int(num) in df_bot_buy['User ID'].unique():\n",
    "                            return 'Welcome back! Based on your past consumer history, we wish to recommend the following items to you:  \\n\\n'+ 'Top 10 most viewed items: ' + str(list(df_bot_pv[df_bot_pv['User ID']==int(num)]['Item ID'])) + '\\n\\n Top 10 most add to cart items: ' + str(list(df_bot_cart[df_bot_cart['User ID']==int(num)]['Item ID'])) + ' \\n\\n Top 10 most favorite items: ' + str(list(df_bot_fav[df_bot_fav['User ID']==int(num)]['Item ID'])) + ' \\n\\n Top 10 most bought items: ' + str(list(df_bot_buy[df_bot_buy['User ID']==int(num)]['Item ID']))\n",
    "                            \n",
    "\n",
    "            #case 2: pv + fav\n",
    "            if int(num) in df_bot_pv['User ID'].unique():\n",
    "                if int(num) in df_bot_fav['User ID'].unique():\n",
    "                    return 'Welcome back! Based on your past consumer history, we wish to recommend the following items to you:  \\n\\n' + 'Top 10 most viewed items: ' + str(list(df_bot_pv[df_bot_pv['User ID']==int(num)]['Item ID'])) + '\\n\\n Top 10 most favorite items: ' + str(list(df_bot_fav[df_bot_fav['User ID']==int(num)]['Item ID']))\n",
    "    \n",
    "            #case 3: pv + cart\n",
    "            if int(num) in df_bot_pv['User ID'].unique():\n",
    "                if int(num) in df_bot_cart['User ID'].unique():\n",
    "                    return 'Welcome back! Based on your past consumer history, we wish to recommend the following items to you:  \\n\\n' + 'Top 10 most viewed items: ' + str(list(df_bot_pv[df_bot_pv['User ID']==int(num)]['Item ID'])) + '\\n\\n Top 10 most add to cart items: ' + str(list(df_bot_cart[df_bot_cart['User ID']==int(num)]['Item ID']))\n",
    "    \n",
    "            #case 4: pv + cart + buy\n",
    "            if int(num) in df_bot_pv['User ID'].unique():\n",
    "                if int(num) in df_bot_cart['User ID'].unique():\n",
    "                    if int(num) in df_bot_buy['User ID'].unique():\n",
    "                        return 'Welcome back! Based on your past consumer history, we wish to recommend the following items to you:  \\n\\n' + 'Top 10 most viewed items: ' + str(list(df_bot_pv[df_bot_pv['User ID']==int(num)]['Item ID'])) + '\\n\\n Top 10 most add to cart items: ' + str(list(df_bot_cart[df_bot_cart['User ID']==int(num)]['Item ID'])) + '\\n\\n Top 10 most bought items: ' + str(list(df_bot_buy[df_bot_buy['User ID']==int(num)]['Item ID']))\n",
    "            \n",
    "            #case 5: pv\n",
    "            if int(num) in df_bot_pv['User ID'].unique():\n",
    "                return 'Welcome back! Based on your past consumer history, we wish to recommend the following items to you:  \\n\\n' + 'Top 10 most viewed items: ' + str(list(df_bot_pv[df_bot_pv['User ID']==int(num)]['Item ID']))\n",
    "         \n",
    "        #recommend top 10 most popular items (consistent for all new users).\n",
    "        #elif int(num)>=4831:\n",
    "        elif int(num) == value:\n",
    "            return 'Thank you for your first visit! We wish to recommend the following items to you: [141515, 3423, 137441, 142407, 115747, 208890, 133969, 47310, 134392, 120665]'\n",
    "        else:\n",
    "            return 'Invalid input. Please key in valid User ID.'\n",
    "    except ValueError:\n",
    "            return 'Invalid input. Please key in valid User ID.'"
   ]
  },
  {
   "cell_type": "code",
   "execution_count": 18,
   "metadata": {
    "scrolled": true
   },
   "outputs": [
    {
     "data": {
      "text/plain": [
       "'Welcome back! Based on your past consumer history, we wish to recommend the following items to you:  \\n\\nTop 10 most viewed items: [103062, 21022, 10850, 69322, 63280, 146537, 34888, 2684, 2915, 38251]\\n\\n Top 10 most add to cart items: [143115, 122416, 192276, 143750, 55661, 215473, 139812, 49661, 195185, 60403] \\n\\n Top 10 most favorite items: [234053, 78026, 78024, 78023, 78022, 78021, 78020, 78019, 78018, 78017] \\n\\n Top 10 most bought items: [113187, 168336, 103130, 153941, 146911, 14242, 11755, 210746, 115747, 197953]'"
      ]
     },
     "execution_count": 18,
     "metadata": {},
     "output_type": "execute_result"
    }
   ],
   "source": [
    "#Test: existing user\n",
    "response('21')"
   ]
  },
  {
   "cell_type": "code",
   "execution_count": 19,
   "metadata": {},
   "outputs": [
    {
     "data": {
      "text/plain": [
       "'Welcome back! Based on your past consumer history, we wish to recommend the following items to you:  \\n\\nTop 10 most viewed items: [36599, 105712, 174403, 142693, 177284, 104880, 218194, 115747, 5124, 10868]'"
      ]
     },
     "execution_count": 19,
     "metadata": {},
     "output_type": "execute_result"
    }
   ],
   "source": [
    "#Test: existing user\n",
    "response('4000')"
   ]
  },
  {
   "cell_type": "code",
   "execution_count": 20,
   "metadata": {
    "scrolled": true
   },
   "outputs": [
    {
     "data": {
      "text/plain": [
       "'Invalid input. Please key in valid User ID.'"
      ]
     },
     "execution_count": 20,
     "metadata": {},
     "output_type": "execute_result"
    }
   ],
   "source": [
    "#Test: new user\n",
    "response('8000')"
   ]
  },
  {
   "cell_type": "code",
   "execution_count": 21,
   "metadata": {
    "scrolled": true
   },
   "outputs": [
    {
     "data": {
      "text/plain": [
       "'Invalid input. Please key in valid User ID.'"
      ]
     },
     "execution_count": 21,
     "metadata": {},
     "output_type": "execute_result"
    }
   ],
   "source": [
    "#Invalid user\n",
    "response('hello')"
   ]
  },
  {
   "cell_type": "code",
   "execution_count": 22,
   "metadata": {},
   "outputs": [
    {
     "data": {
      "text/plain": [
       "'Invalid input. Please key in valid User ID.'"
      ]
     },
     "execution_count": 22,
     "metadata": {},
     "output_type": "execute_result"
    }
   ],
   "source": [
    "#Invalid user\n",
    "response('5.5')"
   ]
  },
  {
   "cell_type": "code",
   "execution_count": 23,
   "metadata": {},
   "outputs": [],
   "source": [
    "def nameMsg(update, context):\n",
    "    user = update.message.from_user\n",
    "    context.bot.send_message(chat_id=update.effective_chat.id, \n",
    "                              text=name(update.message.text))\n",
    "    return SECOND\n",
    "\n"
   ]
  },
  {
   "cell_type": "code",
   "execution_count": 24,
   "metadata": {},
   "outputs": [],
   "source": [
    "def userMsg(update, context):    \n",
    "    user = update.message.from_user\n",
    "    context.bot.send_message(chat_id=update.effective_chat.id, \n",
    "                             # text=update.message.text)\n",
    "                              text=response(update.message.text))   \n",
    "    return \n"
   ]
  },
  {
   "cell_type": "code",
   "execution_count": 25,
   "metadata": {},
   "outputs": [],
   "source": [
    "#display help message at /help\n",
    "def help(update, context):\n",
    "    context.bot.send_message(chat_id=update.message.chat_id, text = \"Q: What should I do first when I start the bot?\"+ \"\\n\"+\"A: Please key in your name if you have NOT done so.\" + \"\\n\\n\" + \"Q: I have an existing account with taobao. How should I retrieve my recommendations?\" + \"\\n\"+ \"A: If you are an existing user, please key in your user ID between 0 to 4830. We would then recommend you the top 10 items to view/add to cart/favorite/purchase based on your user preference history.\"+ \"\\n\\n\"+ \"Q: I am a new user, how do I get recommendations?\"+ \"\\n\"+ \"A: If you are a new user, we wish to introduce you the top 10 most popular products on our website. Kindly key in your new User ID.\")"
   ]
  },
  {
   "cell_type": "code",
   "execution_count": 26,
   "metadata": {},
   "outputs": [],
   "source": [
    "help_command_handler = CommandHandler('help', help)\n",
    "dispatcher.add_handler(help_command_handler)"
   ]
  },
  {
   "cell_type": "code",
   "execution_count": 27,
   "metadata": {},
   "outputs": [],
   "source": [
    "#display taobao goodbye photo at /exit\n",
    "def exit(update, context):\n",
    "    context.bot.send_photo(chat_id=update.message.chat_id, photo=open('C:/Users/User/Pictures/byetaobao.JPG', 'rb'))\n",
    "    context.bot.send_message(chat_id=update.message.chat_id, text = \"Kindly press Ctrl-C on the command line to stop the bot.\")"
   ]
  },
  {
   "cell_type": "code",
   "execution_count": 28,
   "metadata": {},
   "outputs": [],
   "source": [
    "end_command_handler = CommandHandler('exit', exit)\n",
    "dispatcher.add_handler(end_command_handler)\n"
   ]
  },
  {
   "cell_type": "code",
   "execution_count": 29,
   "metadata": {},
   "outputs": [],
   "source": [
    "#NOTE: newly added func\n",
    "def links(update, context):\n",
    "    context.bot.send_message(chat_id=update.message.chat_id, text = \"Here are the photos and corresponding URLs to our top 10 hot sellers of all time! (In order of priority):\" + \"\\n\\n\")\n",
    "    \n",
    "    #item 1\n",
    "    context.bot.send_photo(chat_id=update.message.chat_id, photo=open('C:/Users/User/Pictures/item1.JPG', 'rb'))\n",
    "    context.bot.send_message(chat_id=update.message.chat_id, text = \"https://detail.tmall.com/item.htm?spm=a212uc.12510681.1265890180.7.39485e74n6S3dK&acm=lb-zebra-445083-5913228.1003.4.7108901&id=586564770220&scm=1003.4.lb-zebra-445083-5913228.ITEM_586564770220_7108901\")   \n",
    "    #item 2\n",
    "    context.bot.send_photo(chat_id=update.message.chat_id, photo=open('C:/Users/User/Pictures/item2.JPG', 'rb'))\n",
    "    context.bot.send_message(chat_id=update.message.chat_id, text = \"https://detail.tmall.com/item.htm?spm=a212uc.12510681.1265890180.7.39485e74n6S3dK&acm=lb-zebra-445083-5913228.1003.4.7108901&id=586564770220&scm=1003.4.lb-zebra-445083-5913228.ITEM_586564770220_7108901\")\n",
    "    #item 3\n",
    "    context.bot.send_photo(chat_id=update.message.chat_id, photo=open('C:/Users/User/Pictures/item3.JPG', 'rb'))\n",
    "    context.bot.send_message(chat_id=update.message.chat_id, text = \"https://detail.tmall.com/item.htm?spm=a212uc.12510681.2367201086.3.39485e74n6S3dK&acm=lb-zebra-445083-5716819.1003.4.6125562&id=586564418860&scm=1003.4.lb-zebra-445083-5716819.ITEM_586564418860_6125562\")\n",
    "    #item 4\n",
    "    context.bot.send_photo(chat_id=update.message.chat_id, photo=open('C:/Users/User/Pictures/item4.JPG', 'rb'))\n",
    "    context.bot.send_message(chat_id=update.message.chat_id, text = \"https://detail.tmall.com/item.htm?spm=a212uc.12510681.6374292700.4.39485e74n6S3dK&acm=lb-zebra-445083-5716948.1003.4.5193416&id=595307672021&scm=1003.4.lb-zebra-445083-5716948.ITEM_595307672021_5193416\")\n",
    "    #item 5\n",
    "    context.bot.send_photo(chat_id=update.message.chat_id, photo=open('C:/Users/User/Pictures/item5.JPG', 'rb'))\n",
    "    context.bot.send_message(chat_id=update.message.chat_id, text = \"https://detail.tmall.com/item.htm?spm=a212uc.12510681.5727280828.7.39485e74n6S3dK&acm=lb-zebra-445083-5716793.1003.4.7108930&id=592122594102&scm=1003.4.lb-zebra-445083-5716793.ITEM_592122594102_7108930&sku_properties=5919063:6536025\")\n",
    "    #item 6\n",
    "    context.bot.send_photo(chat_id=update.message.chat_id, photo=open('C:/Users/User/Pictures/item6.JPG', 'rb'))\n",
    "    context.bot.send_message(chat_id=update.message.chat_id, text = \"https://detail.tmall.com/item.htm?spm=a212uc.12510681.8876145820.2.39485e74n6S3dK&acm=lb-zebra-445083-6769395.1003.4.7108867&id=602405659594&scm=1003.4.lb-zebra-445083-6769395.ITEM_602405659594_7108867&skuId=4212029860055\")\n",
    "    #item7\n",
    "    context.bot.send_photo(chat_id=update.message.chat_id, photo=open('C:/Users/User/Pictures/item7.JPG', 'rb'))\n",
    "    context.bot.send_message(chat_id=update.message.chat_id, text = \"https://detail.tmall.com/item.htm?spm=a212uc.12510681.2576255250.11.39485e74n6S3dK&acm=lb-zebra-445083-5716892.1003.4.6125538&id=585357737845&scm=1003.4.lb-zebra-445083-5716892.ITEM_585357737845_6125538&skuId=3965591493646\")\n",
    "    #item8\n",
    "    context.bot.send_photo(chat_id=update.message.chat_id, photo=open('C:/Users/User/Pictures/item8.JPG', 'rb'))\n",
    "    context.bot.send_message(chat_id=update.message.chat_id, text = \"https://detail.tmall.com/item.htm?spm=a212uc.12510681.7655910553.7.39485e74n6S3dK&acm=lb-zebra-445083-6165048.1003.4.6125542&id=587890253558&scm=1003.4.lb-zebra-445083-6165048.ITEM_587890253558_6125542&skuId=4172459150483\")\n",
    "    #item9\n",
    "    context.bot.send_photo(chat_id=update.message.chat_id, photo=open('C:/Users/User/Pictures/item9.JPG', 'rb'))\n",
    "    context.bot.send_message(chat_id=update.message.chat_id, text = \"https://detail.tmall.com/item.htm?spm=a212uc.12510681.8370422910.3.39485e74n6S3dK&pos=3&acm=lb-zebra-445083-5732421.1003.1.5206150&id=585638271367&scm=1007.13976.92121.0\")\n",
    "    #item10\n",
    "    context.bot.send_photo(chat_id=update.message.chat_id, photo=open('C:/Users/User/Pictures/item10.JPG', 'rb'))\n",
    "    context.bot.send_message(chat_id=update.message.chat_id, text = \"https://detail.tmall.com/item.htm?spm=a212uc.12510681.4533881272.9.39485e74n6S3dK&acm=lb-zebra-445083-5716928.1003.4.6125595&id=585492550504&scm=1003.4.lb-zebra-445083-5716928.ITEM_585492550504_6125595&sku_properties=1627207:11010012\")"
   ]
  },
  {
   "cell_type": "code",
   "execution_count": 30,
   "metadata": {},
   "outputs": [],
   "source": [
    "links_command_handler = CommandHandler('links', links)\n",
    "dispatcher.add_handler(links_command_handler)"
   ]
  },
  {
   "cell_type": "code",
   "execution_count": 31,
   "metadata": {},
   "outputs": [],
   "source": [
    "conv_handler = ConversationHandler(\n",
    "    entry_points=[CommandHandler('start', start), CommandHandler('help', help), CommandHandler('links', links)],\n",
    "    states={\n",
    "        FIRST: [MessageHandler(Filters.text, nameMsg, pass_user_data=True), CommandHandler('help', help), CommandHandler('links', links), CommandHandler('register',register)],\n",
    "        SECOND: [MessageHandler(Filters.text, userMsg, pass_user_data=True), CommandHandler('help', help), CommandHandler('links', links)]\n",
    "    },\n",
    "    fallbacks=[CommandHandler('exit', exit)]\n",
    ")"
   ]
  },
  {
   "cell_type": "code",
   "execution_count": 32,
   "metadata": {},
   "outputs": [],
   "source": [
    "dispatcher.add_handler(conv_handler)"
   ]
  },
  {
   "cell_type": "code",
   "execution_count": 33,
   "metadata": {},
   "outputs": [
    {
     "data": {
      "text/plain": [
       "<queue.Queue at 0x24da1fa47c8>"
      ]
     },
     "execution_count": 33,
     "metadata": {},
     "output_type": "execute_result"
    }
   ],
   "source": [
    "updater.start_polling()"
   ]
  }
 ],
 "metadata": {
  "kernelspec": {
   "display_name": "Python 3",
   "language": "python",
   "name": "python3"
  },
  "language_info": {
   "codemirror_mode": {
    "name": "ipython",
    "version": 3
   },
   "file_extension": ".py",
   "mimetype": "text/x-python",
   "name": "python",
   "nbconvert_exporter": "python",
   "pygments_lexer": "ipython3",
   "version": "3.7.4"
  }
 },
 "nbformat": 4,
 "nbformat_minor": 2
}
