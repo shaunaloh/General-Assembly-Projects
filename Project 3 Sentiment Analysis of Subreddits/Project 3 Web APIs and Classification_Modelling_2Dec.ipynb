{
 "cells": [
  {
   "cell_type": "markdown",
   "metadata": {},
   "source": [
    "Create and compare two models. One of these must be a Bayes classifier, the other I chose logistic regression."
   ]
  },
  {
   "cell_type": "code",
   "execution_count": 2,
   "metadata": {},
   "outputs": [],
   "source": [
    "import numpy as np\n",
    "import pandas as pd\n",
    "import matplotlib.pyplot as plt\n",
    "from sklearn.feature_extraction.text import CountVectorizer, TfidfVectorizer\n",
    "from sklearn.linear_model import LogisticRegression\n",
    "from sklearn.naive_bayes import MultinomialNB\n",
    "from sklearn.model_selection import train_test_split, GridSearchCV\n",
    "from sklearn import metrics\n",
    "%matplotlib inline"
   ]
  },
  {
   "cell_type": "code",
   "execution_count": 3,
   "metadata": {},
   "outputs": [],
   "source": [
    "pd1 = pd.read_csv('./clean_comments.csv')"
   ]
  },
  {
   "cell_type": "code",
   "execution_count": 4,
   "metadata": {},
   "outputs": [
    {
     "data": {
      "text/html": [
       "<div>\n",
       "<style scoped>\n",
       "    .dataframe tbody tr th:only-of-type {\n",
       "        vertical-align: middle;\n",
       "    }\n",
       "\n",
       "    .dataframe tbody tr th {\n",
       "        vertical-align: top;\n",
       "    }\n",
       "\n",
       "    .dataframe thead th {\n",
       "        text-align: right;\n",
       "    }\n",
       "</style>\n",
       "<table border=\"1\" class=\"dataframe\">\n",
       "  <thead>\n",
       "    <tr style=\"text-align: right;\">\n",
       "      <th></th>\n",
       "      <th>comment</th>\n",
       "      <th>target</th>\n",
       "    </tr>\n",
       "  </thead>\n",
       "  <tbody>\n",
       "    <tr>\n",
       "      <th>0</th>\n",
       "      <td>think able handle really well known vr game be...</td>\n",
       "      <td>0</td>\n",
       "    </tr>\n",
       "    <tr>\n",
       "      <th>1</th>\n",
       "      <td>game tried vr point fix</td>\n",
       "      <td>0</td>\n",
       "    </tr>\n",
       "    <tr>\n",
       "      <th>2</th>\n",
       "      <td>sde still exists waaaaaaaay le pentile screen ...</td>\n",
       "      <td>0</td>\n",
       "    </tr>\n",
       "    <tr>\n",
       "      <th>3</th>\n",
       "      <td>bought rift used never spent dime game market ...</td>\n",
       "      <td>0</td>\n",
       "    </tr>\n",
       "    <tr>\n",
       "      <th>4</th>\n",
       "      <td>nothing real life bother thing made vr time st...</td>\n",
       "      <td>0</td>\n",
       "    </tr>\n",
       "  </tbody>\n",
       "</table>\n",
       "</div>"
      ],
      "text/plain": [
       "                                             comment  target\n",
       "0  think able handle really well known vr game be...       0\n",
       "1                           game tried vr point fix        0\n",
       "2  sde still exists waaaaaaaay le pentile screen ...       0\n",
       "3  bought rift used never spent dime game market ...       0\n",
       "4  nothing real life bother thing made vr time st...       0"
      ]
     },
     "execution_count": 4,
     "metadata": {},
     "output_type": "execute_result"
    }
   ],
   "source": [
    "pd1.head()"
   ]
  },
  {
   "cell_type": "code",
   "execution_count": 5,
   "metadata": {},
   "outputs": [
    {
     "name": "stdout",
     "output_type": "stream",
     "text": [
      "<class 'pandas.core.frame.DataFrame'>\n",
      "RangeIndex: 15906 entries, 0 to 15905\n",
      "Data columns (total 2 columns):\n",
      "comment    15906 non-null object\n",
      "target     15906 non-null int64\n",
      "dtypes: int64(1), object(1)\n",
      "memory usage: 248.6+ KB\n"
     ]
    }
   ],
   "source": [
    "pd1.info()"
   ]
  },
  {
   "cell_type": "code",
   "execution_count": 6,
   "metadata": {
    "scrolled": true
   },
   "outputs": [
    {
     "data": {
      "text/plain": [
       "comment    0\n",
       "target     0\n",
       "dtype: int64"
      ]
     },
     "execution_count": 6,
     "metadata": {},
     "output_type": "execute_result"
    }
   ],
   "source": [
    "pd1.isnull().sum()"
   ]
  },
  {
   "cell_type": "code",
   "execution_count": 7,
   "metadata": {},
   "outputs": [
    {
     "data": {
      "text/plain": [
       "comment    object\n",
       "target      int64\n",
       "dtype: object"
      ]
     },
     "execution_count": 7,
     "metadata": {},
     "output_type": "execute_result"
    }
   ],
   "source": [
    "pd1.dtypes"
   ]
  },
  {
   "cell_type": "markdown",
   "metadata": {},
   "source": [
    "#### Train Test Split"
   ]
  },
  {
   "cell_type": "code",
   "execution_count": 8,
   "metadata": {},
   "outputs": [],
   "source": [
    "#Define Feature Matrix and Target Vector.\n",
    "\n",
    "y = pd1['target']\n",
    "X = pd1['comment']"
   ]
  },
  {
   "cell_type": "code",
   "execution_count": 9,
   "metadata": {},
   "outputs": [
    {
     "data": {
      "text/plain": [
       "0    0.617566\n",
       "1    0.382434\n",
       "Name: target, dtype: float64"
      ]
     },
     "execution_count": 9,
     "metadata": {},
     "output_type": "execute_result"
    }
   ],
   "source": [
    "y.value_counts(normalize=True)"
   ]
  },
  {
   "cell_type": "code",
   "execution_count": 10,
   "metadata": {},
   "outputs": [],
   "source": [
    "#Create train,test,split.\n",
    "#As oculus and vive classes are imbalanced, I stratified y.\n",
    "\n",
    "X_train, X_test, y_train, y_test = train_test_split(X, y, stratify=y, random_state = 42)"
   ]
  },
  {
   "cell_type": "markdown",
   "metadata": {},
   "source": [
    "#### Tfidf Vectorizer"
   ]
  },
  {
   "cell_type": "code",
   "execution_count": 11,
   "metadata": {},
   "outputs": [],
   "source": [
    "#1000 features, no stop words, ngram range default as 1.\n",
    "#This shall be the vectorizer for my baseline logistic regression model.\n",
    "tvec_b = TfidfVectorizer(max_features = 1000, stop_words = None)"
   ]
  },
  {
   "cell_type": "code",
   "execution_count": 12,
   "metadata": {},
   "outputs": [],
   "source": [
    "#Fitting and transforming train and test data.\n",
    "\n",
    "train_features_b = tvec_b.fit_transform(X_train)\n",
    "\n",
    "test_features_b = tvec_b.transform(X_test)\n",
    "\n",
    "# Convert the result to an array.\n",
    "train_features_b = train_features_b.toarray()"
   ]
  },
  {
   "cell_type": "code",
   "execution_count": 13,
   "metadata": {
    "scrolled": true
   },
   "outputs": [
    {
     "name": "stdout",
     "output_type": "stream",
     "text": [
      "(11929, 1000)\n"
     ]
    }
   ],
   "source": [
    "print(train_features_b.shape)"
   ]
  },
  {
   "cell_type": "code",
   "execution_count": 14,
   "metadata": {},
   "outputs": [
    {
     "name": "stdout",
     "output_type": "stream",
     "text": [
      "(3977, 1000)\n"
     ]
    }
   ],
   "source": [
    "print(test_features_b.shape)"
   ]
  },
  {
   "cell_type": "code",
   "execution_count": 15,
   "metadata": {},
   "outputs": [
    {
     "name": "stdout",
     "output_type": "stream",
     "text": [
      "['aaa', 'ability', 'able', 'absolutely', 'access', 'account', 'action', 'active', 'actual', 'actually', 'adapter', 'add', 'added', 'adjustment', 'advantage', 'afford', 'ago', 'agree', 'ah', 'ai', 'allow', 'allows', 'almost', 'alone', 'along', 'already', 'also', 'although', 'always', 'alyx', 'amazing', 'amazon', 'amd', 'amount', 'announced', 'announcement', 'another', 'answer', 'anymore', 'anyone', 'anything', 'anyway', 'anywhere', 'app', 'appear', 'application', 'apps', 'area', 'argument', 'arm', 'around', 'article', 'asgard', 'ask', 'asking', 'assume', 'audio', 'automatically', 'available', 'aware', 'away', 'awesome', 'back', 'bad', 'barely', 'base', 'based', 'basic', 'basically', 'battery', 'beat', 'beatsaber', 'become', 'behind', 'believe', 'benefit', 'best', 'beta', 'better', 'big', 'bigger', 'biggest', 'bit', 'black', 'blade', 'body', 'boneworks', 'bot', 'bought', 'box', 'brand', 'break', 'bring', 'buck', 'budget', 'bug', 'build', 'building', 'built', 'bunch', 'business', 'button', 'buy', 'buying', 'cable', 'call', 'called', 'came', 'camera', 'campaign', 'cannot', 'cant', 'car', 'card', 'care', 'carmack', 'case', 'casual', 'cause', 'ceiling', 'certain', 'certainly', 'chance', 'change', 'changed', 'channel', 'character', 'cheap', 'cheaper', 'check', 'choice', 'choose', 'clarity', 'clear', 'clearly', 'click', 'clip', 'close', 'co', 'code', 'color', 'com', 'combat', 'come', 'comfort', 'comfortable', 'coming', 'comment', 'common', 'community', 'company', 'compare', 'compared', 'comparison', 'compatible', 'complete', 'completely', 'compose', 'computer', 'concern', 'confirmed', 'connect', 'connected', 'consider', 'considering', 'console', 'consumer', 'contact', 'content', 'control', 'controller', 'conversation', 'cool', 'copy', 'core', 'cosmos', 'cost', 'could', 'country', 'couple', 'course', 'cover', 'cpu', 'crazy', 'create', 'current', 'currently', 'custom', 'customer', 'cut', 'cv', 'da', 'daily', 'damn', 'dangerous', 'dark', 'data', 'date', 'day', 'dead', 'deal', 'decent', 'decided', 'default', 'definitely', 'deluxe', 'demo', 'depends', 'design', 'designed', 'desktop', 'detail', 'dev', 'developer', 'development', 'device', 'devs', 'didnt', 'die', 'difference', 'different', 'difficult', 'direction', 'directly', 'discord', 'discount', 'discussion', 'display', 'distance', 'dk', 'dollar', 'done', 'dont', 'doom', 'door', 'double', 'doubt', 'download', 'dp', 'drive', 'driver', 'drop', 'dude', 'due', 'early', 'easier', 'easily', 'easy', 'ebay', 'echo', 'edge', 'effect', 'effort', 'either', 'elite', 'else', 'en', 'end', 'enemy', 'engine', 'enjoy', 'enough', 'entire', 'environment', 'episode', 'error', 'especially', 'etc', 'even', 'eventually', 'ever', 'every', 'everyone', 'everything', 'exact', 'exactly', 'example', 'except', 'exception', 'excited', 'exclusive', 'expect', 'expected', 'expensive', 'experience', 'extension', 'extra', 'eye', 'face', 'facebook', 'fact', 'fair', 'fairly', 'fan', 'fantastic', 'far', 'fast', 'faster', 'feature', 'feedback', 'feel', 'feeling', 'felt', 'figure', 'file', 'finally', 'find', 'fine', 'finger', 'first', 'fit', 'fix', 'fixed', 'flat', 'floor', 'focus', 'following', 'foot', 'force', 'forget', 'forward', 'found', 'fov', 'fps', 'frame', 'free', 'friday', 'friend', 'front', 'fuck', 'fucking', 'full', 'fully', 'fun', 'future', 'game', 'gameplay', 'gaming', 'gave', 'gb', 'gear', 'gen', 'general', 'generation', 'get', 'getting', 'ghz', 'ginger', 'give', 'given', 'giving', 'glad', 'glass', 'go', 'god', 'going', 'gone', 'gonna', 'good', 'google', 'got', 'gpu', 'grab', 'graphic', 'great', 'grip', 'gtx', 'guess', 'guide', 'gun', 'guy', 'haha', 'half', 'halo', 'hand', 'handle', 'happen', 'happens', 'happy', 'hard', 'hardware', 'hate', 'hdmi', 'head', 'headphone', 'headset', 'hear', 'heard', 'heavy', 'hell', 'help', 'hey', 'hi', 'high', 'higher', 'highly', 'hit', 'hl', 'hmd', 'hold', 'holding', 'home', 'honest', 'honestly', 'hope', 'hopefully', 'hoping', 'hot', 'hour', 'house', 'however', 'htc', 'http', 'huge', 'hundred', 'hurt', 'hype', 'hz', 'id', 'idea', 'im', 'image', 'imagine', 'imgur', 'immersion', 'imo', 'important', 'improve', 'improvement', 'increase', 'index', 'info', 'information', 'input', 'inside', 'install', 'instead', 'interest', 'interested', 'interesting', 'interface', 'internet', 'ipd', 'issue', 'item', 'job', 'jump', 'keep', 'key', 'kid', 'kill', 'killer', 'kind', 'kinda', 'kit', 'know', 'known', 'knuckle', 'lab', 'lack', 'laptop', 'large', 'laser', 'last', 'latency', 'later', 'launch', 'lcd', 'le', 'least', 'leave', 'left', 'length', 'lens', 'let', 'level', 'library', 'life', 'light', 'lighthouse', 'like', 'likely', 'limited', 'line', 'link', 'list', 'literally', 'little', 'live', 'load', 'locale', 'locomotion', 'lol', 'lone', 'long', 'longer', 'look', 'looked', 'looking', 'lost', 'lot', 'love', 'low', 'lower', 'luck', 'made', 'main', 'major', 'make', 'making', 'man', 'many', 'map', 'market', 'massive', 'match', 'matter', 'may', 'maybe', 'mean', 'meant', 'mechanic', 'medium', 'memory', 'mention', 'mentioned', 'menu', 'message', 'might', 'million', 'mind', 'mine', 'minimum', 'minute', 'mm', 'mobile', 'mod', 'mode', 'model', 'moderator', 'moment', 'money', 'monitor', 'month', 'mostly', 'motherboard', 'motion', 'mount', 'move', 'movement', 'movie', 'moving', 'much', 'multiplayer', 'multiple', 'must', 'name', 'native', 'near', 'nearly', 'need', 'needed', 'never', 'new', 'news', 'next', 'nice', 'night', 'nobody', 'non', 'none', 'nope', 'normal', 'note', 'nothing', 'notice', 'noticed', 'number', 'nvidia', 'object', 'obviously', 'oculus', 'offer', 'official', 'often', 'og', 'oh', 'ok', 'okay', 'old', 'oled', 'one', 'online', 'op', 'open', 'opinion', 'option', 'order', 'ordered', 'original', 'others', 'otherwise', 'outside', 'overall', 'owner', 'pack', 'page', 'part', 'party', 'past', 'pavlov', 'pay', 'pc', 'pcvr', 'people', 'per', 'perfect', 'perfectly', 'performance', 'performed', 'person', 'personal', 'personally', 'phone', 'physic', 'physical', 'pick', 'picture', 'pimax', 'pistol', 'pixel', 'place', 'plan', 'platform', 'play', 'played', 'player', 'playing', 'please', 'plenty', 'plug', 'plus', 'point', 'poor', 'popular', 'port', 'portal', 'position', 'possible', 'post', 'posting', 'potential', 'power', 'pre', 'prefer', 'pretty', 'price', 'pro', 'probably', 'problem', 'process', 'product', 'program', 'project', 'proper', 'properly', 'psvr', 'pull', 'purchase', 'push', 'put', 'putting', 'quality', 'quest', 'question', 'quick', 'quickly', 'quite', 'ram', 'range', 'rate', 'rather', 'rd', 'reach', 'read', 'ready', 'real', 'reality', 'really', 'reason', 'recall', 'recently', 'recommend', 'recommended', 'reddit', 'ref', 'refresh', 'refund', 'related', 'release', 'released', 'remember', 'removed', 'rendering', 'replace', 'replacement', 'reply', 'require', 'required', 'requirement', 'requires', 'research', 'resolution', 'rest', 'restrict', 'result', 'return', 'review', 'revive', 'rift', 'right', 'room', 'run', 'running', 'ryzen', 'saber', 'said', 'sale', 'save', 'saw', 'say', 'saying', 'scale', 'scene', 'screen', 'sde', 'search', 'second', 'section', 'see', 'seeing', 'seem', 'seems', 'seen', 'sell', 'selling', 'sense', 'sensor', 'series', 'seriously', 'service', 'session', 'set', 'setting', 'setup', 'several', 'sharing', 'ship', 'shipping', 'shit', 'shooter', 'shooting', 'short', 'shot', 'show', 'sick', 'sickness', 'side', 'signal', 'similar', 'simple', 'simply', 'simulator', 'since', 'single', 'site', 'sitting', 'situation', 'size', 'sky', 'skyrim', 'slightly', 'slot', 'slow', 'small', 'smaller', 'smooth', 'software', 'sold', 'solid', 'solution', 'someone', 'something', 'sometimes', 'somewhere', 'song', 'sony', 'soon', 'sorry', 'sort', 'sound', 'source', 'space', 'spec', 'special', 'specific', 'specifically', 'speed', 'spend', 'spent', 'spot', 'sr', 'stand', 'standard', 'star', 'start', 'started', 'starting', 'state', 'station', 'stay', 'steam', 'steampowered', 'steamvr', 'step', 'stick', 'sticky', 'still', 'stock', 'stop', 'store', 'stormland', 'story', 'straight', 'strap', 'stream', 'streaming', 'studio', 'stuff', 'stupid', 'style', 'sub', 'submission', 'subreddit', 'suck', 'suggest', 'super', 'support', 'supported', 'supposed', 'sure', 'surprised', 'sweet', 'switch', 'system', 'take', 'taking', 'talk', 'talking', 'team', 'tech', 'technology', 'tell', 'term', 'terrible', 'test', 'testing', 'text', 'th', 'thank', 'thanks', 'thats', 'thing', 'think', 'thinking', 'third', 'tho', 'though', 'thought', 'thread', 'three', 'throw', 'ti', 'ticket', 'time', 'tip', 'title', 'today', 'together', 'ton', 'took', 'tool', 'top', 'topic', 'total', 'totally', 'touch', 'track', 'tracker', 'tracking', 'trailer', 'tried', 'trigger', 'true', 'try', 'trying', 'turn', 'turning', 'tv', 'twitter', 'two', 'type', 'uk', 'understand', 'unfortunately', 'unique', 'unit', 'unity', 'unless', 'update', 'updated', 'upgrade', 'upgraded', 'us', 'usb', 'use', 'used', 'useful', 'user', 'using', 'usually', 'value', 'valve', 'version', 'via', 'video', 'view', 'virtual', 'visual', 'visuals', 'vive', 'vorpx', 'vr', 'wait', 'waiting', 'wall', 'wand', 'want', 'wanted', 'war', 'watch', 'watching', 'way', 'weapon', 'wear', 'website', 'week', 'weight', 'weird', 'well', 'went', 'whatever', 'whether', 'whip', 'whole', 'wiki', 'win', 'window', 'wire', 'wired', 'wireless', 'wish', 'within', 'without', 'wmr', 'wonder', 'word', 'work', 'worked', 'working', 'world', 'worry', 'worse', 'worst', 'worth', 'would', 'wow', 'wrath', 'wrong', 'www', 'xbox', 'yea', 'yeah', 'year', 'yep', 'yes', 'yet', 'youtu', 'youtube', 'zero']\n"
     ]
    }
   ],
   "source": [
    "vocab_b = tvec_b.get_feature_names()\n",
    "print(vocab_b)"
   ]
  },
  {
   "cell_type": "markdown",
   "metadata": {},
   "source": [
    "#### Baseline Logistic Regression"
   ]
  },
  {
   "cell_type": "code",
   "execution_count": 16,
   "metadata": {},
   "outputs": [],
   "source": [
    "# Instantiate a Logistic regression model.\n",
    "lr_b = LogisticRegression()"
   ]
  },
  {
   "cell_type": "code",
   "execution_count": 17,
   "metadata": {},
   "outputs": [
    {
     "data": {
      "text/plain": [
       "LogisticRegression(C=1.0, class_weight=None, dual=False, fit_intercept=True,\n",
       "          intercept_scaling=1, max_iter=100, multi_class='ovr', n_jobs=1,\n",
       "          penalty='l2', random_state=None, solver='liblinear', tol=0.0001,\n",
       "          verbose=0, warm_start=False)"
      ]
     },
     "execution_count": 17,
     "metadata": {},
     "output_type": "execute_result"
    }
   ],
   "source": [
    "# Fit the model.\n",
    "lr_b.fit(train_features_b,y_train)"
   ]
  },
  {
   "cell_type": "code",
   "execution_count": 18,
   "metadata": {},
   "outputs": [
    {
     "data": {
      "text/plain": [
       "0.7505239332718585"
      ]
     },
     "execution_count": 18,
     "metadata": {},
     "output_type": "execute_result"
    }
   ],
   "source": [
    "# Evaluate model on training data.\n",
    "lr_b.score(train_features_b, y_train)"
   ]
  },
  {
   "cell_type": "code",
   "execution_count": 19,
   "metadata": {
    "scrolled": true
   },
   "outputs": [
    {
     "data": {
      "text/plain": [
       "0.708825748051295"
      ]
     },
     "execution_count": 19,
     "metadata": {},
     "output_type": "execute_result"
    }
   ],
   "source": [
    "# Evaluate model on testing data.\n",
    "\n",
    "lr_b.score(test_features_b, y_test)"
   ]
  },
  {
   "cell_type": "markdown",
   "metadata": {},
   "source": [
    "This is the baseline logistic regression score which will be used to compare against a logistic regression model (with stop_words and bigram included) and Bayes Classifer."
   ]
  },
  {
   "cell_type": "markdown",
   "metadata": {},
   "source": [
    "#### Tfidf Vectorizer"
   ]
  },
  {
   "cell_type": "code",
   "execution_count": 19,
   "metadata": {},
   "outputs": [],
   "source": [
    "tvec = TfidfVectorizer(max_features = 3000, stop_words = 'english', ngram_range=(1, 2))"
   ]
  },
  {
   "cell_type": "code",
   "execution_count": 20,
   "metadata": {},
   "outputs": [],
   "source": [
    "#Fitting and transforming train and test data.\n",
    "\n",
    "train_features = tvec.fit_transform(X_train)\n",
    "\n",
    "test_features = tvec.transform(X_test)\n",
    "\n",
    "# Convert the result to an array.\n",
    "train_features = train_features.toarray()"
   ]
  },
  {
   "cell_type": "code",
   "execution_count": 21,
   "metadata": {
    "scrolled": true
   },
   "outputs": [
    {
     "name": "stdout",
     "output_type": "stream",
     "text": [
      "(11929, 3000)\n"
     ]
    }
   ],
   "source": [
    "print(train_features.shape)"
   ]
  },
  {
   "cell_type": "code",
   "execution_count": 22,
   "metadata": {},
   "outputs": [
    {
     "name": "stdout",
     "output_type": "stream",
     "text": [
      "(3977, 3000)\n"
     ]
    }
   ],
   "source": [
    "print(test_features.shape)"
   ]
  },
  {
   "cell_type": "code",
   "execution_count": 23,
   "metadata": {},
   "outputs": [
    {
     "name": "stdout",
     "output_type": "stream",
     "text": [
      "['aa', 'aa carmack', 'aaa', 'aaa game', 'aaa title', 'aaa vr', 'aautomoderator', 'aautomoderator sort', 'ability', 'able', 'able play', 'able use', 'abrash', 'absolute', 'absolutely', 'acceptable', 'access', 'accessible', 'accessory', 'accident', 'according', 'account', 'account create', 'accuracy', 'accurate', 'achieve', 'achievement', 'act', 'action', 'action performed', 'active', 'actual', 'actually', 'ad', 'adapter', 'adaptor', 'add', 'added', 'adding', 'addition', 'additional', 'adjust', 'adjustable', 'adjustment', 'admit', 'adoption', 'adult', 'advance', 'advanced', 'advancement', 'advantage', 'adventure', 'advice', 'afaik', 'affect', 'afford', 'affordable', 'afraid', 'age', 'agi', 'ago', 'agree', 'agreed', 'ah', 'ahead', 'ai', 'aim', 'aiming', 'air', 'alien', 'alien isolation', 'allow', 'allowed', 'allowing', 'allows', 'alot', 'alright', 'alternate', 'alternative', 'alvr', 'alyx', 'amazing', 'amazon', 'amazon com', 'amd', 'amd ryzen', 'american', 'android', 'angle', 'anker', 'announced', 'announcement', 'annoying', 'answer', 'answer question', 'anti', 'anymore', 'anytime', 'anytime soon', 'anyways', 'apart', 'api', 'app', 'apparently', 'appeal', 'appear', 'appears', 'apple', 'application', 'applied', 'apply', 'appreciate', 'appreciated', 'approach', 'apps', 'ar', 'arcade', 'architecture', 'area', 'arena', 'arent', 'argue', 'argument', 'arizona', 'arizona sunshine', 'arm', 'arrive', 'arrived', 'arrow', 'art', 'article', 'artifact', 'artificial', 'ascertain', 'ascertain exact', 'asgard', 'asgard wrath', 'aside', 'asin', 'asin title', 'ask', 'asked', 'asking', 'asking exception', 'aspect', 'assassin', 'assassin creed', 'asset', 'assume', 'assuming', 'asus', 'asw', 'atm', 'attach', 'attached', 'attachment', 'attack', 'attempt', 'attempted', 'attention', 'au', 'audience', 'audio', 'audio strap', 'australia', 'author', 'author aautomoderator', 'auto', 'automatically', 'automatically contact', 'automatically removed', 'available', 'avatar', 'average', 'avoid', 'aw', 'aware', 'away', 'awesome', 'awful', 'awhile', 'awkward', 'baby', 'background', 'backwards', 'bad', 'bad review', 'bad thing', 'balance', 'ball', 'band', 'bandwidth', 'bar', 'barely', 'base', 'base station', 'based', 'basestations', 'basic', 'basically', 'battery', 'battery life', 'battle', 'bear', 'beat', 'beat game', 'beat saber', 'beatsaber', 'beautiful', 'beer', 'begin', 'beginning', 'believe', 'benefit', 'best', 'best buy', 'best experience', 'best thing', 'best vr', 'bestbuy', 'bet', 'beta', 'better', 'better cv', 'better experience', 'better game', 'better pcvr', 'better quest', 'better resolution', 'better rift', 'better tracking', 'better vr', 'big', 'big deal', 'big difference', 'bigger', 'biggest', 'billion', 'bios', 'bit', 'bit better', 'black', 'black friday', 'black level', 'black mesa', 'black screen', 'blade', 'blade sorcery', 'blame', 'blast', 'blind', 'block', 'blow', 'blown', 'blue', 'bluetooth', 'blurry', 'board', 'boat', 'body', 'body tracking', 'bomb', 'boneworks', 'book', 'boost', 'borderland', 'boring', 'bos', 'bot', 'bot action', 'bother', 'bothered', 'bottleneck', 'bought', 'bought game', 'bought index', 'bought rift', 'bought vive', 'bound', 'boundary', 'bow', 'box', 'boy', 'braben', 'brain', 'brainer', 'brand', 'brand new', 'break', 'breaker', 'breaking', 'bridge', 'bright', 'bring', 'bringing', 'broke', 'broken', 'brother', 'brought', 'browser', 'browsing', 'brush', 'btw', 'buck', 'bud', 'buddy', 'budget', 'budget cut', 'bug', 'build', 'building', 'built', 'bullet', 'bullshit', 'bump', 'bunch', 'bundle', 'burn', 'business', 'button', 'buy', 'buy game', 'buy index', 'buy new', 'buy oculus', 'buy quest', 'buy rift', 'buy vive', 'buy vr', 'buyer', 'buying', 'buying rift', 'cable', 'calibration', 'called', 'calling', 'came', 'camera', 'campaign', 'canada', 'canadian', 'capability', 'capable', 'car', 'card', 'cardboard', 'care', 'careful', 'carmack', 'carry', 'case', 'cash', 'casual', 'casual conversation', 'casual discussion', 'catch', 'category', 'cause', 'caused', 'causing', 'ceiling', 'cell', 'center', 'certain', 'certainly', 'certified', 'chair', 'challenge', 'challenging', 'chance', 'change', 'changed', 'changing', 'channel', 'character', 'charge', 'charging', 'chat', 'cheap', 'cheaper', 'cheapest', 'check', 'checked', 'checking', 'cheer', 'child', 'china', 'chinese', 'chip', 'choice', 'choose', 'christmas', 'citizen', 'city', 'claim', 'clarify', 'clarity', 'class', 'classic', 'clean', 'cleaner', 'cleaning', 'clear', 'clearer', 'clearly', 'click', 'client', 'climb', 'climbing', 'clip', 'close', 'closed', 'closer', 'closest', 'cloud', 'clue', 'cm', 'code', 'collection', 'color', 'com', 'com app', 'com dp', 'com experience', 'com gp', 'com http', 'com message', 'com oculus', 'com product', 'com thing', 'com vive', 'com watch', 'combat', 'combination', 'combine', 'combined', 'combo', 'come', 'comfort', 'comfortable', 'comfy', 'coming', 'coming soon', 'command', 'comment', 'comment section', 'comment want', 'commercial', 'common', 'community', 'company', 'comparable', 'compare', 'compared', 'comparing', 'comparison', 'compatibility', 'compatible', 'compelling', 'competition', 'competitive', 'complain', 'complaining', 'complaint', 'complete', 'complete pack', 'completely', 'complex', 'complicated', 'component', 'compose', 'compose vive', 'compressed', 'compression', 'compromise', 'computer', 'concept', 'concern', 'concerned', 'condition', 'confident', 'config', 'configuration', 'confirm', 'confirmed', 'confused', 'connect', 'connected', 'connection', 'connector', 'consider', 'considered', 'considering', 'console', 'constant', 'constantly', 'consumer', 'contact', 'contact moderator', 'content', 'context', 'continue', 'contrast', 'control', 'controller', 'controller game', 'controller headset', 'controller use', 'controller vive', 'controller work', 'conversation', 'conversation sticky', 'convinced', 'cool', 'cooler', 'cooling', 'coop', 'copy', 'copy removed', 'cord', 'core', 'corner', 'correct', 'correctly', 'cosmos', 'cost', 'count', 'counter', 'counting', 'country', 'couple', 'couple day', 'couple month', 'couple year', 'course', 'cover', 'cpu', 'cpu gpu', 'crap', 'crappy', 'crash', 'crazy', 'create', 'create submission', 'created', 'creating', 'creative', 'creed', 'critical', 'cross', 'crowd', 'curious', 'current', 'currently', 'curve', 'custom', 'custom song', 'customer', 'cut', 'cv', 'cv quest', 'cv rift', 'cv sensor', 'cycle', 'da', 'daily', 'daily casual', 'damage', 'damaged', 'damn', 'dance', 'dancing', 'dangerous', 'dark', 'dash', 'dashboard', 'data', 'date', 'day', 'day ago', 'ddr', 'dead', 'deal', 'death', 'decade', 'december', 'decent', 'decide', 'decided', 'decision', 'dedicated', 'deep', 'deeper', 'default', 'definitely', 'definition', 'degree', 'delay', 'delayed', 'delete', 'deluxe', 'deluxe audio', 'demand', 'demanding', 'demo', 'depending', 'depends', 'depends game', 'depth', 'described', 'describing', 'description', 'design', 'designed', 'desire', 'desk', 'desktop', 'despite', 'detect', 'dev', 'develop', 'developed', 'developer', 'developing', 'development', 'device', 'devs', 'didnt', 'die', 'died', 'difference', 'different', 'different game', 'differently', 'difficult', 'difficulty', 'digital', 'direct', 'direction', 'directly', 'dirt', 'dirt rally', 'disable', 'disabled', 'disagree', 'disappointed', 'disconnect', 'discontinued', 'discord', 'discount', 'discussion', 'discussion http', 'discussion taking', 'display', 'display port', 'displayport', 'distance', 'distortion', 'dk', 'dlc', 'doesnt', 'dof', 'dog', 'dollar', 'dongle', 'dont', 'dont know', 'dont think', 'dont want', 'doom', 'door', 'door effect', 'double', 'doubt', 'downgrade', 'download', 'downloaded', 'downside', 'downvoted', 'dozen', 'dp', 'draw', 'dream', 'dreamhack', 'drive', 'driver', 'driving', 'drop', 'dropped', 'dropping', 'dt', 'dude', 'dumb', 'dungeon', 'dunno', 'dust', 'dy', 'dying', 'ea', 'ear', 'earlier', 'early', 'early access', 'earth', 'ease', 'easier', 'easily', 'easy', 'ebay', 'echo', 'echo arena', 'ecosystem', 'edge', 'edit', 'edition', 'effect', 'effective', 'effort', 'egpu', 'eh', 'element', 'elite', 'elite dangerous', 'elon', 'email', 'en', 'en http', 'en wikipedia', 'enable', 'enabled', 'encoder', 'encounter', 'end', 'ended', 'enemy', 'energy', 'engine', 'engineer', 'enjoy', 'enjoyed', 'enjoying', 'entertainment', 'enthusiast', 'entire', 'entirely', 'entry', 'environment', 'ep', 'epic', 'episode', 'equal', 'equipment', 'equivalent', 'error', 'especially', 'espire', 'essentially', 'est', 'eu', 'euro', 'europe', 'event', 'eventually', 'everybody', 'evidence', 'evil', 'exact', 'exact requirement', 'exactly', 'example', 'excellent', 'exception', 'exception ascertain', 'excited', 'exciting', 'exclusive', 'exclusive game', 'exclusively', 'exclusivity', 'excuse', 'exe', 'exercise', 'exist', 'existed', 'existing', 'exists', 'expansion', 'expect', 'expectation', 'expected', 'expecting', 'expensive', 'experience', 'experience quest', 'experience rift', 'experienced', 'experiencing', 'expert', 'explain', 'explanation', 'explodes', 'explore', 'exploring', 'extend', 'extended', 'extension', 'extension cable', 'external', 'external sensor', 'extra', 'extremely', 'eye', 'eye tracking', 'face', 'facebook', 'facial', 'facial interface', 'facing', 'fact', 'factor', 'fail', 'failed', 'failure', 'fair', 'fairly', 'fall', 'fallout', 'false', 'familiar', 'family', 'fan', 'fantastic', 'faq', 'far', 'far better', 'fast', 'faster', 'fault', 'favor', 'favorite', 'favourite', 'fb', 'fear', 'feature', 'feedback', 'feel', 'feel like', 'feeling', 'fell', 'felt', 'felt like', 'fi', 'fiber', 'fidelity', 'field', 'field view', 'fight', 'figure', 'figured', 'file', 'filter', 'final', 'finally', 'financial', 'finding', 'fine', 'finger', 'finger tracking', 'finish', 'finished', 'firmware', 'fit', 'fix', 'fixed', 'fixing', 'flagship', 'flash', 'flat', 'flaw', 'flawless', 'flawlessly', 'flight', 'flip', 'floating', 'floor', 'fly', 'flying', 'foam', 'focus', 'focused', 'fog', 'folder', 'folk', 'follow', 'following', 'foot', 'force', 'forced', 'forest', 'forever', 'forget', 'forgot', 'form', 'format', 'forum', 'forward', 'fov', 'foveated', 'foveated rendering', 'fps', 'frame', 'frame rate', 'framerate', 'franchise', 'free', 'free game', 'freedom', 'frequently', 'fresh', 'fresnel', 'friday', 'friday sale', 'friend', 'friendly', 'frustrating', 'ft', 'fuck', 'fucked', 'fucking', 'fully', 'fun', 'fun game', 'function', 'functional', 'functionality', 'fund', 'funded', 'funding', 'funny', 'future', 'fyi', 'gain', 'gallery', 'game', 'game actually', 'game come', 'game developer', 'game feel', 'game free', 'game game', 'game going', 'game good', 'game great', 'game hour', 'game http', 'game like', 'game look', 'game make', 'game need', 'game oculus', 'game pc', 'game people', 'game play', 'game played', 'game pretty', 'game quest', 'game really', 'game released', 'game rift', 'game run', 'game steam', 'game stormland', 'game support', 'game think', 'game time', 'game use', 'game using', 'game valve', 'game vive', 'game vr', 'game want', 'game way', 'game work', 'game year', 'gamepad', 'gameplay', 'gamer', 'gamers', 'gaming', 'gaming pc', 'gap', 'garbage', 'garden', 'garry', 'garry mod', 'gave', 'gb', 'gb memory', 'gb ram', 'gear', 'gear vr', 'gearvr', 'gen', 'general', 'generally', 'generation', 'genius', 'genre', 'germany', 'gesture', 'getting', 'getting index', 'getting rift', 'gg', 'ghz', 'giant', 'gift', 'gimmick', 'ginger', 'ginger beer', 'github', 'github com', 'given', 'giving', 'glad', 'glass', 'glitch', 'glove', 'gmod', 'goal', 'god', 'god ray', 'going', 'gold', 'gone', 'gonna', 'good', 'good game', 'good idea', 'good know', 'good luck', 'good place', 'good point', 'good thing', 'good vr', 'google', 'gorn', 'got', 'got index', 'got quest', 'got rift', 'got vive', 'got vr', 'gotta', 'gotten', 'gp', 'gp product', 'gpu', 'gpus', 'grab', 'grabbed', 'granted', 'graphic', 'graphic card', 'graphic setting', 'graphical', 'great', 'great game', 'great news', 'great vr', 'greater', 'greatly', 'green', 'greeting', 'grenade', 'grey', 'grey screen', 'grip', 'grip button', 'ground', 'group', 'grow', 'growing', 'growth', 'gta', 'gtx', 'gtx ti', 'guarantee', 'guard', 'guardian', 'guess', 'guessing', 'guide', 'guideline', 'gun', 'guy', 'haha', 'half', 'half life', 'halo', 'hand', 'hand tracking', 'handed', 'handle', 'happen', 'happened', 'happening', 'happens', 'happy', 'hard', 'hard drive', 'harder', 'hardware', 'hassle', 'hate', 'hd', 'hdd', 'hdmi', 'head', 'head strap', 'headache', 'headphone', 'headset', 'headset controller', 'headset like', 'headset rift', 'headstrap', 'health', 'hear', 'heard', 'hearing', 'heart', 'heat', 'heavier', 'heavy', 'height', 'held', 'hell', 'hello', 'help', 'helped', 'helpful', 'helping', 'hero', 'hey', 'hi', 'hide', 'high', 'high end', 'high quality', 'high setting', 'higher', 'higher resolution', 'highest', 'highly', 'highly recommend', 'history', 'hit', 'hitting', 'hl', 'hl game', 'hl vr', 'hla', 'hlvr', 'hmd', 'hmds', 'hmm', 'hold', 'holder', 'holding', 'hole', 'holiday', 'holy', 'holy shit', 'home', 'honest', 'honestly', 'hong', 'hong kong', 'honor', 'hook', 'hope', 'hope help', 'hopefully', 'hoping', 'horrible', 'horror', 'host', 'hot', 'hour', 'house', 'hp', 'hp reverb', 'hr', 'htc', 'htc vive', 'html', 'http', 'http en', 'http github', 'http imgur', 'http np', 'http steamcommunity', 'http store', 'http support', 'http twitter', 'http uploadvr', 'http www', 'http youtu', 'hub', 'huge', 'huge difference', 'huh', 'human', 'hurt', 'hype', 'hyped', 'hz', 'icon', 'id', 'id aa', 'idea', 'ideal', 'identical', 'idiot', 'idk', 'ignorant', 'ignore', 'iirc', 'ill', 'im', 'image', 'image quality', 'imagine', 'imgur', 'imgur com', 'imho', 'immediately', 'immersed', 'immersion', 'immersive', 'immortal', 'imo', 'impact', 'implement', 'implementation', 'implemented', 'important', 'impossible', 'impressed', 'impression', 'impressive', 'improve', 'improved', 'improvement', 'improving', 'include', 'included', 'includes', 'including', 'increase', 'increased', 'incredible', 'incredibly', 'index', 'index better', 'index controller', 'index headset', 'index hmd', 'index kit', 'index vive', 'indie', 'individual', 'industry', 'inferior', 'infinity', 'info', 'information', 'initial', 'initially', 'input', 'insane', 'inside', 'inside tracking', 'insight', 'insomniac', 'install', 'installation', 'installed', 'installing', 'instance', 'instantly', 'instead', 'integrated', 'intel', 'intended', 'intense', 'intensive', 'interact', 'interaction', 'interested', 'interesting', 'interface', 'internet', 'interview', 'invest', 'investment', 'involved', 'io', 'ip', 'ipd', 'ipd adjustment', 'iphone', 'ir', 'ish', 'isnt', 'isolation', 'issue', 'item', 'ive', 'janky', 'java', 'jedi', 'jesus', 'job', 'john', 'john carmack', 'join', 'joining', 'joining casual', 'joke', 'joystick', 'jpg', 'jump', 'jumping', 'justify', 'karma', 'karma account', 'keeping', 'kept', 'key', 'keyboard', 'keywords', 'kid', 'kill', 'killed', 'killer', 'killer app', 'killing', 'kind', 'kind thing', 'kinda', 'kinect', 'king', 'kit', 'kiwi', 'knew', 'knob', 'know', 'know people', 'know sure', 'knowing', 'knowledge', 'known', 'knuckle', 'knuckle controller', 'kong', 'kos', 'lab', 'lack', 'lag', 'land', 'language', 'laptop', 'large', 'larger', 'laser', 'late', 'lately', 'latency', 'later', 'latest', 'laugh', 'launch', 'launch day', 'launched', 'launcher', 'launching', 'layer', 'layout', 'lcd', 'le', 'lead', 'leaf', 'league', 'leap', 'learn', 'learned', 'learning', 'leather', 'leave', 'leave comment', 'leaving', 'led', 'left', 'leg', 'length', 'lenovo', 'lens', 'lens mod', 'let', 'let know', 'letting', 'level', 'library', 'license', 'lie', 'life', 'life alyx', 'life game', 'life half', 'life vr', 'light', 'light house', 'lighter', 'lighthouse', 'lighthouse tracking', 'lighting', 'like', 'like asgard', 'like beat', 'like crazy', 'like game', 'like going', 'like half', 'like http', 'like index', 'like new', 'like oculus', 'like people', 'like quest', 'like rift', 'like said', 'like sharing', 'like vive', 'like vr', 'like year', 'liked', 'likely', 'limit', 'limitation', 'limited', 'line', 'link', 'link box', 'link cable', 'link http', 'link quest', 'linked', 'linux', 'list', 'listed', 'listen', 'literally', 'little', 'little bit', 'live', 'living', 'lmao', 'load', 'loading', 'local', 'locale', 'locale en', 'location', 'lock', 'locked', 'locomotion', 'log', 'logic', 'logical', 'lol', 'lone', 'lone echo', 'long', 'long term', 'long time', 'longer', 'longest', 'look', 'look better', 'look good', 'look great', 'look like', 'look really', 'looked', 'looking', 'looking forward', 'loop', 'loose', 'loot', 'lose', 'losing', 'loss', 'lost', 'lot', 'lot better', 'lot fun', 'lot game', 'lot money', 'lot people', 'lot time', 'love', 'loved', 'low', 'low effort', 'low end', 'low karma', 'lower', 'lower resolution', 'luck', 'lucky', 'mac', 'machine', 'mad', 'magic', 'mail', 'main', 'main reason', 'mainly', 'mainstream', 'maintain', 'major', 'majority', 'make', 'make difference', 'make game', 'make sense', 'make sure', 'make vr', 'make work', 'making', 'man', 'man sky', 'manage', 'managed', 'management', 'manager', 'manual', 'manually', 'manufacturer', 'map', 'margin', 'mario', 'mark', 'market', 'marketing', 'mask', 'mass', 'massive', 'master', 'match', 'mate', 'material', 'matter', 'max', 'maybe', 'mean', 'meaning', 'meant', 'measure', 'mechanic', 'medal', 'medal honor', 'medium', 'meet', 'meh', 'meme', 'memory', 'mention', 'mentioned', 'menu', 'mesa', 'mess', 'message', 'message compose', 'message moderator', 'messed', 'metal', 'meter', 'method', 'mic', 'microsoft', 'mid', 'middle', 'million', 'min', 'mind', 'minecraft', 'mini', 'minimal', 'minimal message', 'minimum', 'minimum spec', 'minor', 'minute', 'mirror', 'miss', 'missed', 'missing', 'mission', 'mistake', 'mixed', 'mixed reality', 'mk', 'mm', 'mobile', 'mobility', 'mobo', 'mod', 'mod http', 'mod work', 'modded', 'modding', 'mode', 'model', 'moderator', 'moderator asking', 'moderator subreddit', 'modern', 'module', 'moment', 'money', 'monitor', 'month', 'month ago', 'morning', 'mortal', 'motherboard', 'motion', 'motion control', 'motion controller', 'motion sick', 'motion sickness', 'mount', 'mounted', 'mouse', 'mouse keyboard', 'mouth', 'moved', 'movement', 'movie', 'moving', 'mp', 'msi', 'multi', 'multiplayer', 'multiple', 'multiple time', 'music', 'nah', 'narrative', 'native', 'natively', 'natural', 'naturally', 'nd', 'near', 'nearly', 'neat', 'necessarily', 'necessary', 'need', 'need buy', 'need new', 'need use', 'need vr', 'needed', 'needing', 'negative', 'net', 'network', 'new', 'new cable', 'new game', 'new headset', 'new low', 'new restrict', 'new rift', 'new vr', 'newer', 'news', 'nice', 'nicer', 'niche', 'night', 'nintendo', 'noise', 'non', 'non vr', 'nope', 'normal', 'normally', 'nose', 'note', 'notice', 'notice difference', 'noticeable', 'noticed', 'november', 'nowadays', 'np', 'np reddit', 'npc', 'nr', 'number', 'nvidia', 'object', 'objective', 'obsolete', 'obvious', 'obviously', 'oc', 'occasion', 'oculus', 'oculus com', 'oculus comment', 'oculus exclusive', 'oculus game', 'oculus home', 'oculus link', 'oculus quest', 'oculus rift', 'oculus software', 'oculus store', 'oculus support', 'oculus touch', 'oculus tray', 'oculus vr', 'oculusquest', 'oculusvr', 'odd', 'odyssey', 'offer', 'offering', 'official', 'officially', 'og', 'og rift', 'og vive', 'oh', 'ok', 'ok thanks', 'okay', 'old', 'older', 'oled', 'oled screen', 'online', 'onward', 'op', 'open', 'open world', 'opening', 'opinion', 'opportunity', 'opposite', 'optic', 'optical', 'optimized', 'option', 'option available', 'optional', 'order', 'ordered', 'ordering', 'org', 'org wiki', 'original', 'original rift', 'original vive', 'originally', 'outer', 'output', 'outside', 'overall', 'overpriced', 'owned', 'owner', 'owning', 'pace', 'pack', 'package', 'pad', 'page', 'paid', 'pain', 'paint', 'painting', 'pair', 'palm', 'palmer', 'pancake', 'panel', 'paper', 'par', 'parent', 'partially', 'participate', 'participate comment', 'participation', 'participation requirement', 'particular', 'particularly', 'party', 'pas', 'past', 'past year', 'patch', 'patched', 'path', 'pavlov', 'pay', 'payday', 'paying', 'pc', 'pc game', 'pc gaming', 'pc headset', 'pc quest', 'pc run', 'pc spec', 'pc use', 'pc vr', 'pci', 'pcie', 'pcpartpicker', 'pcpartpicker com', 'pcvr', 'pcvr experience', 'pcvr game', 'pcvr headset', 'pcvr quest', 'pd', 'people', 'people buy', 'people like', 'people need', 'people play', 'people playing', 'people say', 'people saying', 'people vr', 'people want', 'perfect', 'perfectly', 'perfectly fine', 'perform', 'performance', 'performance issue', 'performed', 'performed automatically', 'period', 'peripheral', 'person', 'personal', 'personally', 'perspective', 'pet', 'phone', 'photo', 'physic', 'physical', 'physically', 'pick', 'picked', 'picking', 'picture', 'piece', 'pimax', 'pirate', 'pirate trainer', 'pistol', 'pistol whip', 'pixel', 'place', 'place copy', 'place start', 'plan', 'plane', 'planning', 'plastic', 'platform', 'play', 'play area', 'play game', 'play half', 'play hour', 'play like', 'play pcvr', 'play session', 'play space', 'play vr', 'playable', 'played', 'played game', 'player', 'playing', 'playing game', 'playing vr', 'playspace', 'playstation', 'playtime', 'plenty', 'plug', 'plugged', 'plus', 'pm', 'png', 'pocket', 'point', 'pointing', 'police', 'policy', 'polish', 'polished', 'political', 'poor', 'poorly', 'pop', 'popular', 'port', 'portability', 'portable', 'portal', 'position', 'positive', 'possibility', 'possible', 'possibly', 'post', 'post http', 'posted', 'posting', 'posting unfortunately', 'potential', 'potentially', 'power', 'power supply', 'powerful', 'ppd', 'ppl', 'ppx', 'ppx yo', 'practical', 'practically', 'practice', 'pre', 'pre order', 'prefer', 'preference', 'premium', 'prequel', 'prescription', 'prescription lens', 'presence', 'present', 'press', 'pressure', 'pretty', 'pretty cool', 'pretty fun', 'pretty good', 'pretty great', 'pretty sure', 'prevent', 'previous', 'price', 'price point', 'priced', 'pricing', 'primarily', 'print', 'printed', 'pro', 'pro index', 'pro wireless', 'probably', 'probably best', 'problem', 'process', 'processing', 'processor', 'product', 'production', 'profile', 'profit', 'program', 'progress', 'project', 'promotion', 'proof', 'proper', 'properly', 'prototype', 'provide', 'provided', 'provides', 'psc', 'psvr', 'public', 'publisher', 'pull', 'pulled', 'pulley', 'pulling', 'punch', 'purchase', 'purchased', 'pure', 'purpose', 'push', 'pushed', 'pushing', 'putting', 'puzzle', 'qid', 'quake', 'quality', 'quest', 'quest better', 'quest game', 'quest link', 'quest make', 'quest oculus', 'quest pc', 'quest play', 'quest quest', 'quest rift', 'quest version', 'question', 'question concern', 'quick', 'quicker', 'quickly', 'quite', 'quite bit', 'racing', 'racing game', 'racket', 'rally', 'ram', 'ran', 'random', 'randomly', 'range', 'rare', 'rate', 'ray', 'ray tracing', 'rd', 'rd party', 'reach', 'read', 'reading', 'ready', 'real', 'real life', 'real time', 'real world', 'realistic', 'reality', 'realize', 'realized', 'really', 'really bad', 'really depends', 'really good', 'really great', 'really hard', 'really help', 'really know', 'really like', 'really make', 'really need', 'really nice', 'really really', 'really think', 'really want', 'reason', 'reasonable', 'reboot', 'rec', 'rec room', 'recall', 'received', 'receiver', 'recent', 'recently', 'recommend', 'recommendation', 'recommended', 'record', 'recording', 'red', 'reddit', 'reddit com', 'reduce', 'reduced', 'ref', 'ref ppx', 'ref sr', 'reference', 'referring', 'reflective', 'refresh', 'refresh rate', 'refund', 'refunded', 'refuse', 'regard', 'regarding', 'regardless', 'region', 'regret', 'regular', 'regularly', 'reinstall', 'reinstalling', 'related', 'relative', 'relatively', 'release', 'released', 'releasing', 'relevant', 'remember', 'reminder', 'remindmebot', 'reminds', 'remove', 'removed', 'removed submission', 'removing', 'render', 'rendered', 'rendering', 'repair', 'repetitive', 'replace', 'replaced', 'replacement', 'replacement cable', 'replay', 'reply', 'report', 'reprojection', 'request', 'require', 'required', 'requirement', 'requirement minimal', 'requirement tip', 'requires', 'research', 'reset', 'resistance', 'resolution', 'resource', 'respect', 'response', 'rest', 'restart', 'restrict', 'restrict sr', 'result', 'return', 'returned', 'returning', 'reverb', 'review', 'review game', 'revised', 'revive', 'rgb', 'rhythm', 'rhythm game', 'rid', 'ride', 'ridiculous', 'rifle', 'rift', 'rift better', 'rift cable', 'rift cv', 'rift http', 'rift index', 'rift like', 'rift locale', 'rift look', 'rift oculus', 'rift quest', 'rift rift', 'rift use', 'rift work', 'rig', 'right', 'ring', 'rip', 'risk', 'road', 'robo', 'robo recall', 'robot', 'rock', 'rocket', 'role', 'roll', 'room', 'room scale', 'roomscale', 'rotation', 'round', 'route', 'rts', 'rtx', 'rule', 'rumor', 'run', 'run fine', 'run game', 'running', 'runtime', 'rx', 'ryzen', 'saber', 'sacrifice', 'sad', 'sadly', 'safe', 'said', 'sairento', 'sake', 'sale', 'sam', 'samsung', 'samsung odyssey', 'sandbox', 'satisfied', 'save', 'saved', 'saving', 'saw', 'say', 'saying', 'scale', 'scaling', 'scary', 'scenario', 'scene', 'school', 'science', 'scope', 'score', 'scratch', 'screen', 'screen door', 'sde', 'sdk', 'search', 'search author', 'searching', 'season', 'seated', 'second', 'second hand', 'section', 'section participation', 'seeing', 'seen', 'select', 'self', 'sell', 'seller', 'selling', 'send', 'sense', 'sensitive', 'sensor', 'sent', 'separate', 'separately', 'sequel', 'series', 'seriously', 'server', 'service', 'session', 'set', 'setting', 'setup', 'shaders', 'shadow', 'shame', 'shape', 'share', 'sharing', 'sharing topic', 'sharp', 'sharper', 'shield', 'shift', 'ship', 'shipped', 'shipping', 'shit', 'shitty', 'shoot', 'shooter', 'shooting', 'short', 'shorter', 'shot', 'showed', 'showing', 'shown', 'shut', 'sick', 'sickness', 'sidebar', 'sidequest', 'sight', 'sign', 'signal', 'significant', 'significantly', 'silly', 'sim', 'similar', 'similarly', 'simple', 'simply', 'simply try', 'sims', 'simulation', 'simulator', 'single', 'single player', 'sit', 'site', 'sitting', 'situation', 'size', 'skill', 'skin', 'sky', 'skyrim', 'skyrim vr', 'slide', 'slight', 'slightly', 'slot', 'slow', 'slower', 'slowly', 'small', 'smaller', 'smart', 'smartphone', 'smooth', 'smoother', 'snap', 'social', 'soft', 'software', 'sold', 'solid', 'solution', 'solve', 'solved', 'somebody', 'somewhat', 'son', 'song', 'sony', 'soon', 'sooner', 'sorcery', 'sorry', 'sort', 'sort new', 'sound', 'sound like', 'source', 'space', 'space pirate', 'spare', 'speak', 'speaker', 'speaking', 'spec', 'special', 'specific', 'specifically', 'speculation', 'speed', 'spend', 'spend money', 'spend time', 'spending', 'spent', 'spider', 'spin', 'sport', 'spot', 'squeeze', 'sr', 'sr leave', 'ssd', 'st', 'stable', 'stage', 'stand', 'standalone', 'standard', 'standing', 'star', 'star citizen', 'star review', 'star war', 'start', 'start daily', 'started', 'starter', 'starting', 'state', 'stated', 'statement', 'static', 'station', 'status', 'stay', 'steal', 'stealth', 'steam', 'steam controller', 'steam game', 'steam vr', 'steamcommunity', 'steamcommunity com', 'steampowered', 'steampowered com', 'steamvr', 'steamvr game', 'step', 'stick', 'sticky', 'sticky post', 'stock', 'stomach', 'stop', 'stopped', 'storage', 'store', 'store steampowered', 'stormland', 'stormland asgard', 'stormlands', 'story', 'straight', 'strain', 'strange', 'strap', 'strapped', 'strategy', 'stream', 'streaming', 'strength', 'stretch', 'strip', 'strong', 'stronger', 'strongly', 'struggle', 'struggling', 'stuck', 'student', 'studio', 'stuff', 'stuff like', 'stupid', 'stutter', 'style', 'sub', 'subject', 'subjective', 'submission', 'submission automatically', 'submission vive', 'submit', 'submitted', 'submitting', 'subnautica', 'subpixels', 'subreddit', 'subreddit message', 'subscription', 'substantial', 'success', 'successful', 'suck', 'suddenly', 'suffer', 'suggest', 'suggestion', 'suit', 'sun', 'sunlight', 'sunshine', 'super', 'superhot', 'superior', 'supersampling', 'supply', 'support', 'support oculus', 'support ticket', 'supported', 'supporting', 'suppose', 'supposed', 'supposedly', 'sure', 'surface', 'surprised', 'surprisingly', 'suspect', 'sw', 'swap', 'sweat', 'sweet', 'sweet spot', 'swim', 'swing', 'swinging', 'switch', 'switched', 'switching', 'sword', 'table', 'tactic', 'tag', 'taken', 'taking', 'taking place', 'tale', 'talk', 'talked', 'talking', 'tank', 'tape', 'target', 'task', 'taste', 'tb', 'tbh', 'tea', 'team', 'tech', 'tech demo', 'technical', 'technically', 'technology', 'teleport', 'tell', 'telling', 'tend', 'tennis', 'term', 'terrible', 'test', 'tested', 'testing', 'tethered', 'text', 'texture', 'th', 'thank', 'thanks', 'thanks info', 'thanks posting', 'thanks tip', 'thats', 'theory', 'thief', 'thing', 'thing like', 'thing need', 'thing really', 'thing vr', 'thingiverse', 'thingiverse com', 'think', 'think game', 'think going', 'think need', 'think people', 'think vr', 'thinking', 'tho', 'thought', 'thousand', 'thread', 'thread joining', 'throw', 'throwing', 'thumb', 'thumbstick', 'thunderbolt', 'thursday', 'thx', 'ti', 'ti gb', 'ticket', 'ticket http', 'tight', 'till', 'tilt', 'time', 'time ago', 'time game', 'time play', 'time vr', 'timing', 'tiny', 'tip', 'tip good', 'title', 'title utf', 'today', 'toggle', 'told', 'tomorrow', 'ton', 'tonight', 'took', 'tool', 'topic', 'topic thread', 'total', 'totally', 'touch', 'touch controller', 'touching', 'touchpad', 'tough', 'tpcast', 'tracing', 'track', 'tracked', 'tracker', 'tracking', 'tracking issue', 'trackpad', 'trade', 'trailer', 'train', 'trainer', 'training', 'trash', 'travel', 'traversal', 'tray', 'tray tool', 'tree', 'trend', 'trial', 'trick', 'tried', 'trigger', 'troll', 'trouble', 'troubleshooting', 'true', 'truly', 'trust', 'truth', 'try', 'try vr', 'trying', 'turn', 'turned', 'turning', 'tutorial', 'tv', 'tweak', 'twice', 'twist', 'twitch', 'twitter', 'twitter com', 'type', 'type game', 'typically', 'ue', 'uh', 'ui', 'uk', 'ultimately', 'unable', 'uncomfortable', 'understand', 'understanding', 'unfortunately', 'unfortunately new', 'unfortunately submission', 'uninstall', 'uninstalled', 'unique', 'unit', 'unity', 'universe', 'unless', 'unlike', 'unlikely', 'unlock', 'unplayable', 'unplug', 'unreal', 'untethered', 'upcoming', 'update', 'updated', 'updating', 'upgrade', 'upgrade path', 'upgraded', 'upgrading', 'upload', 'uploadvr', 'uploadvr com', 'ur', 'url', 'usable', 'usage', 'usb', 'usb cable', 'usb card', 'usb port', 'usb usb', 'usd', 'use', 'use case', 'use link', 'use oculus', 'use quest', 'use rift', 'use vive', 'use vr', 'used', 'used vive', 'used vr', 'useful', 'useless', 'user', 'using', 'using link', 'using oculus', 'using quest', 'using vive', 'using vr', 'usual', 'usually', 'utf', 'utf psc', 'utm', 'vader', 'vader immortal', 'value', 'valve', 'valve game', 'valve index', 'variety', 'various', 'vary', 'vast', 'vast majority', 'vastly', 'vd', 'vega', 'velcro', 'version', 'viable', 'vibe', 'vibrant', 'vice', 'video', 'video card', 'video game', 'video http', 'view', 'virtual', 'virtual desktop', 'virtual reality', 'visible', 'vision', 'visual', 'visuals', 'vive', 'vive better', 'vive com', 'vive comment', 'vive controller', 'vive cosmos', 'vive da', 'vive deluxe', 'vive headset', 'vive index', 'vive oculus', 'vive owner', 'vive participate', 'vive pro', 'vive question', 'vive rift', 'vive search', 'vive tracker', 'vive vive', 'vive wand', 'vive wireless', 'vive year', 'vivecraft', 'viveport', 'vives', 'voice', 'volume', 'vorpx', 'vote', 'vr', 'vr content', 'vr cover', 'vr exclusive', 'vr experience', 'vr game', 'vr gaming', 'vr good', 'vr great', 'vr headset', 'vr http', 'vr leg', 'vr lens', 'vr like', 'vr make', 'vr market', 'vr mod', 'vr mode', 'vr need', 'vr pc', 'vr people', 'vr player', 'vr ready', 'vr really', 'vr support', 'vr think', 'vr title', 'vr user', 'vr version', 'vr vr', 'vr work', 'vr year', 'vrchat', 'wait', 'waiting', 'walk', 'walking', 'wall', 'wand', 'wanna', 'want', 'want feel', 'want game', 'want index', 'want know', 'want play', 'want spend', 'want upgrade', 'want use', 'wanted', 'wanting', 'war', 'warning', 'warranty', 'waste', 'wasted', 'watch', 'watched', 'watching', 'water', 'wave', 'way', 'way better', 'way play', 'weak', 'weapon', 'wear', 'wear glass', 'wearing', 'web', 'website', 'week', 'week ago', 'weekend', 'weight', 'weird', 'welcome', 'went', 'whats', 'wheel', 'whip', 'white', 'wide', 'wider', 'wife', 'wifi', 'wiki', 'wikipedia', 'wikipedia org', 'willing', 'win', 'window', 'wire', 'wired', 'wireless', 'wireless adapter', 'wireless kit', 'wireless vive', 'wise', 'wish', 'wmr', 'wmr headset', 'wonder', 'wonderful', 'wondering', 'wont', 'word', 'work', 'work better', 'work fine', 'work game', 'work great', 'work oculus', 'work perfectly', 'work pretty', 'worked', 'worked fine', 'working', 'workshop', 'world', 'worried', 'worry', 'worse', 'worst', 'worth', 'worth money', 'wouldnt', 'wow', 'wrath', 'wrath stormland', 'wrist', 'write', 'writing', 'wrong', 'wrote', 'wtf', 'www', 'www amazon', 'www oculus', 'www reddit', 'www thingiverse', 'www youtube', 'xbox', 'xd', 'ya', 'yea', 'yeah', 'year', 'year ago', 'year later', 'year old', 'yep', 'yes', 'yesterday', 'yo', 'yo dt', 'youre', 'youtu', 'youtube', 'youtube com', 'yup', 'zero', 'zombie']\n"
     ]
    }
   ],
   "source": [
    "vocab = tvec.get_feature_names()\n",
    "print(vocab)"
   ]
  },
  {
   "cell_type": "markdown",
   "metadata": {},
   "source": [
    "#### Logistic Regression"
   ]
  },
  {
   "cell_type": "code",
   "execution_count": 24,
   "metadata": {},
   "outputs": [],
   "source": [
    "# Instantiate a Logistic regression model.\n",
    "lr = LogisticRegression()"
   ]
  },
  {
   "cell_type": "code",
   "execution_count": 25,
   "metadata": {},
   "outputs": [
    {
     "data": {
      "text/plain": [
       "LogisticRegression(C=1.0, class_weight=None, dual=False, fit_intercept=True,\n",
       "          intercept_scaling=1, max_iter=100, multi_class='ovr', n_jobs=1,\n",
       "          penalty='l2', random_state=None, solver='liblinear', tol=0.0001,\n",
       "          verbose=0, warm_start=False)"
      ]
     },
     "execution_count": 25,
     "metadata": {},
     "output_type": "execute_result"
    }
   ],
   "source": [
    "# Fit the model.\n",
    "lr.fit(train_features,y_train)"
   ]
  },
  {
   "cell_type": "code",
   "execution_count": 26,
   "metadata": {},
   "outputs": [
    {
     "data": {
      "text/plain": [
       "0.7809539777014"
      ]
     },
     "execution_count": 26,
     "metadata": {},
     "output_type": "execute_result"
    }
   ],
   "source": [
    "# Evaluate model on training data.\n",
    "lr.score(train_features, y_train)"
   ]
  },
  {
   "cell_type": "code",
   "execution_count": 27,
   "metadata": {
    "scrolled": true
   },
   "outputs": [
    {
     "data": {
      "text/plain": [
       "0.7239124968569274"
      ]
     },
     "execution_count": 27,
     "metadata": {},
     "output_type": "execute_result"
    }
   ],
   "source": [
    "# Evaluate model on testing data.\n",
    "\n",
    "lr.score(test_features, y_test)"
   ]
  },
  {
   "cell_type": "markdown",
   "metadata": {},
   "source": [
    "Since my model has a slightly higher accuracy on the training set and on the testing set, my model is slightly overfitting. I could reduce the number of features to reduce the overfitting or perform regularization. \n"
   ]
  },
  {
   "cell_type": "markdown",
   "metadata": {},
   "source": [
    "#### Grid Search Regularization with Logistic Regression"
   ]
  },
  {
   "cell_type": "code",
   "execution_count": 28,
   "metadata": {},
   "outputs": [],
   "source": [
    "# Set up the parameters. Looking at C regularization strengths on a log scale.\n",
    "gs_params = {\n",
    "    'penalty':['l1','l2'],\n",
    "    'solver':['saga'],\n",
    "    'C':np.logspace(-1,1,10)\n",
    "}\n",
    "\n",
    "lr_gridsearch = GridSearchCV(LogisticRegression(), gs_params, cv=3, verbose=2, n_jobs=-1)"
   ]
  },
  {
   "cell_type": "code",
   "execution_count": 29,
   "metadata": {
    "scrolled": false
   },
   "outputs": [
    {
     "name": "stdout",
     "output_type": "stream",
     "text": [
      "Fitting 3 folds for each of 20 candidates, totalling 60 fits\n"
     ]
    },
    {
     "name": "stderr",
     "output_type": "stream",
     "text": [
      "[Parallel(n_jobs=-1)]: Done  33 tasks      | elapsed:  2.7min\n",
      "[Parallel(n_jobs=-1)]: Done  60 out of  60 | elapsed:  8.6min finished\n"
     ]
    }
   ],
   "source": [
    "#%%time\n",
    "lr_gridsearch = lr_gridsearch.fit(train_features, y_train)"
   ]
  },
  {
   "cell_type": "code",
   "execution_count": 30,
   "metadata": {},
   "outputs": [
    {
     "data": {
      "text/plain": [
       "0.7159862519909465"
      ]
     },
     "execution_count": 30,
     "metadata": {},
     "output_type": "execute_result"
    }
   ],
   "source": [
    "# best score on the training data:\n",
    "lr_gridsearch.best_score_"
   ]
  },
  {
   "cell_type": "code",
   "execution_count": 31,
   "metadata": {},
   "outputs": [
    {
     "data": {
      "text/plain": [
       "{'C': 1.291549665014884, 'penalty': 'l1', 'solver': 'saga'}"
      ]
     },
     "execution_count": 31,
     "metadata": {},
     "output_type": "execute_result"
    }
   ],
   "source": [
    "# best parameters on the training data:\n",
    "lr_gridsearch.best_params_"
   ]
  },
  {
   "cell_type": "code",
   "execution_count": 32,
   "metadata": {},
   "outputs": [],
   "source": [
    "# assign the best estimator to a variable:\n",
    "best_lr = lr_gridsearch.best_estimator_"
   ]
  },
  {
   "cell_type": "code",
   "execution_count": 33,
   "metadata": {},
   "outputs": [
    {
     "data": {
      "text/plain": [
       "0.7276841840583355"
      ]
     },
     "execution_count": 33,
     "metadata": {},
     "output_type": "execute_result"
    }
   ],
   "source": [
    "# Score it on the testing data:\n",
    "best_lr.score(test_features, y_test)"
   ]
  },
  {
   "cell_type": "markdown",
   "metadata": {},
   "source": [
    "#### Classification Metrics"
   ]
  },
  {
   "cell_type": "code",
   "execution_count": 34,
   "metadata": {},
   "outputs": [],
   "source": [
    "#Recall: oculus is coded as 0 and vive is coded as 1\n",
    "#positive is vive, negative is oculus"
   ]
  },
  {
   "cell_type": "code",
   "execution_count": 35,
   "metadata": {},
   "outputs": [],
   "source": [
    "# Import confusion matrix.\n",
    "from sklearn.metrics import confusion_matrix"
   ]
  },
  {
   "cell_type": "code",
   "execution_count": 36,
   "metadata": {},
   "outputs": [],
   "source": [
    "# Generate predictions.\n",
    "preds = best_lr.predict(test_features)"
   ]
  },
  {
   "cell_type": "code",
   "execution_count": 37,
   "metadata": {},
   "outputs": [
    {
     "data": {
      "text/plain": [
       "array([[2190,  266],\n",
       "       [ 817,  704]], dtype=int64)"
      ]
     },
     "execution_count": 37,
     "metadata": {},
     "output_type": "execute_result"
    }
   ],
   "source": [
    "#Generate confusion matrix.\n",
    "confusion_matrix(y_test, # True values.\n",
    "                 preds)  # Predicted values."
   ]
  },
  {
   "cell_type": "code",
   "execution_count": 38,
   "metadata": {},
   "outputs": [],
   "source": [
    "# Save TN/FP/FN/TP values.\n",
    "\n",
    "tn, fp, fn, tp = confusion_matrix(y_test, preds).ravel()"
   ]
  },
  {
   "cell_type": "code",
   "execution_count": 39,
   "metadata": {},
   "outputs": [
    {
     "name": "stdout",
     "output_type": "stream",
     "text": [
      "Specificity: 0.8917\n"
     ]
    }
   ],
   "source": [
    "# Specificity of test set.\n",
    "\n",
    "spec = tn/(tn+fp)\n",
    "\n",
    "print(f'Specificity: {round(spec,4)}')"
   ]
  },
  {
   "cell_type": "markdown",
   "metadata": {},
   "source": [
    "Out of 100 cases where the subreddit is actually Oculus, the model is correctly predicting 89.2 of the comments to be from Oculus."
   ]
  },
  {
   "cell_type": "code",
   "execution_count": 40,
   "metadata": {},
   "outputs": [
    {
     "name": "stdout",
     "output_type": "stream",
     "text": [
      "Sensitivity: 0.4629\n"
     ]
    }
   ],
   "source": [
    "# Sensitivity of test set.\n",
    "\n",
    "sens = tp/(tp+fn)\n",
    "\n",
    "print(f'Sensitivity: {round(sens,4)}')"
   ]
  },
  {
   "cell_type": "markdown",
   "metadata": {},
   "source": [
    "Out of 100 cases where the subreddit is actually Vive, the model is correctly predicting 46.3 of the comments to be from Vive."
   ]
  },
  {
   "cell_type": "code",
   "execution_count": 41,
   "metadata": {},
   "outputs": [
    {
     "name": "stdout",
     "output_type": "stream",
     "text": [
      "Precision: 0.7258\n"
     ]
    }
   ],
   "source": [
    "#Precision\n",
    "\n",
    "prec = tp/(tp+fp)\n",
    "print(f'Precision: {round(prec,4)}')"
   ]
  },
  {
   "cell_type": "markdown",
   "metadata": {},
   "source": [
    "Out of 100 Vive predictions, we are correctly predicting 72.3 comments from Vive."
   ]
  },
  {
   "cell_type": "code",
   "execution_count": 42,
   "metadata": {},
   "outputs": [
    {
     "name": "stdout",
     "output_type": "stream",
     "text": [
      "Accuracy: 0.7277\n"
     ]
    }
   ],
   "source": [
    "#Accuracy\n",
    "\n",
    "acc = (tp+tn)/(tp+fp+tn+fn)\n",
    "print(f'Accuracy: {round(acc,4)}')"
   ]
  },
  {
   "cell_type": "markdown",
   "metadata": {},
   "source": [
    "Out of 100 predictions, we are correctly predicting 72.8 of them."
   ]
  },
  {
   "cell_type": "code",
   "execution_count": 43,
   "metadata": {},
   "outputs": [],
   "source": [
    "# Let's create a dataframe called pred_df that contains:\n",
    "# 1. The list of true values of our test set.\n",
    "# 2. The list of predicted probabilities based on the model.\n",
    "\n",
    "pred_proba = [i[1] for i in lr.predict_proba(test_features)] \n",
    "#only pick up predictions for the class '1' by calling i[1]\n",
    "\n",
    "pred_df = pd.DataFrame({'true_values': y_test,\n",
    "                        'pred_probs':pred_proba})"
   ]
  },
  {
   "cell_type": "code",
   "execution_count": 44,
   "metadata": {
    "scrolled": true
   },
   "outputs": [
    {
     "data": {
      "text/html": [
       "<div>\n",
       "<style scoped>\n",
       "    .dataframe tbody tr th:only-of-type {\n",
       "        vertical-align: middle;\n",
       "    }\n",
       "\n",
       "    .dataframe tbody tr th {\n",
       "        vertical-align: top;\n",
       "    }\n",
       "\n",
       "    .dataframe thead th {\n",
       "        text-align: right;\n",
       "    }\n",
       "</style>\n",
       "<table border=\"1\" class=\"dataframe\">\n",
       "  <thead>\n",
       "    <tr style=\"text-align: right;\">\n",
       "      <th></th>\n",
       "      <th>true_values</th>\n",
       "      <th>pred_probs</th>\n",
       "    </tr>\n",
       "  </thead>\n",
       "  <tbody>\n",
       "    <tr>\n",
       "      <th>11213</th>\n",
       "      <td>1</td>\n",
       "      <td>0.976178</td>\n",
       "    </tr>\n",
       "    <tr>\n",
       "      <th>3729</th>\n",
       "      <td>0</td>\n",
       "      <td>0.161153</td>\n",
       "    </tr>\n",
       "    <tr>\n",
       "      <th>15455</th>\n",
       "      <td>1</td>\n",
       "      <td>0.500523</td>\n",
       "    </tr>\n",
       "    <tr>\n",
       "      <th>13639</th>\n",
       "      <td>1</td>\n",
       "      <td>0.499562</td>\n",
       "    </tr>\n",
       "    <tr>\n",
       "      <th>6668</th>\n",
       "      <td>0</td>\n",
       "      <td>0.161969</td>\n",
       "    </tr>\n",
       "  </tbody>\n",
       "</table>\n",
       "</div>"
      ],
      "text/plain": [
       "       true_values  pred_probs\n",
       "11213            1    0.976178\n",
       "3729             0    0.161153\n",
       "15455            1    0.500523\n",
       "13639            1    0.499562\n",
       "6668             0    0.161969"
      ]
     },
     "execution_count": 44,
     "metadata": {},
     "output_type": "execute_result"
    }
   ],
   "source": [
    "pred_df.head() #probability of y=1"
   ]
  },
  {
   "cell_type": "code",
   "execution_count": 45,
   "metadata": {
    "scrolled": true
   },
   "outputs": [
    {
     "data": {
      "text/plain": [
       "Text(0.5,0,'Predicted Probability that Outcome = 1')"
      ]
     },
     "execution_count": 45,
     "metadata": {},
     "output_type": "execute_result"
    },
    {
     "data": {
      "image/png": "[encoded data removed]",
      "text/plain": [
       "<Figure size 720x504 with 1 Axes>"
      ]
     },
     "metadata": {},
     "output_type": "display_data"
    }
   ],
   "source": [
    "#Histogram\n",
    "\n",
    "# Create figure.\n",
    "plt.figure(figsize = (10,7))\n",
    "\n",
    "# Create histogram of observations.\n",
    "plt.hist(pred_df['pred_probs'], bins=25)\n",
    "\n",
    "# Label axes.\n",
    "plt.title('Distribution of P(Outcome = 1)', fontsize=22)\n",
    "plt.ylabel('Frequency', fontsize=18)\n",
    "plt.xlabel('Predicted Probability that Outcome = 1', fontsize=18)"
   ]
  },
  {
   "cell_type": "code",
   "execution_count": 46,
   "metadata": {
    "scrolled": true
   },
   "outputs": [
    {
     "data": {
      "image/png": "[encoded data removed]",
      "text/plain": [
       "<Figure size 720x504 with 1 Axes>"
      ]
     },
     "metadata": {},
     "output_type": "display_data"
    }
   ],
   "source": [
    "#ROC\n",
    "\n",
    "# Create figure.\n",
    "plt.figure(figsize = (10,7))\n",
    "\n",
    "# Create threshold values.\n",
    "thresholds = np.linspace(0, 1, 200)\n",
    "\n",
    "# Define function to calculate sensitivity. (True positive rate.)\n",
    "def TPR(df, true_col, pred_prob_col, threshold):\n",
    "    true_positive = df[(df[true_col] == 1) & (df[pred_prob_col] >= threshold)].shape[0]\n",
    "    false_negative = df[(df[true_col] == 1) & (df[pred_prob_col] < threshold)].shape[0]\n",
    "    return true_positive / (true_positive + false_negative)\n",
    "\n",
    "# Define function to calculate 1 - specificity. (False positive rate.)\n",
    "def FPR(df, true_col, pred_prob_col, threshold):\n",
    "    true_negative = df[(df[true_col] == 0) & (df[pred_prob_col] <= threshold)].shape[0]\n",
    "    false_positive = df[(df[true_col] == 0) & (df[pred_prob_col] > threshold)].shape[0]\n",
    "    return 1 - (true_negative / (true_negative + false_positive))\n",
    "    \n",
    "# Calculate sensitivity & 1-specificity for each threshold between 0 and 1.\n",
    "tpr_values = [TPR(pred_df, 'true_values', 'pred_probs', prob) for prob in thresholds]\n",
    "fpr_values = [FPR(pred_df, 'true_values', 'pred_probs', prob) for prob in thresholds]\n",
    "\n",
    "# Plot ROC curve.\n",
    "plt.plot(fpr_values, # False Positive Rate on X-axis\n",
    "         tpr_values, # True Positive Rate on Y-axis\n",
    "         label='ROC Curve')\n",
    "\n",
    "# Plot baseline. (Perfect overlap between the two populations.)\n",
    "plt.plot(np.linspace(0, 1, 200),\n",
    "         np.linspace(0, 1, 200),\n",
    "         label='baseline',\n",
    "         linestyle='--')\n",
    "\n",
    "# Label axes.\n",
    "plt.title('Receiver Operating Characteristic Curve', fontsize=22)\n",
    "plt.ylabel('Sensitivity', fontsize=18)\n",
    "plt.xlabel('1 - Specificity', fontsize=18)\n",
    "\n",
    "# Create legend.\n",
    "plt.legend(fontsize=16);"
   ]
  },
  {
   "cell_type": "code",
   "execution_count": 47,
   "metadata": {},
   "outputs": [],
   "source": [
    "# Import roc_auc_score.\n",
    "from sklearn.metrics import roc_auc_score"
   ]
  },
  {
   "cell_type": "code",
   "execution_count": 48,
   "metadata": {},
   "outputs": [
    {
     "data": {
      "text/plain": [
       "0.756345340049299"
      ]
     },
     "execution_count": 48,
     "metadata": {},
     "output_type": "execute_result"
    }
   ],
   "source": [
    "# Calculate score.\n",
    "roc_auc_score(pred_df['true_values'], pred_df['pred_probs'])"
   ]
  },
  {
   "cell_type": "markdown",
   "metadata": {},
   "source": [
    "ROC score is 0.756, which is pretty close to 1. The closer my ROC AUC is to 1, the better because this would mean my positive and negative populations are more separated and hence my model is good."
   ]
  },
  {
   "cell_type": "markdown",
   "metadata": {},
   "source": [
    "#### Tfidf Vectorizer"
   ]
  },
  {
   "cell_type": "code",
   "execution_count": 49,
   "metadata": {},
   "outputs": [],
   "source": [
    "tvec_2 = TfidfVectorizer(max_features = 3000, stop_words = 'english', ngram_range=(1, 2))"
   ]
  },
  {
   "cell_type": "code",
   "execution_count": 50,
   "metadata": {},
   "outputs": [],
   "source": [
    "#Fitting and transforming train and test data.\n",
    "\n",
    "train_features_2 = tvec_2.fit_transform(X_train)\n",
    "\n",
    "test_features_2 = tvec_2.transform(X_test)\n",
    "\n",
    "# Convert the result to an array.\n",
    "train_features_2 = train_features_2.toarray()"
   ]
  },
  {
   "cell_type": "code",
   "execution_count": 51,
   "metadata": {
    "scrolled": true
   },
   "outputs": [
    {
     "name": "stdout",
     "output_type": "stream",
     "text": [
      "(11929, 3000)\n"
     ]
    }
   ],
   "source": [
    "print(train_features_2.shape)"
   ]
  },
  {
   "cell_type": "code",
   "execution_count": 52,
   "metadata": {},
   "outputs": [
    {
     "name": "stdout",
     "output_type": "stream",
     "text": [
      "(3977, 3000)\n"
     ]
    }
   ],
   "source": [
    "print(test_features_2.shape)"
   ]
  },
  {
   "cell_type": "code",
   "execution_count": 53,
   "metadata": {},
   "outputs": [
    {
     "name": "stdout",
     "output_type": "stream",
     "text": [
      "['aa', 'aa carmack', 'aaa', 'aaa game', 'aaa title', 'aaa vr', 'aautomoderator', 'aautomoderator sort', 'ability', 'able', 'able play', 'able use', 'abrash', 'absolute', 'absolutely', 'acceptable', 'access', 'accessible', 'accessory', 'accident', 'according', 'account', 'account create', 'accuracy', 'accurate', 'achieve', 'achievement', 'act', 'action', 'action performed', 'active', 'actual', 'actually', 'ad', 'adapter', 'adaptor', 'add', 'added', 'adding', 'addition', 'additional', 'adjust', 'adjustable', 'adjustment', 'admit', 'adoption', 'adult', 'advance', 'advanced', 'advancement', 'advantage', 'adventure', 'advice', 'afaik', 'affect', 'afford', 'affordable', 'afraid', 'age', 'agi', 'ago', 'agree', 'agreed', 'ah', 'ahead', 'ai', 'aim', 'aiming', 'air', 'alien', 'alien isolation', 'allow', 'allowed', 'allowing', 'allows', 'alot', 'alright', 'alternate', 'alternative', 'alvr', 'alyx', 'amazing', 'amazon', 'amazon com', 'amd', 'amd ryzen', 'american', 'android', 'angle', 'anker', 'announced', 'announcement', 'annoying', 'answer', 'answer question', 'anti', 'anymore', 'anytime', 'anytime soon', 'anyways', 'apart', 'api', 'app', 'apparently', 'appeal', 'appear', 'appears', 'apple', 'application', 'applied', 'apply', 'appreciate', 'appreciated', 'approach', 'apps', 'ar', 'arcade', 'architecture', 'area', 'arena', 'arent', 'argue', 'argument', 'arizona', 'arizona sunshine', 'arm', 'arrive', 'arrived', 'arrow', 'art', 'article', 'artifact', 'artificial', 'ascertain', 'ascertain exact', 'asgard', 'asgard wrath', 'aside', 'asin', 'asin title', 'ask', 'asked', 'asking', 'asking exception', 'aspect', 'assassin', 'assassin creed', 'asset', 'assume', 'assuming', 'asus', 'asw', 'atm', 'attach', 'attached', 'attachment', 'attack', 'attempt', 'attempted', 'attention', 'au', 'audience', 'audio', 'audio strap', 'australia', 'author', 'author aautomoderator', 'auto', 'automatically', 'automatically contact', 'automatically removed', 'available', 'avatar', 'average', 'avoid', 'aw', 'aware', 'away', 'awesome', 'awful', 'awhile', 'awkward', 'baby', 'background', 'backwards', 'bad', 'bad review', 'bad thing', 'balance', 'ball', 'band', 'bandwidth', 'bar', 'barely', 'base', 'base station', 'based', 'basestations', 'basic', 'basically', 'battery', 'battery life', 'battle', 'bear', 'beat', 'beat game', 'beat saber', 'beatsaber', 'beautiful', 'beer', 'begin', 'beginning', 'believe', 'benefit', 'best', 'best buy', 'best experience', 'best thing', 'best vr', 'bestbuy', 'bet', 'beta', 'better', 'better cv', 'better experience', 'better game', 'better pcvr', 'better quest', 'better resolution', 'better rift', 'better tracking', 'better vr', 'big', 'big deal', 'big difference', 'bigger', 'biggest', 'billion', 'bios', 'bit', 'bit better', 'black', 'black friday', 'black level', 'black mesa', 'black screen', 'blade', 'blade sorcery', 'blame', 'blast', 'blind', 'block', 'blow', 'blown', 'blue', 'bluetooth', 'blurry', 'board', 'boat', 'body', 'body tracking', 'bomb', 'boneworks', 'book', 'boost', 'borderland', 'boring', 'bos', 'bot', 'bot action', 'bother', 'bothered', 'bottleneck', 'bought', 'bought game', 'bought index', 'bought rift', 'bought vive', 'bound', 'boundary', 'bow', 'box', 'boy', 'braben', 'brain', 'brainer', 'brand', 'brand new', 'break', 'breaker', 'breaking', 'bridge', 'bright', 'bring', 'bringing', 'broke', 'broken', 'brother', 'brought', 'browser', 'browsing', 'brush', 'btw', 'buck', 'bud', 'buddy', 'budget', 'budget cut', 'bug', 'build', 'building', 'built', 'bullet', 'bullshit', 'bump', 'bunch', 'bundle', 'burn', 'business', 'button', 'buy', 'buy game', 'buy index', 'buy new', 'buy oculus', 'buy quest', 'buy rift', 'buy vive', 'buy vr', 'buyer', 'buying', 'buying rift', 'cable', 'calibration', 'called', 'calling', 'came', 'camera', 'campaign', 'canada', 'canadian', 'capability', 'capable', 'car', 'card', 'cardboard', 'care', 'careful', 'carmack', 'carry', 'case', 'cash', 'casual', 'casual conversation', 'casual discussion', 'catch', 'category', 'cause', 'caused', 'causing', 'ceiling', 'cell', 'center', 'certain', 'certainly', 'certified', 'chair', 'challenge', 'challenging', 'chance', 'change', 'changed', 'changing', 'channel', 'character', 'charge', 'charging', 'chat', 'cheap', 'cheaper', 'cheapest', 'check', 'checked', 'checking', 'cheer', 'child', 'china', 'chinese', 'chip', 'choice', 'choose', 'christmas', 'citizen', 'city', 'claim', 'clarify', 'clarity', 'class', 'classic', 'clean', 'cleaner', 'cleaning', 'clear', 'clearer', 'clearly', 'click', 'client', 'climb', 'climbing', 'clip', 'close', 'closed', 'closer', 'closest', 'cloud', 'clue', 'cm', 'code', 'collection', 'color', 'com', 'com app', 'com dp', 'com experience', 'com gp', 'com http', 'com message', 'com oculus', 'com product', 'com thing', 'com vive', 'com watch', 'combat', 'combination', 'combine', 'combined', 'combo', 'come', 'comfort', 'comfortable', 'comfy', 'coming', 'coming soon', 'command', 'comment', 'comment section', 'comment want', 'commercial', 'common', 'community', 'company', 'comparable', 'compare', 'compared', 'comparing', 'comparison', 'compatibility', 'compatible', 'compelling', 'competition', 'competitive', 'complain', 'complaining', 'complaint', 'complete', 'complete pack', 'completely', 'complex', 'complicated', 'component', 'compose', 'compose vive', 'compressed', 'compression', 'compromise', 'computer', 'concept', 'concern', 'concerned', 'condition', 'confident', 'config', 'configuration', 'confirm', 'confirmed', 'confused', 'connect', 'connected', 'connection', 'connector', 'consider', 'considered', 'considering', 'console', 'constant', 'constantly', 'consumer', 'contact', 'contact moderator', 'content', 'context', 'continue', 'contrast', 'control', 'controller', 'controller game', 'controller headset', 'controller use', 'controller vive', 'controller work', 'conversation', 'conversation sticky', 'convinced', 'cool', 'cooler', 'cooling', 'coop', 'copy', 'copy removed', 'cord', 'core', 'corner', 'correct', 'correctly', 'cosmos', 'cost', 'count', 'counter', 'counting', 'country', 'couple', 'couple day', 'couple month', 'couple year', 'course', 'cover', 'cpu', 'cpu gpu', 'crap', 'crappy', 'crash', 'crazy', 'create', 'create submission', 'created', 'creating', 'creative', 'creed', 'critical', 'cross', 'crowd', 'curious', 'current', 'currently', 'curve', 'custom', 'custom song', 'customer', 'cut', 'cv', 'cv quest', 'cv rift', 'cv sensor', 'cycle', 'da', 'daily', 'daily casual', 'damage', 'damaged', 'damn', 'dance', 'dancing', 'dangerous', 'dark', 'dash', 'dashboard', 'data', 'date', 'day', 'day ago', 'ddr', 'dead', 'deal', 'death', 'decade', 'december', 'decent', 'decide', 'decided', 'decision', 'dedicated', 'deep', 'deeper', 'default', 'definitely', 'definition', 'degree', 'delay', 'delayed', 'delete', 'deluxe', 'deluxe audio', 'demand', 'demanding', 'demo', 'depending', 'depends', 'depends game', 'depth', 'described', 'describing', 'description', 'design', 'designed', 'desire', 'desk', 'desktop', 'despite', 'detect', 'dev', 'develop', 'developed', 'developer', 'developing', 'development', 'device', 'devs', 'didnt', 'die', 'died', 'difference', 'different', 'different game', 'differently', 'difficult', 'difficulty', 'digital', 'direct', 'direction', 'directly', 'dirt', 'dirt rally', 'disable', 'disabled', 'disagree', 'disappointed', 'disconnect', 'discontinued', 'discord', 'discount', 'discussion', 'discussion http', 'discussion taking', 'display', 'display port', 'displayport', 'distance', 'distortion', 'dk', 'dlc', 'doesnt', 'dof', 'dog', 'dollar', 'dongle', 'dont', 'dont know', 'dont think', 'dont want', 'doom', 'door', 'door effect', 'double', 'doubt', 'downgrade', 'download', 'downloaded', 'downside', 'downvoted', 'dozen', 'dp', 'draw', 'dream', 'dreamhack', 'drive', 'driver', 'driving', 'drop', 'dropped', 'dropping', 'dt', 'dude', 'dumb', 'dungeon', 'dunno', 'dust', 'dy', 'dying', 'ea', 'ear', 'earlier', 'early', 'early access', 'earth', 'ease', 'easier', 'easily', 'easy', 'ebay', 'echo', 'echo arena', 'ecosystem', 'edge', 'edit', 'edition', 'effect', 'effective', 'effort', 'egpu', 'eh', 'element', 'elite', 'elite dangerous', 'elon', 'email', 'en', 'en http', 'en wikipedia', 'enable', 'enabled', 'encoder', 'encounter', 'end', 'ended', 'enemy', 'energy', 'engine', 'engineer', 'enjoy', 'enjoyed', 'enjoying', 'entertainment', 'enthusiast', 'entire', 'entirely', 'entry', 'environment', 'ep', 'epic', 'episode', 'equal', 'equipment', 'equivalent', 'error', 'especially', 'espire', 'essentially', 'est', 'eu', 'euro', 'europe', 'event', 'eventually', 'everybody', 'evidence', 'evil', 'exact', 'exact requirement', 'exactly', 'example', 'excellent', 'exception', 'exception ascertain', 'excited', 'exciting', 'exclusive', 'exclusive game', 'exclusively', 'exclusivity', 'excuse', 'exe', 'exercise', 'exist', 'existed', 'existing', 'exists', 'expansion', 'expect', 'expectation', 'expected', 'expecting', 'expensive', 'experience', 'experience quest', 'experience rift', 'experienced', 'experiencing', 'expert', 'explain', 'explanation', 'explodes', 'explore', 'exploring', 'extend', 'extended', 'extension', 'extension cable', 'external', 'external sensor', 'extra', 'extremely', 'eye', 'eye tracking', 'face', 'facebook', 'facial', 'facial interface', 'facing', 'fact', 'factor', 'fail', 'failed', 'failure', 'fair', 'fairly', 'fall', 'fallout', 'false', 'familiar', 'family', 'fan', 'fantastic', 'faq', 'far', 'far better', 'fast', 'faster', 'fault', 'favor', 'favorite', 'favourite', 'fb', 'fear', 'feature', 'feedback', 'feel', 'feel like', 'feeling', 'fell', 'felt', 'felt like', 'fi', 'fiber', 'fidelity', 'field', 'field view', 'fight', 'figure', 'figured', 'file', 'filter', 'final', 'finally', 'financial', 'finding', 'fine', 'finger', 'finger tracking', 'finish', 'finished', 'firmware', 'fit', 'fix', 'fixed', 'fixing', 'flagship', 'flash', 'flat', 'flaw', 'flawless', 'flawlessly', 'flight', 'flip', 'floating', 'floor', 'fly', 'flying', 'foam', 'focus', 'focused', 'fog', 'folder', 'folk', 'follow', 'following', 'foot', 'force', 'forced', 'forest', 'forever', 'forget', 'forgot', 'form', 'format', 'forum', 'forward', 'fov', 'foveated', 'foveated rendering', 'fps', 'frame', 'frame rate', 'framerate', 'franchise', 'free', 'free game', 'freedom', 'frequently', 'fresh', 'fresnel', 'friday', 'friday sale', 'friend', 'friendly', 'frustrating', 'ft', 'fuck', 'fucked', 'fucking', 'fully', 'fun', 'fun game', 'function', 'functional', 'functionality', 'fund', 'funded', 'funding', 'funny', 'future', 'fyi', 'gain', 'gallery', 'game', 'game actually', 'game come', 'game developer', 'game feel', 'game free', 'game game', 'game going', 'game good', 'game great', 'game hour', 'game http', 'game like', 'game look', 'game make', 'game need', 'game oculus', 'game pc', 'game people', 'game play', 'game played', 'game pretty', 'game quest', 'game really', 'game released', 'game rift', 'game run', 'game steam', 'game stormland', 'game support', 'game think', 'game time', 'game use', 'game using', 'game valve', 'game vive', 'game vr', 'game want', 'game way', 'game work', 'game year', 'gamepad', 'gameplay', 'gamer', 'gamers', 'gaming', 'gaming pc', 'gap', 'garbage', 'garden', 'garry', 'garry mod', 'gave', 'gb', 'gb memory', 'gb ram', 'gear', 'gear vr', 'gearvr', 'gen', 'general', 'generally', 'generation', 'genius', 'genre', 'germany', 'gesture', 'getting', 'getting index', 'getting rift', 'gg', 'ghz', 'giant', 'gift', 'gimmick', 'ginger', 'ginger beer', 'github', 'github com', 'given', 'giving', 'glad', 'glass', 'glitch', 'glove', 'gmod', 'goal', 'god', 'god ray', 'going', 'gold', 'gone', 'gonna', 'good', 'good game', 'good idea', 'good know', 'good luck', 'good place', 'good point', 'good thing', 'good vr', 'google', 'gorn', 'got', 'got index', 'got quest', 'got rift', 'got vive', 'got vr', 'gotta', 'gotten', 'gp', 'gp product', 'gpu', 'gpus', 'grab', 'grabbed', 'granted', 'graphic', 'graphic card', 'graphic setting', 'graphical', 'great', 'great game', 'great news', 'great vr', 'greater', 'greatly', 'green', 'greeting', 'grenade', 'grey', 'grey screen', 'grip', 'grip button', 'ground', 'group', 'grow', 'growing', 'growth', 'gta', 'gtx', 'gtx ti', 'guarantee', 'guard', 'guardian', 'guess', 'guessing', 'guide', 'guideline', 'gun', 'guy', 'haha', 'half', 'half life', 'halo', 'hand', 'hand tracking', 'handed', 'handle', 'happen', 'happened', 'happening', 'happens', 'happy', 'hard', 'hard drive', 'harder', 'hardware', 'hassle', 'hate', 'hd', 'hdd', 'hdmi', 'head', 'head strap', 'headache', 'headphone', 'headset', 'headset controller', 'headset like', 'headset rift', 'headstrap', 'health', 'hear', 'heard', 'hearing', 'heart', 'heat', 'heavier', 'heavy', 'height', 'held', 'hell', 'hello', 'help', 'helped', 'helpful', 'helping', 'hero', 'hey', 'hi', 'hide', 'high', 'high end', 'high quality', 'high setting', 'higher', 'higher resolution', 'highest', 'highly', 'highly recommend', 'history', 'hit', 'hitting', 'hl', 'hl game', 'hl vr', 'hla', 'hlvr', 'hmd', 'hmds', 'hmm', 'hold', 'holder', 'holding', 'hole', 'holiday', 'holy', 'holy shit', 'home', 'honest', 'honestly', 'hong', 'hong kong', 'honor', 'hook', 'hope', 'hope help', 'hopefully', 'hoping', 'horrible', 'horror', 'host', 'hot', 'hour', 'house', 'hp', 'hp reverb', 'hr', 'htc', 'htc vive', 'html', 'http', 'http en', 'http github', 'http imgur', 'http np', 'http steamcommunity', 'http store', 'http support', 'http twitter', 'http uploadvr', 'http www', 'http youtu', 'hub', 'huge', 'huge difference', 'huh', 'human', 'hurt', 'hype', 'hyped', 'hz', 'icon', 'id', 'id aa', 'idea', 'ideal', 'identical', 'idiot', 'idk', 'ignorant', 'ignore', 'iirc', 'ill', 'im', 'image', 'image quality', 'imagine', 'imgur', 'imgur com', 'imho', 'immediately', 'immersed', 'immersion', 'immersive', 'immortal', 'imo', 'impact', 'implement', 'implementation', 'implemented', 'important', 'impossible', 'impressed', 'impression', 'impressive', 'improve', 'improved', 'improvement', 'improving', 'include', 'included', 'includes', 'including', 'increase', 'increased', 'incredible', 'incredibly', 'index', 'index better', 'index controller', 'index headset', 'index hmd', 'index kit', 'index vive', 'indie', 'individual', 'industry', 'inferior', 'infinity', 'info', 'information', 'initial', 'initially', 'input', 'insane', 'inside', 'inside tracking', 'insight', 'insomniac', 'install', 'installation', 'installed', 'installing', 'instance', 'instantly', 'instead', 'integrated', 'intel', 'intended', 'intense', 'intensive', 'interact', 'interaction', 'interested', 'interesting', 'interface', 'internet', 'interview', 'invest', 'investment', 'involved', 'io', 'ip', 'ipd', 'ipd adjustment', 'iphone', 'ir', 'ish', 'isnt', 'isolation', 'issue', 'item', 'ive', 'janky', 'java', 'jedi', 'jesus', 'job', 'john', 'john carmack', 'join', 'joining', 'joining casual', 'joke', 'joystick', 'jpg', 'jump', 'jumping', 'justify', 'karma', 'karma account', 'keeping', 'kept', 'key', 'keyboard', 'keywords', 'kid', 'kill', 'killed', 'killer', 'killer app', 'killing', 'kind', 'kind thing', 'kinda', 'kinect', 'king', 'kit', 'kiwi', 'knew', 'knob', 'know', 'know people', 'know sure', 'knowing', 'knowledge', 'known', 'knuckle', 'knuckle controller', 'kong', 'kos', 'lab', 'lack', 'lag', 'land', 'language', 'laptop', 'large', 'larger', 'laser', 'late', 'lately', 'latency', 'later', 'latest', 'laugh', 'launch', 'launch day', 'launched', 'launcher', 'launching', 'layer', 'layout', 'lcd', 'le', 'lead', 'leaf', 'league', 'leap', 'learn', 'learned', 'learning', 'leather', 'leave', 'leave comment', 'leaving', 'led', 'left', 'leg', 'length', 'lenovo', 'lens', 'lens mod', 'let', 'let know', 'letting', 'level', 'library', 'license', 'lie', 'life', 'life alyx', 'life game', 'life half', 'life vr', 'light', 'light house', 'lighter', 'lighthouse', 'lighthouse tracking', 'lighting', 'like', 'like asgard', 'like beat', 'like crazy', 'like game', 'like going', 'like half', 'like http', 'like index', 'like new', 'like oculus', 'like people', 'like quest', 'like rift', 'like said', 'like sharing', 'like vive', 'like vr', 'like year', 'liked', 'likely', 'limit', 'limitation', 'limited', 'line', 'link', 'link box', 'link cable', 'link http', 'link quest', 'linked', 'linux', 'list', 'listed', 'listen', 'literally', 'little', 'little bit', 'live', 'living', 'lmao', 'load', 'loading', 'local', 'locale', 'locale en', 'location', 'lock', 'locked', 'locomotion', 'log', 'logic', 'logical', 'lol', 'lone', 'lone echo', 'long', 'long term', 'long time', 'longer', 'longest', 'look', 'look better', 'look good', 'look great', 'look like', 'look really', 'looked', 'looking', 'looking forward', 'loop', 'loose', 'loot', 'lose', 'losing', 'loss', 'lost', 'lot', 'lot better', 'lot fun', 'lot game', 'lot money', 'lot people', 'lot time', 'love', 'loved', 'low', 'low effort', 'low end', 'low karma', 'lower', 'lower resolution', 'luck', 'lucky', 'mac', 'machine', 'mad', 'magic', 'mail', 'main', 'main reason', 'mainly', 'mainstream', 'maintain', 'major', 'majority', 'make', 'make difference', 'make game', 'make sense', 'make sure', 'make vr', 'make work', 'making', 'man', 'man sky', 'manage', 'managed', 'management', 'manager', 'manual', 'manually', 'manufacturer', 'map', 'margin', 'mario', 'mark', 'market', 'marketing', 'mask', 'mass', 'massive', 'master', 'match', 'mate', 'material', 'matter', 'max', 'maybe', 'mean', 'meaning', 'meant', 'measure', 'mechanic', 'medal', 'medal honor', 'medium', 'meet', 'meh', 'meme', 'memory', 'mention', 'mentioned', 'menu', 'mesa', 'mess', 'message', 'message compose', 'message moderator', 'messed', 'metal', 'meter', 'method', 'mic', 'microsoft', 'mid', 'middle', 'million', 'min', 'mind', 'minecraft', 'mini', 'minimal', 'minimal message', 'minimum', 'minimum spec', 'minor', 'minute', 'mirror', 'miss', 'missed', 'missing', 'mission', 'mistake', 'mixed', 'mixed reality', 'mk', 'mm', 'mobile', 'mobility', 'mobo', 'mod', 'mod http', 'mod work', 'modded', 'modding', 'mode', 'model', 'moderator', 'moderator asking', 'moderator subreddit', 'modern', 'module', 'moment', 'money', 'monitor', 'month', 'month ago', 'morning', 'mortal', 'motherboard', 'motion', 'motion control', 'motion controller', 'motion sick', 'motion sickness', 'mount', 'mounted', 'mouse', 'mouse keyboard', 'mouth', 'moved', 'movement', 'movie', 'moving', 'mp', 'msi', 'multi', 'multiplayer', 'multiple', 'multiple time', 'music', 'nah', 'narrative', 'native', 'natively', 'natural', 'naturally', 'nd', 'near', 'nearly', 'neat', 'necessarily', 'necessary', 'need', 'need buy', 'need new', 'need use', 'need vr', 'needed', 'needing', 'negative', 'net', 'network', 'new', 'new cable', 'new game', 'new headset', 'new low', 'new restrict', 'new rift', 'new vr', 'newer', 'news', 'nice', 'nicer', 'niche', 'night', 'nintendo', 'noise', 'non', 'non vr', 'nope', 'normal', 'normally', 'nose', 'note', 'notice', 'notice difference', 'noticeable', 'noticed', 'november', 'nowadays', 'np', 'np reddit', 'npc', 'nr', 'number', 'nvidia', 'object', 'objective', 'obsolete', 'obvious', 'obviously', 'oc', 'occasion', 'oculus', 'oculus com', 'oculus comment', 'oculus exclusive', 'oculus game', 'oculus home', 'oculus link', 'oculus quest', 'oculus rift', 'oculus software', 'oculus store', 'oculus support', 'oculus touch', 'oculus tray', 'oculus vr', 'oculusquest', 'oculusvr', 'odd', 'odyssey', 'offer', 'offering', 'official', 'officially', 'og', 'og rift', 'og vive', 'oh', 'ok', 'ok thanks', 'okay', 'old', 'older', 'oled', 'oled screen', 'online', 'onward', 'op', 'open', 'open world', 'opening', 'opinion', 'opportunity', 'opposite', 'optic', 'optical', 'optimized', 'option', 'option available', 'optional', 'order', 'ordered', 'ordering', 'org', 'org wiki', 'original', 'original rift', 'original vive', 'originally', 'outer', 'output', 'outside', 'overall', 'overpriced', 'owned', 'owner', 'owning', 'pace', 'pack', 'package', 'pad', 'page', 'paid', 'pain', 'paint', 'painting', 'pair', 'palm', 'palmer', 'pancake', 'panel', 'paper', 'par', 'parent', 'partially', 'participate', 'participate comment', 'participation', 'participation requirement', 'particular', 'particularly', 'party', 'pas', 'past', 'past year', 'patch', 'patched', 'path', 'pavlov', 'pay', 'payday', 'paying', 'pc', 'pc game', 'pc gaming', 'pc headset', 'pc quest', 'pc run', 'pc spec', 'pc use', 'pc vr', 'pci', 'pcie', 'pcpartpicker', 'pcpartpicker com', 'pcvr', 'pcvr experience', 'pcvr game', 'pcvr headset', 'pcvr quest', 'pd', 'people', 'people buy', 'people like', 'people need', 'people play', 'people playing', 'people say', 'people saying', 'people vr', 'people want', 'perfect', 'perfectly', 'perfectly fine', 'perform', 'performance', 'performance issue', 'performed', 'performed automatically', 'period', 'peripheral', 'person', 'personal', 'personally', 'perspective', 'pet', 'phone', 'photo', 'physic', 'physical', 'physically', 'pick', 'picked', 'picking', 'picture', 'piece', 'pimax', 'pirate', 'pirate trainer', 'pistol', 'pistol whip', 'pixel', 'place', 'place copy', 'place start', 'plan', 'plane', 'planning', 'plastic', 'platform', 'play', 'play area', 'play game', 'play half', 'play hour', 'play like', 'play pcvr', 'play session', 'play space', 'play vr', 'playable', 'played', 'played game', 'player', 'playing', 'playing game', 'playing vr', 'playspace', 'playstation', 'playtime', 'plenty', 'plug', 'plugged', 'plus', 'pm', 'png', 'pocket', 'point', 'pointing', 'police', 'policy', 'polish', 'polished', 'political', 'poor', 'poorly', 'pop', 'popular', 'port', 'portability', 'portable', 'portal', 'position', 'positive', 'possibility', 'possible', 'possibly', 'post', 'post http', 'posted', 'posting', 'posting unfortunately', 'potential', 'potentially', 'power', 'power supply', 'powerful', 'ppd', 'ppl', 'ppx', 'ppx yo', 'practical', 'practically', 'practice', 'pre', 'pre order', 'prefer', 'preference', 'premium', 'prequel', 'prescription', 'prescription lens', 'presence', 'present', 'press', 'pressure', 'pretty', 'pretty cool', 'pretty fun', 'pretty good', 'pretty great', 'pretty sure', 'prevent', 'previous', 'price', 'price point', 'priced', 'pricing', 'primarily', 'print', 'printed', 'pro', 'pro index', 'pro wireless', 'probably', 'probably best', 'problem', 'process', 'processing', 'processor', 'product', 'production', 'profile', 'profit', 'program', 'progress', 'project', 'promotion', 'proof', 'proper', 'properly', 'prototype', 'provide', 'provided', 'provides', 'psc', 'psvr', 'public', 'publisher', 'pull', 'pulled', 'pulley', 'pulling', 'punch', 'purchase', 'purchased', 'pure', 'purpose', 'push', 'pushed', 'pushing', 'putting', 'puzzle', 'qid', 'quake', 'quality', 'quest', 'quest better', 'quest game', 'quest link', 'quest make', 'quest oculus', 'quest pc', 'quest play', 'quest quest', 'quest rift', 'quest version', 'question', 'question concern', 'quick', 'quicker', 'quickly', 'quite', 'quite bit', 'racing', 'racing game', 'racket', 'rally', 'ram', 'ran', 'random', 'randomly', 'range', 'rare', 'rate', 'ray', 'ray tracing', 'rd', 'rd party', 'reach', 'read', 'reading', 'ready', 'real', 'real life', 'real time', 'real world', 'realistic', 'reality', 'realize', 'realized', 'really', 'really bad', 'really depends', 'really good', 'really great', 'really hard', 'really help', 'really know', 'really like', 'really make', 'really need', 'really nice', 'really really', 'really think', 'really want', 'reason', 'reasonable', 'reboot', 'rec', 'rec room', 'recall', 'received', 'receiver', 'recent', 'recently', 'recommend', 'recommendation', 'recommended', 'record', 'recording', 'red', 'reddit', 'reddit com', 'reduce', 'reduced', 'ref', 'ref ppx', 'ref sr', 'reference', 'referring', 'reflective', 'refresh', 'refresh rate', 'refund', 'refunded', 'refuse', 'regard', 'regarding', 'regardless', 'region', 'regret', 'regular', 'regularly', 'reinstall', 'reinstalling', 'related', 'relative', 'relatively', 'release', 'released', 'releasing', 'relevant', 'remember', 'reminder', 'remindmebot', 'reminds', 'remove', 'removed', 'removed submission', 'removing', 'render', 'rendered', 'rendering', 'repair', 'repetitive', 'replace', 'replaced', 'replacement', 'replacement cable', 'replay', 'reply', 'report', 'reprojection', 'request', 'require', 'required', 'requirement', 'requirement minimal', 'requirement tip', 'requires', 'research', 'reset', 'resistance', 'resolution', 'resource', 'respect', 'response', 'rest', 'restart', 'restrict', 'restrict sr', 'result', 'return', 'returned', 'returning', 'reverb', 'review', 'review game', 'revised', 'revive', 'rgb', 'rhythm', 'rhythm game', 'rid', 'ride', 'ridiculous', 'rifle', 'rift', 'rift better', 'rift cable', 'rift cv', 'rift http', 'rift index', 'rift like', 'rift locale', 'rift look', 'rift oculus', 'rift quest', 'rift rift', 'rift use', 'rift work', 'rig', 'right', 'ring', 'rip', 'risk', 'road', 'robo', 'robo recall', 'robot', 'rock', 'rocket', 'role', 'roll', 'room', 'room scale', 'roomscale', 'rotation', 'round', 'route', 'rts', 'rtx', 'rule', 'rumor', 'run', 'run fine', 'run game', 'running', 'runtime', 'rx', 'ryzen', 'saber', 'sacrifice', 'sad', 'sadly', 'safe', 'said', 'sairento', 'sake', 'sale', 'sam', 'samsung', 'samsung odyssey', 'sandbox', 'satisfied', 'save', 'saved', 'saving', 'saw', 'say', 'saying', 'scale', 'scaling', 'scary', 'scenario', 'scene', 'school', 'science', 'scope', 'score', 'scratch', 'screen', 'screen door', 'sde', 'sdk', 'search', 'search author', 'searching', 'season', 'seated', 'second', 'second hand', 'section', 'section participation', 'seeing', 'seen', 'select', 'self', 'sell', 'seller', 'selling', 'send', 'sense', 'sensitive', 'sensor', 'sent', 'separate', 'separately', 'sequel', 'series', 'seriously', 'server', 'service', 'session', 'set', 'setting', 'setup', 'shaders', 'shadow', 'shame', 'shape', 'share', 'sharing', 'sharing topic', 'sharp', 'sharper', 'shield', 'shift', 'ship', 'shipped', 'shipping', 'shit', 'shitty', 'shoot', 'shooter', 'shooting', 'short', 'shorter', 'shot', 'showed', 'showing', 'shown', 'shut', 'sick', 'sickness', 'sidebar', 'sidequest', 'sight', 'sign', 'signal', 'significant', 'significantly', 'silly', 'sim', 'similar', 'similarly', 'simple', 'simply', 'simply try', 'sims', 'simulation', 'simulator', 'single', 'single player', 'sit', 'site', 'sitting', 'situation', 'size', 'skill', 'skin', 'sky', 'skyrim', 'skyrim vr', 'slide', 'slight', 'slightly', 'slot', 'slow', 'slower', 'slowly', 'small', 'smaller', 'smart', 'smartphone', 'smooth', 'smoother', 'snap', 'social', 'soft', 'software', 'sold', 'solid', 'solution', 'solve', 'solved', 'somebody', 'somewhat', 'son', 'song', 'sony', 'soon', 'sooner', 'sorcery', 'sorry', 'sort', 'sort new', 'sound', 'sound like', 'source', 'space', 'space pirate', 'spare', 'speak', 'speaker', 'speaking', 'spec', 'special', 'specific', 'specifically', 'speculation', 'speed', 'spend', 'spend money', 'spend time', 'spending', 'spent', 'spider', 'spin', 'sport', 'spot', 'squeeze', 'sr', 'sr leave', 'ssd', 'st', 'stable', 'stage', 'stand', 'standalone', 'standard', 'standing', 'star', 'star citizen', 'star review', 'star war', 'start', 'start daily', 'started', 'starter', 'starting', 'state', 'stated', 'statement', 'static', 'station', 'status', 'stay', 'steal', 'stealth', 'steam', 'steam controller', 'steam game', 'steam vr', 'steamcommunity', 'steamcommunity com', 'steampowered', 'steampowered com', 'steamvr', 'steamvr game', 'step', 'stick', 'sticky', 'sticky post', 'stock', 'stomach', 'stop', 'stopped', 'storage', 'store', 'store steampowered', 'stormland', 'stormland asgard', 'stormlands', 'story', 'straight', 'strain', 'strange', 'strap', 'strapped', 'strategy', 'stream', 'streaming', 'strength', 'stretch', 'strip', 'strong', 'stronger', 'strongly', 'struggle', 'struggling', 'stuck', 'student', 'studio', 'stuff', 'stuff like', 'stupid', 'stutter', 'style', 'sub', 'subject', 'subjective', 'submission', 'submission automatically', 'submission vive', 'submit', 'submitted', 'submitting', 'subnautica', 'subpixels', 'subreddit', 'subreddit message', 'subscription', 'substantial', 'success', 'successful', 'suck', 'suddenly', 'suffer', 'suggest', 'suggestion', 'suit', 'sun', 'sunlight', 'sunshine', 'super', 'superhot', 'superior', 'supersampling', 'supply', 'support', 'support oculus', 'support ticket', 'supported', 'supporting', 'suppose', 'supposed', 'supposedly', 'sure', 'surface', 'surprised', 'surprisingly', 'suspect', 'sw', 'swap', 'sweat', 'sweet', 'sweet spot', 'swim', 'swing', 'swinging', 'switch', 'switched', 'switching', 'sword', 'table', 'tactic', 'tag', 'taken', 'taking', 'taking place', 'tale', 'talk', 'talked', 'talking', 'tank', 'tape', 'target', 'task', 'taste', 'tb', 'tbh', 'tea', 'team', 'tech', 'tech demo', 'technical', 'technically', 'technology', 'teleport', 'tell', 'telling', 'tend', 'tennis', 'term', 'terrible', 'test', 'tested', 'testing', 'tethered', 'text', 'texture', 'th', 'thank', 'thanks', 'thanks info', 'thanks posting', 'thanks tip', 'thats', 'theory', 'thief', 'thing', 'thing like', 'thing need', 'thing really', 'thing vr', 'thingiverse', 'thingiverse com', 'think', 'think game', 'think going', 'think need', 'think people', 'think vr', 'thinking', 'tho', 'thought', 'thousand', 'thread', 'thread joining', 'throw', 'throwing', 'thumb', 'thumbstick', 'thunderbolt', 'thursday', 'thx', 'ti', 'ti gb', 'ticket', 'ticket http', 'tight', 'till', 'tilt', 'time', 'time ago', 'time game', 'time play', 'time vr', 'timing', 'tiny', 'tip', 'tip good', 'title', 'title utf', 'today', 'toggle', 'told', 'tomorrow', 'ton', 'tonight', 'took', 'tool', 'topic', 'topic thread', 'total', 'totally', 'touch', 'touch controller', 'touching', 'touchpad', 'tough', 'tpcast', 'tracing', 'track', 'tracked', 'tracker', 'tracking', 'tracking issue', 'trackpad', 'trade', 'trailer', 'train', 'trainer', 'training', 'trash', 'travel', 'traversal', 'tray', 'tray tool', 'tree', 'trend', 'trial', 'trick', 'tried', 'trigger', 'troll', 'trouble', 'troubleshooting', 'true', 'truly', 'trust', 'truth', 'try', 'try vr', 'trying', 'turn', 'turned', 'turning', 'tutorial', 'tv', 'tweak', 'twice', 'twist', 'twitch', 'twitter', 'twitter com', 'type', 'type game', 'typically', 'ue', 'uh', 'ui', 'uk', 'ultimately', 'unable', 'uncomfortable', 'understand', 'understanding', 'unfortunately', 'unfortunately new', 'unfortunately submission', 'uninstall', 'uninstalled', 'unique', 'unit', 'unity', 'universe', 'unless', 'unlike', 'unlikely', 'unlock', 'unplayable', 'unplug', 'unreal', 'untethered', 'upcoming', 'update', 'updated', 'updating', 'upgrade', 'upgrade path', 'upgraded', 'upgrading', 'upload', 'uploadvr', 'uploadvr com', 'ur', 'url', 'usable', 'usage', 'usb', 'usb cable', 'usb card', 'usb port', 'usb usb', 'usd', 'use', 'use case', 'use link', 'use oculus', 'use quest', 'use rift', 'use vive', 'use vr', 'used', 'used vive', 'used vr', 'useful', 'useless', 'user', 'using', 'using link', 'using oculus', 'using quest', 'using vive', 'using vr', 'usual', 'usually', 'utf', 'utf psc', 'utm', 'vader', 'vader immortal', 'value', 'valve', 'valve game', 'valve index', 'variety', 'various', 'vary', 'vast', 'vast majority', 'vastly', 'vd', 'vega', 'velcro', 'version', 'viable', 'vibe', 'vibrant', 'vice', 'video', 'video card', 'video game', 'video http', 'view', 'virtual', 'virtual desktop', 'virtual reality', 'visible', 'vision', 'visual', 'visuals', 'vive', 'vive better', 'vive com', 'vive comment', 'vive controller', 'vive cosmos', 'vive da', 'vive deluxe', 'vive headset', 'vive index', 'vive oculus', 'vive owner', 'vive participate', 'vive pro', 'vive question', 'vive rift', 'vive search', 'vive tracker', 'vive vive', 'vive wand', 'vive wireless', 'vive year', 'vivecraft', 'viveport', 'vives', 'voice', 'volume', 'vorpx', 'vote', 'vr', 'vr content', 'vr cover', 'vr exclusive', 'vr experience', 'vr game', 'vr gaming', 'vr good', 'vr great', 'vr headset', 'vr http', 'vr leg', 'vr lens', 'vr like', 'vr make', 'vr market', 'vr mod', 'vr mode', 'vr need', 'vr pc', 'vr people', 'vr player', 'vr ready', 'vr really', 'vr support', 'vr think', 'vr title', 'vr user', 'vr version', 'vr vr', 'vr work', 'vr year', 'vrchat', 'wait', 'waiting', 'walk', 'walking', 'wall', 'wand', 'wanna', 'want', 'want feel', 'want game', 'want index', 'want know', 'want play', 'want spend', 'want upgrade', 'want use', 'wanted', 'wanting', 'war', 'warning', 'warranty', 'waste', 'wasted', 'watch', 'watched', 'watching', 'water', 'wave', 'way', 'way better', 'way play', 'weak', 'weapon', 'wear', 'wear glass', 'wearing', 'web', 'website', 'week', 'week ago', 'weekend', 'weight', 'weird', 'welcome', 'went', 'whats', 'wheel', 'whip', 'white', 'wide', 'wider', 'wife', 'wifi', 'wiki', 'wikipedia', 'wikipedia org', 'willing', 'win', 'window', 'wire', 'wired', 'wireless', 'wireless adapter', 'wireless kit', 'wireless vive', 'wise', 'wish', 'wmr', 'wmr headset', 'wonder', 'wonderful', 'wondering', 'wont', 'word', 'work', 'work better', 'work fine', 'work game', 'work great', 'work oculus', 'work perfectly', 'work pretty', 'worked', 'worked fine', 'working', 'workshop', 'world', 'worried', 'worry', 'worse', 'worst', 'worth', 'worth money', 'wouldnt', 'wow', 'wrath', 'wrath stormland', 'wrist', 'write', 'writing', 'wrong', 'wrote', 'wtf', 'www', 'www amazon', 'www oculus', 'www reddit', 'www thingiverse', 'www youtube', 'xbox', 'xd', 'ya', 'yea', 'yeah', 'year', 'year ago', 'year later', 'year old', 'yep', 'yes', 'yesterday', 'yo', 'yo dt', 'youre', 'youtu', 'youtube', 'youtube com', 'yup', 'zero', 'zombie']\n"
     ]
    }
   ],
   "source": [
    "vocab_2 = tvec_2.get_feature_names()\n",
    "print(vocab_2)"
   ]
  },
  {
   "cell_type": "markdown",
   "metadata": {},
   "source": [
    "#### Bayes classifier"
   ]
  },
  {
   "cell_type": "code",
   "execution_count": 54,
   "metadata": {},
   "outputs": [],
   "source": [
    "# Instantiate model.\n",
    "\n",
    "nb = MultinomialNB()"
   ]
  },
  {
   "cell_type": "code",
   "execution_count": 55,
   "metadata": {},
   "outputs": [],
   "source": [
    "# Fit model.\n",
    "\n",
    "model = nb.fit(train_features_2, y_train)"
   ]
  },
  {
   "cell_type": "code",
   "execution_count": 56,
   "metadata": {},
   "outputs": [],
   "source": [
    "# Generate predictions.\n",
    "\n",
    "predictions = model.predict(test_features_2)"
   ]
  },
  {
   "cell_type": "code",
   "execution_count": 57,
   "metadata": {},
   "outputs": [
    {
     "data": {
      "text/plain": [
       "0.754380082152737"
      ]
     },
     "execution_count": 57,
     "metadata": {},
     "output_type": "execute_result"
    }
   ],
   "source": [
    "# Score model on the training set.\n",
    "\n",
    "model.score(train_features_2, y_train)"
   ]
  },
  {
   "cell_type": "code",
   "execution_count": 58,
   "metadata": {},
   "outputs": [
    {
     "data": {
      "text/plain": [
       "0.712597435252703"
      ]
     },
     "execution_count": 58,
     "metadata": {},
     "output_type": "execute_result"
    }
   ],
   "source": [
    "# Score model on the testing set.\n",
    "\n",
    "model.score(test_features_2, y_test)"
   ]
  },
  {
   "cell_type": "markdown",
   "metadata": {},
   "source": [
    "#### Classification Metrics"
   ]
  },
  {
   "cell_type": "code",
   "execution_count": 59,
   "metadata": {},
   "outputs": [
    {
     "data": {
      "text/plain": [
       "array([[2289,  167],\n",
       "       [ 976,  545]], dtype=int64)"
      ]
     },
     "execution_count": 59,
     "metadata": {},
     "output_type": "execute_result"
    }
   ],
   "source": [
    "# Generate a confusion matrix.\n",
    "\n",
    "confusion_matrix(y_test,predictions)"
   ]
  },
  {
   "cell_type": "code",
   "execution_count": 60,
   "metadata": {},
   "outputs": [],
   "source": [
    "# Save TN/FP/FN/TP values.\n",
    "\n",
    "tn_nb, fp_nb, fn_nb, tp_nb = confusion_matrix(y_test, predictions).ravel()"
   ]
  },
  {
   "cell_type": "code",
   "execution_count": 61,
   "metadata": {},
   "outputs": [
    {
     "name": "stdout",
     "output_type": "stream",
     "text": [
      "Specificity: 0.932\n"
     ]
    }
   ],
   "source": [
    "# Specificity of test set.\n",
    "\n",
    "spec_nb = tn_nb/(tn_nb+fp_nb)\n",
    "\n",
    "print(f'Specificity: {round(spec_nb,4)}')"
   ]
  },
  {
   "cell_type": "markdown",
   "metadata": {},
   "source": [
    "Out of 100 cases where the subreddit is actually Oculus, the model is correctly predicting 84.9 of the comments to be from Oculus."
   ]
  },
  {
   "cell_type": "code",
   "execution_count": 62,
   "metadata": {},
   "outputs": [
    {
     "name": "stdout",
     "output_type": "stream",
     "text": [
      "Sensitivity: 0.3583\n"
     ]
    }
   ],
   "source": [
    "# Sensitivity of test set.\n",
    "\n",
    "sens_nb = tp_nb/(tp_nb+fn_nb)\n",
    "\n",
    "print(f'Sensitivity: {round(sens_nb,4)}')"
   ]
  },
  {
   "cell_type": "markdown",
   "metadata": {},
   "source": [
    "Out of 100 cases where the subreddit is actually Vive, the model is correctly predicting 49.8 of the comments to be from Vive."
   ]
  },
  {
   "cell_type": "code",
   "execution_count": 63,
   "metadata": {},
   "outputs": [
    {
     "name": "stdout",
     "output_type": "stream",
     "text": [
      "Precision: 0.7654\n"
     ]
    }
   ],
   "source": [
    "#Precision\n",
    "\n",
    "prec_nb = tp_nb/(tp_nb+fp_nb)\n",
    "print(f'Precision: {round(prec_nb,4)}')"
   ]
  },
  {
   "cell_type": "markdown",
   "metadata": {},
   "source": [
    "Out of 100 Vive predictions, we are correctly predicting 67.2 comments from Vive."
   ]
  },
  {
   "cell_type": "code",
   "execution_count": 64,
   "metadata": {},
   "outputs": [
    {
     "name": "stdout",
     "output_type": "stream",
     "text": [
      "Accuracy: 0.7126\n"
     ]
    }
   ],
   "source": [
    "#Accuracy\n",
    "\n",
    "acc_nb = (tp_nb+tn_nb)/(tp_nb+fp_nb+tn_nb+fn_nb)\n",
    "print(f'Accuracy: {round(acc_nb,4)}')"
   ]
  },
  {
   "cell_type": "markdown",
   "metadata": {},
   "source": [
    "Out of 100 predictions, we are correctly predicting 71.5 of them."
   ]
  },
  {
   "cell_type": "code",
   "execution_count": 66,
   "metadata": {},
   "outputs": [],
   "source": [
    "# Let's create a dataframe called pred_df that contains:\n",
    "# 1. The list of true values of our test set.\n",
    "# 2. The list of predicted probabilities based on the model.\n",
    "\n",
    "pred_proba_nb = [i[1] for i in nb.predict_proba(test_features_2)] \n",
    "#only pick up predictions for the class '1' by calling i[1]\n",
    "\n",
    "pred_df_nb = pd.DataFrame({'true_values': y_test,\n",
    "                        'pred_probs':pred_proba_nb})"
   ]
  },
  {
   "cell_type": "code",
   "execution_count": 67,
   "metadata": {},
   "outputs": [
    {
     "data": {
      "text/html": [
       "<div>\n",
       "<style scoped>\n",
       "    .dataframe tbody tr th:only-of-type {\n",
       "        vertical-align: middle;\n",
       "    }\n",
       "\n",
       "    .dataframe tbody tr th {\n",
       "        vertical-align: top;\n",
       "    }\n",
       "\n",
       "    .dataframe thead th {\n",
       "        text-align: right;\n",
       "    }\n",
       "</style>\n",
       "<table border=\"1\" class=\"dataframe\">\n",
       "  <thead>\n",
       "    <tr style=\"text-align: right;\">\n",
       "      <th></th>\n",
       "      <th>true_values</th>\n",
       "      <th>pred_probs</th>\n",
       "    </tr>\n",
       "  </thead>\n",
       "  <tbody>\n",
       "    <tr>\n",
       "      <th>11213</th>\n",
       "      <td>1</td>\n",
       "      <td>0.906922</td>\n",
       "    </tr>\n",
       "    <tr>\n",
       "      <th>3729</th>\n",
       "      <td>0</td>\n",
       "      <td>0.233490</td>\n",
       "    </tr>\n",
       "    <tr>\n",
       "      <th>15455</th>\n",
       "      <td>1</td>\n",
       "      <td>0.502375</td>\n",
       "    </tr>\n",
       "    <tr>\n",
       "      <th>13639</th>\n",
       "      <td>1</td>\n",
       "      <td>0.517751</td>\n",
       "    </tr>\n",
       "    <tr>\n",
       "      <th>6668</th>\n",
       "      <td>0</td>\n",
       "      <td>0.117198</td>\n",
       "    </tr>\n",
       "  </tbody>\n",
       "</table>\n",
       "</div>"
      ],
      "text/plain": [
       "       true_values  pred_probs\n",
       "11213            1    0.906922\n",
       "3729             0    0.233490\n",
       "15455            1    0.502375\n",
       "13639            1    0.517751\n",
       "6668             0    0.117198"
      ]
     },
     "execution_count": 67,
     "metadata": {},
     "output_type": "execute_result"
    }
   ],
   "source": [
    "pred_df_nb.head() #probability of y=1"
   ]
  },
  {
   "cell_type": "code",
   "execution_count": 68,
   "metadata": {},
   "outputs": [
    {
     "data": {
      "text/plain": [
       "Text(0.5,0,'Predicted Probability that Outcome = 1')"
      ]
     },
     "execution_count": 68,
     "metadata": {},
     "output_type": "execute_result"
    },
    {
     "data": {
      "image/png": "[encoded data removed]",
      "text/plain": [
       "<Figure size 720x504 with 1 Axes>"
      ]
     },
     "metadata": {},
     "output_type": "display_data"
    }
   ],
   "source": [
    "#Histogram\n",
    "\n",
    "# Create figure.\n",
    "plt.figure(figsize = (10,7))\n",
    "\n",
    "# Create histogram of observations.\n",
    "plt.hist(pred_df_nb['pred_probs'], bins=25)\n",
    "\n",
    "# Label axes.\n",
    "plt.title('Distribution of P(Outcome = 1)', fontsize=22)\n",
    "plt.ylabel('Frequency', fontsize=18)\n",
    "plt.xlabel('Predicted Probability that Outcome = 1', fontsize=18)"
   ]
  },
  {
   "cell_type": "code",
   "execution_count": 69,
   "metadata": {},
   "outputs": [
    {
     "data": {
      "image/png": "[encoded data removed]",
      "text/plain": [
       "<Figure size 720x504 with 1 Axes>"
      ]
     },
     "metadata": {},
     "output_type": "display_data"
    }
   ],
   "source": [
    "#ROC\n",
    "\n",
    "# Create figure.\n",
    "plt.figure(figsize = (10,7))\n",
    "\n",
    "# Create threshold values.\n",
    "thresholds = np.linspace(0, 1, 200)\n",
    "\n",
    "# Define function to calculate sensitivity. (True positive rate.)\n",
    "def TPR(df, true_col, pred_prob_col, threshold):\n",
    "    true_positive = df[(df[true_col] == 1) & (df[pred_prob_col] >= threshold)].shape[0]\n",
    "    false_negative = df[(df[true_col] == 1) & (df[pred_prob_col] < threshold)].shape[0]\n",
    "    return true_positive / (true_positive + false_negative)\n",
    "\n",
    "# Define function to calculate 1 - specificity. (False positive rate.)\n",
    "def FPR(df, true_col, pred_prob_col, threshold):\n",
    "    true_negative = df[(df[true_col] == 0) & (df[pred_prob_col] <= threshold)].shape[0]\n",
    "    false_positive = df[(df[true_col] == 0) & (df[pred_prob_col] > threshold)].shape[0]\n",
    "    return 1 - (true_negative / (true_negative + false_positive))\n",
    "    \n",
    "# Calculate sensitivity & 1-specificity for each threshold between 0 and 1.\n",
    "tpr_values = [TPR(pred_df_nb, 'true_values', 'pred_probs', prob) for prob in thresholds]\n",
    "fpr_values = [FPR(pred_df_nb, 'true_values', 'pred_probs', prob) for prob in thresholds]\n",
    "\n",
    "# Plot ROC curve.\n",
    "plt.plot(fpr_values, # False Positive Rate on X-axis\n",
    "         tpr_values, # True Positive Rate on Y-axis\n",
    "         label='ROC Curve')\n",
    "\n",
    "# Plot baseline. (Perfect overlap between the two populations.)\n",
    "plt.plot(np.linspace(0, 1, 200),\n",
    "         np.linspace(0, 1, 200),\n",
    "         label='baseline',\n",
    "         linestyle='--')\n",
    "\n",
    "# Label axes.\n",
    "plt.title('Receiver Operating Characteristic Curve', fontsize=22)\n",
    "plt.ylabel('Sensitivity', fontsize=18)\n",
    "plt.xlabel('1 - Specificity', fontsize=18)\n",
    "\n",
    "# Create legend.\n",
    "plt.legend(fontsize=16);"
   ]
  },
  {
   "cell_type": "code",
   "execution_count": 70,
   "metadata": {},
   "outputs": [
    {
     "data": {
      "text/plain": [
       "0.7504629808093852"
      ]
     },
     "execution_count": 70,
     "metadata": {},
     "output_type": "execute_result"
    }
   ],
   "source": [
    "# Calculate roc_auc score.\n",
    "roc_auc_score(pred_df_nb['true_values'], pred_df_nb['pred_probs'])"
   ]
  },
  {
   "cell_type": "markdown",
   "metadata": {},
   "source": [
    "ROC score is 0.750, which is pretty close to 1. The closer my ROC AUC is to 1, the better because this would mean my positive and negative populations are more separated and hence my model is good."
   ]
  },
  {
   "cell_type": "markdown",
   "metadata": {},
   "source": [
    "In Conclusion, TfidfVectorizer was used to convert the text to numeric features. \n",
    "TfidfVectorizer achieved a better accuracy score for the logistic regression model than the Multinomial Bayes Classifier and baseline logistic regression model. Hence, I adopted the logistic regression model as my Classifer for predictions."
   ]
  },
  {
   "cell_type": "code",
   "execution_count": 71,
   "metadata": {},
   "outputs": [
    {
     "name": "stdout",
     "output_type": "stream",
     "text": [
      "Logreg predicted probabilities: [[0.00458013 0.99541987]\n",
      " [0.89208971 0.10791029]\n",
      " [0.57283429 0.42716571]\n",
      " ...\n",
      " [0.64010262 0.35989738]\n",
      " [0.62881312 0.37118688]\n",
      " [0.67010331 0.32989669]]\n"
     ]
    }
   ],
   "source": [
    "# Generate and print predicted probabilities with the Logistic Regression Model.\n",
    "print(f'Logreg predicted probabilities: {best_lr.predict_proba(test_features)}')"
   ]
  },
  {
   "cell_type": "code",
   "execution_count": 72,
   "metadata": {},
   "outputs": [
    {
     "name": "stdout",
     "output_type": "stream",
     "text": [
      "Logreg predicted values: best_lr.[1 0 0 ... 0 0 0]\n"
     ]
    }
   ],
   "source": [
    "# Generate and print predicted values.\n",
    "print(f'Logreg predicted values: best_lr.{best_lr.predict(test_features)}')"
   ]
  }
 ],
 "metadata": {
  "kernelspec": {
   "display_name": "Python 3",
   "language": "python",
   "name": "python3"
  },
  "language_info": {
   "codemirror_mode": {
    "name": "ipython",
    "version": 3
   },
   "file_extension": ".py",
   "mimetype": "text/x-python",
   "name": "python",
   "nbconvert_exporter": "python",
   "pygments_lexer": "ipython3",
   "version": "3.6.5"
  }
 },
 "nbformat": 4,
 "nbformat_minor": 2
}
