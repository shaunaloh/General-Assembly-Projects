{
 "cells": [
  {
   "cell_type": "code",
   "execution_count": 1,
   "metadata": {},
   "outputs": [],
   "source": [
    "#Project Objectives:\n",
    "#Collect posts from two subreddits of my choice (r/oculus and r/Vive).\n",
    "#Use NLP to train a classifier model on which subreddit a given post came from.\n",
   
    "\n",
    "#Problem Statement:\n",
    "#Predict if a subreddit originates from Oculus or Vive. At the same time, conduct a sentiment analysis on both subreddits."
   ]
  },
  {
   "cell_type": "code",
   "execution_count": 2,
   "metadata": {},
   "outputs": [],
   "source": [
    "import numpy as np\n",
    "import pandas as pd\n",
    "import requests\n",
    "import time\n",
    "import datetime as dt\n",
    "import json"
   ]
  },
  {
   "cell_type": "markdown",
   "metadata": {},
   "source": [
    "#### Define Pushshift search function"
   ]
  },
  {
   "cell_type": "code",
   "execution_count": 3,
   "metadata": {},
   "outputs": [],
   "source": [
    "from bs4 import BeautifulSoup"
   ]
  },
  {
   "cell_type": "code",
   "execution_count": 4,
   "metadata": {},
   "outputs": [],
   "source": [
    "#Ref: https://github.com/pushshift/api\n",
    "\n",
    "def pushshift(subreddit, post_type, loops=1, size=500, skip=20):\n",
    "# subreddit: r/oculus and r/Vive\n",
    "# post_type: type of post to search for: submission, comment\n",
    "# loops: number of times to request posts\n",
    "# size: number of posts per request (max 500 per pushshift api)\n",
    "# skip: skip posts\n",
    "\n",
    "    # data fields to return for submissions\n",
    "    subfields = ['author', 'author_fullname', 'created_utc', 'id', 'num_comments', 'permalink', \n",
    "                 'score', 'selftext', 'subreddit', 'title', 'url', 'is_self']    \n",
    "    \n",
    "    # data fields to return for comments\n",
    "    comfields = ['author', 'author_fullname', 'body', 'created_utc', 'id', 'parent_id', \n",
    "                'permalink', 'score', 'subreddit']\n",
    "    \n",
    "    # instantiate list for posts data\n",
    "    list_posts = [] \n",
    "    url_stem = \"https://api.pushshift.io/reddit/search/{}/?subreddit={}&size={}\".format(post_type, subreddit, size)\n",
    "    \n",
    "    # skip a minimum of 1 day\n",
    "    after = 1    \n",
    "\n",
    "    # check before requesting data\n",
    "    if post_type not in ['submission', 'comment']:\n",
    "        print(\"post_type must be 'submission' or 'comment'\")\n",
    "        return None\n",
    "    \n",
    "    for i in range(loops):\n",
    "        # add parameters to url to skip posts \n",
    "        url = '{}&after={}d'.format(url_stem, skip * i + after) \n",
    "        \n",
    "        # monitor status as loops run\n",
    "        print(i, url)\n",
    "        \n",
    "        # get data from url\n",
    "        res = requests.get(url)\n",
    "        # add dictionaries for posts to list_posts\n",
    "        list_posts.extend(res.json()['data']) \n",
    "        \n",
    "        # allow for break in between requests\n",
    "        time.sleep(1) \n",
    "\n",
    "    # turn list_posts (a list of dictionaries where each dictionary contains data on one post) into a dataframe\n",
    "    df_posts = pd.DataFrame.from_dict(list_posts) \n",
    "\n",
    "    # filter fields for submissions or comments\n",
    "    if post_type == 'submission':\n",
    "        df_posts = df_posts[subfields]\n",
    "    elif post_type == 'comment':\n",
    "        df_posts = df_posts[comfields]  \n",
    "\n",
    "    # drop any duplicates\n",
    "    df_posts.drop_duplicates(inplace=True)\n",
    "    \n",
    "    # add a field identifying submissions or comments\n",
    "    df_posts['post_type'] = post_type\n",
    "    \n",
    "    return df_posts"
   ]
  },
  {
   "cell_type": "markdown",
   "metadata": {},
   "source": [
    "#### Get subreddit posts and save to csv"
   ]
  },
  {
   "cell_type": "code",
   "execution_count": 5,
   "metadata": {},
   "outputs": [
    {
     "name": "stdout",
     "output_type": "stream",
     "text": [
      "0 https://api.pushshift.io/reddit/search/submission/?subreddit=oculus&size=500&after=1d\n",
      "1 https://api.pushshift.io/reddit/search/submission/?subreddit=oculus&size=500&after=2d\n",
      "2 https://api.pushshift.io/reddit/search/submission/?subreddit=oculus&size=500&after=3d\n",
      "3 https://api.pushshift.io/reddit/search/submission/?subreddit=oculus&size=500&after=4d\n",
      "4 https://api.pushshift.io/reddit/search/submission/?subreddit=oculus&size=500&after=5d\n",
      "5 https://api.pushshift.io/reddit/search/submission/?subreddit=oculus&size=500&after=6d\n",
      "6 https://api.pushshift.io/reddit/search/submission/?subreddit=oculus&size=500&after=7d\n",
      "7 https://api.pushshift.io/reddit/search/submission/?subreddit=oculus&size=500&after=8d\n",
      "8 https://api.pushshift.io/reddit/search/submission/?subreddit=oculus&size=500&after=9d\n",
      "9 https://api.pushshift.io/reddit/search/submission/?subreddit=oculus&size=500&after=10d\n",
      "10 https://api.pushshift.io/reddit/search/submission/?subreddit=oculus&size=500&after=11d\n",
      "11 https://api.pushshift.io/reddit/search/submission/?subreddit=oculus&size=500&after=12d\n",
      "12 https://api.pushshift.io/reddit/search/submission/?subreddit=oculus&size=500&after=13d\n",
      "13 https://api.pushshift.io/reddit/search/submission/?subreddit=oculus&size=500&after=14d\n",
      "14 https://api.pushshift.io/reddit/search/submission/?subreddit=oculus&size=500&after=15d\n",
      "15 https://api.pushshift.io/reddit/search/submission/?subreddit=oculus&size=500&after=16d\n",
      "16 https://api.pushshift.io/reddit/search/submission/?subreddit=oculus&size=500&after=17d\n",
      "17 https://api.pushshift.io/reddit/search/submission/?subreddit=oculus&size=500&after=18d\n",
      "18 https://api.pushshift.io/reddit/search/submission/?subreddit=oculus&size=500&after=19d\n",
      "19 https://api.pushshift.io/reddit/search/submission/?subreddit=oculus&size=500&after=20d\n",
      "shape (3003, 13)\n"
     ]
    }
   ],
   "source": [
    "oculus_sub = pushshift('oculus', post_type='submission', loops=20, size=500, skip=1)\n",
    "print('shape', oculus_sub.shape)\n",
    "oculus_sub.to_csv('oculus_sub.csv')"
   ]
  },
  {
   "cell_type": "code",
   "execution_count": 6,
   "metadata": {},
   "outputs": [
    {
     "name": "stdout",
     "output_type": "stream",
     "text": [
      "0 https://api.pushshift.io/reddit/search/submission/?subreddit=Vive&size=500&after=1d\n",
      "1 https://api.pushshift.io/reddit/search/submission/?subreddit=Vive&size=500&after=2d\n",
      "2 https://api.pushshift.io/reddit/search/submission/?subreddit=Vive&size=500&after=3d\n",
      "3 https://api.pushshift.io/reddit/search/submission/?subreddit=Vive&size=500&after=4d\n",
      "4 https://api.pushshift.io/reddit/search/submission/?subreddit=Vive&size=500&after=5d\n",
      "5 https://api.pushshift.io/reddit/search/submission/?subreddit=Vive&size=500&after=6d\n",
      "6 https://api.pushshift.io/reddit/search/submission/?subreddit=Vive&size=500&after=7d\n",
      "7 https://api.pushshift.io/reddit/search/submission/?subreddit=Vive&size=500&after=8d\n",
      "8 https://api.pushshift.io/reddit/search/submission/?subreddit=Vive&size=500&after=9d\n",
      "9 https://api.pushshift.io/reddit/search/submission/?subreddit=Vive&size=500&after=10d\n",
      "10 https://api.pushshift.io/reddit/search/submission/?subreddit=Vive&size=500&after=11d\n",
      "11 https://api.pushshift.io/reddit/search/submission/?subreddit=Vive&size=500&after=12d\n",
      "12 https://api.pushshift.io/reddit/search/submission/?subreddit=Vive&size=500&after=13d\n",
      "13 https://api.pushshift.io/reddit/search/submission/?subreddit=Vive&size=500&after=14d\n",
      "14 https://api.pushshift.io/reddit/search/submission/?subreddit=Vive&size=500&after=15d\n",
      "15 https://api.pushshift.io/reddit/search/submission/?subreddit=Vive&size=500&after=16d\n",
      "16 https://api.pushshift.io/reddit/search/submission/?subreddit=Vive&size=500&after=17d\n",
      "17 https://api.pushshift.io/reddit/search/submission/?subreddit=Vive&size=500&after=18d\n",
      "18 https://api.pushshift.io/reddit/search/submission/?subreddit=Vive&size=500&after=19d\n",
      "19 https://api.pushshift.io/reddit/search/submission/?subreddit=Vive&size=500&after=20d\n",
      "shape (597, 13)\n"
     ]
    }
   ],
   "source": [
    "vive_sub = pushshift('Vive', post_type='submission', loops=20, size=500, skip=1)\n",
    "print('shape', vive_sub.shape)\n",
    "vive_sub.to_csv('vive_sub.csv')"
   ]
  },
  {
   "cell_type": "code",
   "execution_count": 7,
   "metadata": {},
   "outputs": [
    {
     "name": "stdout",
     "output_type": "stream",
     "text": [
      "0 https://api.pushshift.io/reddit/search/comment/?subreddit=oculus&size=500&after=1d\n",
      "1 https://api.pushshift.io/reddit/search/comment/?subreddit=oculus&size=500&after=2d\n",
      "2 https://api.pushshift.io/reddit/search/comment/?subreddit=oculus&size=500&after=3d\n",
      "3 https://api.pushshift.io/reddit/search/comment/?subreddit=oculus&size=500&after=4d\n",
      "4 https://api.pushshift.io/reddit/search/comment/?subreddit=oculus&size=500&after=5d\n",
      "5 https://api.pushshift.io/reddit/search/comment/?subreddit=oculus&size=500&after=6d\n",
      "6 https://api.pushshift.io/reddit/search/comment/?subreddit=oculus&size=500&after=7d\n",
      "7 https://api.pushshift.io/reddit/search/comment/?subreddit=oculus&size=500&after=8d\n",
      "8 https://api.pushshift.io/reddit/search/comment/?subreddit=oculus&size=500&after=9d\n",
      "9 https://api.pushshift.io/reddit/search/comment/?subreddit=oculus&size=500&after=10d\n",
      "10 https://api.pushshift.io/reddit/search/comment/?subreddit=oculus&size=500&after=11d\n",
      "11 https://api.pushshift.io/reddit/search/comment/?subreddit=oculus&size=500&after=12d\n",
      "12 https://api.pushshift.io/reddit/search/comment/?subreddit=oculus&size=500&after=13d\n",
      "13 https://api.pushshift.io/reddit/search/comment/?subreddit=oculus&size=500&after=14d\n",
      "14 https://api.pushshift.io/reddit/search/comment/?subreddit=oculus&size=500&after=15d\n",
      "15 https://api.pushshift.io/reddit/search/comment/?subreddit=oculus&size=500&after=16d\n",
      "16 https://api.pushshift.io/reddit/search/comment/?subreddit=oculus&size=500&after=17d\n",
      "17 https://api.pushshift.io/reddit/search/comment/?subreddit=oculus&size=500&after=18d\n",
      "18 https://api.pushshift.io/reddit/search/comment/?subreddit=oculus&size=500&after=19d\n",
      "19 https://api.pushshift.io/reddit/search/comment/?subreddit=oculus&size=500&after=20d\n",
      "shape (10000, 10)\n"
     ]
    }
   ],
   "source": [
    "oculus_com = pushshift('oculus', post_type='comment', loops=20, size=500, skip=1)\n",
    "print('shape', oculus_com.shape)\n",
    "oculus_com.to_csv('oculus_com.csv')"
   ]
  },
  {
   "cell_type": "code",
   "execution_count": 8,
   "metadata": {},
   "outputs": [
    {
     "name": "stdout",
     "output_type": "stream",
     "text": [
      "0 https://api.pushshift.io/reddit/search/comment/?subreddit=Vive&size=500&after=1d\n",
      "1 https://api.pushshift.io/reddit/search/comment/?subreddit=Vive&size=500&after=2d\n",
      "2 https://api.pushshift.io/reddit/search/comment/?subreddit=Vive&size=500&after=3d\n",
      "3 https://api.pushshift.io/reddit/search/comment/?subreddit=Vive&size=500&after=4d\n",
      "4 https://api.pushshift.io/reddit/search/comment/?subreddit=Vive&size=500&after=5d\n",
      "5 https://api.pushshift.io/reddit/search/comment/?subreddit=Vive&size=500&after=6d\n",
      "6 https://api.pushshift.io/reddit/search/comment/?subreddit=Vive&size=500&after=7d\n",
      "7 https://api.pushshift.io/reddit/search/comment/?subreddit=Vive&size=500&after=8d\n",
      "8 https://api.pushshift.io/reddit/search/comment/?subreddit=Vive&size=500&after=9d\n",
      "9 https://api.pushshift.io/reddit/search/comment/?subreddit=Vive&size=500&after=10d\n",
      "10 https://api.pushshift.io/reddit/search/comment/?subreddit=Vive&size=500&after=11d\n",
      "11 https://api.pushshift.io/reddit/search/comment/?subreddit=Vive&size=500&after=12d\n",
      "12 https://api.pushshift.io/reddit/search/comment/?subreddit=Vive&size=500&after=13d\n",
      "13 https://api.pushshift.io/reddit/search/comment/?subreddit=Vive&size=500&after=14d\n",
      "14 https://api.pushshift.io/reddit/search/comment/?subreddit=Vive&size=500&after=15d\n",
      "15 https://api.pushshift.io/reddit/search/comment/?subreddit=Vive&size=500&after=16d\n",
      "16 https://api.pushshift.io/reddit/search/comment/?subreddit=Vive&size=500&after=17d\n",
      "17 https://api.pushshift.io/reddit/search/comment/?subreddit=Vive&size=500&after=18d\n",
      "18 https://api.pushshift.io/reddit/search/comment/?subreddit=Vive&size=500&after=19d\n",
      "19 https://api.pushshift.io/reddit/search/comment/?subreddit=Vive&size=500&after=20d\n",
      "shape (6216, 10)\n"
     ]
    }
   ],
   "source": [
    "vive_com = pushshift('Vive', post_type='comment', loops=20, size=500, skip=1)\n",
    "print('shape', vive_com.shape)\n",
    "vive_com.to_csv('vive_com.csv')"
   ]
  },
  {
   "cell_type": "markdown",
   "metadata": {},
   "source": [
    "#### Create csv to analyse comments of subreddits"
   ]
  },
  {
   "cell_type": "code",
   "execution_count": 11,
   "metadata": {},
   "outputs": [],
   "source": [
    "df = pd.concat([oculus_com[['body', 'subreddit']], vive_com[['body', 'subreddit']]], ignore_index=True)\n",
    "df.to_csv('comments.csv', index=False)"
   ]
  }
 ],
 "metadata": {
  "kernelspec": {
   "display_name": "Python 3",
   "language": "python",
   "name": "python3"
  },
  "language_info": {
   "codemirror_mode": {
    "name": "ipython",
    "version": 3
   },
   "file_extension": ".py",
   "mimetype": "text/x-python",
   "name": "python",
   "nbconvert_exporter": "python",
   "pygments_lexer": "ipython3",
   "version": "3.6.5"
  }
 },
 "nbformat": 4,
 "nbformat_minor": 2
}
