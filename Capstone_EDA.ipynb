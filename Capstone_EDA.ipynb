{
  "nbformat": 4,
  "nbformat_minor": 0,
  "metadata": {
    "colab": {
      "name": "Capstone_EDA.ipynb",
      "provenance": [],
      "collapsed_sections": [],
      "machine_shape": "hm"
    },
    "kernelspec": {
      "name": "python3",
      "display_name": "Python 3"
    },
    "accelerator": "GPU"
  },
  "cells": [
    {
      "cell_type": "code",
      "metadata": {
        "id": "k1fZuvDdejuP",
        "colab_type": "code",
        "outputId": "209338a3-dfd4-4239-db38-eecbe24fe82e",
        "colab": {
          "base_uri": "https://localhost:8080/",
          "height": 125
        }
      },
      "source": [
        "from google.colab import drive\n",
        "drive.mount('drive')"
      ],
      "execution_count": 1,
      "outputs": [
        {
          "output_type": "stream",
          "text": [
            "Go to this URL in a browser: https://accounts.google.com/o/oauth2/auth?client_id=947318989803-6bn6qk8qdgf4n4g3pfee6491hc0brc4i.apps.googleusercontent.com&redirect_uri=urn%3aietf%3awg%3aoauth%3a2.0%3aoob&response_type=code&scope=email%20https%3a%2f%2fwww.googleapis.com%2fauth%2fdocs.test%20https%3a%2f%2fwww.googleapis.com%2fauth%2fdrive%20https%3a%2f%2fwww.googleapis.com%2fauth%2fdrive.photos.readonly%20https%3a%2f%2fwww.googleapis.com%2fauth%2fpeopleapi.readonly\n",
            "\n",
            "Enter your authorization code:\n",
            "··········\n",
            "Mounted at drive\n"
          ],
          "name": "stdout"
        }
      ]
    },
    {
      "cell_type": "code",
      "metadata": {
        "id": "OHnJinR7uQpZ",
        "colab_type": "code",
        "outputId": "7b94c12a-3f53-40a4-a552-85c8f685962f",
        "colab": {
          "base_uri": "https://localhost:8080/",
          "height": 35
        }
      },
      "source": [
        "import pandas as pd\n",
        " \n",
        "tb_new = pd.read_csv('/content/drive/My Drive/tb_new.csv')# Dataset is now stored in a Pandas Dataframe\n",
        "\n",
        "print(tb_new.columns)"
      ],
      "execution_count": 2,
      "outputs": [
        {
          "output_type": "stream",
          "text": [
            "Index(['user_id', 'item_id', 'category_id', 'behavior_type', 'timestamp'], dtype='object')\n"
          ],
          "name": "stdout"
        }
      ]
    },
    {
      "cell_type": "code",
      "metadata": {
        "id": "jAES-nnOuQZJ",
        "colab_type": "code",
        "colab": {}
      },
      "source": [
        "import numpy as np\n",
        "import matplotlib.pyplot as plt\n",
        "import seaborn as sns"
      ],
      "execution_count": 0,
      "outputs": []
    },
    {
      "cell_type": "code",
      "metadata": {
        "colab_type": "code",
        "id": "NDGixEOs1Fn5",
        "colab": {}
      },
      "source": [
        "tb_new[\"timestamp\"]= pd.to_datetime(tb_new[\"timestamp\"]) "
      ],
      "execution_count": 0,
      "outputs": []
    },
    {
      "cell_type": "code",
      "metadata": {
        "colab_type": "code",
        "id": "5HRUTbRN1FoD",
        "colab": {}
      },
      "source": [
        "tb_new['timestamp'] = tb_new['timestamp'].dt.strftime('%d/%m/%Y')"
      ],
      "execution_count": 0,
      "outputs": []
    },
    {
      "cell_type": "code",
      "metadata": {
        "colab_type": "code",
        "id": "DLkSNbgO1FoF",
        "colab": {}
      },
      "source": [
        "tb_new.sort_values(by=['timestamp'], inplace=True, ascending=True)"
      ],
      "execution_count": 0,
      "outputs": []
    },
    {
      "cell_type": "code",
      "metadata": {
        "colab_type": "code",
        "outputId": "5fad37d6-3db4-4cc2-a69d-137d6af88487",
        "id": "nyYRYxeQ1FoI",
        "colab": {
          "base_uri": "https://localhost:8080/",
          "height": 203
        }
      },
      "source": [
        "tb_new.head()\n"
      ],
      "execution_count": 0,
      "outputs": [
        {
          "output_type": "execute_result",
          "data": {
            "text/html": [
              "<div>\n",
              "<style scoped>\n",
              "    .dataframe tbody tr th:only-of-type {\n",
              "        vertical-align: middle;\n",
              "    }\n",
              "\n",
              "    .dataframe tbody tr th {\n",
              "        vertical-align: top;\n",
              "    }\n",
              "\n",
              "    .dataframe thead th {\n",
              "        text-align: right;\n",
              "    }\n",
              "</style>\n",
              "<table border=\"1\" class=\"dataframe\">\n",
              "  <thead>\n",
              "    <tr style=\"text-align: right;\">\n",
              "      <th></th>\n",
              "      <th>user_id</th>\n",
              "      <th>item_id</th>\n",
              "      <th>category_id</th>\n",
              "      <th>behavior_type</th>\n",
              "      <th>timestamp</th>\n",
              "    </tr>\n",
              "  </thead>\n",
              "  <tbody>\n",
              "    <tr>\n",
              "      <th>1928411</th>\n",
              "      <td>170980</td>\n",
              "      <td>1500112</td>\n",
              "      <td>4145813</td>\n",
              "      <td>pv</td>\n",
              "      <td>01/01/1970</td>\n",
              "    </tr>\n",
              "    <tr>\n",
              "      <th>87527314</th>\n",
              "      <td>419355</td>\n",
              "      <td>418492</td>\n",
              "      <td>5053508</td>\n",
              "      <td>pv</td>\n",
              "      <td>01/01/1970</td>\n",
              "    </tr>\n",
              "    <tr>\n",
              "      <th>87527315</th>\n",
              "      <td>419355</td>\n",
              "      <td>2466766</td>\n",
              "      <td>1879194</td>\n",
              "      <td>pv</td>\n",
              "      <td>01/01/1970</td>\n",
              "    </tr>\n",
              "    <tr>\n",
              "      <th>87527316</th>\n",
              "      <td>419355</td>\n",
              "      <td>1902794</td>\n",
              "      <td>1879194</td>\n",
              "      <td>pv</td>\n",
              "      <td>01/01/1970</td>\n",
              "    </tr>\n",
              "    <tr>\n",
              "      <th>87527317</th>\n",
              "      <td>419355</td>\n",
              "      <td>3109278</td>\n",
              "      <td>1879194</td>\n",
              "      <td>pv</td>\n",
              "      <td>01/01/1970</td>\n",
              "    </tr>\n",
              "  </tbody>\n",
              "</table>\n",
              "</div>"
            ],
            "text/plain": [
              "          user_id  item_id  category_id behavior_type   timestamp\n",
              "1928411    170980  1500112      4145813            pv  01/01/1970\n",
              "87527314   419355   418492      5053508            pv  01/01/1970\n",
              "87527315   419355  2466766      1879194            pv  01/01/1970\n",
              "87527316   419355  1902794      1879194            pv  01/01/1970\n",
              "87527317   419355  3109278      1879194            pv  01/01/1970"
            ]
          },
          "metadata": {
            "tags": []
          },
          "execution_count": 9
        }
      ]
    },
    {
      "cell_type": "code",
      "metadata": {
        "id": "7a0InlLKgQeF",
        "colab_type": "code",
        "outputId": "3da11775-248a-46a3-a5af-5bd810a9d366",
        "colab": {
          "base_uri": "https://localhost:8080/",
          "height": 203
        }
      },
      "source": [
        "tb_new.tail()"
      ],
      "execution_count": 0,
      "outputs": [
        {
          "output_type": "execute_result",
          "data": {
            "text/html": [
              "<div>\n",
              "<style scoped>\n",
              "    .dataframe tbody tr th:only-of-type {\n",
              "        vertical-align: middle;\n",
              "    }\n",
              "\n",
              "    .dataframe tbody tr th {\n",
              "        vertical-align: top;\n",
              "    }\n",
              "\n",
              "    .dataframe thead th {\n",
              "        text-align: right;\n",
              "    }\n",
              "</style>\n",
              "<table border=\"1\" class=\"dataframe\">\n",
              "  <thead>\n",
              "    <tr style=\"text-align: right;\">\n",
              "      <th></th>\n",
              "      <th>user_id</th>\n",
              "      <th>item_id</th>\n",
              "      <th>category_id</th>\n",
              "      <th>behavior_type</th>\n",
              "      <th>timestamp</th>\n",
              "    </tr>\n",
              "  </thead>\n",
              "  <tbody>\n",
              "    <tr>\n",
              "      <th>99801884</th>\n",
              "      <td>98390</td>\n",
              "      <td>1187404</td>\n",
              "      <td>2920476</td>\n",
              "      <td>pv</td>\n",
              "      <td>31/12/2017</td>\n",
              "    </tr>\n",
              "    <tr>\n",
              "      <th>99801883</th>\n",
              "      <td>98390</td>\n",
              "      <td>2433216</td>\n",
              "      <td>149192</td>\n",
              "      <td>pv</td>\n",
              "      <td>31/12/2017</td>\n",
              "    </tr>\n",
              "    <tr>\n",
              "      <th>99801882</th>\n",
              "      <td>98390</td>\n",
              "      <td>4412076</td>\n",
              "      <td>149192</td>\n",
              "      <td>pv</td>\n",
              "      <td>31/12/2017</td>\n",
              "    </tr>\n",
              "    <tr>\n",
              "      <th>99801861</th>\n",
              "      <td>98390</td>\n",
              "      <td>1609929</td>\n",
              "      <td>2920476</td>\n",
              "      <td>pv</td>\n",
              "      <td>31/12/2017</td>\n",
              "    </tr>\n",
              "    <tr>\n",
              "      <th>99801820</th>\n",
              "      <td>98390</td>\n",
              "      <td>4935505</td>\n",
              "      <td>982926</td>\n",
              "      <td>pv</td>\n",
              "      <td>31/12/2017</td>\n",
              "    </tr>\n",
              "  </tbody>\n",
              "</table>\n",
              "</div>"
            ],
            "text/plain": [
              "          user_id  item_id  category_id behavior_type   timestamp\n",
              "99801884    98390  1187404      2920476            pv  31/12/2017\n",
              "99801883    98390  2433216       149192            pv  31/12/2017\n",
              "99801882    98390  4412076       149192            pv  31/12/2017\n",
              "99801861    98390  1609929      2920476            pv  31/12/2017\n",
              "99801820    98390  4935505       982926            pv  31/12/2017"
            ]
          },
          "metadata": {
            "tags": []
          },
          "execution_count": 10
        }
      ]
    },
    {
      "cell_type": "markdown",
      "metadata": {
        "id": "uqcOMKhWDUfg",
        "colab_type": "text"
      },
      "source": [
        "I noticed there are invalid dates in the timestamp column e.g. 01/01/1970. I only save valid dates within time period 01/12/2017 to 03/12/2017 for analysis."
      ]
    },
    {
      "cell_type": "code",
      "metadata": {
        "colab_type": "code",
        "id": "teY7Lfh61O2H",
        "colab": {}
      },
      "source": [
        "tb_new = tb_new[(tb_new['timestamp'] =='01/12/2017') | (tb_new['timestamp'] =='02/12/2017') | (tb_new['timestamp'] =='03/12/2017')]"
      ],
      "execution_count": 0,
      "outputs": []
    },
    {
      "cell_type": "code",
      "metadata": {
        "id": "jF5QNXhs6An3",
        "colab_type": "code",
        "outputId": "ad1e56d1-0dbe-416c-8dae-000fdefff414",
        "colab": {
          "base_uri": "https://localhost:8080/",
          "height": 35
        }
      },
      "source": [
        "tb_new.shape"
      ],
      "execution_count": 0,
      "outputs": [
        {
          "output_type": "execute_result",
          "data": {
            "text/plain": [
              "(37073453, 5)"
            ]
          },
          "metadata": {
            "tags": []
          },
          "execution_count": 12
        }
      ]
    },
    {
      "cell_type": "code",
      "metadata": {
        "id": "Z6ANbWRxtbsI",
        "colab_type": "code",
        "colab": {}
      },
      "source": [
        "tb_new.sort_values(by=['user_id'], inplace=True, ascending=True)"
      ],
      "execution_count": 0,
      "outputs": []
    },
    {
      "cell_type": "code",
      "metadata": {
        "id": "hi903DS0yKep",
        "colab_type": "code",
        "colab": {
          "base_uri": "https://localhost:8080/",
          "height": 35
        },
        "outputId": "864597b4-8ffc-4242-b6be-971230814143"
      },
      "source": [
        "tb_new['user_id'].min()"
      ],
      "execution_count": 15,
      "outputs": [
        {
          "output_type": "execute_result",
          "data": {
            "text/plain": [
              "1"
            ]
          },
          "metadata": {
            "tags": []
          },
          "execution_count": 15
        }
      ]
    },
    {
      "cell_type": "code",
      "metadata": {
        "id": "Ug7K70xPy5V-",
        "colab_type": "code",
        "colab": {
          "base_uri": "https://localhost:8080/",
          "height": 35
        },
        "outputId": "9f40e955-146b-431e-920d-3bd1bdcfb0b3"
      },
      "source": [
        "tb_new['user_id'].max()"
      ],
      "execution_count": 16,
      "outputs": [
        {
          "output_type": "execute_result",
          "data": {
            "text/plain": [
              "1018011"
            ]
          },
          "metadata": {
            "tags": []
          },
          "execution_count": 16
        }
      ]
    },
    {
      "cell_type": "code",
      "metadata": {
        "id": "ZSmTR6wVsaVE",
        "colab_type": "code",
        "colab": {}
      },
      "source": [
        "# I will take a sample based on user IDs, from my data for analysis and modelling.\n",
        "tb_new = tb_new[tb_new['user_id']<5000]"
      ],
      "execution_count": 0,
      "outputs": []
    },
    {
      "cell_type": "code",
      "metadata": {
        "id": "5Q_t4BaczEdz",
        "colab_type": "code",
        "colab": {
          "base_uri": "https://localhost:8080/",
          "height": 35
        },
        "outputId": "5f15988c-3227-46d7-8d03-458fc7087f05"
      },
      "source": [
        "tb_new.shape"
      ],
      "execution_count": 25,
      "outputs": [
        {
          "output_type": "execute_result",
          "data": {
            "text/plain": [
              "(180707, 5)"
            ]
          },
          "metadata": {
            "tags": []
          },
          "execution_count": 25
        }
      ]
    },
    {
      "cell_type": "code",
      "metadata": {
        "id": "J3Jg0qxcv09a",
        "colab_type": "code",
        "outputId": "0f5b189d-0747-4ec1-ae60-8955b0e36185",
        "colab": {
          "base_uri": "https://localhost:8080/",
          "height": 203
        }
      },
      "source": [
        "tb_new.head()"
      ],
      "execution_count": 26,
      "outputs": [
        {
          "output_type": "execute_result",
          "data": {
            "text/html": [
              "<div>\n",
              "<style scoped>\n",
              "    .dataframe tbody tr th:only-of-type {\n",
              "        vertical-align: middle;\n",
              "    }\n",
              "\n",
              "    .dataframe tbody tr th {\n",
              "        vertical-align: top;\n",
              "    }\n",
              "\n",
              "    .dataframe thead th {\n",
              "        text-align: right;\n",
              "    }\n",
              "</style>\n",
              "<table border=\"1\" class=\"dataframe\">\n",
              "  <thead>\n",
              "    <tr style=\"text-align: right;\">\n",
              "      <th></th>\n",
              "      <th>user_id</th>\n",
              "      <th>item_id</th>\n",
              "      <th>category_id</th>\n",
              "      <th>behavior_type</th>\n",
              "      <th>timestamp</th>\n",
              "    </tr>\n",
              "  </thead>\n",
              "  <tbody>\n",
              "    <tr>\n",
              "      <th>47</th>\n",
              "      <td>1</td>\n",
              "      <td>3219016</td>\n",
              "      <td>3002561</td>\n",
              "      <td>pv</td>\n",
              "      <td>02/12/2017</td>\n",
              "    </tr>\n",
              "    <tr>\n",
              "      <th>50</th>\n",
              "      <td>1</td>\n",
              "      <td>4954999</td>\n",
              "      <td>411153</td>\n",
              "      <td>pv</td>\n",
              "      <td>03/12/2017</td>\n",
              "    </tr>\n",
              "    <tr>\n",
              "      <th>51</th>\n",
              "      <td>1</td>\n",
              "      <td>818610</td>\n",
              "      <td>411153</td>\n",
              "      <td>pv</td>\n",
              "      <td>03/12/2017</td>\n",
              "    </tr>\n",
              "    <tr>\n",
              "      <th>53</th>\n",
              "      <td>1</td>\n",
              "      <td>568695</td>\n",
              "      <td>1320293</td>\n",
              "      <td>pv</td>\n",
              "      <td>03/12/2017</td>\n",
              "    </tr>\n",
              "    <tr>\n",
              "      <th>48</th>\n",
              "      <td>1</td>\n",
              "      <td>2278603</td>\n",
              "      <td>3002561</td>\n",
              "      <td>pv</td>\n",
              "      <td>02/12/2017</td>\n",
              "    </tr>\n",
              "  </tbody>\n",
              "</table>\n",
              "</div>"
            ],
            "text/plain": [
              "    user_id  item_id  category_id behavior_type   timestamp\n",
              "47        1  3219016      3002561            pv  02/12/2017\n",
              "50        1  4954999       411153            pv  03/12/2017\n",
              "51        1   818610       411153            pv  03/12/2017\n",
              "53        1   568695      1320293            pv  03/12/2017\n",
              "48        1  2278603      3002561            pv  02/12/2017"
            ]
          },
          "metadata": {
            "tags": []
          },
          "execution_count": 26
        }
      ]
    },
    {
      "cell_type": "code",
      "metadata": {
        "id": "kHonDDQK-_Gb",
        "colab_type": "code",
        "colab": {}
      },
      "source": [
        "tb_new.to_csv('/content/drive/My Drive/tb_final.csv', index=False)\n",
        "#saved as separate csv for further work on recommender system in a separate notebook."
      ],
      "execution_count": 0,
      "outputs": []
    },
    {
      "cell_type": "code",
      "metadata": {
        "id": "gCvKBhawAtBk",
        "colab_type": "code",
        "outputId": "5cf9d31e-e29d-46ef-b15a-f105ebe08173",
        "colab": {
          "base_uri": "https://localhost:8080/",
          "height": 401
        }
      },
      "source": [
        "# Bar plot to see the count of each behaviour type.\n",
        "print(tb_new['behavior_type'].value_counts())\n",
        "sns.countplot(x= 'behavior_type', data=tb_new, palette=\"pastel\")\n",
        "plt.title('User Action')"
      ],
      "execution_count": 29,
      "outputs": [
        {
          "output_type": "stream",
          "text": [
            "pv      161338\n",
            "cart     10900\n",
            "fav       5183\n",
            "buy       3286\n",
            "Name: behavior_type, dtype: int64\n"
          ],
          "name": "stdout"
        },
        {
          "output_type": "execute_result",
          "data": {
            "text/plain": [
              "Text(0.5, 1.0, 'User Action')"
            ]
          },
          "metadata": {
            "tags": []
          },
          "execution_count": 29
        },
        {
          "output_type": "display_data",
          "data": {
            "image/png": "[encoded data removed]",
            "text/plain": [
              "<Figure size 432x288 with 1 Axes>"
            ]
          },
          "metadata": {
            "tags": []
          }
        }
      ]
    },
    {
      "cell_type": "markdown",
      "metadata": {
        "id": "bcRKcj_6CKSf",
        "colab_type": "text"
      },
      "source": [
        "There is a significantly larger amount of page views than all the other behavior types."
      ]
    },
    {
      "cell_type": "code",
      "metadata": {
        "id": "8PFClAt-CQJl",
        "colab_type": "code",
        "colab": {}
      },
      "source": [
        "#Group item_id by its user behavior\n",
        "grouped_behavior = tb_new.groupby('behavior_type')['item_id'].apply(list)\n",
        "#grouped_behavior"
      ],
      "execution_count": 0,
      "outputs": []
    },
    {
      "cell_type": "code",
      "metadata": {
        "colab_type": "code",
        "id": "97Y-ce1cJOsV",
        "colab": {}
      },
      "source": [
        "#See the most viewed items\n",
        "page_views = grouped_behavior['pv']\n",
        "\n",
        "#convert page_views to numpy array\n",
        "page_views = np.array(page_views[:])\n",
        "\n",
        "#counting uniques values of page views\n",
        "unique, counts = np.unique(page_views, return_counts=True)\n",
        "\n",
        "# Dictionary with key as unique and value as counts\n",
        "count_views = {}\n",
        "count_views = dict(zip(unique, counts))\n",
        "\n"
      ],
      "execution_count": 0,
      "outputs": []
    },
    {
      "cell_type": "code",
      "metadata": {
        "id": "EHr1VG6jJYYq",
        "colab_type": "code",
        "outputId": "5e681df0-7803-48cf-8352-49aaa7f80c06",
        "colab": {
          "base_uri": "https://localhost:8080/",
          "height": 421
        }
      },
      "source": [
        "#sorting the dictionary\n",
        "import operator\n",
        "sort_views = sorted(count_views.items(), key = operator.itemgetter(1), reverse = True)\n",
        "\n",
        "# x-axis: Item IDs\n",
        "x = [i[0] for i in sort_views[:10]]\n",
        "\n",
        "# y-axis: count of views\n",
        "y = [i[1] for i in sort_views[:10]]\n",
        "\n",
        "plt.figure(figsize=(12,6))\n",
        "ax = sns.barplot(x, y, order=x, palette=\"rocket\")\n",
        "plt.title(\"Top 10 most viewed items\")\n",
        "plt.xlabel(\"Item ID\")\n",
        "plt.ylabel(\"View Count\")"
      ],
      "execution_count": 32,
      "outputs": [
        {
          "output_type": "execute_result",
          "data": {
            "text/plain": [
              "Text(0, 0.5, 'View Count')"
            ]
          },
          "metadata": {
            "tags": []
          },
          "execution_count": 32
        },
        {
          "output_type": "display_data",
          "data": {
            "image/png": "[encoded data removed]",
            "text/plain": [
              "<Figure size 864x432 with 1 Axes>"
            ]
          },
          "metadata": {
            "tags": []
          }
        }
      ]
    },
    {
      "cell_type": "code",
      "metadata": {
        "id": "dpHAdGA2ruk8",
        "colab_type": "code",
        "colab": {}
      },
      "source": [
        "#See the most add to cart items\n",
        "add_cart = grouped_behavior['cart']\n",
        "\n",
        "#convert add cart to numpy array\n",
        "add_cart = np.array(add_cart[:])\n",
        "\n",
        "#counting uniques values of add to cart\n",
        "cart_unique, cart_counts = np.unique(add_cart, return_counts=True)\n",
        "\n",
        "# Dictionary with key as unique and value as counts\n",
        "count_add_cart = {}\n",
        "count_add_cart = dict(zip(cart_unique, cart_counts))"
      ],
      "execution_count": 0,
      "outputs": []
    },
    {
      "cell_type": "code",
      "metadata": {
        "id": "Wboc7McOtDv4",
        "colab_type": "code",
        "outputId": "bfd49913-24ab-446c-fa6d-45202fa6a3ea",
        "colab": {
          "base_uri": "https://localhost:8080/",
          "height": 421
        }
      },
      "source": [
        "#sorting the dictionary\n",
        "sort_add_cart = sorted(count_add_cart.items(), key = operator.itemgetter(1), reverse = True)\n",
        "\n",
        "# x-axis: Item IDs\n",
        "x_cart = [i[0] for i in sort_add_cart[:10]]\n",
        "\n",
        "# y-axis: Add to cart count\n",
        "y_cart = [i[1] for i in sort_add_cart[:10]]\n",
        "\n",
        "plt.figure(figsize=(12,6))\n",
        "ax_cart = sns.barplot(x=x_cart, y=y_cart, order=x_cart, palette=\"rocket\")\n",
        "plt.title(\"Top 10 most add to cart items\")\n",
        "plt.xlabel(\"Item ID\")\n",
        "plt.ylabel(\"Cart Count\")"
      ],
      "execution_count": 34,
      "outputs": [
        {
          "output_type": "execute_result",
          "data": {
            "text/plain": [
              "Text(0, 0.5, 'Cart Count')"
            ]
          },
          "metadata": {
            "tags": []
          },
          "execution_count": 34
        },
        {
          "output_type": "display_data",
          "data": {
            "image/png": "[encoded data removed]",
            "text/plain": [
              "<Figure size 864x432 with 1 Axes>"
            ]
          },
          "metadata": {
            "tags": []
          }
        }
      ]
    },
    {
      "cell_type": "code",
      "metadata": {
        "id": "s_MzTDt8vH7q",
        "colab_type": "code",
        "colab": {}
      },
      "source": [
        "#See the most favorite items\n",
        "fav_items = grouped_behavior['fav']\n",
        "\n",
        "#convert favorite items to numpy array\n",
        "fav_items = np.array(fav_items[:])\n",
        "\n",
        "#counting uniques values of favorite items\n",
        "fav_unique, fav_counts = np.unique(fav_items, return_counts=True)\n",
        "\n",
        "# Dictionary with key as unique and value as counts\n",
        "count_fav_items = {}\n",
        "count_fav_items = dict(zip(fav_unique, fav_counts))"
      ],
      "execution_count": 0,
      "outputs": []
    },
    {
      "cell_type": "code",
      "metadata": {
        "id": "XgvoTJwjwlQ5",
        "colab_type": "code",
        "outputId": "8fd05802-f2dc-4391-a53a-50611e4f6580",
        "colab": {
          "base_uri": "https://localhost:8080/",
          "height": 421
        }
      },
      "source": [
        "#sorting the dictionary\n",
        "sort_fav_items = sorted(count_fav_items.items(), key = operator.itemgetter(1), reverse = True)\n",
        "\n",
        "# x-axis: Item IDs\n",
        "x_fav = [i[0] for i in sort_fav_items[:10]]\n",
        "\n",
        "# y-axis: Favorite count\n",
        "y_fav = [i[1] for i in sort_fav_items[:10]]\n",
        "\n",
        "plt.figure(figsize=(12,6))\n",
        "ax_fav = sns.barplot(x=x_fav, y=y_fav, order=x_fav, palette=\"rocket\")\n",
        "plt.title(\"Top 10 most favorite items\")\n",
        "plt.xlabel(\"Item ID\")\n",
        "plt.ylabel(\"Favorite Count\")"
      ],
      "execution_count": 36,
      "outputs": [
        {
          "output_type": "execute_result",
          "data": {
            "text/plain": [
              "Text(0, 0.5, 'Favorite Count')"
            ]
          },
          "metadata": {
            "tags": []
          },
          "execution_count": 36
        },
        {
          "output_type": "display_data",
          "data": {
            "image/png": "[encoded data removed]",
            "text/plain": [
              "<Figure size 864x432 with 1 Axes>"
            ]
          },
          "metadata": {
            "tags": []
          }
        }
      ]
    },
    {
      "cell_type": "code",
      "metadata": {
        "id": "IubCbo_Aw9Sl",
        "colab_type": "code",
        "colab": {}
      },
      "source": [
        "#See the most transacted items\n",
        "buy_items = grouped_behavior['buy']\n",
        "\n",
        "#convert bought items to numpy array\n",
        "buy_items = np.array(buy_items[:])\n",
        "\n",
        "#counting uniques values of bought items\n",
        "buy_unique, buy_counts = np.unique(buy_items, return_counts=True)\n",
        "\n",
        "# Dictionary with key as unique and value as counts\n",
        "count_buy_items = {}\n",
        "count_buy_items = dict(zip(buy_unique, buy_counts))"
      ],
      "execution_count": 0,
      "outputs": []
    },
    {
      "cell_type": "code",
      "metadata": {
        "id": "7ZI9KPe4xZS3",
        "colab_type": "code",
        "outputId": "54593ed2-f0fe-44a5-d6c1-dd991f79fa0b",
        "colab": {
          "base_uri": "https://localhost:8080/",
          "height": 421
        }
      },
      "source": [
        "#sorting the dictionary\n",
        "sort_buy_items = sorted(count_buy_items.items(), key = operator.itemgetter(1), reverse = True)\n",
        "\n",
        "# x-axis: Item IDs\n",
        "x_buy = [i[0] for i in sort_buy_items[:10]]\n",
        "\n",
        "# y-axis: Favorite count\n",
        "y_buy = [i[1] for i in sort_buy_items[:10]]\n",
        "\n",
        "plt.figure(figsize=(12,6))\n",
        "ax_buy = sns.barplot(x=x_buy, y=y_buy, order=x_buy, palette=\"rocket\")\n",
        "plt.title(\"Top 10 most transacted items\")\n",
        "plt.xlabel(\"Item ID\")\n",
        "plt.ylabel(\"Transaction Count\")"
      ],
      "execution_count": 38,
      "outputs": [
        {
          "output_type": "execute_result",
          "data": {
            "text/plain": [
              "Text(0, 0.5, 'Transaction Count')"
            ]
          },
          "metadata": {
            "tags": []
          },
          "execution_count": 38
        },
        {
          "output_type": "display_data",
          "data": {
            "image/png": "[encoded data removed]",
            "text/plain": [
              "<Figure size 864x432 with 1 Axes>"
            ]
          },
          "metadata": {
            "tags": []
          }
        }
      ]
    },
    {
      "cell_type": "markdown",
      "metadata": {
        "id": "WCHjcduLxscY",
        "colab_type": "text"
      },
      "source": [
        "You will notice from the bar graphs that the top 10 most transacted items are very different from the top 10 most favourite, most viewed and most add to cart items.  This shows that more often than not, users may display interest in certain items, but end up not buying them."
      ]
    },
    {
      "cell_type": "code",
      "metadata": {
        "id": "uAIIigqg8mp9",
        "colab_type": "code",
        "colab": {}
      },
      "source": [
        "#Group category_id by its user behavior\n",
        "grouped_cat_behavior = tb_new.groupby('behavior_type')['category_id'].apply(list)\n",
        "#grouped_cat_behavior"
      ],
      "execution_count": 0,
      "outputs": []
    },
    {
      "cell_type": "code",
      "metadata": {
        "id": "HW8MgveV8wpR",
        "colab_type": "code",
        "colab": {}
      },
      "source": [
        "#See the most viewed categories\n",
        "cat_pv = grouped_cat_behavior['pv']\n",
        "\n",
        "#convert cat_pv to numpy array\n",
        "cat_pv = np.array(cat_pv[:])\n",
        "\n",
        "#counting uniques values of page views\n",
        "pv_unique, pv_counts = np.unique(cat_pv, return_counts=True)\n",
        "\n",
        "# Dictionary with key as unique and value as counts\n",
        "count_cat_views = {}\n",
        "count_cat_views = dict(zip(pv_unique, pv_counts))"
      ],
      "execution_count": 0,
      "outputs": []
    },
    {
      "cell_type": "code",
      "metadata": {
        "colab_type": "code",
        "outputId": "7dcd21da-f914-4142-8942-6454fb092b94",
        "id": "fhfDRsAQ9OGp",
        "colab": {
          "base_uri": "https://localhost:8080/",
          "height": 421
        }
      },
      "source": [
        "import operator\n",
        "#sorting the dictionary\n",
        "sort_cat_views = sorted(count_cat_views.items(), key = operator.itemgetter(1), reverse = True)\n",
        "\n",
        "# x-axis: Category IDs\n",
        "x_pv = [i[0] for i in sort_cat_views[:10]]\n",
        "\n",
        "# y-axis: count of views\n",
        "y_pv = [i[1] for i in sort_cat_views[:10]]\n",
        "\n",
        "plt.figure(figsize=(12,6))\n",
        "ax = sns.barplot(x=x_pv, y=y_pv, order=x_pv, palette=\"GnBu_d\")\n",
        "plt.title(\"Top 10 most viewed categories\")\n",
        "plt.xlabel(\"Category ID\")\n",
        "plt.ylabel(\"View Count\")"
      ],
      "execution_count": 41,
      "outputs": [
        {
          "output_type": "execute_result",
          "data": {
            "text/plain": [
              "Text(0, 0.5, 'View Count')"
            ]
          },
          "metadata": {
            "tags": []
          },
          "execution_count": 41
        },
        {
          "output_type": "display_data",
          "data": {
            "image/png": "[encoded data removed]",
            "text/plain": [
              "<Figure size 864x432 with 1 Axes>"
            ]
          },
          "metadata": {
            "tags": []
          }
        }
      ]
    },
    {
      "cell_type": "code",
      "metadata": {
        "id": "I3cdDK6jAcHt",
        "colab_type": "code",
        "colab": {}
      },
      "source": [
        "#See the most add to cart categories\n",
        "cat_cart = grouped_cat_behavior['cart']\n",
        "\n",
        "#convert cat_cart to numpy array\n",
        "cat_cart = np.array(cat_cart[:])\n",
        "\n",
        "#counting uniques values of cart\n",
        "cart_unique, cart_counts = np.unique(cat_cart, return_counts=True)\n",
        "\n",
        "# Dictionary with key as unique and value as counts\n",
        "count_cat_cart = {}\n",
        "count_cat_cart = dict(zip(cart_unique, cart_counts))"
      ],
      "execution_count": 0,
      "outputs": []
    },
    {
      "cell_type": "code",
      "metadata": {
        "id": "rGIAzGruAwqG",
        "colab_type": "code",
        "outputId": "a6a5f4af-a3a0-4db0-bda1-a018a475e502",
        "colab": {
          "base_uri": "https://localhost:8080/",
          "height": 421
        }
      },
      "source": [
        "#sorting the dictionary\n",
        "sort_cat_cart = sorted(count_cat_cart.items(), key = operator.itemgetter(1), reverse = True)\n",
        "\n",
        "# x-axis: Category IDs\n",
        "x_cart = [i[0] for i in sort_cat_cart[:10]]\n",
        "\n",
        "# y-axis: count of carts\n",
        "y_cart = [i[1] for i in sort_cat_cart[:10]]\n",
        "\n",
        "plt.figure(figsize=(12,6))\n",
        "ax = sns.barplot(x=x_cart, y=y_cart, order=x_cart, palette=\"GnBu_d\")\n",
        "plt.title(\"Top 10 most add to cart categories\")\n",
        "plt.xlabel(\"Category ID\")\n",
        "plt.ylabel(\"Cart Count\")"
      ],
      "execution_count": 43,
      "outputs": [
        {
          "output_type": "execute_result",
          "data": {
            "text/plain": [
              "Text(0, 0.5, 'Cart Count')"
            ]
          },
          "metadata": {
            "tags": []
          },
          "execution_count": 43
        },
        {
          "output_type": "display_data",
          "data": {
            "image/png": "[encoded data removed]",
            "text/plain": [
              "<Figure size 864x432 with 1 Axes>"
            ]
          },
          "metadata": {
            "tags": []
          }
        }
      ]
    },
    {
      "cell_type": "code",
      "metadata": {
        "id": "yXMpRzx3BZQA",
        "colab_type": "code",
        "colab": {}
      },
      "source": [
        "#See the most favorite categories\n",
        "cat_fav = grouped_cat_behavior['fav']\n",
        "\n",
        "#convert cat_fav to numpy array\n",
        "cat_fav = np.array(cat_fav[:])\n",
        "\n",
        "#counting uniques values of fav\n",
        "fav_unique, fav_counts = np.unique(cat_fav, return_counts=True)\n",
        "\n",
        "# Dictionary with key as unique and value as counts\n",
        "count_cat_fav = {}\n",
        "count_cat_fav = dict(zip(fav_unique, fav_counts))"
      ],
      "execution_count": 0,
      "outputs": []
    },
    {
      "cell_type": "code",
      "metadata": {
        "id": "HeRRpdyTBmav",
        "colab_type": "code",
        "outputId": "3712fb3f-16f6-403f-c3cf-13b7686bfc09",
        "colab": {
          "base_uri": "https://localhost:8080/",
          "height": 421
        }
      },
      "source": [
        "#sorting the dictionary\n",
        "sort_cat_fav = sorted(count_cat_fav.items(), key = operator.itemgetter(1), reverse = True)\n",
        "\n",
        "# x-axis: Category IDs\n",
        "x_fav = [i[0] for i in sort_cat_fav[:10]]\n",
        "\n",
        "# y-axis: count of favorites\n",
        "y_fav = [i[1] for i in sort_cat_fav[:10]]\n",
        "\n",
        "plt.figure(figsize=(12,6))\n",
        "ax = sns.barplot(x=x_fav, y=y_fav, order=x_fav, palette=\"GnBu_d\")\n",
        "plt.title(\"Top 10 most favorite categories\")\n",
        "plt.xlabel(\"Category ID\")\n",
        "plt.ylabel(\"Favorite Count\")"
      ],
      "execution_count": 45,
      "outputs": [
        {
          "output_type": "execute_result",
          "data": {
            "text/plain": [
              "Text(0, 0.5, 'Favorite Count')"
            ]
          },
          "metadata": {
            "tags": []
          },
          "execution_count": 45
        },
        {
          "output_type": "display_data",
          "data": {
            "image/png": "[encoded data removed]",
            "text/plain": [
              "<Figure size 864x432 with 1 Axes>"
            ]
          },
          "metadata": {
            "tags": []
          }
        }
      ]
    },
    {
      "cell_type": "code",
      "metadata": {
        "id": "dCceZ-L6B6ve",
        "colab_type": "code",
        "colab": {}
      },
      "source": [
        "#See the most bought categories\n",
        "cat_buy = grouped_cat_behavior['buy']\n",
        "\n",
        "#convert cat_buy to numpy array\n",
        "cat_buy = np.array(cat_buy[:])\n",
        "\n",
        "#counting uniques values of fav\n",
        "buy_unique, buy_counts = np.unique(cat_buy, return_counts=True)\n",
        "\n",
        "# Dictionary with key as unique and value as counts\n",
        "count_cat_buy = {}\n",
        "count_cat_buy = dict(zip(buy_unique, buy_counts))"
      ],
      "execution_count": 0,
      "outputs": []
    },
    {
      "cell_type": "code",
      "metadata": {
        "id": "vdpTi-dxCHvI",
        "colab_type": "code",
        "outputId": "acafc47e-40a1-45d3-ae94-c1433b8fac6f",
        "colab": {
          "base_uri": "https://localhost:8080/",
          "height": 421
        }
      },
      "source": [
        "#sorting the dictionary\n",
        "sort_cat_buy = sorted(count_cat_buy.items(), key = operator.itemgetter(1), reverse = True)\n",
        "\n",
        "# x-axis: Category IDs\n",
        "x_buy = [i[0] for i in sort_cat_buy[:10]]\n",
        "\n",
        "# y-axis: count of transactions\n",
        "y_buy = [i[1] for i in sort_cat_buy[:10]]\n",
        "\n",
        "plt.figure(figsize=(12,6))\n",
        "ax = sns.barplot(x=x_buy, y=y_buy, order=x_buy, palette=\"GnBu_d\")\n",
        "plt.title(\"Top 10 most transacted categories\")\n",
        "plt.xlabel(\"Category ID\")\n",
        "plt.ylabel(\"Transaction Count\")"
      ],
      "execution_count": 47,
      "outputs": [
        {
          "output_type": "execute_result",
          "data": {
            "text/plain": [
              "Text(0, 0.5, 'Transaction Count')"
            ]
          },
          "metadata": {
            "tags": []
          },
          "execution_count": 47
        },
        {
          "output_type": "display_data",
          "data": {
            "image/png": "[encoded data removed]",
            "text/plain": [
              "<Figure size 864x432 with 1 Axes>"
            ]
          },
          "metadata": {
            "tags": []
          }
        }
      ]
    },
    {
      "cell_type": "code",
      "metadata": {
        "id": "M8zV4IqCyJx4",
        "colab_type": "code",
        "colab": {}
      },
      "source": [
        "#Most active users\n",
        "users = tb_new['user_id']\n",
        "\n",
        "#convert users to numpy array\n",
        "users = np.array(users[:])\n",
        "\n",
        "#counting uniques values of userIDs\n",
        "users_unique, users_counts = np.unique(users, return_counts=True)\n",
        "\n",
        "# Dictionary with key as unique and value as counts\n",
        "count_user_id = {}\n",
        "count_user_id = dict(zip(users_unique, users_counts))"
      ],
      "execution_count": 0,
      "outputs": []
    },
    {
      "cell_type": "code",
      "metadata": {
        "id": "_IyTqpCm0O_I",
        "colab_type": "code",
        "outputId": "e4923d0f-cb1b-464c-c237-ad7b70b9109b",
        "colab": {
          "base_uri": "https://localhost:8080/",
          "height": 421
        }
      },
      "source": [
        "#sorting the dictionary\n",
        "sort_users = sorted(count_user_id.items(), key = operator.itemgetter(1), reverse = True)\n",
        "\n",
        "# x-axis: Item IDs\n",
        "x_users = [i[0] for i in sort_users[:10]]\n",
        "\n",
        "# y-axis: Favorite count\n",
        "y_users = [i[1] for i in sort_users[:10]]\n",
        "\n",
        "plt.figure(figsize=(12,6))\n",
        "ax_users = sns.barplot(x=x_users, y=y_users, order=x_users, palette=\"vlag\")\n",
        "plt.title(\"Top 10 most active users\")\n",
        "plt.xlabel(\"User ID\")\n",
        "plt.ylabel(\"User Activity Count\")"
      ],
      "execution_count": 49,
      "outputs": [
        {
          "output_type": "execute_result",
          "data": {
            "text/plain": [
              "Text(0, 0.5, 'User Activity Count')"
            ]
          },
          "metadata": {
            "tags": []
          },
          "execution_count": 49
        },
        {
          "output_type": "display_data",
          "data": {
            "image/png": "[encoded data removed]",
            "text/plain": [
              "<Figure size 864x432 with 1 Axes>"
            ]
          },
          "metadata": {
            "tags": []
          }
        }
      ]
    },
    {
      "cell_type": "code",
      "metadata": {
        "id": "MSe5qg7V0urq",
        "colab_type": "code",
        "colab": {
          "base_uri": "https://localhost:8080/",
          "height": 228
        },
        "outputId": "e45daadd-f172-452d-e7ad-eec6f1eabee5"
      },
      "source": [
        "tb_new[tb_new['user_id']==2124].item_id.value_counts()"
      ],
      "execution_count": 91,
      "outputs": [
        {
          "output_type": "execute_result",
          "data": {
            "text/plain": [
              "2977616    9\n",
              "3155130    9\n",
              "1368712    8\n",
              "2371314    8\n",
              "4371607    6\n",
              "          ..\n",
              "3198255    1\n",
              "3162412    1\n",
              "394025     1\n",
              "4765546    1\n",
              "4186094    1\n",
              "Name: item_id, Length: 290, dtype: int64"
            ]
          },
          "metadata": {
            "tags": []
          },
          "execution_count": 91
        }
      ]
    },
    {
      "cell_type": "markdown",
      "metadata": {
        "id": "VEOhpf-Z7A33",
        "colab_type": "text"
      },
      "source": [
        "It seems like the most active user is not subscribing to the top user behavioral trends i.e. popular item page views, favorites, add to cart and purchases."
      ]
    },
    {
      "cell_type": "code",
      "metadata": {
        "id": "imIf7daLjEXl",
        "colab_type": "code",
        "outputId": "a28f0b15-ae66-466d-e994-e80eca665b94",
        "colab": {
          "base_uri": "https://localhost:8080/",
          "height": 35
        }
      },
      "source": [
        "#Number of users who actually bought something from taobao\n",
        "user_purchased = tb_new[tb_new['behavior_type']=='buy'].user_id.unique()\n",
        "user_purchased.size"
      ],
      "execution_count": 50,
      "outputs": [
        {
          "output_type": "execute_result",
          "data": {
            "text/plain": [
              "1795"
            ]
          },
          "metadata": {
            "tags": []
          },
          "execution_count": 50
        }
      ]
    },
    {
      "cell_type": "code",
      "metadata": {
        "id": "Y1f0HWVCoUO2",
        "colab_type": "code",
        "outputId": "e6a44369-9ceb-4ff7-d65b-7f2d9d7fe6ae",
        "colab": {
          "base_uri": "https://localhost:8080/",
          "height": 35
        }
      },
      "source": [
        "len(tb_new['user_id'].unique())"
      ],
      "execution_count": 51,
      "outputs": [
        {
          "output_type": "execute_result",
          "data": {
            "text/plain": [
              "4826"
            ]
          },
          "metadata": {
            "tags": []
          },
          "execution_count": 51
        }
      ]
    },
    {
      "cell_type": "markdown",
      "metadata": {
        "id": "1zIUaHacobs3",
        "colab_type": "text"
      },
      "source": [
        "Out of 4826 users, 1795 of them actually purchased an item or more on taobao."
      ]
    },
    {
      "cell_type": "code",
      "metadata": {
        "id": "uEfrCtbe1ceJ",
        "colab_type": "code",
        "colab": {}
      },
      "source": [
        "#Dummy the column ('behavior_type')\n",
        "tb_new = pd.get_dummies(tb_new, columns=['behavior_type'])"
      ],
      "execution_count": 0,
      "outputs": []
    },
    {
      "cell_type": "code",
      "metadata": {
        "id": "fLinvl17156e",
        "colab_type": "code",
        "outputId": "9707e169-9ce5-413e-e7e5-479860a6eef4",
        "colab": {
          "base_uri": "https://localhost:8080/",
          "height": 223
        }
      },
      "source": [
        "tb_new.head()"
      ],
      "execution_count": 53,
      "outputs": [
        {
          "output_type": "execute_result",
          "data": {
            "text/html": [
              "<div>\n",
              "<style scoped>\n",
              "    .dataframe tbody tr th:only-of-type {\n",
              "        vertical-align: middle;\n",
              "    }\n",
              "\n",
              "    .dataframe tbody tr th {\n",
              "        vertical-align: top;\n",
              "    }\n",
              "\n",
              "    .dataframe thead th {\n",
              "        text-align: right;\n",
              "    }\n",
              "</style>\n",
              "<table border=\"1\" class=\"dataframe\">\n",
              "  <thead>\n",
              "    <tr style=\"text-align: right;\">\n",
              "      <th></th>\n",
              "      <th>user_id</th>\n",
              "      <th>item_id</th>\n",
              "      <th>category_id</th>\n",
              "      <th>timestamp</th>\n",
              "      <th>behavior_type_buy</th>\n",
              "      <th>behavior_type_cart</th>\n",
              "      <th>behavior_type_fav</th>\n",
              "      <th>behavior_type_pv</th>\n",
              "    </tr>\n",
              "  </thead>\n",
              "  <tbody>\n",
              "    <tr>\n",
              "      <th>47</th>\n",
              "      <td>1</td>\n",
              "      <td>3219016</td>\n",
              "      <td>3002561</td>\n",
              "      <td>02/12/2017</td>\n",
              "      <td>0</td>\n",
              "      <td>0</td>\n",
              "      <td>0</td>\n",
              "      <td>1</td>\n",
              "    </tr>\n",
              "    <tr>\n",
              "      <th>50</th>\n",
              "      <td>1</td>\n",
              "      <td>4954999</td>\n",
              "      <td>411153</td>\n",
              "      <td>03/12/2017</td>\n",
              "      <td>0</td>\n",
              "      <td>0</td>\n",
              "      <td>0</td>\n",
              "      <td>1</td>\n",
              "    </tr>\n",
              "    <tr>\n",
              "      <th>51</th>\n",
              "      <td>1</td>\n",
              "      <td>818610</td>\n",
              "      <td>411153</td>\n",
              "      <td>03/12/2017</td>\n",
              "      <td>0</td>\n",
              "      <td>0</td>\n",
              "      <td>0</td>\n",
              "      <td>1</td>\n",
              "    </tr>\n",
              "    <tr>\n",
              "      <th>53</th>\n",
              "      <td>1</td>\n",
              "      <td>568695</td>\n",
              "      <td>1320293</td>\n",
              "      <td>03/12/2017</td>\n",
              "      <td>0</td>\n",
              "      <td>0</td>\n",
              "      <td>0</td>\n",
              "      <td>1</td>\n",
              "    </tr>\n",
              "    <tr>\n",
              "      <th>48</th>\n",
              "      <td>1</td>\n",
              "      <td>2278603</td>\n",
              "      <td>3002561</td>\n",
              "      <td>02/12/2017</td>\n",
              "      <td>0</td>\n",
              "      <td>0</td>\n",
              "      <td>0</td>\n",
              "      <td>1</td>\n",
              "    </tr>\n",
              "  </tbody>\n",
              "</table>\n",
              "</div>"
            ],
            "text/plain": [
              "    user_id  item_id  ...  behavior_type_fav behavior_type_pv\n",
              "47        1  3219016  ...                  0                1\n",
              "50        1  4954999  ...                  0                1\n",
              "51        1   818610  ...                  0                1\n",
              "53        1   568695  ...                  0                1\n",
              "48        1  2278603  ...                  0                1\n",
              "\n",
              "[5 rows x 8 columns]"
            ]
          },
          "metadata": {
            "tags": []
          },
          "execution_count": 53
        }
      ]
    },
    {
      "cell_type": "code",
      "metadata": {
        "id": "B08346sbpJgY",
        "colab_type": "code",
        "outputId": "d79741d8-0d60-4969-e475-fe36986a08e7",
        "colab": {
          "base_uri": "https://localhost:8080/",
          "height": 223
        }
      },
      "source": [
        "tb_new.tail()"
      ],
      "execution_count": 54,
      "outputs": [
        {
          "output_type": "execute_result",
          "data": {
            "text/html": [
              "<div>\n",
              "<style scoped>\n",
              "    .dataframe tbody tr th:only-of-type {\n",
              "        vertical-align: middle;\n",
              "    }\n",
              "\n",
              "    .dataframe tbody tr th {\n",
              "        vertical-align: top;\n",
              "    }\n",
              "\n",
              "    .dataframe thead th {\n",
              "        text-align: right;\n",
              "    }\n",
              "</style>\n",
              "<table border=\"1\" class=\"dataframe\">\n",
              "  <thead>\n",
              "    <tr style=\"text-align: right;\">\n",
              "      <th></th>\n",
              "      <th>user_id</th>\n",
              "      <th>item_id</th>\n",
              "      <th>category_id</th>\n",
              "      <th>timestamp</th>\n",
              "      <th>behavior_type_buy</th>\n",
              "      <th>behavior_type_cart</th>\n",
              "      <th>behavior_type_fav</th>\n",
              "      <th>behavior_type_pv</th>\n",
              "    </tr>\n",
              "  </thead>\n",
              "  <tbody>\n",
              "    <tr>\n",
              "      <th>49149122</th>\n",
              "      <td>4999</td>\n",
              "      <td>884167</td>\n",
              "      <td>3790396</td>\n",
              "      <td>01/12/2017</td>\n",
              "      <td>0</td>\n",
              "      <td>0</td>\n",
              "      <td>0</td>\n",
              "      <td>1</td>\n",
              "    </tr>\n",
              "    <tr>\n",
              "      <th>49149120</th>\n",
              "      <td>4999</td>\n",
              "      <td>1922894</td>\n",
              "      <td>2188684</td>\n",
              "      <td>01/12/2017</td>\n",
              "      <td>0</td>\n",
              "      <td>0</td>\n",
              "      <td>0</td>\n",
              "      <td>1</td>\n",
              "    </tr>\n",
              "    <tr>\n",
              "      <th>49149125</th>\n",
              "      <td>4999</td>\n",
              "      <td>4138493</td>\n",
              "      <td>2188684</td>\n",
              "      <td>02/12/2017</td>\n",
              "      <td>0</td>\n",
              "      <td>0</td>\n",
              "      <td>0</td>\n",
              "      <td>1</td>\n",
              "    </tr>\n",
              "    <tr>\n",
              "      <th>49149123</th>\n",
              "      <td>4999</td>\n",
              "      <td>4138493</td>\n",
              "      <td>2188684</td>\n",
              "      <td>01/12/2017</td>\n",
              "      <td>0</td>\n",
              "      <td>0</td>\n",
              "      <td>0</td>\n",
              "      <td>1</td>\n",
              "    </tr>\n",
              "    <tr>\n",
              "      <th>49149124</th>\n",
              "      <td>4999</td>\n",
              "      <td>1922894</td>\n",
              "      <td>2188684</td>\n",
              "      <td>02/12/2017</td>\n",
              "      <td>0</td>\n",
              "      <td>0</td>\n",
              "      <td>0</td>\n",
              "      <td>1</td>\n",
              "    </tr>\n",
              "  </tbody>\n",
              "</table>\n",
              "</div>"
            ],
            "text/plain": [
              "          user_id  item_id  ...  behavior_type_fav behavior_type_pv\n",
              "49149122     4999   884167  ...                  0                1\n",
              "49149120     4999  1922894  ...                  0                1\n",
              "49149125     4999  4138493  ...                  0                1\n",
              "49149123     4999  4138493  ...                  0                1\n",
              "49149124     4999  1922894  ...                  0                1\n",
              "\n",
              "[5 rows x 8 columns]"
            ]
          },
          "metadata": {
            "tags": []
          },
          "execution_count": 54
        }
      ]
    },
    {
      "cell_type": "code",
      "metadata": {
        "id": "RGhTofPg2MHa",
        "colab_type": "code",
        "outputId": "f6f12bec-4ba0-4fae-dab2-e428f7da47d3",
        "colab": {
          "base_uri": "https://localhost:8080/",
          "height": 786
        }
      },
      "source": [
        "fix, ax = plt.subplots(figsize=(12,12))\n",
        "corr = tb_new.corr()\n",
        "\n",
        "# Generate a mask for the upper triangle \n",
        "mask = np.zeros_like(corr, dtype=np.bool)\n",
        "mask[np.triu_indices_from(mask)] = True\n",
        "\n",
        "# Plot the heatmap with seaborn.\n",
        "# Assign the matplotlib axis the function returns. This will let us resize the labels.\n",
        "ax = sns.heatmap(corr, mask=mask, ax=ax, cmap='coolwarm')\n",
        "\n",
        "# Resize the labels.\n",
        "ax.set_xticklabels(ax.xaxis.get_ticklabels(), fontsize=10)\n",
        "ax.set_yticklabels(ax.yaxis.get_ticklabels(), fontsize=10)\n",
        "\n",
        "plt.show()"
      ],
      "execution_count": 55,
      "outputs": [
        {
          "output_type": "display_data",
          "data": {
            "image/png": "[encoded data removed]",
            "text/plain": [
              "<Figure size 864x864 with 2 Axes>"
            ]
          },
          "metadata": {
            "tags": []
          }
        }
      ]
    },
    {
      "cell_type": "markdown",
      "metadata": {
        "id": "bCiA9M-z7JIB",
        "colab_type": "text"
      },
      "source": [
        "From the heatmap, there is insignificant correlation between the variables. There is a negative correlation between user behavior:add to cart and user behavior: page view."
      ]
    },
    {
      "cell_type": "markdown",
      "metadata": {
        "id": "qZMRsHjNs_Ld",
        "colab_type": "text"
      },
      "source": [
        "Conclusion:\n",
        "\n",
        "For new vistors to the website, we do not have their user behavior information hence we will not be able to recommend products according to their liking. Instead, we could focus on recommending them popular products (as a baseline). Product popularity could be in terms of the top 10 most viewed items, top 10 most add to cart items, top 10 most transacted items and/or top 10 most favorite items. We can also recommend top 10 most viewed/add to cart/favorite/transacted item categories, depending on granularity of the recommendation."
      ]
    }
  ]
}